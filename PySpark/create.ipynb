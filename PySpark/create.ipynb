{
 "cells": [
  {
   "cell_type": "markdown",
   "metadata": {
    "application/vnd.databricks.v1+cell": {
     "cellMetadata": {},
     "inputWidgets": {},
     "nuid": "817d8a52-4952-4d1a-990f-49a0c8828dcb",
     "showTitle": false,
     "tableResultSettingsMap": {},
     "title": ""
    }
   },
   "source": [
    "# WithColumns and withcolumnRenamed"
   ]
  },
  {
   "cell_type": "code",
   "execution_count": 0,
   "metadata": {
    "application/vnd.databricks.v1+cell": {
     "cellMetadata": {
      "byteLimit": 2048000,
      "rowLimit": 10000
     },
     "inputWidgets": {},
     "nuid": "c85add38-4973-4f31-86c1-bd4929595cb6",
     "showTitle": false,
     "tableResultSettingsMap": {},
     "title": ""
    }
   },
   "outputs": [],
   "source": [
    "# write with different modes\n",
    "# show(n=28)"
   ]
  },
  {
   "cell_type": "code",
   "execution_count": 0,
   "metadata": {
    "application/vnd.databricks.v1+cell": {
     "cellMetadata": {
      "byteLimit": 2048000,
      "rowLimit": 10000
     },
     "inputWidgets": {},
     "nuid": "04988fd0-eaba-4948-953f-1bf352af8786",
     "showTitle": false,
     "tableResultSettingsMap": {},
     "title": ""
    }
   },
   "outputs": [],
   "source": [
    "data = [\n",
    "    (1, 'mahendra', 23000, 23), \n",
    "    (2, 'mahi', 34444, 45),\n",
    "    (3, 'sam', 34299, 22)\n",
    "]"
   ]
  },
  {
   "cell_type": "code",
   "execution_count": 0,
   "metadata": {
    "application/vnd.databricks.v1+cell": {
     "cellMetadata": {
      "byteLimit": 2048000,
      "rowLimit": 10000
     },
     "inputWidgets": {},
     "nuid": "1acd5517-78c9-4a77-ae42-f75d36bf50a8",
     "showTitle": false,
     "tableResultSettingsMap": {},
     "title": ""
    }
   },
   "outputs": [
    {
     "output_type": "stream",
     "name": "stdout",
     "output_type": "stream",
     "text": [
      "Help on method withColumn in module pyspark.sql.dataframe:\n\nwithColumn(colName: str, col: pyspark.sql.column.Column) -> 'DataFrame' method of pyspark.sql.dataframe.DataFrame instance\n    Returns a new :class:`DataFrame` by adding a column or replacing the\n    existing column that has the same name.\n    \n    The column expression must be an expression over this :class:`DataFrame`; attempting to add\n    a column from some other :class:`DataFrame` will raise an error.\n    \n    .. versionadded:: 1.3.0\n    \n    .. versionchanged:: 3.4.0\n        Support Spark Connect.\n    \n    Parameters\n    ----------\n    colName : str\n        string, name of the new column.\n    col : :class:`Column`\n        a :class:`Column` expression for the new column.\n    \n    Returns\n    -------\n    :class:`DataFrame`\n        DataFrame with new or replaced column.\n    \n    Notes\n    -----\n    This method introduces a projection internally. Therefore, calling it multiple\n    times, for instance, via loops in order to add multiple columns can generate big\n    plans which can cause performance issues and even `StackOverflowException`.\n    To avoid this, use :func:`select` with multiple columns at once.\n    \n    Examples\n    --------\n    >>> df = spark.createDataFrame([(2, \"Alice\"), (5, \"Bob\")], schema=[\"age\", \"name\"])\n    >>> df.withColumn('age2', df.age + 2).show()\n    +---+-----+----+\n    |age| name|age2|\n    +---+-----+----+\n    |  2|Alice|   4|\n    |  5|  Bob|   7|\n    +---+-----+----+\n\n"
     ]
    }
   ],
   "source": [
    "df=spark.createDataFrame(data, schema=['id', 'name', 'salary', 'age'])\n",
    "help(df.withColumn)"
   ]
  },
  {
   "cell_type": "code",
   "execution_count": 0,
   "metadata": {
    "application/vnd.databricks.v1+cell": {
     "cellMetadata": {
      "byteLimit": 2048000,
      "rowLimit": 10000
     },
     "inputWidgets": {},
     "nuid": "a3318904-6443-40d8-b124-a95ce069b409",
     "showTitle": false,
     "tableResultSettingsMap": {},
     "title": ""
    }
   },
   "outputs": [
    {
     "output_type": "stream",
     "name": "stdout",
     "output_type": "stream",
     "text": [
      "+---+--------+------+---+\n| id|    name|salary|age|\n+---+--------+------+---+\n|  1|mahendra| 23000| 23|\n|  2|    mahi| 34444| 45|\n|  3|     sam| 34299| 22|\n+---+--------+------+---+\n\n"
     ]
    }
   ],
   "source": [
    "df.show(n=10)"
   ]
  },
  {
   "cell_type": "code",
   "execution_count": 0,
   "metadata": {
    "application/vnd.databricks.v1+cell": {
     "cellMetadata": {
      "byteLimit": 2048000,
      "rowLimit": 10000
     },
     "inputWidgets": {},
     "nuid": "b605ad6d-cefc-4bd3-ac2c-a644fdc81e16",
     "showTitle": false,
     "tableResultSettingsMap": {},
     "title": ""
    }
   },
   "outputs": [],
   "source": [
    "from pyspark.sql.functions import *"
   ]
  },
  {
   "cell_type": "code",
   "execution_count": 0,
   "metadata": {
    "application/vnd.databricks.v1+cell": {
     "cellMetadata": {
      "byteLimit": 2048000,
      "rowLimit": 10000
     },
     "inputWidgets": {},
     "nuid": "4a67b87d-cb3b-48db-9cac-e4f400ac8b0c",
     "showTitle": false,
     "tableResultSettingsMap": {},
     "title": ""
    }
   },
   "outputs": [
    {
     "output_type": "stream",
     "name": "stdout",
     "output_type": "stream",
     "text": [
      "['Any', 'ArrayType', 'Callable', 'Column', 'DataFrame', 'DataType', 'DeprecatedFuncUsageLogger', 'Dict', 'Iterable', 'List', 'Optional', 'PandasUDFType', 'PySparkTypeError', 'PySparkValueError', 'PythonEvalType', 'SparkContext', 'StringType', 'StructType', 'TYPE_CHECKING', 'Tuple', 'Union', 'UserDefinedFunction', 'ValuesView', '__builtins__', '__cached__', '__doc__', '__file__', '__loader__', '__name__', '__package__', '__spec__', '_create_column_from_literal', '_create_edge_udf', '_create_lambda', '_create_udf', '_get_jvm_function', '_get_lambda_parameters', '_invoke_binary_math_function', '_invoke_function', '_invoke_function_over_columns', '_invoke_function_over_seq_of_columns', '_invoke_higher_order_function', '_options_to_str', '_test', '_to_java_column', '_to_seq', '_unresolved_named_lambda_variable', 'abs', 'acos', 'acosh', 'add_months', 'aggregate', 'approxCountDistinct', 'approx_count_distinct', 'array', 'array_append', 'array_compact', 'array_contains', 'array_distinct', 'array_except', 'array_intersect', 'array_join', 'array_max', 'array_min', 'array_position', 'array_remove', 'array_repeat', 'array_sort', 'array_union', 'arrays_overlap', 'arrays_zip', 'asc', 'asc_nulls_first', 'asc_nulls_last', 'ascii', 'asin', 'asinh', 'assert_true', 'atan', 'atan2', 'atanh', 'avg', 'base64', 'bin', 'bit_length', 'bitwiseNOT', 'bitwise_not', 'broadcast', 'bround', 'bucket', 'cast', 'cbrt', 'ceil', 'coalesce', 'col', 'collect_list', 'collect_set', 'column', 'concat', 'concat_ws', 'conv', 'corr', 'cos', 'cosh', 'cot', 'count', 'countDistinct', 'count_distinct', 'covar_pop', 'covar_samp', 'crc32', 'create_map', 'csc', 'cume_dist', 'current_date', 'current_timestamp', 'date_add', 'date_format', 'date_sub', 'date_trunc', 'datediff', 'dayofmonth', 'dayofweek', 'dayofyear', 'days', 'decode', 'degrees', 'dense_rank', 'desc', 'desc_nulls_first', 'desc_nulls_last', 'element_at', 'encode', 'exists', 'exp', 'explode', 'explode_outer', 'expm1', 'expr', 'factorial', 'filter', 'first', 'flatten', 'floor', 'forall', 'format_number', 'format_string', 'from_csv', 'from_json', 'from_unixtime', 'from_utc_timestamp', 'functools', 'get', 'get_json_object', 'greatest', 'grouping', 'grouping_id', 'hash', 'hex', 'hour', 'hours', 'hypot', 'initcap', 'inline', 'inline_outer', 'input_file_name', 'inspect', 'instr', 'isnan', 'isnull', 'json_tuple', 'kurtosis', 'lag', 'last', 'last_day', 'lead', 'least', 'length', 'levenshtein', 'lit', 'locate', 'log', 'log10', 'log1p', 'log2', 'lower', 'lpad', 'ltrim', 'make_date', 'map_concat', 'map_entries', 'map_filter', 'map_from_arrays', 'map_from_entries', 'map_keys', 'map_values', 'map_zip_with', 'max', 'max_by', 'md5', 'mean', 'median', 'min', 'min_by', 'minute', 'mode', 'monotonically_increasing_id', 'month', 'months', 'months_between', 'nanvl', 'next_day', 'nth_value', 'ntile', 'octet_length', 'overlay', 'overload', 'pandas_udf', 'percent_rank', 'percentile_approx', 'posexplode', 'posexplode_outer', 'pow', 'product', 'quarter', 'radians', 'raise_error', 'rand', 'randn', 'rank', 'regexp_extract', 'regexp_replace', 'repeat', 'reverse', 'rint', 'round', 'row_number', 'rpad', 'rtrim', 'schema_of_csv', 'schema_of_json', 'sec', 'second', 'sentences', 'sequence', 'session_window', 'sha1', 'sha2', 'shiftLeft', 'shiftRight', 'shiftRightUnsigned', 'shiftleft', 'shiftright', 'shiftrightunsigned', 'shuffle', 'signum', 'sin', 'sinh', 'size', 'skewness', 'slice', 'sort_array', 'soundex', 'spark_partition_id', 'split', 'sqrt', 'stddev', 'stddev_pop', 'stddev_samp', 'struct', 'substring', 'substring_index', 'sum', 'sumDistinct', 'sum_distinct', 'sys', 'tan', 'tanh', 'timestamp_seconds', 'toDegrees', 'toRadians', 'to_csv', 'to_date', 'to_json', 'to_str', 'to_timestamp', 'to_utc_timestamp', 'transform', 'transform_keys', 'transform_values', 'translate', 'trim', 'trunc', 'try_remote_functions', 'udf', 'unbase64', 'unhex', 'unix_timestamp', 'unwrap_udt', 'upper', 'var_pop', 'var_samp', 'variance', 'warnings', 'weekofyear', 'when', 'window', 'window_time', 'xxhash64', 'year', 'years', 'zip_with']\n"
     ]
    }
   ],
   "source": [
    "import pyspark.sql.functions as F\n",
    "\n",
    "print(dir(F))\n"
   ]
  },
  {
   "cell_type": "code",
   "execution_count": 0,
   "metadata": {
    "application/vnd.databricks.v1+cell": {
     "cellMetadata": {
      "byteLimit": 2048000,
      "rowLimit": 10000
     },
     "inputWidgets": {},
     "nuid": "567f726a-b4f8-4165-b0ca-9a44e0f6c30b",
     "showTitle": false,
     "tableResultSettingsMap": {},
     "title": ""
    }
   },
   "outputs": [
    {
     "output_type": "stream",
     "name": "stdout",
     "output_type": "stream",
     "text": [
      "Out[12]: ['id', 'name', 'salary', 'age']"
     ]
    }
   ],
   "source": [
    "df.columns"
   ]
  },
  {
   "cell_type": "code",
   "execution_count": 0,
   "metadata": {
    "application/vnd.databricks.v1+cell": {
     "cellMetadata": {
      "byteLimit": 2048000,
      "rowLimit": 10000
     },
     "inputWidgets": {},
     "nuid": "f3980186-1e75-4d95-aa4a-1e7a633855f0",
     "showTitle": false,
     "tableResultSettingsMap": {},
     "title": ""
    }
   },
   "outputs": [
    {
     "output_type": "stream",
     "name": "stdout",
     "output_type": "stream",
     "text": [
      "root\n |-- id: long (nullable = true)\n |-- name: string (nullable = true)\n |-- salary: long (nullable = true)\n |-- age: long (nullable = true)\n\n"
     ]
    }
   ],
   "source": [
    "df.printSchema()"
   ]
  },
  {
   "cell_type": "code",
   "execution_count": 0,
   "metadata": {
    "application/vnd.databricks.v1+cell": {
     "cellMetadata": {
      "byteLimit": 2048000,
      "rowLimit": 10000
     },
     "inputWidgets": {},
     "nuid": "10842861-3437-406b-b7e0-d3390c94f552",
     "showTitle": false,
     "tableResultSettingsMap": {},
     "title": ""
    }
   },
   "outputs": [
    {
     "output_type": "stream",
     "name": "stdout",
     "output_type": "stream",
     "text": [
      "+---+--------+------+---+\n| id|    name|salary|age|\n+---+--------+------+---+\n|  1|mahendra| 23000| 23|\n|  2|    mahi| 34444| 45|\n|  3|     sam| 34299| 22|\n+---+--------+------+---+\n\n"
     ]
    }
   ],
   "source": [
    "df1=df.withColumn(colName='salary', col=col('salary').cast('Integer'))\n",
    "df1.show()"
   ]
  },
  {
   "cell_type": "code",
   "execution_count": 0,
   "metadata": {
    "application/vnd.databricks.v1+cell": {
     "cellMetadata": {
      "byteLimit": 2048000,
      "rowLimit": 10000
     },
     "inputWidgets": {},
     "nuid": "6430a821-1a65-44e9-90a9-6ceadf71b800",
     "showTitle": false,
     "tableResultSettingsMap": {},
     "title": ""
    }
   },
   "outputs": [
    {
     "output_type": "stream",
     "name": "stdout",
     "output_type": "stream",
     "text": [
      "root\n |-- id: long (nullable = true)\n |-- name: string (nullable = true)\n |-- salary: integer (nullable = true)\n |-- age: long (nullable = true)\n\n"
     ]
    }
   ],
   "source": [
    "df1.printSchema()"
   ]
  },
  {
   "cell_type": "code",
   "execution_count": 0,
   "metadata": {
    "application/vnd.databricks.v1+cell": {
     "cellMetadata": {
      "byteLimit": 2048000,
      "rowLimit": 10000
     },
     "inputWidgets": {},
     "nuid": "363653b0-2a5c-4a42-ab07-d5efc9233291",
     "showTitle": false,
     "tableResultSettingsMap": {},
     "title": ""
    }
   },
   "outputs": [],
   "source": [
    "df1=df1.withColumnRenamed('salary', 'salary_emp')"
   ]
  },
  {
   "cell_type": "code",
   "execution_count": 0,
   "metadata": {
    "application/vnd.databricks.v1+cell": {
     "cellMetadata": {
      "byteLimit": 2048000,
      "rowLimit": 10000
     },
     "inputWidgets": {},
     "nuid": "63844566-da44-49a9-8861-40424f5393d3",
     "showTitle": false,
     "tableResultSettingsMap": {},
     "title": ""
    }
   },
   "outputs": [
    {
     "output_type": "stream",
     "name": "stdout",
     "output_type": "stream",
     "text": [
      "+---+--------+----------+---+\n| id|    name|salary_emp|age|\n+---+--------+----------+---+\n|  1|mahendra|     23000| 23|\n|  2|    mahi|     34444| 45|\n|  3|     sam|     34299| 22|\n+---+--------+----------+---+\n\n"
     ]
    }
   ],
   "source": [
    "df1.show()"
   ]
  },
  {
   "cell_type": "code",
   "execution_count": 0,
   "metadata": {
    "application/vnd.databricks.v1+cell": {
     "cellMetadata": {
      "byteLimit": 2048000,
      "rowLimit": 10000
     },
     "inputWidgets": {},
     "nuid": "75ec5ef8-839b-4b00-94cd-d07a490f2b30",
     "showTitle": false,
     "tableResultSettingsMap": {},
     "title": ""
    }
   },
   "outputs": [],
   "source": [
    "df1=df1.withColumn('salary_emp', col('salary_emp')*1.2)"
   ]
  },
  {
   "cell_type": "code",
   "execution_count": 0,
   "metadata": {
    "application/vnd.databricks.v1+cell": {
     "cellMetadata": {
      "byteLimit": 2048000,
      "rowLimit": 10000
     },
     "inputWidgets": {},
     "nuid": "62bf19a2-001f-42ff-867d-6bea104715d5",
     "showTitle": false,
     "tableResultSettingsMap": {},
     "title": ""
    }
   },
   "outputs": [
    {
     "output_type": "stream",
     "name": "stdout",
     "output_type": "stream",
     "text": [
      "+---+--------+------------------+---+\n| id|    name|        salary_emp|age|\n+---+--------+------------------+---+\n|  1|mahendra|           27600.0| 23|\n|  2|    mahi|41332.799999999996| 45|\n|  3|     sam|41158.799999999996| 22|\n+---+--------+------------------+---+\n\n"
     ]
    }
   ],
   "source": [
    "df1.show()"
   ]
  },
  {
   "cell_type": "code",
   "execution_count": 0,
   "metadata": {
    "application/vnd.databricks.v1+cell": {
     "cellMetadata": {
      "byteLimit": 2048000,
      "rowLimit": 10000
     },
     "inputWidgets": {},
     "nuid": "0a7d6bf2-6e8b-402a-910f-249cc2ab4d0a",
     "showTitle": false,
     "tableResultSettingsMap": {},
     "title": ""
    }
   },
   "outputs": [
    {
     "output_type": "stream",
     "name": "stdout",
     "output_type": "stream",
     "text": [
      "root\n |-- id: long (nullable = true)\n |-- name: string (nullable = true)\n |-- salary_emp: double (nullable = true)\n |-- age: long (nullable = true)\n\n"
     ]
    }
   ],
   "source": [
    "df1.printSchema()"
   ]
  },
  {
   "cell_type": "code",
   "execution_count": 0,
   "metadata": {
    "application/vnd.databricks.v1+cell": {
     "cellMetadata": {
      "byteLimit": 2048000,
      "rowLimit": 10000
     },
     "inputWidgets": {},
     "nuid": "d4f77555-6de4-4b58-9d24-15235b4848d3",
     "showTitle": false,
     "tableResultSettingsMap": {},
     "title": ""
    }
   },
   "outputs": [],
   "source": [
    "from pyspark.sql.functions import lit\n",
    "df1=df1.withColumn('location', lit('USA'))"
   ]
  },
  {
   "cell_type": "code",
   "execution_count": 0,
   "metadata": {
    "application/vnd.databricks.v1+cell": {
     "cellMetadata": {
      "byteLimit": 2048000,
      "rowLimit": 10000
     },
     "inputWidgets": {},
     "nuid": "68ab9be8-edb1-4f5f-9cd8-880a8b071f35",
     "showTitle": false,
     "tableResultSettingsMap": {},
     "title": ""
    }
   },
   "outputs": [
    {
     "output_type": "stream",
     "name": "stdout",
     "output_type": "stream",
     "text": [
      "+---+--------+------------------+---+--------+\n| id|    name|        salary_emp|age|location|\n+---+--------+------------------+---+--------+\n|  1|mahendra|           27600.0| 23|     USA|\n|  2|    mahi|41332.799999999996| 45|     USA|\n|  3|     sam|41158.799999999996| 22|     USA|\n+---+--------+------------------+---+--------+\n\n"
     ]
    }
   ],
   "source": [
    "df1.show()"
   ]
  },
  {
   "cell_type": "code",
   "execution_count": 0,
   "metadata": {
    "application/vnd.databricks.v1+cell": {
     "cellMetadata": {
      "byteLimit": 2048000,
      "rowLimit": 10000
     },
     "inputWidgets": {},
     "nuid": "a4b04b5d-f00a-49b5-a047-7bdf7ce10afa",
     "showTitle": false,
     "tableResultSettingsMap": {},
     "title": ""
    }
   },
   "outputs": [],
   "source": [
    "from pyspark.sql.functions import when, lit\n",
    "\n",
    "df1 = df1.withColumn(\n",
    "    \"location\",\n",
    "    when(df1[\"age\"] > 30, lit(\"USA\")).otherwise(lit(\"Unknown\"))\n",
    ")\n"
   ]
  },
  {
   "cell_type": "code",
   "execution_count": 0,
   "metadata": {
    "application/vnd.databricks.v1+cell": {
     "cellMetadata": {
      "byteLimit": 2048000,
      "rowLimit": 10000
     },
     "inputWidgets": {},
     "nuid": "fb5624ad-5dc3-4e5e-a904-b5f612966dbb",
     "showTitle": false,
     "tableResultSettingsMap": {},
     "title": ""
    }
   },
   "outputs": [
    {
     "output_type": "stream",
     "name": "stdout",
     "output_type": "stream",
     "text": [
      "+---+--------+------------------+---+--------+\n| id|    name|        salary_emp|age|location|\n+---+--------+------------------+---+--------+\n|  1|mahendra|           27600.0| 23| Unknown|\n|  2|    mahi|41332.799999999996| 45|     USA|\n|  3|     sam|41158.799999999996| 22| Unknown|\n+---+--------+------------------+---+--------+\n\n"
     ]
    }
   ],
   "source": [
    "df1.show()"
   ]
  },
  {
   "cell_type": "code",
   "execution_count": 0,
   "metadata": {
    "application/vnd.databricks.v1+cell": {
     "cellMetadata": {
      "byteLimit": 2048000,
      "rowLimit": 10000
     },
     "inputWidgets": {},
     "nuid": "be5408ed-910d-4512-a56b-f2ab24494053",
     "showTitle": false,
     "tableResultSettingsMap": {},
     "title": ""
    }
   },
   "outputs": [
    {
     "output_type": "stream",
     "name": "stdout",
     "output_type": "stream",
     "text": [
      "+---+--------+------------------+---+--------+\n| id|    name|        salary_emp|age|location|\n+---+--------+------------------+---+--------+\n|  1|mahendra|           27600.0| 23| Unknown|\n|  2|    mahi|41332.799999999996| 45|     USA|\n|  3|     sam|41158.799999999996| 22| Unknown|\n+---+--------+------------------+---+--------+\n\n"
     ]
    }
   ],
   "source": [
    "df1.show()"
   ]
  },
  {
   "cell_type": "code",
   "execution_count": 0,
   "metadata": {
    "application/vnd.databricks.v1+cell": {
     "cellMetadata": {
      "byteLimit": 2048000,
      "rowLimit": 10000
     },
     "inputWidgets": {},
     "nuid": "215e916b-3b5d-4a29-b578-e4ebe68b02cb",
     "showTitle": false,
     "tableResultSettingsMap": {},
     "title": ""
    }
   },
   "outputs": [],
   "source": [
    "df1=df1.withColumn('agecopied', col('age'))"
   ]
  },
  {
   "cell_type": "code",
   "execution_count": 0,
   "metadata": {
    "application/vnd.databricks.v1+cell": {
     "cellMetadata": {
      "byteLimit": 2048000,
      "rowLimit": 10000
     },
     "inputWidgets": {},
     "nuid": "96a7b2f8-b34c-4530-b8fa-531088cd3a63",
     "showTitle": false,
     "tableResultSettingsMap": {},
     "title": ""
    }
   },
   "outputs": [
    {
     "output_type": "stream",
     "name": "stdout",
     "output_type": "stream",
     "text": [
      "+---+--------+------------------+---+--------+---------+\n| id|    name|        salary_emp|age|location|agecopied|\n+---+--------+------------------+---+--------+---------+\n|  1|mahendra|           27600.0| 23| Unknown|       23|\n|  2|    mahi|41332.799999999996| 45|     USA|       45|\n|  3|     sam|41158.799999999996| 22| Unknown|       22|\n+---+--------+------------------+---+--------+---------+\n\n"
     ]
    }
   ],
   "source": [
    "df1.show()"
   ]
  },
  {
   "cell_type": "markdown",
   "metadata": {
    "application/vnd.databricks.v1+cell": {
     "cellMetadata": {
      "byteLimit": 2048000,
      "rowLimit": 10000
     },
     "inputWidgets": {},
     "nuid": "499f929c-11ce-49a8-a165-b734f156dfe1",
     "showTitle": false,
     "tableResultSettingsMap": {},
     "title": ""
    }
   },
   "source": [
    "# Array type columns"
   ]
  },
  {
   "cell_type": "code",
   "execution_count": 0,
   "metadata": {
    "application/vnd.databricks.v1+cell": {
     "cellMetadata": {
      "byteLimit": 2048000,
      "rowLimit": 10000
     },
     "inputWidgets": {},
     "nuid": "3bf6192f-adf4-4fad-916d-8caab0dea5b1",
     "showTitle": false,
     "tableResultSettingsMap": {},
     "title": ""
    }
   },
   "outputs": [],
   "source": [
    "data1 = [[1, 'mahendra', [3000, 3400]], [2, 'mahi', [3880, 8790]],\n",
    "        [3, 'sam', [3998, 2388]]]"
   ]
  },
  {
   "cell_type": "code",
   "execution_count": 0,
   "metadata": {
    "application/vnd.databricks.v1+cell": {
     "cellMetadata": {
      "byteLimit": 2048000,
      "rowLimit": 10000
     },
     "inputWidgets": {},
     "nuid": "14b45ab4-c593-4dda-80b0-d07e337609ce",
     "showTitle": false,
     "tableResultSettingsMap": {},
     "title": ""
    }
   },
   "outputs": [],
   "source": [
    "df=spark.createDataFrame(data1, schema=['id', 'name', 'salary'])"
   ]
  },
  {
   "cell_type": "code",
   "execution_count": 0,
   "metadata": {
    "application/vnd.databricks.v1+cell": {
     "cellMetadata": {
      "byteLimit": 2048000,
      "rowLimit": 10000
     },
     "inputWidgets": {},
     "nuid": "315c0e04-0a51-46e5-acc0-a7b858329b57",
     "showTitle": false,
     "tableResultSettingsMap": {},
     "title": ""
    }
   },
   "outputs": [
    {
     "output_type": "stream",
     "name": "stdout",
     "output_type": "stream",
     "text": [
      "+---+--------+------------+\n| id|    name|      salary|\n+---+--------+------------+\n|  1|mahendra|[3000, 3400]|\n|  2|    mahi|[3880, 8790]|\n|  3|     sam|[3998, 2388]|\n+---+--------+------------+\n\n"
     ]
    }
   ],
   "source": [
    "df.show()"
   ]
  },
  {
   "cell_type": "code",
   "execution_count": 0,
   "metadata": {
    "application/vnd.databricks.v1+cell": {
     "cellMetadata": {
      "byteLimit": 2048000,
      "rowLimit": 10000
     },
     "inputWidgets": {},
     "nuid": "b5018d1c-e4a0-46fc-ba43-9eb669624a39",
     "showTitle": false,
     "tableResultSettingsMap": {},
     "title": ""
    }
   },
   "outputs": [],
   "source": [
    "from pyspark.sql import functions as F"
   ]
  },
  {
   "cell_type": "code",
   "execution_count": 0,
   "metadata": {
    "application/vnd.databricks.v1+cell": {
     "cellMetadata": {
      "byteLimit": 2048000,
      "rowLimit": 10000
     },
     "inputWidgets": {},
     "nuid": "a83ece05-f9f2-4e3a-b686-eac7284709c2",
     "showTitle": false,
     "tableResultSettingsMap": {},
     "title": ""
    }
   },
   "outputs": [
    {
     "output_type": "stream",
     "name": "stdout",
     "output_type": "stream",
     "text": [
      "Out[38]: ['Any',\n 'ArrayType',\n 'Callable',\n 'Column',\n 'DataFrame',\n 'DataType',\n 'DeprecatedFuncUsageLogger',\n 'Dict',\n 'Iterable',\n 'List',\n 'Optional',\n 'PandasUDFType',\n 'PySparkTypeError',\n 'PySparkValueError',\n 'PythonEvalType',\n 'SparkContext',\n 'StringType',\n 'StructType',\n 'TYPE_CHECKING',\n 'Tuple',\n 'Union',\n 'UserDefinedFunction',\n 'ValuesView',\n '__builtins__',\n '__cached__',\n '__doc__',\n '__file__',\n '__loader__',\n '__name__',\n '__package__',\n '__spec__',\n '_create_column_from_literal',\n '_create_edge_udf',\n '_create_lambda',\n '_create_udf',\n '_get_jvm_function',\n '_get_lambda_parameters',\n '_invoke_binary_math_function',\n '_invoke_function',\n '_invoke_function_over_columns',\n '_invoke_function_over_seq_of_columns',\n '_invoke_higher_order_function',\n '_options_to_str',\n '_test',\n '_to_java_column',\n '_to_seq',\n '_unresolved_named_lambda_variable',\n 'abs',\n 'acos',\n 'acosh',\n 'add_months',\n 'aggregate',\n 'approxCountDistinct',\n 'approx_count_distinct',\n 'array',\n 'array_append',\n 'array_compact',\n 'array_contains',\n 'array_distinct',\n 'array_except',\n 'array_intersect',\n 'array_join',\n 'array_max',\n 'array_min',\n 'array_position',\n 'array_remove',\n 'array_repeat',\n 'array_sort',\n 'array_union',\n 'arrays_overlap',\n 'arrays_zip',\n 'asc',\n 'asc_nulls_first',\n 'asc_nulls_last',\n 'ascii',\n 'asin',\n 'asinh',\n 'assert_true',\n 'atan',\n 'atan2',\n 'atanh',\n 'avg',\n 'base64',\n 'bin',\n 'bit_length',\n 'bitwiseNOT',\n 'bitwise_not',\n 'broadcast',\n 'bround',\n 'bucket',\n 'cast',\n 'cbrt',\n 'ceil',\n 'coalesce',\n 'col',\n 'collect_list',\n 'collect_set',\n 'column',\n 'concat',\n 'concat_ws',\n 'conv',\n 'corr',\n 'cos',\n 'cosh',\n 'cot',\n 'count',\n 'countDistinct',\n 'count_distinct',\n 'covar_pop',\n 'covar_samp',\n 'crc32',\n 'create_map',\n 'csc',\n 'cume_dist',\n 'current_date',\n 'current_timestamp',\n 'date_add',\n 'date_format',\n 'date_sub',\n 'date_trunc',\n 'datediff',\n 'dayofmonth',\n 'dayofweek',\n 'dayofyear',\n 'days',\n 'decode',\n 'degrees',\n 'dense_rank',\n 'desc',\n 'desc_nulls_first',\n 'desc_nulls_last',\n 'element_at',\n 'encode',\n 'exists',\n 'exp',\n 'explode',\n 'explode_outer',\n 'expm1',\n 'expr',\n 'factorial',\n 'filter',\n 'first',\n 'flatten',\n 'floor',\n 'forall',\n 'format_number',\n 'format_string',\n 'from_csv',\n 'from_json',\n 'from_unixtime',\n 'from_utc_timestamp',\n 'functools',\n 'get',\n 'get_json_object',\n 'greatest',\n 'grouping',\n 'grouping_id',\n 'hash',\n 'hex',\n 'hour',\n 'hours',\n 'hypot',\n 'initcap',\n 'inline',\n 'inline_outer',\n 'input_file_name',\n 'inspect',\n 'instr',\n 'isnan',\n 'isnull',\n 'json_tuple',\n 'kurtosis',\n 'lag',\n 'last',\n 'last_day',\n 'lead',\n 'least',\n 'length',\n 'levenshtein',\n 'lit',\n 'locate',\n 'log',\n 'log10',\n 'log1p',\n 'log2',\n 'lower',\n 'lpad',\n 'ltrim',\n 'make_date',\n 'map_concat',\n 'map_entries',\n 'map_filter',\n 'map_from_arrays',\n 'map_from_entries',\n 'map_keys',\n 'map_values',\n 'map_zip_with',\n 'max',\n 'max_by',\n 'md5',\n 'mean',\n 'median',\n 'min',\n 'min_by',\n 'minute',\n 'mode',\n 'monotonically_increasing_id',\n 'month',\n 'months',\n 'months_between',\n 'nanvl',\n 'next_day',\n 'nth_value',\n 'ntile',\n 'octet_length',\n 'overlay',\n 'overload',\n 'pandas_udf',\n 'percent_rank',\n 'percentile_approx',\n 'posexplode',\n 'posexplode_outer',\n 'pow',\n 'product',\n 'quarter',\n 'radians',\n 'raise_error',\n 'rand',\n 'randn',\n 'rank',\n 'regexp_extract',\n 'regexp_replace',\n 'repeat',\n 'reverse',\n 'rint',\n 'round',\n 'row_number',\n 'rpad',\n 'rtrim',\n 'schema_of_csv',\n 'schema_of_json',\n 'sec',\n 'second',\n 'sentences',\n 'sequence',\n 'session_window',\n 'sha1',\n 'sha2',\n 'shiftLeft',\n 'shiftRight',\n 'shiftRightUnsigned',\n 'shiftleft',\n 'shiftright',\n 'shiftrightunsigned',\n 'shuffle',\n 'signum',\n 'sin',\n 'sinh',\n 'size',\n 'skewness',\n 'slice',\n 'sort_array',\n 'soundex',\n 'spark_partition_id',\n 'split',\n 'sqrt',\n 'stddev',\n 'stddev_pop',\n 'stddev_samp',\n 'struct',\n 'substring',\n 'substring_index',\n 'sum',\n 'sumDistinct',\n 'sum_distinct',\n 'sys',\n 'tan',\n 'tanh',\n 'timestamp_seconds',\n 'toDegrees',\n 'toRadians',\n 'to_csv',\n 'to_date',\n 'to_json',\n 'to_str',\n 'to_timestamp',\n 'to_utc_timestamp',\n 'transform',\n 'transform_keys',\n 'transform_values',\n 'translate',\n 'trim',\n 'trunc',\n 'try_remote_functions',\n 'udf',\n 'unbase64',\n 'unhex',\n 'unix_timestamp',\n 'unwrap_udt',\n 'upper',\n 'var_pop',\n 'var_samp',\n 'variance',\n 'warnings',\n 'weekofyear',\n 'when',\n 'window',\n 'window_time',\n 'xxhash64',\n 'year',\n 'years',\n 'zip_with']"
     ]
    }
   ],
   "source": [
    "dir(F)"
   ]
  },
  {
   "cell_type": "code",
   "execution_count": 0,
   "metadata": {
    "application/vnd.databricks.v1+cell": {
     "cellMetadata": {
      "byteLimit": 2048000,
      "rowLimit": 10000
     },
     "inputWidgets": {},
     "nuid": "14dd0476-8595-48a6-a64d-c92cd82b4e7f",
     "showTitle": false,
     "tableResultSettingsMap": {},
     "title": ""
    }
   },
   "outputs": [
    {
     "output_type": "stream",
     "name": "stdout",
     "output_type": "stream",
     "text": [
      "root\n |-- id: long (nullable = true)\n |-- name: string (nullable = true)\n |-- salary: array (nullable = true)\n |    |-- element: long (containsNull = true)\n\n"
     ]
    }
   ],
   "source": [
    "df.printSchema()"
   ]
  },
  {
   "cell_type": "code",
   "execution_count": 0,
   "metadata": {
    "application/vnd.databricks.v1+cell": {
     "cellMetadata": {
      "byteLimit": 2048000,
      "rowLimit": 10000
     },
     "inputWidgets": {},
     "nuid": "c6c722e2-42d5-4dbb-8c59-1ebcb0dddc88",
     "showTitle": false,
     "tableResultSettingsMap": {},
     "title": ""
    }
   },
   "outputs": [
    {
     "output_type": "stream",
     "name": "stdout",
     "output_type": "stream",
     "text": [
      "+---+--------+------+\n| id|    name|salary|\n+---+--------+------+\n|  1|mahendra|  3000|\n|  1|mahendra|  3400|\n|  2|    mahi|  3880|\n|  2|    mahi|  8790|\n|  3|     sam|  3998|\n|  3|     sam|  2388|\n+---+--------+------+\n\n"
     ]
    }
   ],
   "source": [
    "df_exploded.show()"
   ]
  },
  {
   "cell_type": "code",
   "execution_count": 0,
   "metadata": {
    "application/vnd.databricks.v1+cell": {
     "cellMetadata": {
      "byteLimit": 2048000,
      "rowLimit": 10000
     },
     "inputWidgets": {},
     "nuid": "dc86458b-4b46-4cd4-b2e3-60370c77a32b",
     "showTitle": false,
     "tableResultSettingsMap": {},
     "title": ""
    }
   },
   "outputs": [
    {
     "output_type": "stream",
     "name": "stdout",
     "output_type": "stream",
     "text": [
      "+---+--------+------------+\n| id|    name|      salary|\n+---+--------+------------+\n|  1|mahendra|[3000, 3400]|\n|  2|    mahi|[3880, 8790]|\n|  3|     sam|[3998, 2388]|\n+---+--------+------------+\n\n"
     ]
    }
   ],
   "source": [
    "df.show()"
   ]
  },
  {
   "cell_type": "code",
   "execution_count": 0,
   "metadata": {
    "application/vnd.databricks.v1+cell": {
     "cellMetadata": {
      "byteLimit": 2048000,
      "rowLimit": 10000
     },
     "inputWidgets": {},
     "nuid": "9b7aa17d-57c5-4bf8-a9a1-71e0e66599f5",
     "showTitle": false,
     "tableResultSettingsMap": {},
     "title": ""
    }
   },
   "outputs": [],
   "source": [
    "df=df.withColumn('salary1', col('salary')[0])"
   ]
  },
  {
   "cell_type": "code",
   "execution_count": 0,
   "metadata": {
    "application/vnd.databricks.v1+cell": {
     "cellMetadata": {
      "byteLimit": 2048000,
      "rowLimit": 10000
     },
     "inputWidgets": {},
     "nuid": "a54480fa-f5f5-415a-95a1-ab04658b04bc",
     "showTitle": false,
     "tableResultSettingsMap": {},
     "title": ""
    }
   },
   "outputs": [
    {
     "output_type": "display_data",
     "data": {
      "text/html": [
       "<style scoped>\n",
       "  .table-result-container {\n",
       "    max-height: 300px;\n",
       "    overflow: auto;\n",
       "  }\n",
       "  table, th, td {\n",
       "    border: 1px solid black;\n",
       "    border-collapse: collapse;\n",
       "  }\n",
       "  th, td {\n",
       "    padding: 5px;\n",
       "  }\n",
       "  th {\n",
       "    text-align: left;\n",
       "  }\n",
       "</style><div class='table-result-container'><table class='table-result'><thead style='background-color: white'><tr><th>id</th><th>name</th><th>salary</th><th>salary1</th></tr></thead><tbody><tr><td>1</td><td>mahendra</td><td>List(3000, 3400)</td><td>3000</td></tr><tr><td>2</td><td>mahi</td><td>List(3880, 8790)</td><td>3880</td></tr><tr><td>3</td><td>sam</td><td>List(3998, 2388)</td><td>3998</td></tr></tbody></table></div>"
      ]
     },
     "metadata": {
      "application/vnd.databricks.v1+output": {
       "addedWidgets": {},
       "aggData": [],
       "aggError": "",
       "aggOverflow": false,
       "aggSchema": [],
       "aggSeriesLimitReached": false,
       "aggType": "",
       "arguments": {},
       "columnCustomDisplayInfos": {},
       "data": [
        [
         1,
         "mahendra",
         [
          3000,
          3400
         ],
         3000
        ],
        [
         2,
         "mahi",
         [
          3880,
          8790
         ],
         3880
        ],
        [
         3,
         "sam",
         [
          3998,
          2388
         ],
         3998
        ]
       ],
       "datasetInfos": [],
       "dbfsResultPath": null,
       "isJsonSchema": true,
       "metadata": {},
       "overflow": false,
       "plotOptions": {
        "customPlotOptions": {},
        "displayType": "table",
        "pivotAggregation": null,
        "pivotColumns": null,
        "xColumns": null,
        "yColumns": null
       },
       "removedWidgets": [],
       "schema": [
        {
         "metadata": "{}",
         "name": "id",
         "type": "\"long\""
        },
        {
         "metadata": "{}",
         "name": "name",
         "type": "\"string\""
        },
        {
         "metadata": "{}",
         "name": "salary",
         "type": "{\"type\":\"array\",\"elementType\":\"long\",\"containsNull\":true}"
        },
        {
         "metadata": "{}",
         "name": "salary1",
         "type": "\"long\""
        }
       ],
       "type": "table"
      }
     },
     "output_type": "display_data"
    }
   ],
   "source": [
    "df.display()"
   ]
  },
  {
   "cell_type": "code",
   "execution_count": 0,
   "metadata": {
    "application/vnd.databricks.v1+cell": {
     "cellMetadata": {
      "byteLimit": 2048000,
      "rowLimit": 10000
     },
     "inputWidgets": {},
     "nuid": "b23f0ecc-585c-40cf-a24a-b21de7ebe61e",
     "showTitle": false,
     "tableResultSettingsMap": {},
     "title": ""
    }
   },
   "outputs": [],
   "source": [
    "df2=df.withColumn('salary2', col('salary')[1])"
   ]
  },
  {
   "cell_type": "code",
   "execution_count": 0,
   "metadata": {
    "application/vnd.databricks.v1+cell": {
     "cellMetadata": {
      "byteLimit": 2048000,
      "rowLimit": 10000
     },
     "inputWidgets": {},
     "nuid": "1ee50d39-bc22-4ce0-93b9-2b1361265e14",
     "showTitle": false,
     "tableResultSettingsMap": {},
     "title": ""
    }
   },
   "outputs": [
    {
     "output_type": "stream",
     "name": "stdout",
     "output_type": "stream",
     "text": [
      "+---+--------+------------+-------+-------+\n| id|    name|      salary|salary1|salary2|\n+---+--------+------------+-------+-------+\n|  1|mahendra|[3000, 3400]|   3000|   3400|\n|  2|    mahi|[3880, 8790]|   3880|   8790|\n|  3|     sam|[3998, 2388]|   3998|   2388|\n+---+--------+------------+-------+-------+\n\n"
     ]
    }
   ],
   "source": [
    "df2.show()"
   ]
  },
  {
   "cell_type": "code",
   "execution_count": 0,
   "metadata": {
    "application/vnd.databricks.v1+cell": {
     "cellMetadata": {
      "byteLimit": 2048000,
      "rowLimit": 10000
     },
     "inputWidgets": {},
     "nuid": "32a85a63-0ccf-41e7-8026-36bc56946431",
     "showTitle": false,
     "tableResultSettingsMap": {},
     "title": ""
    }
   },
   "outputs": [],
   "source": [
    "from pyspark.sql.functions import col, array\n",
    "df3=df2.withColumn('salaries', array(col('salary1'), col('salary2')))"
   ]
  },
  {
   "cell_type": "code",
   "execution_count": 0,
   "metadata": {
    "application/vnd.databricks.v1+cell": {
     "cellMetadata": {
      "byteLimit": 2048000,
      "rowLimit": 10000
     },
     "inputWidgets": {},
     "nuid": "562d3f39-8286-405f-ab8d-2fd1fd932bdd",
     "showTitle": false,
     "tableResultSettingsMap": {},
     "title": ""
    }
   },
   "outputs": [
    {
     "output_type": "stream",
     "name": "stdout",
     "output_type": "stream",
     "text": [
      "+---+--------+------------+-------+-------+------------+\n| id|    name|      salary|salary1|salary2|    salaries|\n+---+--------+------------+-------+-------+------------+\n|  1|mahendra|[3000, 3400]|   3000|   3400|[3000, 3400]|\n|  2|    mahi|[3880, 8790]|   3880|   8790|[3880, 8790]|\n|  3|     sam|[3998, 2388]|   3998|   2388|[3998, 2388]|\n+---+--------+------------+-------+-------+------------+\n\n"
     ]
    }
   ],
   "source": [
    "df3.show()"
   ]
  },
  {
   "cell_type": "code",
   "execution_count": 0,
   "metadata": {
    "application/vnd.databricks.v1+cell": {
     "cellMetadata": {
      "byteLimit": 2048000,
      "rowLimit": 10000
     },
     "inputWidgets": {},
     "nuid": "0ac3bc86-aebd-40c3-a7c5-474b917c0669",
     "showTitle": false,
     "tableResultSettingsMap": {},
     "title": ""
    }
   },
   "outputs": [],
   "source": [
    "df4 = df3.withColumn('salaryequalto3k', array_contains(col('salary'), 3000))"
   ]
  },
  {
   "cell_type": "code",
   "execution_count": 0,
   "metadata": {
    "application/vnd.databricks.v1+cell": {
     "cellMetadata": {
      "byteLimit": 2048000,
      "rowLimit": 10000
     },
     "inputWidgets": {},
     "nuid": "65f3601f-f6ae-4e5b-9181-ede37af33ef0",
     "showTitle": false,
     "tableResultSettingsMap": {},
     "title": ""
    }
   },
   "outputs": [
    {
     "output_type": "stream",
     "name": "stdout",
     "output_type": "stream",
     "text": [
      "+---+--------+------------+-------+-------+------------+---------------+\n| id|    name|      salary|salary1|salary2|    salaries|salaryequalto3k|\n+---+--------+------------+-------+-------+------------+---------------+\n|  1|mahendra|[3000, 3400]|   3000|   3400|[3000, 3400]|           true|\n|  2|    mahi|[3880, 8790]|   3880|   8790|[3880, 8790]|          false|\n|  3|     sam|[3998, 2388]|   3998|   2388|[3998, 2388]|          false|\n+---+--------+------------+-------+-------+------------+---------------+\n\n"
     ]
    }
   ],
   "source": [
    "df4.show()"
   ]
  },
  {
   "cell_type": "code",
   "execution_count": 0,
   "metadata": {
    "application/vnd.databricks.v1+cell": {
     "cellMetadata": {
      "byteLimit": 2048000,
      "rowLimit": 10000
     },
     "inputWidgets": {},
     "nuid": "b8606353-f504-408d-821f-8adce3725ad5",
     "showTitle": false,
     "tableResultSettingsMap": {},
     "title": ""
    }
   },
   "outputs": [
    {
     "output_type": "stream",
     "name": "stdout",
     "output_type": "stream",
     "text": [
      "+---+--------+------------+-------+\n| id|    name|      salary|salary1|\n+---+--------+------------+-------+\n|  1|mahendra|[3000, 3400]|   3000|\n|  2|    mahi|[3880, 8790]|   3880|\n|  3|     sam|[3998, 2388]|   3998|\n+---+--------+------------+-------+\n\n"
     ]
    }
   ],
   "source": [
    "df.show()"
   ]
  },
  {
   "cell_type": "code",
   "execution_count": 0,
   "metadata": {
    "application/vnd.databricks.v1+cell": {
     "cellMetadata": {
      "byteLimit": 2048000,
      "rowLimit": 10000
     },
     "inputWidgets": {},
     "nuid": "51516cdb-b649-48fa-a527-cefa5c079942",
     "showTitle": false,
     "tableResultSettingsMap": {},
     "title": ""
    }
   },
   "outputs": [],
   "source": [
    "from pyspark.sql.functions import explode, split\n",
    "df_exploded = df.select(\"id\", 'name', explode(\"salary\").alias('salary'))"
   ]
  },
  {
   "cell_type": "code",
   "execution_count": 0,
   "metadata": {
    "application/vnd.databricks.v1+cell": {
     "cellMetadata": {
      "byteLimit": 2048000,
      "rowLimit": 10000
     },
     "inputWidgets": {},
     "nuid": "a81bd255-f606-43e3-8ff5-7b602f3e867d",
     "showTitle": false,
     "tableResultSettingsMap": {},
     "title": ""
    }
   },
   "outputs": [
    {
     "output_type": "stream",
     "name": "stdout",
     "output_type": "stream",
     "text": [
      "+---+--------+------+\n| id|    name|salary|\n+---+--------+------+\n|  1|mahendra|  3000|\n|  1|mahendra|  3400|\n|  2|    mahi|  3880|\n|  2|    mahi|  8790|\n|  3|     sam|  3998|\n|  3|     sam|  2388|\n+---+--------+------+\n\n"
     ]
    }
   ],
   "source": [
    "df_exploded.show()"
   ]
  },
  {
   "cell_type": "code",
   "execution_count": 0,
   "metadata": {
    "application/vnd.databricks.v1+cell": {
     "cellMetadata": {
      "byteLimit": 2048000,
      "rowLimit": 10000
     },
     "inputWidgets": {},
     "nuid": "867ef3d5-b227-46c8-9f3c-7a061bea4bb6",
     "showTitle": false,
     "tableResultSettingsMap": {},
     "title": ""
    }
   },
   "outputs": [],
   "source": [
    "from pyspark.sql.types import *\n",
    "schema = StructType([\n",
    "    StructField(\"name\", StringType(), True),\n",
    "    StructField(\"salaries\", ArrayType(IntegerType()), True)\n",
    "])"
   ]
  },
  {
   "cell_type": "code",
   "execution_count": 0,
   "metadata": {
    "application/vnd.databricks.v1+cell": {
     "cellMetadata": {
      "byteLimit": 2048000,
      "rowLimit": 10000
     },
     "inputWidgets": {},
     "nuid": "7b87cb93-51fa-4bd3-98c2-87251f175ec5",
     "showTitle": false,
     "tableResultSettingsMap": {},
     "title": ""
    }
   },
   "outputs": [],
   "source": [
    "data2 = [[1, 'mahi', 'data, dataengineer'], \n",
    "         [2, 'sam', 'IT, software']]"
   ]
  },
  {
   "cell_type": "code",
   "execution_count": 0,
   "metadata": {
    "application/vnd.databricks.v1+cell": {
     "cellMetadata": {
      "byteLimit": 2048000,
      "rowLimit": 10000
     },
     "inputWidgets": {},
     "nuid": "3638d228-40a0-4b2a-a741-84c136178afa",
     "showTitle": false,
     "tableResultSettingsMap": {},
     "title": ""
    }
   },
   "outputs": [],
   "source": [
    "dfx = spark.createDataFrame(data2, schema=['id', 'name', 'dept_role'])"
   ]
  },
  {
   "cell_type": "code",
   "execution_count": 0,
   "metadata": {
    "application/vnd.databricks.v1+cell": {
     "cellMetadata": {
      "byteLimit": 2048000,
      "rowLimit": 10000
     },
     "inputWidgets": {},
     "nuid": "5c87d3c1-785f-4d79-8fda-55972af65ba5",
     "showTitle": false,
     "tableResultSettingsMap": {},
     "title": ""
    }
   },
   "outputs": [
    {
     "output_type": "stream",
     "name": "stdout",
     "output_type": "stream",
     "text": [
      "+---+----+------------------+\n| id|name|         dept_role|\n+---+----+------------------+\n|  1|mahi|data, dataengineer|\n|  2| sam|      IT, software|\n+---+----+------------------+\n\n"
     ]
    }
   ],
   "source": [
    "dfx.show()"
   ]
  },
  {
   "cell_type": "code",
   "execution_count": 0,
   "metadata": {
    "application/vnd.databricks.v1+cell": {
     "cellMetadata": {
      "byteLimit": 2048000,
      "rowLimit": 10000
     },
     "inputWidgets": {},
     "nuid": "411c84d2-de89-40e9-b71d-127afe4c36bc",
     "showTitle": false,
     "tableResultSettingsMap": {},
     "title": ""
    }
   },
   "outputs": [],
   "source": [
    "from pyspark.sql.functions import split\n",
    "dfx=dfx.withColumn('dept_role_list', split(col('dept_role'), ','))"
   ]
  },
  {
   "cell_type": "code",
   "execution_count": 0,
   "metadata": {
    "application/vnd.databricks.v1+cell": {
     "cellMetadata": {
      "byteLimit": 2048000,
      "rowLimit": 10000
     },
     "inputWidgets": {},
     "nuid": "eccfce66-0921-4c3e-8520-57b69688c4f8",
     "showTitle": false,
     "tableResultSettingsMap": {},
     "title": ""
    }
   },
   "outputs": [
    {
     "output_type": "stream",
     "name": "stdout",
     "output_type": "stream",
     "text": [
      "+---+----+------------------+--------------------+\n| id|name|         dept_role|      dept_role_list|\n+---+----+------------------+--------------------+\n|  1|mahi|data, dataengineer|[data,  dataengin...|\n|  2| sam|      IT, software|     [IT,  software]|\n+---+----+------------------+--------------------+\n\n"
     ]
    }
   ],
   "source": [
    "dfx.show(truncate=True)"
   ]
  },
  {
   "cell_type": "code",
   "execution_count": 0,
   "metadata": {
    "application/vnd.databricks.v1+cell": {
     "cellMetadata": {
      "byteLimit": 2048000,
      "rowLimit": 10000
     },
     "inputWidgets": {},
     "nuid": "72ff9fe9-448c-498c-a295-bd3cb6559a99",
     "showTitle": false,
     "tableResultSettingsMap": {},
     "title": ""
    }
   },
   "outputs": [
    {
     "output_type": "stream",
     "name": "stdout",
     "output_type": "stream",
     "text": [
      "+---+----+------------------+--------------------+\n| id|name|         dept_role|      dept_role_list|\n+---+----+------------------+--------------------+\n|  1|mahi|data, dataengineer|[data,  dataengin...|\n|  2| sam|      IT, software|     [IT,  software]|\n+---+----+------------------+--------------------+\n\n"
     ]
    }
   ],
   "source": [
    "dfx.show()"
   ]
  },
  {
   "cell_type": "code",
   "execution_count": 0,
   "metadata": {
    "application/vnd.databricks.v1+cell": {
     "cellMetadata": {
      "byteLimit": 2048000,
      "rowLimit": 10000
     },
     "inputWidgets": {},
     "nuid": "46cbaff9-7cf2-4ed1-bc25-b78fa6c72b7e",
     "showTitle": false,
     "tableResultSettingsMap": {},
     "title": ""
    }
   },
   "outputs": [
    {
     "output_type": "stream",
     "name": "stdout",
     "output_type": "stream",
     "text": [
      "+---+----+------------------+---------------------+\n|id |name|dept_role         |dept_role_list       |\n+---+----+------------------+---------------------+\n|1  |mahi|data, dataengineer|[data,  dataengineer]|\n|2  |sam |IT, software      |[IT,  software]      |\n+---+----+------------------+---------------------+\n\n"
     ]
    }
   ],
   "source": [
    "dfx.show(truncate=False)"
   ]
  },
  {
   "cell_type": "code",
   "execution_count": 0,
   "metadata": {
    "application/vnd.databricks.v1+cell": {
     "cellMetadata": {
      "byteLimit": 2048000,
      "rowLimit": 10000
     },
     "inputWidgets": {},
     "nuid": "b6282aeb-4a40-4d01-9842-1ed9f36e9c90",
     "showTitle": false,
     "tableResultSettingsMap": {},
     "title": ""
    }
   },
   "outputs": [],
   "source": [
    "dfx=dfx.withColumns({'dept': col('dept_role_list')[0],\\\n",
    "                    'role': col('dept_role_list')[1]})"
   ]
  },
  {
   "cell_type": "code",
   "execution_count": 0,
   "metadata": {
    "application/vnd.databricks.v1+cell": {
     "cellMetadata": {
      "byteLimit": 2048000,
      "rowLimit": 10000
     },
     "inputWidgets": {},
     "nuid": "e76bd253-2833-4678-9500-1b6d1484f627",
     "showTitle": false,
     "tableResultSettingsMap": {},
     "title": ""
    }
   },
   "outputs": [
    {
     "output_type": "stream",
     "name": "stdout",
     "output_type": "stream",
     "text": [
      "+---+----+------------------+--------------------+-------------+----+\n| id|name|         dept_role|      dept_role_list|         role|dept|\n+---+----+------------------+--------------------+-------------+----+\n|  1|mahi|data, dataengineer|[data,  dataengin...| dataengineer|data|\n|  2| sam|      IT, software|     [IT,  software]|     software|  IT|\n+---+----+------------------+--------------------+-------------+----+\n\n"
     ]
    }
   ],
   "source": [
    "dfx.show()"
   ]
  },
  {
   "cell_type": "code",
   "execution_count": 0,
   "metadata": {
    "application/vnd.databricks.v1+cell": {
     "cellMetadata": {
      "byteLimit": 2048000,
      "rowLimit": 10000
     },
     "inputWidgets": {},
     "nuid": "7536dff5-a005-4f25-8292-798b46ef4798",
     "showTitle": false,
     "tableResultSettingsMap": {},
     "title": ""
    }
   },
   "outputs": [],
   "source": [
    "a =dfx.drop('dept_role')"
   ]
  },
  {
   "cell_type": "code",
   "execution_count": 0,
   "metadata": {
    "application/vnd.databricks.v1+cell": {
     "cellMetadata": {
      "byteLimit": 2048000,
      "rowLimit": 10000
     },
     "inputWidgets": {},
     "nuid": "7b364bb9-aca3-42d0-beed-231f7467e718",
     "showTitle": false,
     "tableResultSettingsMap": {},
     "title": ""
    }
   },
   "outputs": [
    {
     "output_type": "stream",
     "name": "stdout",
     "output_type": "stream",
     "text": [
      "+---+----+--------------------+-------------+----+\n| id|name|      dept_role_list|         role|dept|\n+---+----+--------------------+-------------+----+\n|  1|mahi|[data,  dataengin...| dataengineer|data|\n|  2| sam|     [IT,  software]|     software|  IT|\n+---+----+--------------------+-------------+----+\n\n"
     ]
    }
   ],
   "source": [
    "a.show()"
   ]
  },
  {
   "cell_type": "code",
   "execution_count": 0,
   "metadata": {
    "application/vnd.databricks.v1+cell": {
     "cellMetadata": {
      "byteLimit": 2048000,
      "rowLimit": 10000
     },
     "inputWidgets": {},
     "nuid": "fadfda53-9357-4b52-b220-bbed486b9488",
     "showTitle": false,
     "tableResultSettingsMap": {},
     "title": ""
    }
   },
   "outputs": [
    {
     "output_type": "stream",
     "name": "stdout",
     "output_type": "stream",
     "text": [
      "Help on function col in module pyspark.sql.functions:\n\ncol(col: str) -> pyspark.sql.column.Column\n    Returns a :class:`~pyspark.sql.Column` based on the given column name.\n    \n    .. versionadded:: 1.3.0\n    \n    .. versionchanged:: 3.4.0\n        Support Spark Connect.\n    \n    Parameters\n    ----------\n    col : str\n        the name for the column\n    \n    Returns\n    -------\n    :class:`~pyspark.sql.Column`\n        the corresponding column instance.\n    \n    Examples\n    --------\n    >>> col('x')\n    Column<'x'>\n    >>> column('x')\n    Column<'x'>\n\n"
     ]
    }
   ],
   "source": [
    "help(col)"
   ]
  },
  {
   "cell_type": "code",
   "execution_count": 0,
   "metadata": {
    "application/vnd.databricks.v1+cell": {
     "cellMetadata": {
      "byteLimit": 2048000,
      "rowLimit": 10000
     },
     "inputWidgets": {},
     "nuid": "7d3f4bb7-8a62-472f-80b5-e03cb0afdd78",
     "showTitle": false,
     "tableResultSettingsMap": {},
     "title": ""
    }
   },
   "outputs": [
    {
     "output_type": "stream",
     "name": "stdout",
     "output_type": "stream",
     "text": [
      "Help on function lit in module pyspark.sql.functions:\n\nlit(col: Any) -> pyspark.sql.column.Column\n    Creates a :class:`~pyspark.sql.Column` of literal value.\n    \n    .. versionadded:: 1.3.0\n    \n    .. versionchanged:: 3.4.0\n        Support Spark Connect.\n    \n    Parameters\n    ----------\n    col : :class:`~pyspark.sql.Column` or Python primitive type.\n        the value to make it as a PySpark literal. If a column is passed,\n        it returns the column as is.\n    \n    Returns\n    -------\n    :class:`~pyspark.sql.Column`\n        the literal instance.\n    \n    Examples\n    --------\n    >>> df = spark.range(1)\n    >>> df.select(lit(5).alias('height'), df.id).show()\n    +------+---+\n    |height| id|\n    +------+---+\n    |     5|  0|\n    +------+---+\n\n"
     ]
    }
   ],
   "source": [
    "help(lit)"
   ]
  },
  {
   "cell_type": "code",
   "execution_count": 0,
   "metadata": {
    "application/vnd.databricks.v1+cell": {
     "cellMetadata": {},
     "inputWidgets": {},
     "nuid": "e3615098-4ce7-4def-ad15-b5554ca6c804",
     "showTitle": false,
     "tableResultSettingsMap": {},
     "title": ""
    }
   },
   "outputs": [],
   "source": []
  }
 ],
 "metadata": {
  "application/vnd.databricks.v1+notebook": {
   "computePreferences": null,
   "dashboards": [],
   "environmentMetadata": {
    "base_environment": "",
    "environment_version": "1"
   },
   "inputWidgetPreferences": null,
   "language": "python",
   "notebookMetadata": {
    "pythonIndentUnit": 4
   },
   "notebookName": "create",
   "widgets": {}
  }
 },
 "nbformat": 4,
 "nbformat_minor": 0
}