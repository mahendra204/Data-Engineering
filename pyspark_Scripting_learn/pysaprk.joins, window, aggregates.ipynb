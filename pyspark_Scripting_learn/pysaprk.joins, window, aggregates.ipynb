{
 "cells": [
  {
   "cell_type": "code",
   "execution_count": 0,
   "metadata": {
    "application/vnd.databricks.v1+cell": {
     "cellMetadata": {
      "byteLimit": 2048000,
      "rowLimit": 10000
     },
     "inputWidgets": {},
     "nuid": "678ba740-77a8-471e-8d8a-8a7c0d6d918a",
     "showTitle": false,
     "tableResultSettingsMap": {},
     "title": ""
    }
   },
   "outputs": [],
   "source": [
    "customers_data = [\n",
    "    (4001, 'mahendra', 45, 'Bangalore'),\n",
    "    (4002, 'mahi',34, 'Nellore'),\n",
    "    (4003, 'teja', 56, 'Chennai'),\n",
    "    (4004, 'hari', 28, 'Bangalore'),\n",
    "    (4005, 'ganesh', 43, 'Chennai'),\n",
    "    (4006, 'yogi', 30, 'Hyderabad'),\n",
    "    (4007, 'balu', 48, 'Chennai'),\n",
    "    (4008, 'rafi', 36, 'Hyderabad'),\n",
    "    (4009, 'kumari', 28, 'Bangalore')\n",
    "]\n",
    "\n",
    "transactions_data = [\n",
    "    (200, 4001, 'debit', 1500.00, '2024-03-15'),\n",
    "    (201, 4003, 'debit', 4500.00, '2024-03-12'),\n",
    "    (202, 4005, 'credit', 2300.00, '2024-03-09'),\n",
    "    (203, 4007, 'debit', 5400.00, '2024-03-15'),\n",
    "    (204, 4002, 'credit', 9800.00, '2024-03-17'),\n",
    "    (205, 4007, 'debit', 7400.00, '2024-03-21'),\n",
    "    (206, 4006, 'credit', 5800.00, '2024-03-22'),\n",
    "    (207, 4010, 'debit', 4560.00, '2024-03-28'),\n",
    "    (208, 4006, 'credit', 4400.00, '2024-03-31')\n",
    "]"
   ]
  },
  {
   "cell_type": "code",
   "execution_count": 0,
   "metadata": {
    "application/vnd.databricks.v1+cell": {
     "cellMetadata": {
      "byteLimit": 2048000,
      "rowLimit": 10000
     },
     "inputWidgets": {},
     "nuid": "b40990fb-e94a-49dc-ac3c-b6703e6ae892",
     "showTitle": false,
     "tableResultSettingsMap": {},
     "title": ""
    }
   },
   "outputs": [
    {
     "output_type": "display_data",
     "data": {
      "text/html": [
       "\n",
       "            <div>\n",
       "                <p><b>SparkSession - hive</b></p>\n",
       "                \n",
       "        <div>\n",
       "            <p><b>SparkContext</b></p>\n",
       "\n",
       "            <p><a href=\"/?o=1824351176594440#setting/sparkui/0416-021900-odx3vvse/driver-6983492987627983626\">Spark UI</a></p>\n",
       "\n",
       "            <dl>\n",
       "              <dt>Version</dt>\n",
       "                <dd><code>v3.3.2</code></dd>\n",
       "              <dt>Master</dt>\n",
       "                <dd><code>local[8]</code></dd>\n",
       "              <dt>AppName</dt>\n",
       "                <dd><code>Databricks Shell</code></dd>\n",
       "            </dl>\n",
       "        </div>\n",
       "        \n",
       "            </div>\n",
       "        "
      ]
     },
     "metadata": {
      "application/vnd.databricks.v1+output": {
       "addedWidgets": {},
       "arguments": {},
       "data": "\n            <div>\n                <p><b>SparkSession - hive</b></p>\n                \n        <div>\n            <p><b>SparkContext</b></p>\n\n            <p><a href=\"/?o=1824351176594440#setting/sparkui/0416-021900-odx3vvse/driver-6983492987627983626\">Spark UI</a></p>\n\n            <dl>\n              <dt>Version</dt>\n                <dd><code>v3.3.2</code></dd>\n              <dt>Master</dt>\n                <dd><code>local[8]</code></dd>\n              <dt>AppName</dt>\n                <dd><code>Databricks Shell</code></dd>\n            </dl>\n        </div>\n        \n            </div>\n        ",
       "datasetInfos": [],
       "metadata": {},
       "removedWidgets": [],
       "textData": null,
       "type": "htmlSandbox"
      }
     },
     "output_type": "display_data"
    }
   ],
   "source": [
    "spark"
   ]
  },
  {
   "cell_type": "code",
   "execution_count": 0,
   "metadata": {
    "application/vnd.databricks.v1+cell": {
     "cellMetadata": {
      "byteLimit": 2048000,
      "rowLimit": 10000
     },
     "inputWidgets": {},
     "nuid": "eca4fc7b-c1e5-4927-950f-d8716d40f976",
     "showTitle": false,
     "tableResultSettingsMap": {},
     "title": ""
    }
   },
   "outputs": [],
   "source": [
    "from pyspark.sql.types import *\n",
    "sch_cust = StructType([\n",
    "    StructField('cust_id', IntegerType()),\n",
    "    StructField('name', StringType()),\n",
    "    StructField('age', IntegerType()),\n",
    "    StructField('location', StringType())\n",
    "    ])\n",
    "\n",
    "sch_transactions = StructType([\n",
    "    StructField('id', IntegerType()),\n",
    "    StructField('customer', IntegerType()),\n",
    "    StructField('Transaction_type', StringType()),\n",
    "    StructField('amount', FloatType()),\n",
    "    StructField('transaction_date', StringType())\n",
    "])\n"
   ]
  },
  {
   "cell_type": "code",
   "execution_count": 0,
   "metadata": {
    "application/vnd.databricks.v1+cell": {
     "cellMetadata": {
      "byteLimit": 2048000,
      "rowLimit": 10000
     },
     "inputWidgets": {},
     "nuid": "2c75de6f-dcc0-4312-83aa-8643c9fc1961",
     "showTitle": false,
     "tableResultSettingsMap": {},
     "title": ""
    }
   },
   "outputs": [
    {
     "output_type": "stream",
     "name": "stdout",
     "output_type": "stream",
     "text": [
      "+-------+--------+---+---------+\n|cust_id|name    |age|location |\n+-------+--------+---+---------+\n|4001   |mahendra|45 |Bangalore|\n|4002   |mahi    |34 |Nellore  |\n|4003   |teja    |56 |Chennai  |\n|4004   |hari    |28 |Bangalore|\n|4005   |ganesh  |43 |Chennai  |\n|4006   |yogi    |30 |Hyderabad|\n|4007   |balu    |48 |Chennai  |\n|4008   |rafi    |36 |Hyderabad|\n|4009   |kumari  |28 |Bangalore|\n+-------+--------+---+---------+\n\n"
     ]
    }
   ],
   "source": [
    "cust_df = spark.createDataFrame(customers_data, schema=sch_cust)\n",
    "cust_df.show(truncate=False)"
   ]
  },
  {
   "cell_type": "code",
   "execution_count": 0,
   "metadata": {
    "application/vnd.databricks.v1+cell": {
     "cellMetadata": {
      "byteLimit": 2048000,
      "rowLimit": 10000
     },
     "inputWidgets": {},
     "nuid": "a04a9276-9869-42f1-a7b0-c430853242de",
     "showTitle": false,
     "tableResultSettingsMap": {},
     "title": ""
    }
   },
   "outputs": [
    {
     "output_type": "stream",
     "name": "stdout",
     "output_type": "stream",
     "text": [
      "+---+--------+----------------+------+----------------+\n| id|customer|Transaction_type|amount|transaction_date|\n+---+--------+----------------+------+----------------+\n|200|    4001|           debit|1500.0|      2024-03-15|\n|201|    4003|           debit|4500.0|      2024-03-12|\n|202|    4005|          credit|2300.0|      2024-03-09|\n|203|    4007|           debit|5400.0|      2024-03-15|\n|204|    4002|          credit|9800.0|      2024-03-17|\n|205|    4007|           debit|7400.0|      2024-03-21|\n|206|    4006|          credit|5800.0|      2024-03-22|\n|207|    4010|           debit|4560.0|      2024-03-28|\n|208|    4006|          credit|4400.0|      2024-03-31|\n+---+--------+----------------+------+----------------+\n\n"
     ]
    }
   ],
   "source": [
    "transactions_df = spark.createDataFrame(transactions_data, schema=sch_transactions)\n",
    "transactions_df.show()"
   ]
  },
  {
   "cell_type": "code",
   "execution_count": 0,
   "metadata": {
    "application/vnd.databricks.v1+cell": {
     "cellMetadata": {
      "byteLimit": 2048000,
      "rowLimit": 10000
     },
     "inputWidgets": {},
     "nuid": "2adab77d-30d5-40dd-b8c4-b0b0cbf7a887",
     "showTitle": false,
     "tableResultSettingsMap": {},
     "title": ""
    }
   },
   "outputs": [
    {
     "output_type": "stream",
     "name": "stdout",
     "output_type": "stream",
     "text": [
      "+-------+--------+---+---------+---+--------+----------------+------+----------------+\n|cust_id|    name|age| location| id|customer|Transaction_type|amount|transaction_date|\n+-------+--------+---+---------+---+--------+----------------+------+----------------+\n|   4001|mahendra| 45|Bangalore|200|    4001|           debit|1500.0|      2024-03-15|\n|   4002|    mahi| 34|  Nellore|204|    4002|          credit|9800.0|      2024-03-17|\n|   4003|    teja| 56|  Chennai|201|    4003|           debit|4500.0|      2024-03-12|\n|   4005|  ganesh| 43|  Chennai|202|    4005|          credit|2300.0|      2024-03-09|\n|   4006|    yogi| 30|Hyderabad|206|    4006|          credit|5800.0|      2024-03-22|\n|   4006|    yogi| 30|Hyderabad|208|    4006|          credit|4400.0|      2024-03-31|\n|   4007|    balu| 48|  Chennai|203|    4007|           debit|5400.0|      2024-03-15|\n|   4007|    balu| 48|  Chennai|205|    4007|           debit|7400.0|      2024-03-21|\n+-------+--------+---+---------+---+--------+----------------+------+----------------+\n\n"
     ]
    }
   ],
   "source": [
    "cust_transactions_df = cust_df.join(transactions_df, cust_df['cust_id']==transactions_df['customer'], how='inner')\n",
    "cust_transactions_df.show()"
   ]
  },
  {
   "cell_type": "code",
   "execution_count": 0,
   "metadata": {
    "application/vnd.databricks.v1+cell": {
     "cellMetadata": {
      "byteLimit": 2048000,
      "rowLimit": 10000
     },
     "inputWidgets": {},
     "nuid": "993c3344-6447-4a1e-b033-0e38c4ec6bba",
     "showTitle": false,
     "tableResultSettingsMap": {},
     "title": ""
    }
   },
   "outputs": [
    {
     "output_type": "stream",
     "name": "stdout",
     "output_type": "stream",
     "text": [
      "+-------+---------+--------------+----------------+------+\n|cust_id| location|transaction_id|transaction_type|amount|\n+-------+---------+--------------+----------------+------+\n|   4001|Bangalore|           200|           debit|1500.0|\n|   4002|  Nellore|           204|          credit|9800.0|\n|   4003|  Chennai|           201|           debit|4500.0|\n|   4005|  Chennai|           202|          credit|2300.0|\n|   4006|Hyderabad|           206|          credit|5800.0|\n|   4006|Hyderabad|           208|          credit|4400.0|\n|   4007|  Chennai|           203|           debit|5400.0|\n|   4007|  Chennai|           205|           debit|7400.0|\n+-------+---------+--------------+----------------+------+\n\n"
     ]
    }
   ],
   "source": [
    "from pyspark.sql.functions import *\n",
    "res = cust_transactions_df.select('cust_id', 'location',col('id').alias('transaction_id'), 'transaction_type', 'amount')\n",
    "res.show()"
   ]
  },
  {
   "cell_type": "code",
   "execution_count": 0,
   "metadata": {
    "application/vnd.databricks.v1+cell": {
     "cellMetadata": {
      "byteLimit": 2048000,
      "rowLimit": 10000
     },
     "inputWidgets": {},
     "nuid": "f2db1f1d-88ea-493c-9de8-1b2229396ba5",
     "showTitle": false,
     "tableResultSettingsMap": {},
     "title": ""
    }
   },
   "outputs": [],
   "source": [
    "# Q1. Return the location where the lowest and highest number of transactions takes place. "
   ]
  },
  {
   "cell_type": "code",
   "execution_count": 0,
   "metadata": {
    "application/vnd.databricks.v1+cell": {
     "cellMetadata": {
      "byteLimit": 2048000,
      "rowLimit": 10000
     },
     "inputWidgets": {},
     "nuid": "8177a4ea-8725-469b-9032-ef3137a5bc90",
     "showTitle": false,
     "tableResultSettingsMap": {},
     "title": ""
    }
   },
   "outputs": [
    {
     "output_type": "stream",
     "name": "stdout",
     "output_type": "stream",
     "text": [
      "+---------+----------------------------+\n| location|total_number_of_transactions|\n+---------+----------------------------+\n|Bangalore|                           1|\n|  Chennai|                           4|\n|  Nellore|                           1|\n|Hyderabad|                           2|\n+---------+----------------------------+\n\n"
     ]
    }
   ],
   "source": [
    "\n",
    "grouped_result = res.groupBy('location').agg(\n",
    "    count('transaction_id').alias('total_number_of_transactions'))\n",
    "grouped_result.show()"
   ]
  },
  {
   "cell_type": "code",
   "execution_count": 0,
   "metadata": {
    "application/vnd.databricks.v1+cell": {
     "cellMetadata": {
      "byteLimit": 2048000,
      "rowLimit": 10000
     },
     "inputWidgets": {},
     "nuid": "ba6c154c-8fd9-4540-a9a6-de7bb5f29dd3",
     "showTitle": false,
     "tableResultSettingsMap": {},
     "title": ""
    }
   },
   "outputs": [
    {
     "output_type": "stream",
     "name": "stdout",
     "output_type": "stream",
     "text": [
      "+---------+----------------------------+-----------+------------+\n| location|total_number_of_transactions|drnk_lowest|drnk_highest|\n+---------+----------------------------+-----------+------------+\n|  Chennai|                           4|          3|           1|\n|Hyderabad|                           2|          2|           2|\n|Bangalore|                           1|          1|           3|\n|  Nellore|                           1|          1|           3|\n+---------+----------------------------+-----------+------------+\n\n"
     ]
    }
   ],
   "source": [
    "from pyspark.sql.window import Window\n",
    "trans_ord1 = Window.orderBy(col('total_number_of_transactions'))\n",
    "trans_ord2 = Window.orderBy(col('total_number_of_transactions').desc())\n",
    "final = grouped_result.withColumn('drnk_lowest', dense_rank().over(trans_ord1))\\\n",
    "    .withColumn('drnk_highest', dense_rank().over(trans_ord2))\n",
    "final.show()"
   ]
  },
  {
   "cell_type": "code",
   "execution_count": 0,
   "metadata": {
    "application/vnd.databricks.v1+cell": {
     "cellMetadata": {
      "byteLimit": 2048000,
      "rowLimit": 10000
     },
     "inputWidgets": {},
     "nuid": "52d749bd-b680-4fbe-8b32-dfd39203bcfe",
     "showTitle": false,
     "tableResultSettingsMap": {},
     "title": ""
    }
   },
   "outputs": [
    {
     "output_type": "stream",
     "name": "stdout",
     "output_type": "stream",
     "text": [
      "+-----------------------+\n|lowest_num_transactions|\n+-----------------------+\n|              Bangalore|\n|                Nellore|\n+-----------------------+\n\n+------------------------+\n|highest_num_transactions|\n+------------------------+\n|                 Chennai|\n+------------------------+\n\n"
     ]
    }
   ],
   "source": [
    "final.select(col('location').alias('lowest_num_transactions')).where(col('drnk_lowest')==1).show()\n",
    "final.select(col('location').alias('highest_num_transactions')).where(col('drnk_highest')==1).show()"
   ]
  },
  {
   "cell_type": "code",
   "execution_count": 0,
   "metadata": {
    "application/vnd.databricks.v1+cell": {
     "cellMetadata": {
      "byteLimit": 2048000,
      "rowLimit": 10000
     },
     "inputWidgets": {},
     "nuid": "367d0a22-d98f-4dfd-8093-3bad2899da89",
     "showTitle": false,
     "tableResultSettingsMap": {},
     "title": ""
    }
   },
   "outputs": [
    {
     "output_type": "display_data",
     "data": {
      "text/plain": [
       ""
      ]
     },
     "metadata": {
      "application/vnd.databricks.v1+output": {
       "arguments": {},
       "data": "",
       "errorSummary": "Command skipped",
       "errorTraceType": "ansi",
       "metadata": {},
       "type": "ipynbError"
      }
     },
     "output_type": "display_data"
    }
   ],
   "source": [
    "\n",
    "-- Q2. Return the location where the highest difference between credit and debit transaction amount.\n",
    "-- Q3. Return the customer who spent the highest amount."
   ]
  },
  {
   "cell_type": "code",
   "execution_count": 0,
   "metadata": {
    "application/vnd.databricks.v1+cell": {
     "cellMetadata": {
      "byteLimit": 2048000,
      "rowLimit": 10000
     },
     "inputWidgets": {},
     "nuid": "af0f1153-7d1e-4d87-bf39-2b8359fcd89c",
     "showTitle": false,
     "tableResultSettingsMap": {},
     "title": ""
    }
   },
   "outputs": [
    {
     "output_type": "stream",
     "name": "stdout",
     "output_type": "stream",
     "text": [
      "+-------+--------+---+---------+---+--------+----------------+------+----------------+\n|cust_id|    name|age| location| id|customer|Transaction_type|amount|transaction_date|\n+-------+--------+---+---------+---+--------+----------------+------+----------------+\n|   4001|mahendra| 45|Bangalore|200|    4001|           debit|1500.0|      2024-03-15|\n|   4002|    mahi| 34|  Nellore|204|    4002|          credit|9800.0|      2024-03-17|\n|   4003|    teja| 56|  Chennai|201|    4003|           debit|4500.0|      2024-03-12|\n|   4005|  ganesh| 43|  Chennai|202|    4005|          credit|2300.0|      2024-03-09|\n|   4006|    yogi| 30|Hyderabad|206|    4006|          credit|5800.0|      2024-03-22|\n|   4006|    yogi| 30|Hyderabad|208|    4006|          credit|4400.0|      2024-03-31|\n|   4007|    balu| 48|  Chennai|203|    4007|           debit|5400.0|      2024-03-15|\n|   4007|    balu| 48|  Chennai|205|    4007|           debit|7400.0|      2024-03-21|\n+-------+--------+---+---------+---+--------+----------------+------+----------------+\n\n"
     ]
    }
   ],
   "source": [
    "cust_transactions_df.show()"
   ]
  },
  {
   "cell_type": "code",
   "execution_count": 0,
   "metadata": {
    "application/vnd.databricks.v1+cell": {
     "cellMetadata": {
      "byteLimit": 2048000,
      "rowLimit": 10000
     },
     "inputWidgets": {},
     "nuid": "efaae044-9d08-40ef-881b-fa7e47ef71a3",
     "showTitle": false,
     "tableResultSettingsMap": {},
     "title": ""
    }
   },
   "outputs": [
    {
     "output_type": "stream",
     "name": "stdout",
     "output_type": "stream",
     "text": [
      "+-------+--------+---+---------+---+--------+----------------+------+----------------+------+------+\n|cust_id|    name|age| location| id|customer|Transaction_type|amount|transaction_date|credit| debit|\n+-------+--------+---+---------+---+--------+----------------+------+----------------+------+------+\n|   4001|mahendra| 45|Bangalore|200|    4001|           debit|1500.0|      2024-03-15|   0.0|1500.0|\n|   4002|    mahi| 34|  Nellore|204|    4002|          credit|9800.0|      2024-03-17|9800.0|   0.0|\n|   4003|    teja| 56|  Chennai|201|    4003|           debit|4500.0|      2024-03-12|   0.0|4500.0|\n|   4005|  ganesh| 43|  Chennai|202|    4005|          credit|2300.0|      2024-03-09|2300.0|   0.0|\n|   4006|    yogi| 30|Hyderabad|206|    4006|          credit|5800.0|      2024-03-22|5800.0|   0.0|\n|   4006|    yogi| 30|Hyderabad|208|    4006|          credit|4400.0|      2024-03-31|4400.0|   0.0|\n|   4007|    balu| 48|  Chennai|203|    4007|           debit|5400.0|      2024-03-15|   0.0|5400.0|\n|   4007|    balu| 48|  Chennai|205|    4007|           debit|7400.0|      2024-03-21|   0.0|7400.0|\n+-------+--------+---+---------+---+--------+----------------+------+----------------+------+------+\n\n"
     ]
    }
   ],
   "source": [
    "result2 = cust_transactions_df.withColumn('credit', when(col('transaction_type') == 'credit', col('amount'))\\\n",
    "    .otherwise(0))\\\n",
    "    .withColumn('debit', when(col('transaction_type') == 'debit', col('amount'))\\\n",
    "        .otherwise(0))\n",
    "result2.show()"
   ]
  },
  {
   "cell_type": "code",
   "execution_count": 0,
   "metadata": {
    "application/vnd.databricks.v1+cell": {
     "cellMetadata": {
      "byteLimit": 2048000,
      "rowLimit": 10000
     },
     "inputWidgets": {},
     "nuid": "6f70a4fc-4de6-4b65-888e-57afea388475",
     "showTitle": false,
     "tableResultSettingsMap": {},
     "title": ""
    }
   },
   "outputs": [
    {
     "output_type": "stream",
     "name": "stdout",
     "output_type": "stream",
     "text": [
      "+---------+-------------+------------+\n| location|credit_amount|debit_amount|\n+---------+-------------+------------+\n|Bangalore|          0.0|      1500.0|\n|  Chennai|       2300.0|     17300.0|\n|  Nellore|       9800.0|         0.0|\n|Hyderabad|      10200.0|         0.0|\n+---------+-------------+------------+\n\n"
     ]
    }
   ],
   "source": [
    "credit_debit_diff = result2.groupBy('location').agg(\n",
    "    sum('credit').alias('credit_amount'), \n",
    "    sum('debit').alias('debit_amount'))\n",
    "credit_debit_diff.show()"
   ]
  },
  {
   "cell_type": "code",
   "execution_count": 0,
   "metadata": {
    "application/vnd.databricks.v1+cell": {
     "cellMetadata": {
      "byteLimit": 2048000,
      "rowLimit": 10000
     },
     "inputWidgets": {},
     "nuid": "68005221-aafd-4ab9-8e9c-ecd27d23563b",
     "showTitle": false,
     "tableResultSettingsMap": {},
     "title": ""
    }
   },
   "outputs": [
    {
     "output_type": "stream",
     "name": "stdout",
     "output_type": "stream",
     "text": [
      "+---------+-----------------------------+\n| location|transaction_amount_difference|\n+---------+-----------------------------+\n|Bangalore|                       1500.0|\n|  Chennai|                      15000.0|\n|  Nellore|                       9800.0|\n|Hyderabad|                      10200.0|\n+---------+-----------------------------+\n\n"
     ]
    }
   ],
   "source": [
    "diff = credit_debit_diff.select('location', (abs(col('credit_amount') - col('debit_amount')).alias('transaction_amount_difference')))\n",
    "diff.show()"
   ]
  },
  {
   "cell_type": "code",
   "execution_count": 0,
   "metadata": {
    "application/vnd.databricks.v1+cell": {
     "cellMetadata": {
      "byteLimit": 2048000,
      "rowLimit": 10000
     },
     "inputWidgets": {},
     "nuid": "9b8b0c5a-cfe7-4c43-93a7-faa15a4079be",
     "showTitle": false,
     "tableResultSettingsMap": {},
     "title": ""
    }
   },
   "outputs": [
    {
     "output_type": "stream",
     "name": "stdout",
     "output_type": "stream",
     "text": [
      "+--------+\n|location|\n+--------+\n| Chennai|\n+--------+\nonly showing top 1 row\n\n"
     ]
    }
   ],
   "source": [
    "diff.select('location').orderBy(col('transaction_amount_difference').desc()).show(n=1)"
   ]
  },
  {
   "cell_type": "code",
   "execution_count": 0,
   "metadata": {
    "application/vnd.databricks.v1+cell": {
     "cellMetadata": {
      "byteLimit": 2048000,
      "rowLimit": 10000
     },
     "inputWidgets": {},
     "nuid": "40977db5-673c-40c7-b178-df977a4aa461",
     "showTitle": false,
     "tableResultSettingsMap": {},
     "title": ""
    }
   },
   "outputs": [
    {
     "output_type": "stream",
     "name": "stdout",
     "output_type": "stream",
     "text": [
      "+-------+--------+---------------+\n|cust_id|    name|spending_amount|\n+-------+--------+---------------+\n|   4001|mahendra|         1500.0|\n|   4002|    mahi|            0.0|\n|   4003|    teja|         4500.0|\n|   4005|  ganesh|            0.0|\n|   4006|    yogi|            0.0|\n|   4007|    balu|        12800.0|\n+-------+--------+---------------+\n\n"
     ]
    }
   ],
   "source": [
    "result3 = result2.groupBy('cust_id', 'name')\\\n",
    "    .agg(sum('debit').alias('spending_amount'))\n",
    "result3.show()"
   ]
  },
  {
   "cell_type": "code",
   "execution_count": 0,
   "metadata": {
    "application/vnd.databricks.v1+cell": {
     "cellMetadata": {
      "byteLimit": 2048000,
      "rowLimit": 10000
     },
     "inputWidgets": {},
     "nuid": "943f8280-3097-4713-96cd-5306c70207d1",
     "showTitle": false,
     "tableResultSettingsMap": {},
     "title": ""
    }
   },
   "outputs": [
    {
     "output_type": "stream",
     "name": "stdout",
     "output_type": "stream",
     "text": [
      "+-------+----+---------------+\n|cust_id|name|spending_amount|\n+-------+----+---------------+\n|   4007|balu|        12800.0|\n+-------+----+---------------+\nonly showing top 1 row\n\n"
     ]
    }
   ],
   "source": [
    "result3.orderBy(col('spending_amount').desc()).show(n=1)"
   ]
  },
  {
   "cell_type": "code",
   "execution_count": 0,
   "metadata": {
    "application/vnd.databricks.v1+cell": {
     "cellMetadata": {
      "byteLimit": 2048000,
      "rowLimit": 10000
     },
     "inputWidgets": {},
     "nuid": "44e742ca-a111-4d8b-97c0-e90c8709bd82",
     "showTitle": false,
     "tableResultSettingsMap": {},
     "title": ""
    }
   },
   "outputs": [],
   "source": []
  },
  {
   "cell_type": "code",
   "execution_count": 0,
   "metadata": {
    "application/vnd.databricks.v1+cell": {
     "cellMetadata": {
      "byteLimit": 2048000,
      "rowLimit": 10000
     },
     "inputWidgets": {},
     "nuid": "c6b32dd7-9218-40bf-9406-bd4619f0c27c",
     "showTitle": false,
     "tableResultSettingsMap": {},
     "title": ""
    }
   },
   "outputs": [],
   "source": []
  },
  {
   "cell_type": "code",
   "execution_count": 0,
   "metadata": {
    "application/vnd.databricks.v1+cell": {
     "cellMetadata": {
      "byteLimit": 2048000,
      "rowLimit": 10000
     },
     "inputWidgets": {},
     "nuid": "fe9229cb-f40a-4756-a9d1-74335b59c9b1",
     "showTitle": false,
     "tableResultSettingsMap": {},
     "title": ""
    }
   },
   "outputs": [],
   "source": []
  }
 ],
 "metadata": {
  "application/vnd.databricks.v1+notebook": {
   "computePreferences": null,
   "dashboards": [],
   "environmentMetadata": {
    "base_environment": "",
    "environment_version": "1"
   },
   "inputWidgetPreferences": null,
   "language": "python",
   "notebookMetadata": {
    "pythonIndentUnit": 4
   },
   "notebookName": "Untitled Notebook 2025-04-16 07:46:38",
   "widgets": {}
  }
 },
 "nbformat": 4,
 "nbformat_minor": 0
}