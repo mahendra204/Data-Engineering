{
 "cells": [
  {
   "cell_type": "code",
   "execution_count": 0,
   "metadata": {
    "application/vnd.databricks.v1+cell": {
     "cellMetadata": {
      "byteLimit": 2048000,
      "rowLimit": 10000
     },
     "inputWidgets": {},
     "nuid": "cb3bb00e-e740-4ac7-b97c-1a7da3be77d0",
     "showTitle": false,
     "tableResultSettingsMap": {},
     "title": ""
    }
   },
   "outputs": [],
   "source": [
    "x = 29"
   ]
  },
  {
   "cell_type": "code",
   "execution_count": 0,
   "metadata": {
    "application/vnd.databricks.v1+cell": {
     "cellMetadata": {
      "byteLimit": 2048000,
      "rowLimit": 10000
     },
     "inputWidgets": {},
     "nuid": "c4439f1d-8701-4253-9b51-789b16b58a6f",
     "showTitle": false,
     "tableResultSettingsMap": {},
     "title": ""
    }
   },
   "outputs": [
    {
     "output_type": "display_data",
     "data": {
      "text/html": [
       "\n",
       "            <div>\n",
       "                <p><b>SparkSession - hive</b></p>\n",
       "                \n",
       "        <div>\n",
       "            <p><b>SparkContext</b></p>\n",
       "\n",
       "            <p><a href=\"/?o=1824351176594440#setting/sparkui/0429-104058-o57dmy3j/driver-8526530822287206633\">Spark UI</a></p>\n",
       "\n",
       "            <dl>\n",
       "              <dt>Version</dt>\n",
       "                <dd><code>v3.3.2</code></dd>\n",
       "              <dt>Master</dt>\n",
       "                <dd><code>local[8]</code></dd>\n",
       "              <dt>AppName</dt>\n",
       "                <dd><code>Databricks Shell</code></dd>\n",
       "            </dl>\n",
       "        </div>\n",
       "        \n",
       "            </div>\n",
       "        "
      ]
     },
     "metadata": {
      "application/vnd.databricks.v1+output": {
       "addedWidgets": {},
       "arguments": {},
       "data": "\n            <div>\n                <p><b>SparkSession - hive</b></p>\n                \n        <div>\n            <p><b>SparkContext</b></p>\n\n            <p><a href=\"/?o=1824351176594440#setting/sparkui/0429-104058-o57dmy3j/driver-8526530822287206633\">Spark UI</a></p>\n\n            <dl>\n              <dt>Version</dt>\n                <dd><code>v3.3.2</code></dd>\n              <dt>Master</dt>\n                <dd><code>local[8]</code></dd>\n              <dt>AppName</dt>\n                <dd><code>Databricks Shell</code></dd>\n            </dl>\n        </div>\n        \n            </div>\n        ",
       "datasetInfos": [],
       "metadata": {},
       "removedWidgets": [],
       "textData": null,
       "type": "htmlSandbox"
      }
     },
     "output_type": "display_data"
    }
   ],
   "source": [
    "spark"
   ]
  },
  {
   "cell_type": "code",
   "execution_count": 0,
   "metadata": {
    "application/vnd.databricks.v1+cell": {
     "cellMetadata": {
      "byteLimit": 2048000,
      "rowLimit": 10000
     },
     "inputWidgets": {},
     "nuid": "d70b049b-3f49-4225-bb25-28c1f2eae8e2",
     "showTitle": false,
     "tableResultSettingsMap": {},
     "title": ""
    }
   },
   "outputs": [],
   "source": [
    "from pyspark.sql import SparkSession"
   ]
  },
  {
   "cell_type": "code",
   "execution_count": 0,
   "metadata": {
    "application/vnd.databricks.v1+cell": {
     "cellMetadata": {
      "byteLimit": 2048000,
      "rowLimit": 10000
     },
     "inputWidgets": {},
     "nuid": "129952e4-ef00-455a-940e-026fae23d39e",
     "showTitle": false,
     "tableResultSettingsMap": {},
     "title": ""
    }
   },
   "outputs": [],
   "source": [
    "spark = SparkSession.builder.appName('psyaprk_series').getOrCreate()"
   ]
  },
  {
   "cell_type": "code",
   "execution_count": 0,
   "metadata": {
    "application/vnd.databricks.v1+cell": {
     "cellMetadata": {
      "byteLimit": 2048000,
      "rowLimit": 10000
     },
     "inputWidgets": {},
     "nuid": "fe7d8d1e-0403-474a-a5a3-359b514e1ceb",
     "showTitle": false,
     "tableResultSettingsMap": {},
     "title": ""
    }
   },
   "outputs": [
    {
     "output_type": "display_data",
     "data": {
      "text/html": [
       "\n",
       "            <div>\n",
       "                <p><b>SparkSession - hive</b></p>\n",
       "                \n",
       "        <div>\n",
       "            <p><b>SparkContext</b></p>\n",
       "\n",
       "            <p><a href=\"/?o=1824351176594440#setting/sparkui/0429-104058-o57dmy3j/driver-8526530822287206633\">Spark UI</a></p>\n",
       "\n",
       "            <dl>\n",
       "              <dt>Version</dt>\n",
       "                <dd><code>v3.3.2</code></dd>\n",
       "              <dt>Master</dt>\n",
       "                <dd><code>local[8]</code></dd>\n",
       "              <dt>AppName</dt>\n",
       "                <dd><code>Databricks Shell</code></dd>\n",
       "            </dl>\n",
       "        </div>\n",
       "        \n",
       "            </div>\n",
       "        "
      ]
     },
     "metadata": {
      "application/vnd.databricks.v1+output": {
       "addedWidgets": {},
       "arguments": {},
       "data": "\n            <div>\n                <p><b>SparkSession - hive</b></p>\n                \n        <div>\n            <p><b>SparkContext</b></p>\n\n            <p><a href=\"/?o=1824351176594440#setting/sparkui/0429-104058-o57dmy3j/driver-8526530822287206633\">Spark UI</a></p>\n\n            <dl>\n              <dt>Version</dt>\n                <dd><code>v3.3.2</code></dd>\n              <dt>Master</dt>\n                <dd><code>local[8]</code></dd>\n              <dt>AppName</dt>\n                <dd><code>Databricks Shell</code></dd>\n            </dl>\n        </div>\n        \n            </div>\n        ",
       "datasetInfos": [],
       "metadata": {},
       "removedWidgets": [],
       "textData": null,
       "type": "htmlSandbox"
      }
     },
     "output_type": "display_data"
    }
   ],
   "source": [
    "spark"
   ]
  },
  {
   "cell_type": "code",
   "execution_count": 0,
   "metadata": {
    "application/vnd.databricks.v1+cell": {
     "cellMetadata": {
      "byteLimit": 2048000,
      "rowLimit": 10000
     },
     "inputWidgets": {},
     "nuid": "a598c218-d7b0-4e08-a514-7c6c17677836",
     "showTitle": false,
     "tableResultSettingsMap": {},
     "title": ""
    }
   },
   "outputs": [],
   "source": [
    "data = [\n",
    "    (1, 'giri', 34, 450000, 'Data Analytics'),\n",
    "    (2, 'mahi', 45, 55000, 'Software'), \n",
    "    (3, 'sam', 56, 670000, 'Data Aanalytics'),\n",
    "    (4, 'hari', 67, 90000, 'Data Science'), \n",
    "    (5, 'ravesh', 42, 76000, 'Data Science'), \n",
    "    (6, 'yoganand', 56, 89000, 'Software')\n",
    "]"
   ]
  },
  {
   "cell_type": "code",
   "execution_count": 0,
   "metadata": {
    "application/vnd.databricks.v1+cell": {
     "cellMetadata": {
      "byteLimit": 2048000,
      "rowLimit": 10000
     },
     "inputWidgets": {},
     "nuid": "ab3c58d1-34b5-4be1-8ad0-2ed6234afb23",
     "showTitle": false,
     "tableResultSettingsMap": {},
     "title": ""
    }
   },
   "outputs": [
    {
     "output_type": "stream",
     "name": "stdout",
     "output_type": "stream",
     "text": [
      "+---+--------+---+------+---------------+\n| _1|      _2| _3|    _4|             _5|\n+---+--------+---+------+---------------+\n|  1|    giri| 34|450000| Data Analytics|\n|  2|    mahi| 45| 55000|       Software|\n|  3|     sam| 56|670000|Data Aanalytics|\n|  4|    hari| 67| 90000|   Data Science|\n|  5|  ravesh| 42| 76000|   Data Science|\n|  6|yoganand| 56| 89000|       Software|\n+---+--------+---+------+---------------+\n\n"
     ]
    }
   ],
   "source": [
    "data_df = spark.createDataFrame(data)\n",
    "data_df.show()"
   ]
  },
  {
   "cell_type": "code",
   "execution_count": 0,
   "metadata": {
    "application/vnd.databricks.v1+cell": {
     "cellMetadata": {
      "byteLimit": 2048000,
      "rowLimit": 10000
     },
     "inputWidgets": {},
     "nuid": "b158dbf0-09ef-4024-882b-86aec01183aa",
     "showTitle": false,
     "tableResultSettingsMap": {},
     "title": ""
    }
   },
   "outputs": [],
   "source": [
    "data_df = spark.createDataFrame(data, ['id', 'name', 'age', 'salary', 'department'])"
   ]
  },
  {
   "cell_type": "code",
   "execution_count": 0,
   "metadata": {
    "application/vnd.databricks.v1+cell": {
     "cellMetadata": {
      "byteLimit": 2048000,
      "rowLimit": 10000
     },
     "inputWidgets": {},
     "nuid": "3f4e3964-562d-49c5-9a65-7425b271c6aa",
     "showTitle": false,
     "tableResultSettingsMap": {},
     "title": ""
    }
   },
   "outputs": [
    {
     "output_type": "stream",
     "name": "stdout",
     "output_type": "stream",
     "text": [
      "+---+--------+---+------+---------------+\n| id|    name|age|salary|     department|\n+---+--------+---+------+---------------+\n|  1|    giri| 34|450000| Data Analytics|\n|  2|    mahi| 45| 55000|       Software|\n|  3|     sam| 56|670000|Data Aanalytics|\n|  4|    hari| 67| 90000|   Data Science|\n|  5|  ravesh| 42| 76000|   Data Science|\n|  6|yoganand| 56| 89000|       Software|\n+---+--------+---+------+---------------+\n\n"
     ]
    }
   ],
   "source": [
    "data_df.show()"
   ]
  },
  {
   "cell_type": "code",
   "execution_count": 0,
   "metadata": {
    "application/vnd.databricks.v1+cell": {
     "cellMetadata": {
      "byteLimit": 2048000,
      "rowLimit": 10000
     },
     "inputWidgets": {},
     "nuid": "3e2ead20-a259-403d-a807-0b9c3627fed6",
     "showTitle": false,
     "tableResultSettingsMap": {},
     "title": ""
    }
   },
   "outputs": [
    {
     "output_type": "stream",
     "name": "stdout",
     "output_type": "stream",
     "text": [
      "root\n |-- id: long (nullable = true)\n |-- name: string (nullable = true)\n |-- age: long (nullable = true)\n |-- salary: long (nullable = true)\n |-- department: string (nullable = true)\n\n"
     ]
    }
   ],
   "source": [
    "data_df.printSchema()"
   ]
  },
  {
   "cell_type": "code",
   "execution_count": 0,
   "metadata": {
    "application/vnd.databricks.v1+cell": {
     "cellMetadata": {
      "byteLimit": 2048000,
      "rowLimit": 10000
     },
     "inputWidgets": {},
     "nuid": "91793c25-607e-45a4-8260-938a981c0dec",
     "showTitle": false,
     "tableResultSettingsMap": {},
     "title": ""
    }
   },
   "outputs": [],
   "source": [
    "columns = ['id', 'name', 'age', 'salary', 'department']"
   ]
  },
  {
   "cell_type": "code",
   "execution_count": 0,
   "metadata": {
    "application/vnd.databricks.v1+cell": {
     "cellMetadata": {
      "byteLimit": 2048000,
      "rowLimit": 10000
     },
     "inputWidgets": {},
     "nuid": "b47e5b34-733a-4b22-adca-8db569098d03",
     "showTitle": false,
     "tableResultSettingsMap": {},
     "title": ""
    }
   },
   "outputs": [
    {
     "output_type": "stream",
     "name": "stdout",
     "output_type": "stream",
     "text": [
      "+---+--------+---+------+---------------+\n| id|    name|age|salary|     department|\n+---+--------+---+------+---------------+\n|  1|    giri| 34|450000| Data Analytics|\n|  2|    mahi| 45| 55000|       Software|\n|  3|     sam| 56|670000|Data Aanalytics|\n|  4|    hari| 67| 90000|   Data Science|\n|  5|  ravesh| 42| 76000|   Data Science|\n|  6|yoganand| 56| 89000|       Software|\n+---+--------+---+------+---------------+\n\n"
     ]
    }
   ],
   "source": [
    "data_df = spark.createDataFrame(data, schema= columns)\n",
    "data_df.show()"
   ]
  },
  {
   "cell_type": "code",
   "execution_count": 0,
   "metadata": {
    "application/vnd.databricks.v1+cell": {
     "cellMetadata": {
      "byteLimit": 2048000,
      "rowLimit": 10000
     },
     "inputWidgets": {},
     "nuid": "ffbb0439-a464-4b42-a9f9-19d64022aa99",
     "showTitle": false,
     "tableResultSettingsMap": {},
     "title": ""
    }
   },
   "outputs": [
    {
     "output_type": "stream",
     "name": "stdout",
     "output_type": "stream",
     "text": [
      "root\n |-- id: long (nullable = true)\n |-- name: string (nullable = true)\n |-- age: long (nullable = true)\n |-- salary: long (nullable = true)\n |-- department: string (nullable = true)\n\n"
     ]
    }
   ],
   "source": [
    "data_df.printSchema()"
   ]
  },
  {
   "cell_type": "code",
   "execution_count": 0,
   "metadata": {
    "application/vnd.databricks.v1+cell": {
     "cellMetadata": {
      "byteLimit": 2048000,
      "rowLimit": 10000
     },
     "inputWidgets": {},
     "nuid": "0c64f9a6-3553-489a-8c8e-c534a685fd5e",
     "showTitle": false,
     "tableResultSettingsMap": {},
     "title": ""
    }
   },
   "outputs": [],
   "source": [
    "from pyspark.sql.types import StructField, StructType, IntegerType, StringType, FloatType, DateType, DecimalType, MapType"
   ]
  },
  {
   "cell_type": "code",
   "execution_count": 0,
   "metadata": {
    "application/vnd.databricks.v1+cell": {
     "cellMetadata": {
      "byteLimit": 2048000,
      "rowLimit": 10000
     },
     "inputWidgets": {},
     "nuid": "6a0124a9-7685-4d56-85ea-065882a6b59d",
     "showTitle": false,
     "tableResultSettingsMap": {},
     "title": ""
    }
   },
   "outputs": [],
   "source": [
    "col = StructType(\n",
    "    [\n",
    "        StructField('id', IntegerType(), nullable=False), \n",
    "        StructField('name', StringType()), \n",
    "        StructField('age', IntegerType()),\n",
    "        StructField('salary', IntegerType()),\n",
    "        StructField('department', StringType())    ]\n",
    ")"
   ]
  },
  {
   "cell_type": "code",
   "execution_count": 0,
   "metadata": {
    "application/vnd.databricks.v1+cell": {
     "cellMetadata": {
      "byteLimit": 2048000,
      "rowLimit": 10000
     },
     "inputWidgets": {},
     "nuid": "4faa5690-ee41-47dd-8813-aedfd5f48561",
     "showTitle": false,
     "tableResultSettingsMap": {},
     "title": ""
    }
   },
   "outputs": [],
   "source": [
    "data_df = spark.createDataFrame(data, schema=col)"
   ]
  },
  {
   "cell_type": "code",
   "execution_count": 0,
   "metadata": {
    "application/vnd.databricks.v1+cell": {
     "cellMetadata": {
      "byteLimit": 2048000,
      "rowLimit": 10000
     },
     "inputWidgets": {},
     "nuid": "50715311-8d6a-496f-80e7-13e70ca4bdaf",
     "showTitle": false,
     "tableResultSettingsMap": {},
     "title": ""
    }
   },
   "outputs": [
    {
     "output_type": "stream",
     "name": "stdout",
     "output_type": "stream",
     "text": [
      "+---+--------+---+------+---------------+\n| id|    name|age|salary|     department|\n+---+--------+---+------+---------------+\n|  1|    giri| 34|450000| Data Analytics|\n|  2|    mahi| 45| 55000|       Software|\n|  3|     sam| 56|670000|Data Aanalytics|\n|  4|    hari| 67| 90000|   Data Science|\n|  5|  ravesh| 42| 76000|   Data Science|\n|  6|yoganand| 56| 89000|       Software|\n+---+--------+---+------+---------------+\n\n"
     ]
    }
   ],
   "source": [
    "data_df.show()"
   ]
  },
  {
   "cell_type": "code",
   "execution_count": 0,
   "metadata": {
    "application/vnd.databricks.v1+cell": {
     "cellMetadata": {
      "byteLimit": 2048000,
      "rowLimit": 10000
     },
     "inputWidgets": {},
     "nuid": "950f4f50-a5b0-4c82-993e-fdb629673c8f",
     "showTitle": false,
     "tableResultSettingsMap": {},
     "title": ""
    }
   },
   "outputs": [
    {
     "output_type": "stream",
     "name": "stdout",
     "output_type": "stream",
     "text": [
      "root\n |-- id: integer (nullable = false)\n |-- name: string (nullable = true)\n |-- age: integer (nullable = true)\n |-- salary: integer (nullable = true)\n |-- department: string (nullable = true)\n\n"
     ]
    }
   ],
   "source": [
    "data_df.printSchema()"
   ]
  },
  {
   "cell_type": "code",
   "execution_count": 0,
   "metadata": {
    "application/vnd.databricks.v1+cell": {
     "cellMetadata": {
      "byteLimit": 2048000,
      "rowLimit": 10000
     },
     "inputWidgets": {},
     "nuid": "fed77f5f-ceb5-4b73-9e53-7c41b6088477",
     "showTitle": false,
     "tableResultSettingsMap": {},
     "title": ""
    }
   },
   "outputs": [
    {
     "output_type": "stream",
     "name": "stdout",
     "output_type": "stream",
     "text": [
      "+---+--------+---+------+---------------+\n| id|    name|age|salary|     department|\n+---+--------+---+------+---------------+\n|  1|    giri| 34|450000| Data Analytics|\n|  2|    mahi| 45| 55000|       Software|\n|  3|     sam| 56|670000|Data Aanalytics|\n|  4|    hari| 67| 90000|   Data Science|\n|  5|  ravesh| 42| 76000|   Data Science|\n|  6|yoganand| 56| 89000|       Software|\n+---+--------+---+------+---------------+\n\n"
     ]
    }
   ],
   "source": [
    "data_df.show()"
   ]
  },
  {
   "cell_type": "code",
   "execution_count": 0,
   "metadata": {
    "application/vnd.databricks.v1+cell": {
     "cellMetadata": {
      "byteLimit": 2048000,
      "rowLimit": 10000
     },
     "inputWidgets": {},
     "nuid": "1f6581a6-847c-45b0-8bd7-fc01fdd2a828",
     "showTitle": false,
     "tableResultSettingsMap": {},
     "title": ""
    }
   },
   "outputs": [],
   "source": [
    "#DDL, DML, DRL, TCL, DCL\n"
   ]
  },
  {
   "cell_type": "markdown",
   "metadata": {
    "application/vnd.databricks.v1+cell": {
     "cellMetadata": {
      "byteLimit": 2048000,
      "rowLimit": 10000
     },
     "inputWidgets": {},
     "nuid": "499c5cf5-2dca-4cce-9ad6-b6c76afe364d",
     "showTitle": false,
     "tableResultSettingsMap": {},
     "title": ""
    }
   },
   "source": [
    "**i. adding columns**"
   ]
  },
  {
   "cell_type": "code",
   "execution_count": 0,
   "metadata": {
    "application/vnd.databricks.v1+cell": {
     "cellMetadata": {
      "byteLimit": 2048000,
      "rowLimit": 10000
     },
     "inputWidgets": {},
     "nuid": "6a6ea68d-0c09-4b06-a4c7-dbd62db1fc13",
     "showTitle": false,
     "tableResultSettingsMap": {},
     "title": ""
    }
   },
   "outputs": [
    {
     "output_type": "stream",
     "name": "stdout",
     "output_type": "stream",
     "text": [
      "+---+--------+------+\n| id|    name|salary|\n+---+--------+------+\n|  1|    giri|450000|\n|  2|    mahi| 55000|\n|  3|     sam|670000|\n|  4|    hari| 90000|\n|  5|  ravesh| 76000|\n|  6|yoganand| 89000|\n+---+--------+------+\n\n"
     ]
    }
   ],
   "source": [
    "data1_df = data_df.select('id', 'name', 'salary')\n",
    "data1_df.show()"
   ]
  },
  {
   "cell_type": "code",
   "execution_count": 0,
   "metadata": {
    "application/vnd.databricks.v1+cell": {
     "cellMetadata": {
      "byteLimit": 2048000,
      "rowLimit": 10000
     },
     "inputWidgets": {},
     "nuid": "78af1cbc-50c7-4b36-afeb-5a582def828d",
     "showTitle": false,
     "tableResultSettingsMap": {},
     "title": ""
    }
   },
   "outputs": [
    {
     "output_type": "stream",
     "name": "stdout",
     "output_type": "stream",
     "text": [
      "+---+--------+------+\n| id|    name|salary|\n+---+--------+------+\n|  1|    giri|450000|\n|  2|    mahi| 55000|\n|  3|     sam|670000|\n|  4|    hari| 90000|\n|  5|  ravesh| 76000|\n|  6|yoganand| 89000|\n+---+--------+------+\n\n"
     ]
    }
   ],
   "source": [
    "data1_df.show()"
   ]
  },
  {
   "cell_type": "code",
   "execution_count": 0,
   "metadata": {
    "application/vnd.databricks.v1+cell": {
     "cellMetadata": {
      "byteLimit": 2048000,
      "rowLimit": 10000
     },
     "inputWidgets": {},
     "nuid": "a9684390-6157-4d4a-a2e9-136c6237744a",
     "showTitle": false,
     "tableResultSettingsMap": {},
     "title": ""
    }
   },
   "outputs": [
    {
     "output_type": "stream",
     "name": "stdout",
     "output_type": "stream",
     "text": [
      "+---+--------+---+------+---------------+--------+\n| id|    name|age|salary|     department|location|\n+---+--------+---+------+---------------+--------+\n|  1|    giri| 34|450000| Data Analytics|    null|\n|  2|    mahi| 45| 55000|       Software|    null|\n|  3|     sam| 56|670000|Data Aanalytics|    null|\n|  4|    hari| 67| 90000|   Data Science|    null|\n|  5|  ravesh| 42| 76000|   Data Science|    null|\n|  6|yoganand| 56| 89000|       Software|    null|\n+---+--------+---+------+---------------+--------+\n\n"
     ]
    }
   ],
   "source": [
    "from pyspark.sql.functions import lit\n",
    "data_df = data_df.withColumn('location', col=lit(None))\n",
    "data_df.show()"
   ]
  },
  {
   "cell_type": "code",
   "execution_count": 0,
   "metadata": {
    "application/vnd.databricks.v1+cell": {
     "cellMetadata": {
      "byteLimit": 2048000,
      "rowLimit": 10000
     },
     "inputWidgets": {},
     "nuid": "95373b63-9e8a-4980-a1a4-9229f2d680ff",
     "showTitle": false,
     "tableResultSettingsMap": {},
     "title": ""
    }
   },
   "outputs": [],
   "source": [
    "from pyspark.sql.functions import col"
   ]
  },
  {
   "cell_type": "code",
   "execution_count": 0,
   "metadata": {
    "application/vnd.databricks.v1+cell": {
     "cellMetadata": {
      "byteLimit": 2048000,
      "rowLimit": 10000
     },
     "inputWidgets": {},
     "nuid": "3c718eaa-0fc9-41ce-9ffe-ae56cdeb4b15",
     "showTitle": false,
     "tableResultSettingsMap": {},
     "title": ""
    }
   },
   "outputs": [
    {
     "output_type": "stream",
     "name": "stdout",
     "output_type": "stream",
     "text": [
      "+---+--------+---+------+---------------+--------+------------------+\n| id|    name|age|salary|     department|location|           salary1|\n+---+--------+---+------+---------------+--------+------------------+\n|  1|    giri| 34|450000| Data Analytics|    null|495000.00000000006|\n|  2|    mahi| 45| 55000|       Software|    null| 60500.00000000001|\n|  3|     sam| 56|670000|Data Aanalytics|    null| 737000.0000000001|\n|  4|    hari| 67| 90000|   Data Science|    null| 99000.00000000001|\n|  5|  ravesh| 42| 76000|   Data Science|    null|           83600.0|\n|  6|yoganand| 56| 89000|       Software|    null| 97900.00000000001|\n+---+--------+---+------+---------------+--------+------------------+\n\n"
     ]
    }
   ],
   "source": [
    "data_df = data_df.withColumn('salary1', col=col('salary')*1.1)\n",
    "data_df.show()"
   ]
  },
  {
   "cell_type": "code",
   "execution_count": 0,
   "metadata": {
    "application/vnd.databricks.v1+cell": {
     "cellMetadata": {
      "byteLimit": 2048000,
      "rowLimit": 10000
     },
     "inputWidgets": {},
     "nuid": "17d0e983-9a88-4b90-bf74-dc93f4e8ba20",
     "showTitle": false,
     "tableResultSettingsMap": {},
     "title": ""
    }
   },
   "outputs": [],
   "source": [
    "data_df = data_df.withColumnRenamed('salary1', 'udpated_salary')"
   ]
  },
  {
   "cell_type": "code",
   "execution_count": 0,
   "metadata": {
    "application/vnd.databricks.v1+cell": {
     "cellMetadata": {
      "byteLimit": 2048000,
      "rowLimit": 10000
     },
     "inputWidgets": {},
     "nuid": "ca0f5510-6bce-4f15-ad94-afe7ff915f8d",
     "showTitle": false,
     "tableResultSettingsMap": {},
     "title": ""
    }
   },
   "outputs": [
    {
     "output_type": "stream",
     "name": "stdout",
     "output_type": "stream",
     "text": [
      "+---+--------+---+------+---------------+--------+------------------+\n| id|    name|age|salary|     department|location|    udpated_salary|\n+---+--------+---+------+---------------+--------+------------------+\n|  1|    giri| 34|450000| Data Analytics|    null|495000.00000000006|\n|  2|    mahi| 45| 55000|       Software|    null| 60500.00000000001|\n|  3|     sam| 56|670000|Data Aanalytics|    null| 737000.0000000001|\n|  4|    hari| 67| 90000|   Data Science|    null| 99000.00000000001|\n|  5|  ravesh| 42| 76000|   Data Science|    null|           83600.0|\n|  6|yoganand| 56| 89000|       Software|    null| 97900.00000000001|\n+---+--------+---+------+---------------+--------+------------------+\n\n"
     ]
    }
   ],
   "source": [
    "data_df.show()"
   ]
  },
  {
   "cell_type": "code",
   "execution_count": 0,
   "metadata": {
    "application/vnd.databricks.v1+cell": {
     "cellMetadata": {
      "byteLimit": 2048000,
      "rowLimit": 10000
     },
     "inputWidgets": {},
     "nuid": "c7e38dab-64af-4675-bffe-32d6d96c53ca",
     "showTitle": false,
     "tableResultSettingsMap": {},
     "title": ""
    }
   },
   "outputs": [],
   "source": [
    "data_df = data_df.drop('udpated_salary')"
   ]
  },
  {
   "cell_type": "code",
   "execution_count": 0,
   "metadata": {
    "application/vnd.databricks.v1+cell": {
     "cellMetadata": {
      "byteLimit": 2048000,
      "rowLimit": 10000
     },
     "inputWidgets": {},
     "nuid": "704137dd-caf5-4a92-9e7b-6f47cb71b409",
     "showTitle": false,
     "tableResultSettingsMap": {},
     "title": ""
    }
   },
   "outputs": [
    {
     "output_type": "stream",
     "name": "stdout",
     "output_type": "stream",
     "text": [
      "+---+--------+---+------+---------------+--------+\n| id|    name|age|salary|     department|location|\n+---+--------+---+------+---------------+--------+\n|  1|    giri| 34|450000| Data Analytics|    null|\n|  2|    mahi| 45| 55000|       Software|    null|\n|  3|     sam| 56|670000|Data Aanalytics|    null|\n|  4|    hari| 67| 90000|   Data Science|    null|\n|  5|  ravesh| 42| 76000|   Data Science|    null|\n|  6|yoganand| 56| 89000|       Software|    null|\n+---+--------+---+------+---------------+--------+\n\n"
     ]
    }
   ],
   "source": [
    "data_df.show()"
   ]
  },
  {
   "cell_type": "code",
   "execution_count": 0,
   "metadata": {
    "application/vnd.databricks.v1+cell": {
     "cellMetadata": {
      "byteLimit": 2048000,
      "rowLimit": 10000
     },
     "inputWidgets": {},
     "nuid": "df8fe723-7327-4911-866a-58437b113672",
     "showTitle": false,
     "tableResultSettingsMap": {},
     "title": ""
    }
   },
   "outputs": [
    {
     "output_type": "stream",
     "name": "stdout",
     "output_type": "stream",
     "text": [
      "+---+--------+---+------+---------------+---------+\n| id|    name|age|salary|     department| location|\n+---+--------+---+------+---------------+---------+\n|  1|    giri| 34|450000| Data Analytics|hyderabad|\n|  2|    mahi| 45| 55000|       Software|hyderabad|\n|  3|     sam| 56|670000|Data Aanalytics|hyderabad|\n|  4|    hari| 67| 90000|   Data Science|hyderabad|\n|  5|  ravesh| 42| 76000|   Data Science|hyderabad|\n|  6|yoganand| 56| 89000|       Software|hyderabad|\n+---+--------+---+------+---------------+---------+\n\n"
     ]
    }
   ],
   "source": [
    "data_df = data_df.withColumn('location', col=lit('hyderabad'))\n",
    "data_df.show()"
   ]
  },
  {
   "cell_type": "code",
   "execution_count": 0,
   "metadata": {
    "application/vnd.databricks.v1+cell": {
     "cellMetadata": {
      "byteLimit": 2048000,
      "rowLimit": 10000
     },
     "inputWidgets": {},
     "nuid": "54a6ab44-8f44-41f7-88ff-f098db1e217f",
     "showTitle": false,
     "tableResultSettingsMap": {},
     "title": ""
    }
   },
   "outputs": [
    {
     "output_type": "stream",
     "name": "stdout",
     "output_type": "stream",
     "text": [
      "+---+--------+---+------+---------------+---------+\n| id|    name|age|salary|     department| location|\n+---+--------+---+------+---------------+---------+\n|  1|    giri| 34|450000| Data Analytics|hyderabad|\n|  2|    mahi| 45| 55000|       Software|hyderabad|\n|  3|     sam| 56|670000|Data Aanalytics|hyderabad|\n|  4|    hari| 67| 90000|   Data Science|hyderabad|\n|  5|  ravesh| 42| 76000|   Data Science|hyderabad|\n|  6|yoganand| 56| 89000|       Software|hyderabad|\n+---+--------+---+------+---------------+---------+\n\n"
     ]
    }
   ],
   "source": [
    "data_df.show()"
   ]
  },
  {
   "cell_type": "markdown",
   "metadata": {
    "application/vnd.databricks.v1+cell": {
     "cellMetadata": {
      "byteLimit": 2048000,
      "rowLimit": 10000
     },
     "inputWidgets": {},
     "nuid": "0ca39de8-118b-4dbd-9f20-969bf212cc8e",
     "showTitle": false,
     "tableResultSettingsMap": {},
     "title": ""
    }
   },
   "source": [
    " \n",
    "## **Part I**\n",
    "**Created a dataframe (without columns, with columns, with our own schema)**\n",
    "\n",
    "## **Part - II**\n",
    "**Retriving any data we want (using select command)**\n",
    "\n",
    "**Adding columns (with direct values (using lit functions), reference values from existing columns)**\n",
    "\n",
    "**Dropping columns (using drop command)**\n",
    "\n",
    "**Renaming columns (using withColumnRenamed function)**"
   ]
  },
  {
   "cell_type": "markdown",
   "metadata": {
    "application/vnd.databricks.v1+cell": {
     "cellMetadata": {
      "byteLimit": 2048000,
      "rowLimit": 10000
     },
     "inputWidgets": {},
     "nuid": "86c54b4f-426e-48cf-8db7-52704d5e9b31",
     "showTitle": false,
     "tableResultSettingsMap": {},
     "title": ""
    }
   },
   "source": [
    "\n",
    "## **Part - III**\n",
    "**Updating values for any column/columns (using when and otherwise function)**"
   ]
  },
  {
   "cell_type": "code",
   "execution_count": 0,
   "metadata": {
    "application/vnd.databricks.v1+cell": {
     "cellMetadata": {
      "byteLimit": 2048000,
      "rowLimit": 10000
     },
     "inputWidgets": {},
     "nuid": "28b0ec16-cb05-47f2-924e-cd3de52b5348",
     "showTitle": false,
     "tableResultSettingsMap": {},
     "title": ""
    }
   },
   "outputs": [
    {
     "output_type": "stream",
     "name": "stdout",
     "output_type": "stream",
     "text": [
      "+---+--------+---+------+---------------+---------+\n| id|    name|age|salary|     department| location|\n+---+--------+---+------+---------------+---------+\n|  1|    giri| 34|450000| Data Analytics|hyderabad|\n|  2|    mahi| 45| 55000|       Software|hyderabad|\n|  3|     sam| 56|670000|Data Aanalytics|hyderabad|\n|  4|    hari| 67| 90000|   Data Science|hyderabad|\n|  5|  ravesh| 42| 76000|   Data Science|hyderabad|\n|  6|yoganand| 56| 89000|       Software|hyderabad|\n+---+--------+---+------+---------------+---------+\n\n"
     ]
    }
   ],
   "source": [
    "data_df.show()"
   ]
  },
  {
   "cell_type": "code",
   "execution_count": 0,
   "metadata": {
    "application/vnd.databricks.v1+cell": {
     "cellMetadata": {
      "byteLimit": 2048000,
      "rowLimit": 10000
     },
     "inputWidgets": {},
     "nuid": "e541ceec-52b5-4c47-83fa-070590d86bf2",
     "showTitle": false,
     "tableResultSettingsMap": {},
     "title": ""
    }
   },
   "outputs": [
    {
     "output_type": "stream",
     "name": "stdout",
     "output_type": "stream",
     "text": [
      "+---+--------+---+------+--------------+---------+\n| id|    name|age|salary|    department| location|\n+---+--------+---+------+--------------+---------+\n|  1|    giri| 34|450000|Data Analytics|hyderabad|\n|  2|    mahi| 45| 55000|      Software|hyderabad|\n|  3|     sam| 56|670000|Data Analytics|hyderabad|\n|  4|    hari| 67| 90000|  Data Science|hyderabad|\n|  5|  ravesh| 42| 76000|  Data Science|hyderabad|\n|  6|yoganand| 56| 89000|      Software|hyderabad|\n+---+--------+---+------+--------------+---------+\n\n"
     ]
    }
   ],
   "source": [
    "from pyspark.sql.functions import when\n",
    "data_df = data_df.withColumn('department', when(col('department')=='Data Aanalytics', 'Data Analytics').otherwise(col('department')))\n",
    "data_df.show()"
   ]
  },
  {
   "cell_type": "code",
   "execution_count": 0,
   "metadata": {
    "application/vnd.databricks.v1+cell": {
     "cellMetadata": {
      "byteLimit": 2048000,
      "rowLimit": 10000
     },
     "inputWidgets": {},
     "nuid": "56fe6005-7a6b-4a6f-a3fc-5829ab8bbeb3",
     "showTitle": false,
     "tableResultSettingsMap": {},
     "title": ""
    }
   },
   "outputs": [
    {
     "output_type": "stream",
     "name": "stdout",
     "output_type": "stream",
     "text": [
      "+---+--------+---+------+--------------+---------+\n| id|    name|age|salary|    department| location|\n+---+--------+---+------+--------------+---------+\n|  1|    giri| 34|450000|Data Analytics|Bangalore|\n|  2|    mahi| 45| 55000|      Software|  Chennai|\n|  3|     sam| 56|670000|Data Analytics|Bangalore|\n|  4|    hari| 67| 90000|  Data Science|     Pune|\n|  5|  ravesh| 42| 76000|  Data Science|     Pune|\n|  6|yoganand| 56| 89000|      Software|  Chennai|\n+---+--------+---+------+--------------+---------+\n\n"
     ]
    }
   ],
   "source": [
    "data_df = data_df.withColumn('location', when(col('department')=='Data Analytics', 'Bangalore')\\\n",
    "    .when(col('department')=='Software', 'Chennai')\\\n",
    "        .when(col('department')=='Data Science', 'Pune')\\\n",
    "        .otherwise(col('location')))\n",
    "data_df.show()"
   ]
  },
  {
   "cell_type": "code",
   "execution_count": 0,
   "metadata": {
    "application/vnd.databricks.v1+cell": {
     "cellMetadata": {
      "byteLimit": 2048000,
      "rowLimit": 10000
     },
     "inputWidgets": {},
     "nuid": "73812ed1-5c65-4172-ac91-d8b71a728f0e",
     "showTitle": false,
     "tableResultSettingsMap": {},
     "title": ""
    }
   },
   "outputs": [
    {
     "output_type": "stream",
     "name": "stdout",
     "output_type": "stream",
     "text": [
      "+---+--------+---+------+--------------+---------+\n| id|    name|age|salary|    department| location|\n+---+--------+---+------+--------------+---------+\n|  1|    giri| 34|450000|Data Analytics|Bangalore|\n|  2|    mahi| 45| 55000|      Software|   Mumbai|\n|  3|     sam| 56|670000|Data Analytics|    Delhi|\n|  4|    hari| 67| 90000|  Data Science|     Pune|\n|  5|  ravesh| 42| 76000|  Data Science|     Pune|\n|  6|yoganand| 56| 89000|      Software|   Mumbai|\n+---+--------+---+------+--------------+---------+\n\n"
     ]
    }
   ],
   "source": [
    "data_df.withColumn('location', when((col('department')=='Data Analytics') & (col('salary')>500000), 'Delhi')\\\n",
    "    .when(col('department')=='Data Science', 'Pune')\\\n",
    "    .when((col('department')=='Software') | (col('age')>50), 'Mumbai')\\\n",
    "        .otherwise(col('location'))).show()"
   ]
  },
  {
   "cell_type": "markdown",
   "metadata": {
    "application/vnd.databricks.v1+cell": {
     "cellMetadata": {
      "byteLimit": 2048000,
      "rowLimit": 10000
     },
     "inputWidgets": {},
     "nuid": "433b4ae0-3693-4e77-98f5-fafa8eef43f2",
     "showTitle": false,
     "tableResultSettingsMap": {},
     "title": ""
    }
   },
   "source": [
    "# **Part - III**\n",
    "**Updating values for any column/columns (using when and otherwise function)**"
   ]
  },
  {
   "cell_type": "markdown",
   "metadata": {
    "application/vnd.databricks.v1+cell": {
     "cellMetadata": {
      "byteLimit": 2048000,
      "rowLimit": 10000
     },
     "inputWidgets": {},
     "nuid": "e9f8d645-3ac3-4d83-b626-df36b9a91c8a",
     "showTitle": false,
     "tableResultSettingsMap": {},
     "title": ""
    }
   },
   "source": [
    "# **Part - IV**\n",
    "\n",
    "**Filter data (using where or  filter)**"
   ]
  },
  {
   "cell_type": "code",
   "execution_count": 0,
   "metadata": {
    "application/vnd.databricks.v1+cell": {
     "cellMetadata": {
      "byteLimit": 2048000,
      "rowLimit": 10000
     },
     "inputWidgets": {},
     "nuid": "7adc5a4d-a847-4bd8-99c5-eb9155c7e243",
     "showTitle": false,
     "tableResultSettingsMap": {},
     "title": ""
    }
   },
   "outputs": [
    {
     "output_type": "stream",
     "name": "stdout",
     "output_type": "stream",
     "text": [
      "+---+--------+---+------+--------------+---------+\n| id|    name|age|salary|    department| location|\n+---+--------+---+------+--------------+---------+\n|  1|    giri| 34|450000|Data Analytics|Bangalore|\n|  2|    mahi| 45| 55000|      Software|  Chennai|\n|  3|     sam| 56|670000|Data Analytics|Bangalore|\n|  4|    hari| 67| 90000|  Data Science|     Pune|\n|  5|  ravesh| 42| 76000|  Data Science|     Pune|\n|  6|yoganand| 56| 89000|      Software|  Chennai|\n+---+--------+---+------+--------------+---------+\n\n"
     ]
    }
   ],
   "source": [
    "data_df.show()"
   ]
  },
  {
   "cell_type": "code",
   "execution_count": 0,
   "metadata": {
    "application/vnd.databricks.v1+cell": {
     "cellMetadata": {
      "byteLimit": 2048000,
      "rowLimit": 10000
     },
     "inputWidgets": {},
     "nuid": "c7b799d7-954a-47d3-93c3-a55ee530da08",
     "showTitle": false,
     "tableResultSettingsMap": {},
     "title": ""
    }
   },
   "outputs": [
    {
     "output_type": "stream",
     "name": "stdout",
     "output_type": "stream",
     "text": [
      "+---+----+---+------+--------------+---------+\n| id|name|age|salary|    department| location|\n+---+----+---+------+--------------+---------+\n|  1|giri| 34|450000|Data Analytics|Bangalore|\n|  3| sam| 56|670000|Data Analytics|Bangalore|\n+---+----+---+------+--------------+---------+\n\n"
     ]
    }
   ],
   "source": [
    "data_dataanalytics = data_df.where(col('department')=='Data Analytics')\n",
    "data_dataanalytics.show()"
   ]
  },
  {
   "cell_type": "code",
   "execution_count": 0,
   "metadata": {
    "application/vnd.databricks.v1+cell": {
     "cellMetadata": {
      "byteLimit": 2048000,
      "rowLimit": 10000
     },
     "inputWidgets": {},
     "nuid": "91dde78d-9624-4521-a060-98f7a6d2bf7a",
     "showTitle": false,
     "tableResultSettingsMap": {},
     "title": ""
    }
   },
   "outputs": [
    {
     "output_type": "stream",
     "name": "stdout",
     "output_type": "stream",
     "text": [
      "+---+----+---+------+------------+--------+\n| id|name|age|salary|  department|location|\n+---+----+---+------+------------+--------+\n|  4|hari| 67| 90000|Data Science|    Pune|\n+---+----+---+------+------------+--------+\n\n"
     ]
    }
   ],
   "source": [
    "data_df.where((col('department') == 'Data Science') & (col('salary')> 80000)).show()"
   ]
  },
  {
   "cell_type": "code",
   "execution_count": 0,
   "metadata": {
    "application/vnd.databricks.v1+cell": {
     "cellMetadata": {
      "byteLimit": 2048000,
      "rowLimit": 10000
     },
     "inputWidgets": {},
     "nuid": "ad7c7c7c-e876-48c6-82be-ab78e720f6b1",
     "showTitle": false,
     "tableResultSettingsMap": {},
     "title": ""
    }
   },
   "outputs": [
    {
     "output_type": "stream",
     "name": "stdout",
     "output_type": "stream",
     "text": [
      "+---+--------+---+------+--------------+---------+\n| id|    name|age|salary|    department| location|\n+---+--------+---+------+--------------+---------+\n|  3|     sam| 56|670000|Data Analytics|Bangalore|\n|  4|    hari| 67| 90000|  Data Science|     Pune|\n|  6|yoganand| 56| 89000|      Software|  Chennai|\n+---+--------+---+------+--------------+---------+\n\n"
     ]
    }
   ],
   "source": [
    "data_df.where((col('salary')> 80000) & (col('department') == 'Software') | (col('age')> 45)).show()"
   ]
  },
  {
   "cell_type": "code",
   "execution_count": 0,
   "metadata": {
    "application/vnd.databricks.v1+cell": {
     "cellMetadata": {
      "byteLimit": 2048000,
      "rowLimit": 10000
     },
     "inputWidgets": {},
     "nuid": "2b3aa748-2826-4461-8937-af3753703609",
     "showTitle": false,
     "tableResultSettingsMap": {},
     "title": ""
    }
   },
   "outputs": [
    {
     "output_type": "stream",
     "name": "stdout",
     "output_type": "stream",
     "text": [
      "+---+--------+---+------+--------------+---------+\n| id|    name|age|salary|    department| location|\n+---+--------+---+------+--------------+---------+\n|  1|    giri| 34|450000|Data Analytics|Bangalore|\n|  2|    mahi| 45| 55000|      Software|  Chennai|\n|  3|     sam| 56|670000|Data Analytics|Bangalore|\n|  4|    hari| 67| 90000|  Data Science|     Pune|\n|  5|  ravesh| 42| 76000|  Data Science|     Pune|\n|  6|yoganand| 56| 89000|      Software|  Chennai|\n+---+--------+---+------+--------------+---------+\n\n"
     ]
    }
   ],
   "source": [
    "data_df.show()"
   ]
  },
  {
   "cell_type": "code",
   "execution_count": 0,
   "metadata": {
    "application/vnd.databricks.v1+cell": {
     "cellMetadata": {
      "byteLimit": 2048000,
      "rowLimit": 10000
     },
     "inputWidgets": {},
     "nuid": "77f05fca-69ce-4da8-88f0-eb9031237243",
     "showTitle": false,
     "tableResultSettingsMap": {},
     "title": ""
    }
   },
   "outputs": [
    {
     "output_type": "stream",
     "name": "stdout",
     "output_type": "stream",
     "text": [
      "+---+----+---+------+--------------+---------+\n| id|name|age|salary|    department| location|\n+---+----+---+------+--------------+---------+\n|  1|giri| 34|450000|Data Analytics|Bangalore|\n|  3| sam| 56|670000|Data Analytics|Bangalore|\n+---+----+---+------+--------------+---------+\n\n"
     ]
    }
   ],
   "source": [
    "data_df.filter(data_df.location == 'Bangalore').show()"
   ]
  },
  {
   "cell_type": "code",
   "execution_count": 0,
   "metadata": {
    "application/vnd.databricks.v1+cell": {
     "cellMetadata": {
      "byteLimit": 2048000,
      "rowLimit": 10000
     },
     "inputWidgets": {},
     "nuid": "064772bb-2df0-461d-9818-dc2d32c276ab",
     "showTitle": false,
     "tableResultSettingsMap": {},
     "title": ""
    }
   },
   "outputs": [
    {
     "output_type": "stream",
     "name": "stdout",
     "output_type": "stream",
     "text": [
      "+---+----+---+------+--------------+---------+\n| id|name|age|salary|    department| location|\n+---+----+---+------+--------------+---------+\n|  1|giri| 34|450000|Data Analytics|Bangalore|\n|  3| sam| 56|670000|Data Analytics|Bangalore|\n+---+----+---+------+--------------+---------+\n\n"
     ]
    }
   ],
   "source": [
    "data_df.filter(col('location')=='Bangalore').show()"
   ]
  },
  {
   "cell_type": "code",
   "execution_count": 0,
   "metadata": {
    "application/vnd.databricks.v1+cell": {
     "cellMetadata": {
      "byteLimit": 2048000,
      "rowLimit": 10000
     },
     "inputWidgets": {},
     "nuid": "08d38a37-b40d-469f-b6b2-90934ffb54f8",
     "showTitle": false,
     "tableResultSettingsMap": {},
     "title": ""
    }
   },
   "outputs": [],
   "source": [
    "dat = data_df.filter((col('location')=='Chennai') | (col('salary')>80000))"
   ]
  },
  {
   "cell_type": "markdown",
   "metadata": {
    "application/vnd.databricks.v1+cell": {
     "cellMetadata": {
      "byteLimit": 2048000,
      "rowLimit": 10000
     },
     "inputWidgets": {},
     "nuid": "91c72707-4316-443d-80f1-f526557a27f5",
     "showTitle": false,
     "tableResultSettingsMap": {},
     "title": ""
    }
   },
   "source": [
    "# **Part - IV**\n",
    "\n",
    "**Filter data (using where or  filter)**\n"
   ]
  },
  {
   "cell_type": "markdown",
   "metadata": {
    "application/vnd.databricks.v1+cell": {
     "cellMetadata": {
      "byteLimit": 2048000,
      "rowLimit": 10000
     },
     "inputWidgets": {},
     "nuid": "3caadce1-6e0b-4796-a758-298b015f5b6a",
     "showTitle": false,
     "tableResultSettingsMap": {},
     "title": ""
    }
   },
   "source": [
    "# **Part - V**\n",
    "\n",
    "**Chainging data types of any columns while transforming data (using Cast fuction)**"
   ]
  },
  {
   "cell_type": "code",
   "execution_count": 0,
   "metadata": {
    "application/vnd.databricks.v1+cell": {
     "cellMetadata": {
      "byteLimit": 2048000,
      "rowLimit": 10000
     },
     "inputWidgets": {},
     "nuid": "fb1c39b2-146e-4ceb-b3ad-f0996e90e6c0",
     "showTitle": false,
     "tableResultSettingsMap": {},
     "title": ""
    }
   },
   "outputs": [
    {
     "output_type": "stream",
     "name": "stdout",
     "output_type": "stream",
     "text": [
      "+---+--------+---+------+--------------+---------+\n| id|    name|age|salary|    department| location|\n+---+--------+---+------+--------------+---------+\n|  1|    giri| 34|450000|Data Analytics|Bangalore|\n|  2|    mahi| 45| 55000|      Software|  Chennai|\n|  3|     sam| 56|670000|Data Analytics|Bangalore|\n|  4|    hari| 67| 90000|  Data Science|     Pune|\n|  5|  ravesh| 42| 76000|  Data Science|     Pune|\n|  6|yoganand| 56| 89000|      Software|  Chennai|\n+---+--------+---+------+--------------+---------+\n\n"
     ]
    }
   ],
   "source": [
    "data_df.show()"
   ]
  },
  {
   "cell_type": "code",
   "execution_count": 0,
   "metadata": {
    "application/vnd.databricks.v1+cell": {
     "cellMetadata": {
      "byteLimit": 2048000,
      "rowLimit": 10000
     },
     "inputWidgets": {},
     "nuid": "4e038f95-9e2a-4294-ac5c-0bb7b9b42cfd",
     "showTitle": false,
     "tableResultSettingsMap": {},
     "title": ""
    }
   },
   "outputs": [
    {
     "output_type": "stream",
     "name": "stdout",
     "output_type": "stream",
     "text": [
      "root\n |-- id: integer (nullable = false)\n |-- name: string (nullable = true)\n |-- age: integer (nullable = true)\n |-- salary: integer (nullable = true)\n |-- department: string (nullable = true)\n |-- location: string (nullable = false)\n\n"
     ]
    }
   ],
   "source": [
    "data_df.printSchema()"
   ]
  },
  {
   "cell_type": "code",
   "execution_count": 0,
   "metadata": {
    "application/vnd.databricks.v1+cell": {
     "cellMetadata": {
      "byteLimit": 2048000,
      "rowLimit": 10000
     },
     "inputWidgets": {},
     "nuid": "898bbd3c-6234-4895-90e1-64ed6f40ada1",
     "showTitle": false,
     "tableResultSettingsMap": {},
     "title": ""
    }
   },
   "outputs": [
    {
     "output_type": "stream",
     "name": "stdout",
     "output_type": "stream",
     "text": [
      "root\n |-- id: float (nullable = false)\n |-- name: long (nullable = true)\n |-- age: integer (nullable = true)\n |-- salary: integer (nullable = true)\n |-- department: string (nullable = true)\n |-- location: string (nullable = false)\n\n"
     ]
    }
   ],
   "source": [
    "data_df.withColumn('id', col('id').cast('float')).withColumn('name', col('name').cast('long')).printSchema()"
   ]
  },
  {
   "cell_type": "code",
   "execution_count": 0,
   "metadata": {
    "application/vnd.databricks.v1+cell": {
     "cellMetadata": {
      "byteLimit": 2048000,
      "rowLimit": 10000
     },
     "inputWidgets": {},
     "nuid": "2be0056e-329a-42cd-975d-a1362b03f50c",
     "showTitle": false,
     "tableResultSettingsMap": {},
     "title": ""
    }
   },
   "outputs": [
    {
     "output_type": "stream",
     "name": "stdout",
     "output_type": "stream",
     "text": [
      "root\n |-- id: integer (nullable = false)\n |-- name: string (nullable = true)\n |-- age: integer (nullable = true)\n |-- salary: integer (nullable = true)\n |-- department: string (nullable = true)\n |-- location: string (nullable = false)\n\n"
     ]
    }
   ],
   "source": [
    "data_df.printSchema()"
   ]
  },
  {
   "cell_type": "code",
   "execution_count": 0,
   "metadata": {
    "application/vnd.databricks.v1+cell": {
     "cellMetadata": {
      "byteLimit": 2048000,
      "rowLimit": 10000
     },
     "inputWidgets": {},
     "nuid": "6aea7140-5e16-4fa4-8c37-6d8a1bbb35dc",
     "showTitle": false,
     "tableResultSettingsMap": {},
     "title": ""
    }
   },
   "outputs": [
    {
     "output_type": "stream",
     "name": "stdout",
     "output_type": "stream",
     "text": [
      "+---+--------+---+------+--------------+---------+-----------+\n| id|    name|age|salary|    department| location|updated_age|\n+---+--------+---+------+--------------+---------+-----------+\n|  1|    giri| 34|450000|Data Analytics|Bangalore|         37|\n|  2|    mahi| 45| 55000|      Software|  Chennai|         49|\n|  3|     sam| 56|670000|Data Analytics|Bangalore|         61|\n|  4|    hari| 67| 90000|  Data Science|     Pune|         73|\n|  5|  ravesh| 42| 76000|  Data Science|     Pune|         46|\n|  6|yoganand| 56| 89000|      Software|  Chennai|         61|\n+---+--------+---+------+--------------+---------+-----------+\n\n"
     ]
    }
   ],
   "source": [
    "data_df.withColumn('updated_age', col=(col('age')*1.1).cast(IntegerType())).show()"
   ]
  },
  {
   "cell_type": "markdown",
   "metadata": {
    "application/vnd.databricks.v1+cell": {
     "cellMetadata": {
      "byteLimit": 2048000,
      "rowLimit": 10000
     },
     "inputWidgets": {},
     "nuid": "2bf06b4a-39b0-4b2f-adda-3c1ba372982d",
     "showTitle": false,
     "tableResultSettingsMap": {},
     "title": ""
    }
   },
   "source": [
    "# **Part - V**\n",
    "\n",
    "**Chainging data types of any columns or even while transforming data (using Cast fuction)**"
   ]
  },
  {
   "cell_type": "markdown",
   "metadata": {
    "application/vnd.databricks.v1+cell": {
     "cellMetadata": {
      "byteLimit": 2048000,
      "rowLimit": 10000
     },
     "inputWidgets": {},
     "nuid": "4447eccd-7744-4aa9-ab2f-6185e23e28bf",
     "showTitle": false,
     "tableResultSettingsMap": {},
     "title": ""
    }
   },
   "source": [
    "# **Part - VI**\n",
    "\n",
    "**Changing the order of the data in a data frame (using OrderBy or sort)**\n",
    "\n",
    "**Grouping the number of records using GroupBy & usage of aggregate functions**"
   ]
  },
  {
   "cell_type": "code",
   "execution_count": 0,
   "metadata": {
    "application/vnd.databricks.v1+cell": {
     "cellMetadata": {
      "byteLimit": 2048000,
      "rowLimit": 10000
     },
     "inputWidgets": {},
     "nuid": "c82961fc-d427-4aa4-ab45-c59e430c5bfd",
     "showTitle": false,
     "tableResultSettingsMap": {},
     "title": ""
    }
   },
   "outputs": [
    {
     "output_type": "stream",
     "name": "stdout",
     "output_type": "stream",
     "text": [
      "+---+--------+---+------+--------------+---------+\n| id|    name|age|salary|    department| location|\n+---+--------+---+------+--------------+---------+\n|  1|    giri| 34|450000|Data Analytics|Bangalore|\n|  2|    mahi| 45| 55000|      Software|  Chennai|\n|  3|     sam| 56|670000|Data Analytics|Bangalore|\n|  4|    hari| 67| 90000|  Data Science|     Pune|\n|  5|  ravesh| 42| 76000|  Data Science|     Pune|\n|  6|yoganand| 56| 89000|      Software|  Chennai|\n+---+--------+---+------+--------------+---------+\n\n"
     ]
    }
   ],
   "source": [
    "data_df.show()"
   ]
  },
  {
   "cell_type": "code",
   "execution_count": 0,
   "metadata": {
    "application/vnd.databricks.v1+cell": {
     "cellMetadata": {
      "byteLimit": 2048000,
      "rowLimit": 10000
     },
     "inputWidgets": {},
     "nuid": "e2d073ce-9bf1-48d5-8f56-ff0d1a4ad439",
     "showTitle": false,
     "tableResultSettingsMap": {},
     "title": ""
    }
   },
   "outputs": [
    {
     "output_type": "stream",
     "name": "stdout",
     "output_type": "stream",
     "text": [
      "+---+--------+---+------+--------------+---------+\n| id|    name|age|salary|    department| location|\n+---+--------+---+------+--------------+---------+\n|  2|    mahi| 45| 55000|      Software|  Chennai|\n|  6|yoganand| 56| 89000|      Software|  Chennai|\n|  5|  ravesh| 42| 76000|  Data Science|     Pune|\n|  4|    hari| 67| 90000|  Data Science|     Pune|\n|  1|    giri| 34|450000|Data Analytics|Bangalore|\n|  3|     sam| 56|670000|Data Analytics|Bangalore|\n+---+--------+---+------+--------------+---------+\n\n"
     ]
    }
   ],
   "source": [
    "data_df.orderBy(col('department').desc(), col('salary')).show()"
   ]
  },
  {
   "cell_type": "code",
   "execution_count": 0,
   "metadata": {
    "application/vnd.databricks.v1+cell": {
     "cellMetadata": {
      "byteLimit": 2048000,
      "rowLimit": 10000
     },
     "inputWidgets": {},
     "nuid": "fc631c97-741f-4a28-98d3-7ebb079b05b4",
     "showTitle": false,
     "tableResultSettingsMap": {},
     "title": ""
    }
   },
   "outputs": [
    {
     "output_type": "stream",
     "name": "stdout",
     "output_type": "stream",
     "text": [
      "+---+--------+---+------+--------------+---------+\n| id|    name|age|salary|    department| location|\n+---+--------+---+------+--------------+---------+\n|  1|    giri| 34|450000|Data Analytics|Bangalore|\n|  3|     sam| 56|670000|Data Analytics|Bangalore|\n|  5|  ravesh| 42| 76000|  Data Science|     Pune|\n|  4|    hari| 67| 90000|  Data Science|     Pune|\n|  2|    mahi| 45| 55000|      Software|  Chennai|\n|  6|yoganand| 56| 89000|      Software|  Chennai|\n+---+--------+---+------+--------------+---------+\n\n"
     ]
    }
   ],
   "source": [
    "data_df.sort(col('department'), col('salary')).show()"
   ]
  },
  {
   "cell_type": "code",
   "execution_count": 0,
   "metadata": {
    "application/vnd.databricks.v1+cell": {
     "cellMetadata": {
      "byteLimit": 2048000,
      "rowLimit": 10000
     },
     "inputWidgets": {},
     "nuid": "f062a270-3c41-4a9a-a59e-7cfb4e64116f",
     "showTitle": false,
     "tableResultSettingsMap": {},
     "title": ""
    }
   },
   "outputs": [
    {
     "output_type": "stream",
     "name": "stdout",
     "output_type": "stream",
     "text": [
      "+---+--------+---+------+--------------+---------+\n| id|    name|age|salary|    department| location|\n+---+--------+---+------+--------------+---------+\n|  1|    giri| 34|450000|Data Analytics|Bangalore|\n|  2|    mahi| 45| 55000|      Software|  Chennai|\n|  3|     sam| 56|670000|Data Analytics|Bangalore|\n|  4|    hari| 67| 90000|  Data Science|     Pune|\n|  5|  ravesh| 42| 76000|  Data Science|     Pune|\n|  6|yoganand| 56| 89000|      Software|  Chennai|\n+---+--------+---+------+--------------+---------+\n\n"
     ]
    }
   ],
   "source": [
    "data_df.show()"
   ]
  },
  {
   "cell_type": "code",
   "execution_count": 0,
   "metadata": {
    "application/vnd.databricks.v1+cell": {
     "cellMetadata": {
      "byteLimit": 2048000,
      "rowLimit": 10000
     },
     "inputWidgets": {},
     "nuid": "6247c3c7-191e-458b-8a6a-035a0b936877",
     "showTitle": false,
     "tableResultSettingsMap": {},
     "title": ""
    }
   },
   "outputs": [
    {
     "output_type": "stream",
     "name": "stdout",
     "output_type": "stream",
     "text": [
      "+--------------+-----+\n|    department|count|\n+--------------+-----+\n|Data Analytics|    2|\n|      Software|    2|\n|  Data Science|    2|\n+--------------+-----+\n\n"
     ]
    }
   ],
   "source": [
    "data_df.select('id', 'name', 'salary', 'department').groupBy('department').count().show()"
   ]
  },
  {
   "cell_type": "code",
   "execution_count": 0,
   "metadata": {
    "application/vnd.databricks.v1+cell": {
     "cellMetadata": {
      "byteLimit": 2048000,
      "rowLimit": 10000
     },
     "inputWidgets": {},
     "nuid": "71d04b6e-be0c-4469-9e37-324998f59b18",
     "showTitle": false,
     "tableResultSettingsMap": {},
     "title": ""
    }
   },
   "outputs": [
    {
     "output_type": "stream",
     "name": "stdout",
     "output_type": "stream",
     "text": [
      "+--------------+---------+--------+-----------+\n|    department| location|    name|sum(salary)|\n+--------------+---------+--------+-----------+\n|Data Analytics|Bangalore|    giri|     450000|\n|      Software|  Chennai|    mahi|      55000|\n|Data Analytics|Bangalore|     sam|     670000|\n|  Data Science|     Pune|    hari|      90000|\n|  Data Science|     Pune|  ravesh|      76000|\n|      Software|  Chennai|yoganand|      89000|\n+--------------+---------+--------+-----------+\n\n"
     ]
    }
   ],
   "source": [
    "data_df.groupBy('department', 'location', 'name').sum('salary').show()"
   ]
  },
  {
   "cell_type": "code",
   "execution_count": 0,
   "metadata": {
    "application/vnd.databricks.v1+cell": {
     "cellMetadata": {
      "byteLimit": 2048000,
      "rowLimit": 10000
     },
     "inputWidgets": {},
     "nuid": "ddb19b24-bc6d-458e-aa5e-d869910ff1e9",
     "showTitle": false,
     "tableResultSettingsMap": {},
     "title": ""
    }
   },
   "outputs": [
    {
     "output_type": "stream",
     "name": "stdout",
     "output_type": "stream",
     "text": [
      "+--------------+----------+----------+------------+------------+----------+\n|    department|min_salary|max_salary|total_salary|numberofemps|avg_salary|\n+--------------+----------+----------+------------+------------+----------+\n|Data Analytics|    450000|    670000|     1120000|           2|  560000.0|\n|      Software|     55000|     89000|      144000|           2|   72000.0|\n|  Data Science|     76000|     90000|      166000|           2|   83000.0|\n+--------------+----------+----------+------------+------------+----------+\n\n"
     ]
    }
   ],
   "source": [
    "from pyspark.sql.functions import min, max, avg,sum, count\n",
    "data_df.groupBy('department').agg(\n",
    "    min('salary').alias('min_salary'), \n",
    "    max('salary').alias('max_salary'),\n",
    "    sum('salary').alias('total_salary'), \n",
    "    count('id').alias('numberofemps'),\n",
    "    avg('salary').alias('avg_salary')\n",
    ").show()"
   ]
  },
  {
   "cell_type": "code",
   "execution_count": 0,
   "metadata": {
    "application/vnd.databricks.v1+cell": {
     "cellMetadata": {
      "byteLimit": 2048000,
      "rowLimit": 10000
     },
     "inputWidgets": {},
     "nuid": "76006ea3-6f9d-4404-9673-746247bdcf63",
     "showTitle": false,
     "tableResultSettingsMap": {},
     "title": ""
    }
   },
   "outputs": [
    {
     "output_type": "stream",
     "name": "stdout",
     "output_type": "stream",
     "text": [
      "+----------+----------+------------+------------+------------------+\n|min_salary|max_salary|total_salary|numberofemps|        avg_salary|\n+----------+----------+------------+------------+------------------+\n|     55000|    670000|     1430000|           6|238333.33333333334|\n+----------+----------+------------+------------+------------------+\n\n"
     ]
    }
   ],
   "source": [
    "data_df.agg(\n",
    "    min('salary').alias('min_salary'), \n",
    "    max('salary').alias('max_salary'),\n",
    "    sum('salary').alias('total_salary'), \n",
    "    count('id').alias('numberofemps'),\n",
    "    avg('salary').alias('avg_salary')\n",
    ").show()"
   ]
  },
  {
   "cell_type": "code",
   "execution_count": 0,
   "metadata": {
    "application/vnd.databricks.v1+cell": {
     "cellMetadata": {
      "byteLimit": 2048000,
      "rowLimit": 10000
     },
     "inputWidgets": {},
     "nuid": "e57fe7a1-cf07-45fa-b878-158b8b904377",
     "showTitle": false,
     "tableResultSettingsMap": {},
     "title": ""
    }
   },
   "outputs": [
    {
     "output_type": "stream",
     "name": "stdout",
     "output_type": "stream",
     "text": [
      "+---------+--------------+----------+----------+------------+------------+----------+\n| location|    department|min_salary|max_salary|total_salary|numberofemps|avg_salary|\n+---------+--------------+----------+----------+------------+------------+----------+\n|Bangalore|Data Analytics|    450000|    670000|     1120000|           2|  560000.0|\n|  Chennai|      Software|     55000|     89000|      144000|           2|   72000.0|\n|     Pune|  Data Science|     76000|     90000|      166000|           2|   83000.0|\n+---------+--------------+----------+----------+------------+------------+----------+\n\n"
     ]
    }
   ],
   "source": [
    "data_df.groupBy('location', 'department').agg(\n",
    "    min('salary').alias('min_salary'), \n",
    "    max('salary').alias('max_salary'),\n",
    "    sum('salary').alias('total_salary'), \n",
    "    count('id').alias('numberofemps'),\n",
    "    avg('salary').alias('avg_salary')\n",
    ").show()"
   ]
  },
  {
   "cell_type": "markdown",
   "metadata": {
    "application/vnd.databricks.v1+cell": {
     "cellMetadata": {
      "byteLimit": 2048000,
      "rowLimit": 10000
     },
     "inputWidgets": {},
     "nuid": "ec9e8f5f-fb0d-4bfc-ae88-bd6debb2e07f",
     "showTitle": false,
     "tableResultSettingsMap": {},
     "title": ""
    }
   },
   "source": [
    "# **Part - VI**\n",
    "\n",
    "**Changing the order of the data in a data frame (using OrderBy or sort)**\n",
    "\n",
    "**Grouping the number of records using GroupBy & usage of aggregate functions**"
   ]
  },
  {
   "cell_type": "markdown",
   "metadata": {
    "application/vnd.databricks.v1+cell": {
     "cellMetadata": {
      "byteLimit": 2048000,
      "rowLimit": 10000
     },
     "inputWidgets": {},
     "nuid": "6a47ba98-87c5-44f4-8f47-ab7c17555953",
     "showTitle": false,
     "tableResultSettingsMap": {},
     "title": ""
    }
   },
   "source": [
    "# **Part - VII (Window Functions)**\n",
    "\n",
    "**Implementation of All Window Functions (Rank, Dense Rank, Row Number, Lead, Lag)**"
   ]
  },
  {
   "cell_type": "code",
   "execution_count": 0,
   "metadata": {
    "application/vnd.databricks.v1+cell": {
     "cellMetadata": {
      "byteLimit": 2048000,
      "rowLimit": 10000
     },
     "inputWidgets": {},
     "nuid": "762756ab-89c4-49ec-94cf-e95bcf239381",
     "showTitle": false,
     "tableResultSettingsMap": {},
     "title": ""
    }
   },
   "outputs": [
    {
     "output_type": "stream",
     "name": "stdout",
     "output_type": "stream",
     "text": [
      "+---+--------+---+------+--------------+---------+\n| id|    name|age|salary|    department| location|\n+---+--------+---+------+--------------+---------+\n|  1|    giri| 34|450000|Data Analytics|Bangalore|\n|  2|    mahi| 45| 55000|      Software|  Chennai|\n|  3|     sam| 56|670000|Data Analytics|Bangalore|\n|  4|    hari| 67| 90000|  Data Science|     Pune|\n|  5|  ravesh| 42| 76000|  Data Science|     Pune|\n|  6|yoganand| 56| 89000|      Software|  Chennai|\n+---+--------+---+------+--------------+---------+\n\n"
     ]
    }
   ],
   "source": [
    "data_df.show()"
   ]
  },
  {
   "cell_type": "code",
   "execution_count": 0,
   "metadata": {
    "application/vnd.databricks.v1+cell": {
     "cellMetadata": {
      "byteLimit": 2048000,
      "rowLimit": 10000
     },
     "inputWidgets": {},
     "nuid": "cf4e9d57-1da1-4d84-a919-5bc0b465da18",
     "showTitle": false,
     "tableResultSettingsMap": {},
     "title": ""
    }
   },
   "outputs": [],
   "source": [
    "data_df.createOrReplaceTempView('employees')"
   ]
  },
  {
   "cell_type": "code",
   "execution_count": 0,
   "metadata": {
    "application/vnd.databricks.v1+cell": {
     "cellMetadata": {
      "byteLimit": 2048000,
      "implicitDf": true,
      "rowLimit": 10000
     },
     "inputWidgets": {},
     "nuid": "6ceb65b1-1258-44e3-89e3-7b1928a6aee2",
     "showTitle": false,
     "tableResultSettingsMap": {},
     "title": ""
    }
   },
   "outputs": [
    {
     "output_type": "display_data",
     "data": {
      "text/html": [
       "<style scoped>\n",
       "  .table-result-container {\n",
       "    max-height: 300px;\n",
       "    overflow: auto;\n",
       "  }\n",
       "  table, th, td {\n",
       "    border: 1px solid black;\n",
       "    border-collapse: collapse;\n",
       "  }\n",
       "  th, td {\n",
       "    padding: 5px;\n",
       "  }\n",
       "  th {\n",
       "    text-align: left;\n",
       "  }\n",
       "</style><div class='table-result-container'><table class='table-result'><thead style='background-color: white'><tr><th>id</th><th>name</th><th>age</th><th>salary</th><th>department</th><th>location</th></tr></thead><tbody><tr><td>1</td><td>giri</td><td>34</td><td>450000</td><td>Data Analytics</td><td>Bangalore</td></tr><tr><td>2</td><td>mahi</td><td>45</td><td>55000</td><td>Software</td><td>Chennai</td></tr><tr><td>3</td><td>sam</td><td>56</td><td>670000</td><td>Data Analytics</td><td>Bangalore</td></tr><tr><td>4</td><td>hari</td><td>67</td><td>90000</td><td>Data Science</td><td>Pune</td></tr><tr><td>5</td><td>ravesh</td><td>42</td><td>76000</td><td>Data Science</td><td>Pune</td></tr><tr><td>6</td><td>yoganand</td><td>56</td><td>89000</td><td>Software</td><td>Chennai</td></tr></tbody></table></div>"
      ]
     },
     "metadata": {
      "application/vnd.databricks.v1+output": {
       "addedWidgets": {},
       "aggData": [],
       "aggError": "",
       "aggOverflow": false,
       "aggSchema": [],
       "aggSeriesLimitReached": false,
       "aggType": "",
       "arguments": {},
       "columnCustomDisplayInfos": {},
       "data": [
        [
         1,
         "giri",
         34,
         450000,
         "Data Analytics",
         "Bangalore"
        ],
        [
         2,
         "mahi",
         45,
         55000,
         "Software",
         "Chennai"
        ],
        [
         3,
         "sam",
         56,
         670000,
         "Data Analytics",
         "Bangalore"
        ],
        [
         4,
         "hari",
         67,
         90000,
         "Data Science",
         "Pune"
        ],
        [
         5,
         "ravesh",
         42,
         76000,
         "Data Science",
         "Pune"
        ],
        [
         6,
         "yoganand",
         56,
         89000,
         "Software",
         "Chennai"
        ]
       ],
       "datasetInfos": [],
       "dbfsResultPath": null,
       "isJsonSchema": true,
       "metadata": {},
       "overflow": false,
       "plotOptions": {
        "customPlotOptions": {},
        "displayType": "table",
        "pivotAggregation": null,
        "pivotColumns": null,
        "xColumns": null,
        "yColumns": null
       },
       "removedWidgets": [],
       "schema": [
        {
         "metadata": "{}",
         "name": "id",
         "type": "\"integer\""
        },
        {
         "metadata": "{}",
         "name": "name",
         "type": "\"string\""
        },
        {
         "metadata": "{}",
         "name": "age",
         "type": "\"integer\""
        },
        {
         "metadata": "{}",
         "name": "salary",
         "type": "\"integer\""
        },
        {
         "metadata": "{}",
         "name": "department",
         "type": "\"string\""
        },
        {
         "metadata": "{}",
         "name": "location",
         "type": "\"string\""
        }
       ],
       "type": "table"
      }
     },
     "output_type": "display_data"
    }
   ],
   "source": [
    "%sql\n",
    "select * from employees"
   ]
  },
  {
   "cell_type": "code",
   "execution_count": 0,
   "metadata": {
    "application/vnd.databricks.v1+cell": {
     "cellMetadata": {
      "byteLimit": 2048000,
      "implicitDf": true,
      "rowLimit": 10000
     },
     "inputWidgets": {},
     "nuid": "d52abcff-a796-47f6-a031-8e3f706a0283",
     "showTitle": false,
     "tableResultSettingsMap": {},
     "title": ""
    }
   },
   "outputs": [
    {
     "output_type": "display_data",
     "data": {
      "text/html": [
       "<style scoped>\n",
       "  .table-result-container {\n",
       "    max-height: 300px;\n",
       "    overflow: auto;\n",
       "  }\n",
       "  table, th, td {\n",
       "    border: 1px solid black;\n",
       "    border-collapse: collapse;\n",
       "  }\n",
       "  th, td {\n",
       "    padding: 5px;\n",
       "  }\n",
       "  th {\n",
       "    text-align: left;\n",
       "  }\n",
       "</style><div class='table-result-container'><table class='table-result'><thead style='background-color: white'><tr><th>sum(salary)</th></tr></thead><tbody><tr><td>1430000</td></tr></tbody></table></div>"
      ]
     },
     "metadata": {
      "application/vnd.databricks.v1+output": {
       "addedWidgets": {},
       "aggData": [],
       "aggError": "",
       "aggOverflow": false,
       "aggSchema": [],
       "aggSeriesLimitReached": false,
       "aggType": "",
       "arguments": {},
       "columnCustomDisplayInfos": {},
       "data": [
        [
         1430000
        ]
       ],
       "datasetInfos": [],
       "dbfsResultPath": null,
       "isJsonSchema": true,
       "metadata": {},
       "overflow": false,
       "plotOptions": {
        "customPlotOptions": {},
        "displayType": "table",
        "pivotAggregation": null,
        "pivotColumns": null,
        "xColumns": null,
        "yColumns": null
       },
       "removedWidgets": [],
       "schema": [
        {
         "metadata": "{\"__autoGeneratedAlias\":\"true\"}",
         "name": "sum(salary)",
         "type": "\"long\""
        }
       ],
       "type": "table"
      }
     },
     "output_type": "display_data"
    }
   ],
   "source": [
    "%sql\n",
    "select sum(salary) from employees"
   ]
  },
  {
   "cell_type": "code",
   "execution_count": 0,
   "metadata": {
    "application/vnd.databricks.v1+cell": {
     "cellMetadata": {
      "byteLimit": 2048000,
      "implicitDf": true,
      "rowLimit": 10000
     },
     "inputWidgets": {},
     "nuid": "f3c7592b-987a-4150-8eb8-e914f861159f",
     "showTitle": false,
     "tableResultSettingsMap": {},
     "title": ""
    }
   },
   "outputs": [
    {
     "output_type": "display_data",
     "data": {
      "text/html": [
       "<style scoped>\n",
       "  .table-result-container {\n",
       "    max-height: 300px;\n",
       "    overflow: auto;\n",
       "  }\n",
       "  table, th, td {\n",
       "    border: 1px solid black;\n",
       "    border-collapse: collapse;\n",
       "  }\n",
       "  th, td {\n",
       "    padding: 5px;\n",
       "  }\n",
       "  th {\n",
       "    text-align: left;\n",
       "  }\n",
       "</style><div class='table-result-container'><table class='table-result'><thead style='background-color: white'><tr><th>department</th><th>sum(salary)</th></tr></thead><tbody><tr><td>Data Analytics</td><td>1120000</td></tr><tr><td>Software</td><td>144000</td></tr><tr><td>Data Science</td><td>166000</td></tr></tbody></table></div>"
      ]
     },
     "metadata": {
      "application/vnd.databricks.v1+output": {
       "addedWidgets": {},
       "aggData": [],
       "aggError": "",
       "aggOverflow": false,
       "aggSchema": [],
       "aggSeriesLimitReached": false,
       "aggType": "",
       "arguments": {},
       "columnCustomDisplayInfos": {},
       "data": [
        [
         "Data Analytics",
         1120000
        ],
        [
         "Software",
         144000
        ],
        [
         "Data Science",
         166000
        ]
       ],
       "datasetInfos": [],
       "dbfsResultPath": null,
       "isJsonSchema": true,
       "metadata": {},
       "overflow": false,
       "plotOptions": {
        "customPlotOptions": {},
        "displayType": "table",
        "pivotAggregation": null,
        "pivotColumns": null,
        "xColumns": null,
        "yColumns": null
       },
       "removedWidgets": [],
       "schema": [
        {
         "metadata": "{}",
         "name": "department",
         "type": "\"string\""
        },
        {
         "metadata": "{\"__autoGeneratedAlias\":\"true\"}",
         "name": "sum(salary)",
         "type": "\"long\""
        }
       ],
       "type": "table"
      }
     },
     "output_type": "display_data"
    }
   ],
   "source": [
    "%sql\n",
    "select department, sum(salary) from employees group by department"
   ]
  },
  {
   "cell_type": "code",
   "execution_count": 0,
   "metadata": {
    "application/vnd.databricks.v1+cell": {
     "cellMetadata": {
      "byteLimit": 2048000,
      "implicitDf": true,
      "rowLimit": 10000
     },
     "inputWidgets": {},
     "nuid": "d9742abc-191d-4348-acf3-32e37d8d1c43",
     "showTitle": false,
     "tableResultSettingsMap": {},
     "title": ""
    }
   },
   "outputs": [
    {
     "output_type": "display_data",
     "data": {
      "text/html": [
       "<style scoped>\n",
       "  .table-result-container {\n",
       "    max-height: 300px;\n",
       "    overflow: auto;\n",
       "  }\n",
       "  table, th, td {\n",
       "    border: 1px solid black;\n",
       "    border-collapse: collapse;\n",
       "  }\n",
       "  th, td {\n",
       "    padding: 5px;\n",
       "  }\n",
       "  th {\n",
       "    text-align: left;\n",
       "  }\n",
       "</style><div class='table-result-container'><table class='table-result'><thead style='background-color: white'><tr><th>location</th><th>sum(salary)</th></tr></thead><tbody><tr><td>Bangalore</td><td>1120000</td></tr><tr><td>Chennai</td><td>144000</td></tr><tr><td>Pune</td><td>166000</td></tr></tbody></table></div>"
      ]
     },
     "metadata": {
      "application/vnd.databricks.v1+output": {
       "addedWidgets": {},
       "aggData": [],
       "aggError": "",
       "aggOverflow": false,
       "aggSchema": [],
       "aggSeriesLimitReached": false,
       "aggType": "",
       "arguments": {},
       "columnCustomDisplayInfos": {},
       "data": [
        [
         "Bangalore",
         1120000
        ],
        [
         "Chennai",
         144000
        ],
        [
         "Pune",
         166000
        ]
       ],
       "datasetInfos": [],
       "dbfsResultPath": null,
       "isJsonSchema": true,
       "metadata": {},
       "overflow": false,
       "plotOptions": {
        "customPlotOptions": {},
        "displayType": "table",
        "pivotAggregation": null,
        "pivotColumns": null,
        "xColumns": null,
        "yColumns": null
       },
       "removedWidgets": [],
       "schema": [
        {
         "metadata": "{}",
         "name": "location",
         "type": "\"string\""
        },
        {
         "metadata": "{\"__autoGeneratedAlias\":\"true\"}",
         "name": "sum(salary)",
         "type": "\"long\""
        }
       ],
       "type": "table"
      }
     },
     "output_type": "display_data"
    }
   ],
   "source": [
    "%sql\n",
    "select location, sum(salary) from employees group by location "
   ]
  },
  {
   "cell_type": "code",
   "execution_count": 0,
   "metadata": {
    "application/vnd.databricks.v1+cell": {
     "cellMetadata": {
      "byteLimit": 2048000,
      "implicitDf": true,
      "rowLimit": 10000
     },
     "inputWidgets": {},
     "nuid": "9d206aa0-d3e1-448b-8048-433d9ac0fd03",
     "showTitle": false,
     "tableResultSettingsMap": {},
     "title": ""
    }
   },
   "outputs": [
    {
     "output_type": "display_data",
     "data": {
      "text/html": [
       "<style scoped>\n",
       "  .table-result-container {\n",
       "    max-height: 300px;\n",
       "    overflow: auto;\n",
       "  }\n",
       "  table, th, td {\n",
       "    border: 1px solid black;\n",
       "    border-collapse: collapse;\n",
       "  }\n",
       "  th, td {\n",
       "    padding: 5px;\n",
       "  }\n",
       "  th {\n",
       "    text-align: left;\n",
       "  }\n",
       "</style><div class='table-result-container'><table class='table-result'><thead style='background-color: white'><tr><th>id</th><th>name</th><th>age</th><th>salary</th><th>department</th><th>location</th><th>sum(salary)</th></tr></thead><tbody><tr><td>1</td><td>giri</td><td>34</td><td>450000</td><td>Data Analytics</td><td>Bangalore</td><td>450000</td></tr><tr><td>2</td><td>mahi</td><td>45</td><td>55000</td><td>Software</td><td>Chennai</td><td>55000</td></tr><tr><td>3</td><td>sam</td><td>56</td><td>670000</td><td>Data Analytics</td><td>Bangalore</td><td>670000</td></tr><tr><td>4</td><td>hari</td><td>67</td><td>90000</td><td>Data Science</td><td>Pune</td><td>90000</td></tr><tr><td>5</td><td>ravesh</td><td>42</td><td>76000</td><td>Data Science</td><td>Pune</td><td>76000</td></tr><tr><td>6</td><td>yoganand</td><td>56</td><td>89000</td><td>Software</td><td>Chennai</td><td>89000</td></tr></tbody></table></div>"
      ]
     },
     "metadata": {
      "application/vnd.databricks.v1+output": {
       "addedWidgets": {},
       "aggData": [],
       "aggError": "",
       "aggOverflow": false,
       "aggSchema": [],
       "aggSeriesLimitReached": false,
       "aggType": "",
       "arguments": {},
       "columnCustomDisplayInfos": {},
       "data": [
        [
         1,
         "giri",
         34,
         450000,
         "Data Analytics",
         "Bangalore",
         450000
        ],
        [
         2,
         "mahi",
         45,
         55000,
         "Software",
         "Chennai",
         55000
        ],
        [
         3,
         "sam",
         56,
         670000,
         "Data Analytics",
         "Bangalore",
         670000
        ],
        [
         4,
         "hari",
         67,
         90000,
         "Data Science",
         "Pune",
         90000
        ],
        [
         5,
         "ravesh",
         42,
         76000,
         "Data Science",
         "Pune",
         76000
        ],
        [
         6,
         "yoganand",
         56,
         89000,
         "Software",
         "Chennai",
         89000
        ]
       ],
       "datasetInfos": [],
       "dbfsResultPath": null,
       "isJsonSchema": true,
       "metadata": {},
       "overflow": false,
       "plotOptions": {
        "customPlotOptions": {},
        "displayType": "table",
        "pivotAggregation": null,
        "pivotColumns": null,
        "xColumns": null,
        "yColumns": null
       },
       "removedWidgets": [],
       "schema": [
        {
         "metadata": "{}",
         "name": "id",
         "type": "\"integer\""
        },
        {
         "metadata": "{}",
         "name": "name",
         "type": "\"string\""
        },
        {
         "metadata": "{}",
         "name": "age",
         "type": "\"integer\""
        },
        {
         "metadata": "{}",
         "name": "salary",
         "type": "\"integer\""
        },
        {
         "metadata": "{}",
         "name": "department",
         "type": "\"string\""
        },
        {
         "metadata": "{}",
         "name": "location",
         "type": "\"string\""
        },
        {
         "metadata": "{\"__autoGeneratedAlias\":\"true\"}",
         "name": "sum(salary)",
         "type": "\"long\""
        }
       ],
       "type": "table"
      }
     },
     "output_type": "display_data"
    }
   ],
   "source": [
    "%sql\n",
    "select *, sum(salary) from employees group by id, name, age, salary, department, location"
   ]
  },
  {
   "cell_type": "code",
   "execution_count": 0,
   "metadata": {
    "application/vnd.databricks.v1+cell": {
     "cellMetadata": {
      "byteLimit": 2048000,
      "implicitDf": true,
      "rowLimit": 10000
     },
     "inputWidgets": {},
     "nuid": "153e9161-0724-4af0-a3d3-61a5c622a005",
     "showTitle": false,
     "tableResultSettingsMap": {},
     "title": ""
    }
   },
   "outputs": [
    {
     "output_type": "display_data",
     "data": {
      "text/html": [
       "<style scoped>\n",
       "  .table-result-container {\n",
       "    max-height: 300px;\n",
       "    overflow: auto;\n",
       "  }\n",
       "  table, th, td {\n",
       "    border: 1px solid black;\n",
       "    border-collapse: collapse;\n",
       "  }\n",
       "  th, td {\n",
       "    padding: 5px;\n",
       "  }\n",
       "  th {\n",
       "    text-align: left;\n",
       "  }\n",
       "</style><div class='table-result-container'><table class='table-result'><thead style='background-color: white'><tr><th>id</th><th>name</th><th>age</th><th>salary</th><th>department</th><th>location</th><th>total_salary</th></tr></thead><tbody><tr><td>1</td><td>giri</td><td>34</td><td>450000</td><td>Data Analytics</td><td>Bangalore</td><td>1430000</td></tr><tr><td>2</td><td>mahi</td><td>45</td><td>55000</td><td>Software</td><td>Chennai</td><td>1430000</td></tr><tr><td>3</td><td>sam</td><td>56</td><td>670000</td><td>Data Analytics</td><td>Bangalore</td><td>1430000</td></tr><tr><td>4</td><td>hari</td><td>67</td><td>90000</td><td>Data Science</td><td>Pune</td><td>1430000</td></tr><tr><td>5</td><td>ravesh</td><td>42</td><td>76000</td><td>Data Science</td><td>Pune</td><td>1430000</td></tr><tr><td>6</td><td>yoganand</td><td>56</td><td>89000</td><td>Software</td><td>Chennai</td><td>1430000</td></tr></tbody></table></div>"
      ]
     },
     "metadata": {
      "application/vnd.databricks.v1+output": {
       "addedWidgets": {},
       "aggData": [],
       "aggError": "",
       "aggOverflow": false,
       "aggSchema": [],
       "aggSeriesLimitReached": false,
       "aggType": "",
       "arguments": {},
       "columnCustomDisplayInfos": {},
       "data": [
        [
         1,
         "giri",
         34,
         450000,
         "Data Analytics",
         "Bangalore",
         1430000
        ],
        [
         2,
         "mahi",
         45,
         55000,
         "Software",
         "Chennai",
         1430000
        ],
        [
         3,
         "sam",
         56,
         670000,
         "Data Analytics",
         "Bangalore",
         1430000
        ],
        [
         4,
         "hari",
         67,
         90000,
         "Data Science",
         "Pune",
         1430000
        ],
        [
         5,
         "ravesh",
         42,
         76000,
         "Data Science",
         "Pune",
         1430000
        ],
        [
         6,
         "yoganand",
         56,
         89000,
         "Software",
         "Chennai",
         1430000
        ]
       ],
       "datasetInfos": [],
       "dbfsResultPath": null,
       "isJsonSchema": true,
       "metadata": {},
       "overflow": false,
       "plotOptions": {
        "customPlotOptions": {},
        "displayType": "table",
        "pivotAggregation": null,
        "pivotColumns": null,
        "xColumns": null,
        "yColumns": null
       },
       "removedWidgets": [],
       "schema": [
        {
         "metadata": "{}",
         "name": "id",
         "type": "\"integer\""
        },
        {
         "metadata": "{}",
         "name": "name",
         "type": "\"string\""
        },
        {
         "metadata": "{}",
         "name": "age",
         "type": "\"integer\""
        },
        {
         "metadata": "{}",
         "name": "salary",
         "type": "\"integer\""
        },
        {
         "metadata": "{}",
         "name": "department",
         "type": "\"string\""
        },
        {
         "metadata": "{}",
         "name": "location",
         "type": "\"string\""
        },
        {
         "metadata": "{}",
         "name": "total_salary",
         "type": "\"long\""
        }
       ],
       "type": "table"
      }
     },
     "output_type": "display_data"
    }
   ],
   "source": [
    "%sql\n",
    "select *, sum(salary) over() as total_salary from employees "
   ]
  },
  {
   "cell_type": "code",
   "execution_count": 0,
   "metadata": {
    "application/vnd.databricks.v1+cell": {
     "cellMetadata": {
      "byteLimit": 2048000,
      "implicitDf": true,
      "rowLimit": 10000
     },
     "inputWidgets": {},
     "nuid": "73c84243-bea4-4f36-8080-5b37fa45ede6",
     "showTitle": false,
     "tableResultSettingsMap": {},
     "title": ""
    }
   },
   "outputs": [
    {
     "output_type": "display_data",
     "data": {
      "text/html": [
       "<style scoped>\n",
       "  .table-result-container {\n",
       "    max-height: 300px;\n",
       "    overflow: auto;\n",
       "  }\n",
       "  table, th, td {\n",
       "    border: 1px solid black;\n",
       "    border-collapse: collapse;\n",
       "  }\n",
       "  th, td {\n",
       "    padding: 5px;\n",
       "  }\n",
       "  th {\n",
       "    text-align: left;\n",
       "  }\n",
       "</style><div class='table-result-container'><table class='table-result'><thead style='background-color: white'><tr><th>id</th><th>name</th><th>age</th><th>salary</th><th>department</th><th>location</th><th>rolling_totals</th></tr></thead><tbody><tr><td>6</td><td>yoganand</td><td>56</td><td>89000</td><td>Software</td><td>Chennai</td><td>89000</td></tr><tr><td>5</td><td>ravesh</td><td>42</td><td>76000</td><td>Data Science</td><td>Pune</td><td>165000</td></tr><tr><td>4</td><td>hari</td><td>67</td><td>90000</td><td>Data Science</td><td>Pune</td><td>255000</td></tr><tr><td>3</td><td>sam</td><td>56</td><td>670000</td><td>Data Analytics</td><td>Bangalore</td><td>925000</td></tr><tr><td>2</td><td>mahi</td><td>45</td><td>55000</td><td>Software</td><td>Chennai</td><td>980000</td></tr><tr><td>1</td><td>giri</td><td>34</td><td>450000</td><td>Data Analytics</td><td>Bangalore</td><td>1430000</td></tr></tbody></table></div>"
      ]
     },
     "metadata": {
      "application/vnd.databricks.v1+output": {
       "addedWidgets": {},
       "aggData": [],
       "aggError": "",
       "aggOverflow": false,
       "aggSchema": [],
       "aggSeriesLimitReached": false,
       "aggType": "",
       "arguments": {},
       "columnCustomDisplayInfos": {},
       "data": [
        [
         6,
         "yoganand",
         56,
         89000,
         "Software",
         "Chennai",
         89000
        ],
        [
         5,
         "ravesh",
         42,
         76000,
         "Data Science",
         "Pune",
         165000
        ],
        [
         4,
         "hari",
         67,
         90000,
         "Data Science",
         "Pune",
         255000
        ],
        [
         3,
         "sam",
         56,
         670000,
         "Data Analytics",
         "Bangalore",
         925000
        ],
        [
         2,
         "mahi",
         45,
         55000,
         "Software",
         "Chennai",
         980000
        ],
        [
         1,
         "giri",
         34,
         450000,
         "Data Analytics",
         "Bangalore",
         1430000
        ]
       ],
       "datasetInfos": [],
       "dbfsResultPath": null,
       "isJsonSchema": true,
       "metadata": {},
       "overflow": false,
       "plotOptions": {
        "customPlotOptions": {},
        "displayType": "table",
        "pivotAggregation": null,
        "pivotColumns": null,
        "xColumns": null,
        "yColumns": null
       },
       "removedWidgets": [],
       "schema": [
        {
         "metadata": "{}",
         "name": "id",
         "type": "\"integer\""
        },
        {
         "metadata": "{}",
         "name": "name",
         "type": "\"string\""
        },
        {
         "metadata": "{}",
         "name": "age",
         "type": "\"integer\""
        },
        {
         "metadata": "{}",
         "name": "salary",
         "type": "\"integer\""
        },
        {
         "metadata": "{}",
         "name": "department",
         "type": "\"string\""
        },
        {
         "metadata": "{}",
         "name": "location",
         "type": "\"string\""
        },
        {
         "metadata": "{}",
         "name": "rolling_totals",
         "type": "\"long\""
        }
       ],
       "type": "table"
      }
     },
     "output_type": "display_data"
    }
   ],
   "source": [
    "%sql\n",
    "select *, sum(salary) over(order by id desc) rolling_totals from employees"
   ]
  },
  {
   "cell_type": "code",
   "execution_count": 0,
   "metadata": {
    "application/vnd.databricks.v1+cell": {
     "cellMetadata": {
      "byteLimit": 2048000,
      "implicitDf": true,
      "rowLimit": 10000
     },
     "inputWidgets": {},
     "nuid": "2114e07d-9656-425e-8692-12db67cf5d9e",
     "showTitle": false,
     "tableResultSettingsMap": {},
     "title": ""
    }
   },
   "outputs": [
    {
     "output_type": "display_data",
     "data": {
      "text/html": [
       "<style scoped>\n",
       "  .table-result-container {\n",
       "    max-height: 300px;\n",
       "    overflow: auto;\n",
       "  }\n",
       "  table, th, td {\n",
       "    border: 1px solid black;\n",
       "    border-collapse: collapse;\n",
       "  }\n",
       "  th, td {\n",
       "    padding: 5px;\n",
       "  }\n",
       "  th {\n",
       "    text-align: left;\n",
       "  }\n",
       "</style><div class='table-result-container'><table class='table-result'><thead style='background-color: white'><tr><th>id</th><th>name</th><th>age</th><th>salary</th><th>department</th><th>location</th><th>rolling_totals</th></tr></thead><tbody><tr><td>1</td><td>giri</td><td>34</td><td>450000</td><td>Data Analytics</td><td>Bangalore</td><td>1430000</td></tr><tr><td>2</td><td>mahi</td><td>45</td><td>55000</td><td>Software</td><td>Chennai</td><td>1430000</td></tr><tr><td>3</td><td>sam</td><td>56</td><td>670000</td><td>Data Analytics</td><td>Bangalore</td><td>1430000</td></tr><tr><td>4</td><td>hari</td><td>67</td><td>90000</td><td>Data Science</td><td>Pune</td><td>1430000</td></tr><tr><td>5</td><td>ravesh</td><td>42</td><td>76000</td><td>Data Science</td><td>Pune</td><td>1430000</td></tr><tr><td>6</td><td>yoganand</td><td>56</td><td>89000</td><td>Software</td><td>Chennai</td><td>1430000</td></tr></tbody></table></div>"
      ]
     },
     "metadata": {
      "application/vnd.databricks.v1+output": {
       "addedWidgets": {},
       "aggData": [],
       "aggError": "",
       "aggOverflow": false,
       "aggSchema": [],
       "aggSeriesLimitReached": false,
       "aggType": "",
       "arguments": {},
       "columnCustomDisplayInfos": {},
       "data": [
        [
         1,
         "giri",
         34,
         450000,
         "Data Analytics",
         "Bangalore",
         1430000
        ],
        [
         2,
         "mahi",
         45,
         55000,
         "Software",
         "Chennai",
         1430000
        ],
        [
         3,
         "sam",
         56,
         670000,
         "Data Analytics",
         "Bangalore",
         1430000
        ],
        [
         4,
         "hari",
         67,
         90000,
         "Data Science",
         "Pune",
         1430000
        ],
        [
         5,
         "ravesh",
         42,
         76000,
         "Data Science",
         "Pune",
         1430000
        ],
        [
         6,
         "yoganand",
         56,
         89000,
         "Software",
         "Chennai",
         1430000
        ]
       ],
       "datasetInfos": [],
       "dbfsResultPath": null,
       "isJsonSchema": true,
       "metadata": {},
       "overflow": false,
       "plotOptions": {
        "customPlotOptions": {},
        "displayType": "table",
        "pivotAggregation": null,
        "pivotColumns": null,
        "xColumns": null,
        "yColumns": null
       },
       "removedWidgets": [],
       "schema": [
        {
         "metadata": "{}",
         "name": "id",
         "type": "\"integer\""
        },
        {
         "metadata": "{}",
         "name": "name",
         "type": "\"string\""
        },
        {
         "metadata": "{}",
         "name": "age",
         "type": "\"integer\""
        },
        {
         "metadata": "{}",
         "name": "salary",
         "type": "\"integer\""
        },
        {
         "metadata": "{}",
         "name": "department",
         "type": "\"string\""
        },
        {
         "metadata": "{}",
         "name": "location",
         "type": "\"string\""
        },
        {
         "metadata": "{}",
         "name": "rolling_totals",
         "type": "\"long\""
        }
       ],
       "type": "table"
      }
     },
     "output_type": "display_data"
    }
   ],
   "source": [
    "%sql\n",
    "select *, sum(salary) over() rolling_totals from employees"
   ]
  },
  {
   "cell_type": "code",
   "execution_count": 0,
   "metadata": {
    "application/vnd.databricks.v1+cell": {
     "cellMetadata": {
      "byteLimit": 2048000,
      "implicitDf": true,
      "rowLimit": 10000
     },
     "inputWidgets": {},
     "nuid": "04afba29-a914-43a8-bc96-9e05576532a5",
     "showTitle": false,
     "tableResultSettingsMap": {},
     "title": ""
    }
   },
   "outputs": [
    {
     "output_type": "display_data",
     "data": {
      "text/html": [
       "<style scoped>\n",
       "  .table-result-container {\n",
       "    max-height: 300px;\n",
       "    overflow: auto;\n",
       "  }\n",
       "  table, th, td {\n",
       "    border: 1px solid black;\n",
       "    border-collapse: collapse;\n",
       "  }\n",
       "  th, td {\n",
       "    padding: 5px;\n",
       "  }\n",
       "  th {\n",
       "    text-align: left;\n",
       "  }\n",
       "</style><div class='table-result-container'><table class='table-result'><thead style='background-color: white'><tr><th>id</th><th>name</th><th>age</th><th>salary</th><th>department</th><th>location</th><th>rolling_totals</th></tr></thead><tbody><tr><td>1</td><td>giri</td><td>34</td><td>450000</td><td>Data Analytics</td><td>Bangalore</td><td>1120000</td></tr><tr><td>3</td><td>sam</td><td>56</td><td>670000</td><td>Data Analytics</td><td>Bangalore</td><td>1120000</td></tr><tr><td>2</td><td>mahi</td><td>45</td><td>55000</td><td>Software</td><td>Chennai</td><td>144000</td></tr><tr><td>6</td><td>yoganand</td><td>56</td><td>89000</td><td>Software</td><td>Chennai</td><td>144000</td></tr><tr><td>4</td><td>hari</td><td>67</td><td>90000</td><td>Data Science</td><td>Pune</td><td>166000</td></tr><tr><td>5</td><td>ravesh</td><td>42</td><td>76000</td><td>Data Science</td><td>Pune</td><td>166000</td></tr></tbody></table></div>"
      ]
     },
     "metadata": {
      "application/vnd.databricks.v1+output": {
       "addedWidgets": {},
       "aggData": [],
       "aggError": "",
       "aggOverflow": false,
       "aggSchema": [],
       "aggSeriesLimitReached": false,
       "aggType": "",
       "arguments": {},
       "columnCustomDisplayInfos": {},
       "data": [
        [
         1,
         "giri",
         34,
         450000,
         "Data Analytics",
         "Bangalore",
         1120000
        ],
        [
         3,
         "sam",
         56,
         670000,
         "Data Analytics",
         "Bangalore",
         1120000
        ],
        [
         2,
         "mahi",
         45,
         55000,
         "Software",
         "Chennai",
         144000
        ],
        [
         6,
         "yoganand",
         56,
         89000,
         "Software",
         "Chennai",
         144000
        ],
        [
         4,
         "hari",
         67,
         90000,
         "Data Science",
         "Pune",
         166000
        ],
        [
         5,
         "ravesh",
         42,
         76000,
         "Data Science",
         "Pune",
         166000
        ]
       ],
       "datasetInfos": [],
       "dbfsResultPath": null,
       "isJsonSchema": true,
       "metadata": {},
       "overflow": false,
       "plotOptions": {
        "customPlotOptions": {},
        "displayType": "table",
        "pivotAggregation": null,
        "pivotColumns": null,
        "xColumns": null,
        "yColumns": null
       },
       "removedWidgets": [],
       "schema": [
        {
         "metadata": "{}",
         "name": "id",
         "type": "\"integer\""
        },
        {
         "metadata": "{}",
         "name": "name",
         "type": "\"string\""
        },
        {
         "metadata": "{}",
         "name": "age",
         "type": "\"integer\""
        },
        {
         "metadata": "{}",
         "name": "salary",
         "type": "\"integer\""
        },
        {
         "metadata": "{}",
         "name": "department",
         "type": "\"string\""
        },
        {
         "metadata": "{}",
         "name": "location",
         "type": "\"string\""
        },
        {
         "metadata": "{}",
         "name": "rolling_totals",
         "type": "\"long\""
        }
       ],
       "type": "table"
      }
     },
     "output_type": "display_data"
    }
   ],
   "source": [
    "%sql\n",
    "select *, sum(salary) over(partition by location) rolling_totals from employees"
   ]
  },
  {
   "cell_type": "code",
   "execution_count": 0,
   "metadata": {
    "application/vnd.databricks.v1+cell": {
     "cellMetadata": {
      "byteLimit": 2048000,
      "implicitDf": true,
      "rowLimit": 10000
     },
     "inputWidgets": {},
     "nuid": "6701fb53-3051-4d84-8b94-4f0289cf5ae3",
     "showTitle": false,
     "tableResultSettingsMap": {},
     "title": ""
    }
   },
   "outputs": [
    {
     "output_type": "display_data",
     "data": {
      "text/html": [
       "<style scoped>\n",
       "  .table-result-container {\n",
       "    max-height: 300px;\n",
       "    overflow: auto;\n",
       "  }\n",
       "  table, th, td {\n",
       "    border: 1px solid black;\n",
       "    border-collapse: collapse;\n",
       "  }\n",
       "  th, td {\n",
       "    padding: 5px;\n",
       "  }\n",
       "  th {\n",
       "    text-align: left;\n",
       "  }\n",
       "</style><div class='table-result-container'><table class='table-result'><thead style='background-color: white'><tr><th>id</th><th>name</th><th>age</th><th>salary</th><th>department</th><th>location</th><th>rolling_totals</th></tr></thead><tbody><tr><td>1</td><td>giri</td><td>34</td><td>450000</td><td>Data Analytics</td><td>Bangalore</td><td>450000</td></tr><tr><td>3</td><td>sam</td><td>56</td><td>670000</td><td>Data Analytics</td><td>Bangalore</td><td>1120000</td></tr><tr><td>4</td><td>hari</td><td>67</td><td>90000</td><td>Data Science</td><td>Pune</td><td>90000</td></tr><tr><td>5</td><td>ravesh</td><td>42</td><td>76000</td><td>Data Science</td><td>Pune</td><td>166000</td></tr><tr><td>2</td><td>mahi</td><td>45</td><td>55000</td><td>Software</td><td>Chennai</td><td>55000</td></tr><tr><td>6</td><td>yoganand</td><td>56</td><td>89000</td><td>Software</td><td>Chennai</td><td>144000</td></tr></tbody></table></div>"
      ]
     },
     "metadata": {
      "application/vnd.databricks.v1+output": {
       "addedWidgets": {},
       "aggData": [],
       "aggError": "",
       "aggOverflow": false,
       "aggSchema": [],
       "aggSeriesLimitReached": false,
       "aggType": "",
       "arguments": {},
       "columnCustomDisplayInfos": {},
       "data": [
        [
         1,
         "giri",
         34,
         450000,
         "Data Analytics",
         "Bangalore",
         450000
        ],
        [
         3,
         "sam",
         56,
         670000,
         "Data Analytics",
         "Bangalore",
         1120000
        ],
        [
         4,
         "hari",
         67,
         90000,
         "Data Science",
         "Pune",
         90000
        ],
        [
         5,
         "ravesh",
         42,
         76000,
         "Data Science",
         "Pune",
         166000
        ],
        [
         2,
         "mahi",
         45,
         55000,
         "Software",
         "Chennai",
         55000
        ],
        [
         6,
         "yoganand",
         56,
         89000,
         "Software",
         "Chennai",
         144000
        ]
       ],
       "datasetInfos": [],
       "dbfsResultPath": null,
       "isJsonSchema": true,
       "metadata": {},
       "overflow": false,
       "plotOptions": {
        "customPlotOptions": {},
        "displayType": "table",
        "pivotAggregation": null,
        "pivotColumns": null,
        "xColumns": null,
        "yColumns": null
       },
       "removedWidgets": [],
       "schema": [
        {
         "metadata": "{}",
         "name": "id",
         "type": "\"integer\""
        },
        {
         "metadata": "{}",
         "name": "name",
         "type": "\"string\""
        },
        {
         "metadata": "{}",
         "name": "age",
         "type": "\"integer\""
        },
        {
         "metadata": "{}",
         "name": "salary",
         "type": "\"integer\""
        },
        {
         "metadata": "{}",
         "name": "department",
         "type": "\"string\""
        },
        {
         "metadata": "{}",
         "name": "location",
         "type": "\"string\""
        },
        {
         "metadata": "{}",
         "name": "rolling_totals",
         "type": "\"long\""
        }
       ],
       "type": "table"
      }
     },
     "output_type": "display_data"
    }
   ],
   "source": [
    "%sql\n",
    "select *, sum(salary) over(partition by department order by id) rolling_totals from employees"
   ]
  },
  {
   "cell_type": "code",
   "execution_count": 0,
   "metadata": {
    "application/vnd.databricks.v1+cell": {
     "cellMetadata": {
      "byteLimit": 2048000,
      "rowLimit": 10000
     },
     "inputWidgets": {},
     "nuid": "0b65cc86-efa3-4f81-b25c-d3e6e2331648",
     "showTitle": false,
     "tableResultSettingsMap": {},
     "title": ""
    }
   },
   "outputs": [
    {
     "output_type": "stream",
     "name": "stdout",
     "output_type": "stream",
     "text": [
      "+---+--------+---+------+--------------+---------+\n| id|    name|age|salary|    department| location|\n+---+--------+---+------+--------------+---------+\n|  1|    giri| 34|450000|Data Analytics|Bangalore|\n|  2|    mahi| 45| 55000|      Software|  Chennai|\n|  3|     sam| 56|670000|Data Analytics|Bangalore|\n|  4|    hari| 67| 90000|  Data Science|     Pune|\n|  5|  ravesh| 42| 76000|  Data Science|     Pune|\n|  6|yoganand| 56| 89000|      Software|  Chennai|\n+---+--------+---+------+--------------+---------+\n\n"
     ]
    }
   ],
   "source": [
    "data_df.show()"
   ]
  },
  {
   "cell_type": "code",
   "execution_count": 0,
   "metadata": {
    "application/vnd.databricks.v1+cell": {
     "cellMetadata": {
      "byteLimit": 2048000,
      "rowLimit": 10000
     },
     "inputWidgets": {},
     "nuid": "d319a512-fa0c-4b1b-b1f6-50c38a88cf71",
     "showTitle": false,
     "tableResultSettingsMap": {},
     "title": ""
    }
   },
   "outputs": [],
   "source": [
    "from pyspark.sql.window import Window"
   ]
  },
  {
   "cell_type": "code",
   "execution_count": 0,
   "metadata": {
    "application/vnd.databricks.v1+cell": {
     "cellMetadata": {
      "byteLimit": 2048000,
      "rowLimit": 10000
     },
     "inputWidgets": {},
     "nuid": "8cedc549-c678-4038-a4d7-d06cb6ddacb0",
     "showTitle": false,
     "tableResultSettingsMap": {},
     "title": ""
    }
   },
   "outputs": [],
   "source": [
    "orderbyid = Window.orderBy()"
   ]
  },
  {
   "cell_type": "code",
   "execution_count": 0,
   "metadata": {
    "application/vnd.databricks.v1+cell": {
     "cellMetadata": {
      "byteLimit": 2048000,
      "rowLimit": 10000
     },
     "inputWidgets": {},
     "nuid": "b4c25857-7624-4655-bae3-69cc002f5c4b",
     "showTitle": false,
     "tableResultSettingsMap": {},
     "title": ""
    }
   },
   "outputs": [
    {
     "output_type": "stream",
     "name": "stdout",
     "output_type": "stream",
     "text": [
      "+---+--------+---+------+--------------+---------+------------+\n| id|    name|age|salary|    department| location|total_salary|\n+---+--------+---+------+--------------+---------+------------+\n|  1|    giri| 34|450000|Data Analytics|Bangalore|     1430000|\n|  2|    mahi| 45| 55000|      Software|  Chennai|     1430000|\n|  3|     sam| 56|670000|Data Analytics|Bangalore|     1430000|\n|  4|    hari| 67| 90000|  Data Science|     Pune|     1430000|\n|  5|  ravesh| 42| 76000|  Data Science|     Pune|     1430000|\n|  6|yoganand| 56| 89000|      Software|  Chennai|     1430000|\n+---+--------+---+------+--------------+---------+------------+\n\n"
     ]
    }
   ],
   "source": [
    "data_df.withColumn('total_salary', sum('salary').over(orderbyid)).show()"
   ]
  },
  {
   "cell_type": "code",
   "execution_count": 0,
   "metadata": {
    "application/vnd.databricks.v1+cell": {
     "cellMetadata": {
      "byteLimit": 2048000,
      "rowLimit": 10000
     },
     "inputWidgets": {},
     "nuid": "2e2deaff-428f-4cf0-8bab-bef9c52c1906",
     "showTitle": false,
     "tableResultSettingsMap": {},
     "title": ""
    }
   },
   "outputs": [],
   "source": [
    "orderbyid1 = Window.orderBy('id')"
   ]
  },
  {
   "cell_type": "code",
   "execution_count": 0,
   "metadata": {
    "application/vnd.databricks.v1+cell": {
     "cellMetadata": {
      "byteLimit": 2048000,
      "rowLimit": 10000
     },
     "inputWidgets": {},
     "nuid": "16eb102f-acaa-4e39-8442-092a0f247359",
     "showTitle": false,
     "tableResultSettingsMap": {},
     "title": ""
    }
   },
   "outputs": [
    {
     "output_type": "stream",
     "name": "stdout",
     "output_type": "stream",
     "text": [
      "+---+--------+---+------+--------------+---------+--------------+\n| id|    name|age|salary|    department| location|running_totals|\n+---+--------+---+------+--------------+---------+--------------+\n|  1|    giri| 34|450000|Data Analytics|Bangalore|        450000|\n|  2|    mahi| 45| 55000|      Software|  Chennai|        505000|\n|  3|     sam| 56|670000|Data Analytics|Bangalore|       1175000|\n|  4|    hari| 67| 90000|  Data Science|     Pune|       1265000|\n|  5|  ravesh| 42| 76000|  Data Science|     Pune|       1341000|\n|  6|yoganand| 56| 89000|      Software|  Chennai|       1430000|\n+---+--------+---+------+--------------+---------+--------------+\n\n"
     ]
    }
   ],
   "source": [
    "data_df.withColumn('running_totals', sum('salary').over(orderbyid1)).show()"
   ]
  },
  {
   "cell_type": "code",
   "execution_count": 0,
   "metadata": {
    "application/vnd.databricks.v1+cell": {
     "cellMetadata": {
      "byteLimit": 2048000,
      "rowLimit": 10000
     },
     "inputWidgets": {},
     "nuid": "702cb428-0c69-4969-a10c-e6e31936b743",
     "showTitle": false,
     "tableResultSettingsMap": {},
     "title": ""
    }
   },
   "outputs": [],
   "source": [
    "partitionbydept = Window.partitionBy('department')"
   ]
  },
  {
   "cell_type": "code",
   "execution_count": 0,
   "metadata": {
    "application/vnd.databricks.v1+cell": {
     "cellMetadata": {
      "byteLimit": 2048000,
      "rowLimit": 10000
     },
     "inputWidgets": {},
     "nuid": "c9622099-cfed-4839-a9a1-eabe801ae543",
     "showTitle": false,
     "tableResultSettingsMap": {},
     "title": ""
    }
   },
   "outputs": [
    {
     "output_type": "stream",
     "name": "stdout",
     "output_type": "stream",
     "text": [
      "+---+--------+---+------+--------------+---------+----------------------+\n| id|    name|age|salary|    department| location|dept_wise_total_salary|\n+---+--------+---+------+--------------+---------+----------------------+\n|  1|    giri| 34|450000|Data Analytics|Bangalore|               1120000|\n|  3|     sam| 56|670000|Data Analytics|Bangalore|               1120000|\n|  4|    hari| 67| 90000|  Data Science|     Pune|                166000|\n|  5|  ravesh| 42| 76000|  Data Science|     Pune|                166000|\n|  2|    mahi| 45| 55000|      Software|  Chennai|                144000|\n|  6|yoganand| 56| 89000|      Software|  Chennai|                144000|\n+---+--------+---+------+--------------+---------+----------------------+\n\n"
     ]
    }
   ],
   "source": [
    "data_df.withColumn('dept_wise_total_salary', sum('salary').over(partitionbydept)).show()"
   ]
  },
  {
   "cell_type": "code",
   "execution_count": 0,
   "metadata": {
    "application/vnd.databricks.v1+cell": {
     "cellMetadata": {
      "byteLimit": 2048000,
      "rowLimit": 10000
     },
     "inputWidgets": {},
     "nuid": "2f0bc343-a926-4027-b6dc-b38ec462b303",
     "showTitle": false,
     "tableResultSettingsMap": {},
     "title": ""
    }
   },
   "outputs": [
    {
     "output_type": "stream",
     "name": "stdout",
     "output_type": "stream",
     "text": [
      "+---+--------+---+------+--------------+---------+------------------------+\n| id|    name|age|salary|    department| location|dept_wise_running_totals|\n+---+--------+---+------+--------------+---------+------------------------+\n|  1|    giri| 34|450000|Data Analytics|Bangalore|                  450000|\n|  3|     sam| 56|670000|Data Analytics|Bangalore|                 1120000|\n|  4|    hari| 67| 90000|  Data Science|     Pune|                   90000|\n|  5|  ravesh| 42| 76000|  Data Science|     Pune|                  166000|\n|  2|    mahi| 45| 55000|      Software|  Chennai|                   55000|\n|  6|yoganand| 56| 89000|      Software|  Chennai|                  144000|\n+---+--------+---+------+--------------+---------+------------------------+\n\n"
     ]
    }
   ],
   "source": [
    "data_df.withColumn('dept_wise_running_totals', sum('salary').over(Window.partitionBy('department').orderBy('id'))).show()"
   ]
  },
  {
   "cell_type": "code",
   "execution_count": 0,
   "metadata": {
    "application/vnd.databricks.v1+cell": {
     "cellMetadata": {},
     "inputWidgets": {},
     "nuid": "7f844943-8a54-43eb-9542-063029f3899e",
     "showTitle": false,
     "tableResultSettingsMap": {},
     "title": ""
    }
   },
   "outputs": [],
   "source": []
  },
  {
   "cell_type": "code",
   "execution_count": 0,
   "metadata": {
    "application/vnd.databricks.v1+cell": {
     "cellMetadata": {
      "byteLimit": 2048000,
      "rowLimit": 10000
     },
     "inputWidgets": {},
     "nuid": "004fcc56-a143-4ee6-86ff-13be15e92d0a",
     "showTitle": false,
     "tableResultSettingsMap": {},
     "title": ""
    }
   },
   "outputs": [
    {
     "output_type": "stream",
     "name": "stdout",
     "output_type": "stream",
     "text": [
      "+---+--------+---+------+--------------+---------+------------+----------+----------+----------+\n| id|    name|age|salary|    department| location|total_salary|avg_salary|total_emps|min_salary|\n+---+--------+---+------+--------------+---------+------------+----------+----------+----------+\n|  1|    giri| 34|450000|Data Analytics|Bangalore|     1120000|  560000.0|         2|    450000|\n|  3|     sam| 56|670000|Data Analytics|Bangalore|     1120000|  560000.0|         2|    450000|\n|  4|    hari| 67| 90000|  Data Science|     Pune|      166000|   83000.0|         2|     76000|\n|  5|  ravesh| 42| 76000|  Data Science|     Pune|      166000|   83000.0|         2|     76000|\n|  2|    mahi| 45| 55000|      Software|  Chennai|      144000|   72000.0|         2|     55000|\n|  6|yoganand| 56| 89000|      Software|  Chennai|      144000|   72000.0|         2|     55000|\n+---+--------+---+------+--------------+---------+------------+----------+----------+----------+\n\n"
     ]
    }
   ],
   "source": [
    "data_df.withColumn(\n",
    "    'total_salary', sum('salary').over(partitionbydept))\\\n",
    "        .withColumn('avg_salary', avg('salary').over(partitionbydept))\\\n",
    "            .withColumn('total_emps', count('id').over(partitionbydept))\\\n",
    "                .withColumn('min_salary', min('salary').over(partitionbydept)).show()"
   ]
  },
  {
   "cell_type": "code",
   "execution_count": 0,
   "metadata": {
    "application/vnd.databricks.v1+cell": {
     "cellMetadata": {
      "byteLimit": 2048000,
      "rowLimit": 10000
     },
     "inputWidgets": {},
     "nuid": "9766b010-201b-49f8-946d-2d52fa3c0e33",
     "showTitle": false,
     "tableResultSettingsMap": {},
     "title": ""
    }
   },
   "outputs": [
    {
     "output_type": "stream",
     "name": "stdout",
     "output_type": "stream",
     "text": [
      "+---+--------+---+------+--------------+---------+\n| id|    name|age|salary|    department| location|\n+---+--------+---+------+--------------+---------+\n|  1|    giri| 34|450000|Data Analytics|Bangalore|\n|  2|    mahi| 45| 55000|      Software|  Chennai|\n|  3|     sam| 56|670000|Data Analytics|Bangalore|\n|  4|    hari| 67| 90000|  Data Science|     Pune|\n|  5|  ravesh| 42| 76000|  Data Science|     Pune|\n|  6|yoganand| 56| 89000|      Software|  Chennai|\n+---+--------+---+------+--------------+---------+\n\n"
     ]
    }
   ],
   "source": [
    "data_df.show()"
   ]
  },
  {
   "cell_type": "code",
   "execution_count": 0,
   "metadata": {
    "application/vnd.databricks.v1+cell": {
     "cellMetadata": {
      "byteLimit": 2048000,
      "rowLimit": 10000
     },
     "inputWidgets": {},
     "nuid": "cac3ed71-ae33-494c-b462-a993b82de0a9",
     "showTitle": false,
     "tableResultSettingsMap": {},
     "title": ""
    }
   },
   "outputs": [],
   "source": [
    "orderbysalarydesc = Window.orderBy(col('salary').desc())"
   ]
  },
  {
   "cell_type": "code",
   "execution_count": 0,
   "metadata": {
    "application/vnd.databricks.v1+cell": {
     "cellMetadata": {
      "byteLimit": 2048000,
      "rowLimit": 10000
     },
     "inputWidgets": {},
     "nuid": "da7158ca-7157-4241-85be-c9f1b0e533ce",
     "showTitle": false,
     "tableResultSettingsMap": {},
     "title": ""
    }
   },
   "outputs": [],
   "source": [
    "from pyspark.sql.functions import rank, dense_rank, row_number, lead, lag"
   ]
  },
  {
   "cell_type": "code",
   "execution_count": 0,
   "metadata": {
    "application/vnd.databricks.v1+cell": {
     "cellMetadata": {
      "byteLimit": 2048000,
      "rowLimit": 10000
     },
     "inputWidgets": {},
     "nuid": "0a874f6b-852b-49fe-8623-1a9df0c1f256",
     "showTitle": false,
     "tableResultSettingsMap": {},
     "title": ""
    }
   },
   "outputs": [
    {
     "output_type": "stream",
     "name": "stdout",
     "output_type": "stream",
     "text": [
      "+---+--------+---+------+--------------+---------+---+\n| id|    name|age|salary|    department| location|rnk|\n+---+--------+---+------+--------------+---------+---+\n|  3|     sam| 56|670000|Data Analytics|Bangalore|  1|\n|  1|    giri| 34|450000|Data Analytics|Bangalore|  2|\n|  4|    hari| 67| 90000|  Data Science|     Pune|  3|\n|  6|yoganand| 56| 89000|      Software|  Chennai|  4|\n|  5|  ravesh| 42| 76000|  Data Science|     Pune|  5|\n|  2|    mahi| 45| 55000|      Software|  Chennai|  6|\n+---+--------+---+------+--------------+---------+---+\n\n"
     ]
    }
   ],
   "source": [
    "data_df.withColumn('rnk', rank().over(orderbysalarydesc)).show()"
   ]
  },
  {
   "cell_type": "code",
   "execution_count": 0,
   "metadata": {
    "application/vnd.databricks.v1+cell": {
     "cellMetadata": {
      "byteLimit": 2048000,
      "rowLimit": 10000
     },
     "inputWidgets": {},
     "nuid": "f998402b-d412-408b-b213-c563d21c9ea1",
     "showTitle": false,
     "tableResultSettingsMap": {},
     "title": ""
    }
   },
   "outputs": [],
   "source": [
    "orderbysalaryasc = Window.orderBy(col('salary'))"
   ]
  },
  {
   "cell_type": "code",
   "execution_count": 0,
   "metadata": {
    "application/vnd.databricks.v1+cell": {
     "cellMetadata": {
      "byteLimit": 2048000,
      "rowLimit": 10000
     },
     "inputWidgets": {},
     "nuid": "e4b70b40-59df-4658-8b52-6031b34ed798",
     "showTitle": false,
     "tableResultSettingsMap": {},
     "title": ""
    }
   },
   "outputs": [],
   "source": [
    "adf = data_df.withColumn('rnk', rank().over(orderbysalaryasc))"
   ]
  },
  {
   "cell_type": "code",
   "execution_count": 0,
   "metadata": {
    "application/vnd.databricks.v1+cell": {
     "cellMetadata": {
      "byteLimit": 2048000,
      "rowLimit": 10000
     },
     "inputWidgets": {},
     "nuid": "bbb2aa69-8c0d-4d2b-95a5-08b3b19659be",
     "showTitle": false,
     "tableResultSettingsMap": {},
     "title": ""
    }
   },
   "outputs": [
    {
     "output_type": "stream",
     "name": "stdout",
     "output_type": "stream",
     "text": [
      "+---+----+---+------+----------+--------+---+\n| id|name|age|salary|department|location|rnk|\n+---+----+---+------+----------+--------+---+\n|  2|mahi| 45| 55000|  Software| Chennai|  1|\n+---+----+---+------+----------+--------+---+\n\n"
     ]
    }
   ],
   "source": [
    "adf.where(col('rnk')==1).show()"
   ]
  },
  {
   "cell_type": "code",
   "execution_count": 0,
   "metadata": {
    "application/vnd.databricks.v1+cell": {
     "cellMetadata": {
      "byteLimit": 2048000,
      "rowLimit": 10000
     },
     "inputWidgets": {},
     "nuid": "69752cc2-6e34-4f74-a304-ecdacad13943",
     "showTitle": false,
     "tableResultSettingsMap": {},
     "title": ""
    }
   },
   "outputs": [
    {
     "output_type": "stream",
     "name": "stdout",
     "output_type": "stream",
     "text": [
      "+---+--------+---+------+--------------+---------+\n| id|    name|age|salary|    department| location|\n+---+--------+---+------+--------------+---------+\n|  1|    giri| 34|450000|Data Analytics|Bangalore|\n|  2|    mahi| 45| 55000|      Software|  Chennai|\n|  3|     sam| 56|670000|Data Analytics|Bangalore|\n|  4|    hari| 67| 90000|  Data Science|     Pune|\n|  5|  ravesh| 42| 76000|  Data Science|     Pune|\n|  6|yoganand| 56| 89000|      Software|  Chennai|\n+---+--------+---+------+--------------+---------+\n\n"
     ]
    }
   ],
   "source": [
    "data_df.show()"
   ]
  },
  {
   "cell_type": "code",
   "execution_count": 0,
   "metadata": {
    "application/vnd.databricks.v1+cell": {
     "cellMetadata": {
      "byteLimit": 2048000,
      "rowLimit": 10000
     },
     "inputWidgets": {},
     "nuid": "124bb792-a8c5-4d1a-9e1c-e98062112f70",
     "showTitle": false,
     "tableResultSettingsMap": {},
     "title": ""
    }
   },
   "outputs": [
    {
     "output_type": "stream",
     "name": "stdout",
     "output_type": "stream",
     "text": [
      "+---+--------+---+------+--------------+---------+----+\n| id|    name|age|salary|    department| location|drnk|\n+---+--------+---+------+--------------+---------+----+\n|  2|    mahi| 45| 55000|      Software|  Chennai|   1|\n|  5|  ravesh| 42| 76000|  Data Science|     Pune|   2|\n|  6|yoganand| 56| 89000|      Software|  Chennai|   3|\n|  4|    hari| 67| 90000|  Data Science|     Pune|   4|\n|  1|    giri| 34|450000|Data Analytics|Bangalore|   5|\n|  3|     sam| 56|670000|Data Analytics|Bangalore|   6|\n+---+--------+---+------+--------------+---------+----+\n\n"
     ]
    }
   ],
   "source": [
    "data_df.withColumn('drnk', dense_rank().over(orderbysalaryasc)).show()"
   ]
  },
  {
   "cell_type": "code",
   "execution_count": 0,
   "metadata": {
    "application/vnd.databricks.v1+cell": {
     "cellMetadata": {
      "byteLimit": 2048000,
      "rowLimit": 10000
     },
     "inputWidgets": {},
     "nuid": "c8e2c8af-b5ce-4dd2-848f-3427b7e4f1b7",
     "showTitle": false,
     "tableResultSettingsMap": {},
     "title": ""
    }
   },
   "outputs": [],
   "source": [
    "dept_wise_orderbysalarydesc = Window.partitionBy('department').orderBy(col('salary').desc())"
   ]
  },
  {
   "cell_type": "code",
   "execution_count": 0,
   "metadata": {
    "application/vnd.databricks.v1+cell": {
     "cellMetadata": {
      "byteLimit": 2048000,
      "rowLimit": 10000
     },
     "inputWidgets": {},
     "nuid": "2b2c245e-201f-4b8e-8363-9c07c828904b",
     "showTitle": false,
     "tableResultSettingsMap": {},
     "title": ""
    }
   },
   "outputs": [
    {
     "output_type": "stream",
     "name": "stdout",
     "output_type": "stream",
     "text": [
      "+---+--------+---+------+--------------+---------+-----------------+\n| id|    name|age|salary|    department| location|dept_wise_ranking|\n+---+--------+---+------+--------------+---------+-----------------+\n|  3|     sam| 56|670000|Data Analytics|Bangalore|                1|\n|  1|    giri| 34|450000|Data Analytics|Bangalore|                2|\n|  4|    hari| 67| 90000|  Data Science|     Pune|                1|\n|  5|  ravesh| 42| 76000|  Data Science|     Pune|                2|\n|  6|yoganand| 56| 89000|      Software|  Chennai|                1|\n|  2|    mahi| 45| 55000|      Software|  Chennai|                2|\n+---+--------+---+------+--------------+---------+-----------------+\n\n"
     ]
    }
   ],
   "source": [
    "data_df.withColumn('dept_wise_ranking', dense_rank().over(dept_wise_orderbysalarydesc)).show()"
   ]
  },
  {
   "cell_type": "code",
   "execution_count": 0,
   "metadata": {
    "application/vnd.databricks.v1+cell": {
     "cellMetadata": {
      "byteLimit": 2048000,
      "rowLimit": 10000
     },
     "inputWidgets": {},
     "nuid": "ca601f33-78a3-4473-85aa-a00ca5f410a4",
     "showTitle": false,
     "tableResultSettingsMap": {},
     "title": ""
    }
   },
   "outputs": [
    {
     "output_type": "stream",
     "name": "stdout",
     "output_type": "stream",
     "text": [
      "+---+--------+---+------+--------------+---------+---+----+---+\n| id|    name|age|salary|    department| location|rnk|drnk| rn|\n+---+--------+---+------+--------------+---------+---+----+---+\n|  3|     sam| 56|670000|Data Analytics|Bangalore|  1|   1|  1|\n|  1|    giri| 34|450000|Data Analytics|Bangalore|  2|   2|  2|\n|  4|    hari| 67| 90000|  Data Science|     Pune|  3|   3|  3|\n|  6|yoganand| 56| 89000|      Software|  Chennai|  4|   4|  4|\n|  5|  ravesh| 42| 76000|  Data Science|     Pune|  5|   5|  5|\n|  2|    mahi| 45| 55000|      Software|  Chennai|  6|   6|  6|\n+---+--------+---+------+--------------+---------+---+----+---+\n\n"
     ]
    }
   ],
   "source": [
    "data_df.withColumn('rnk', rank().over(orderbysalarydesc))\\\n",
    "    .withColumn('drnk', dense_rank().over(orderbysalarydesc))\\\n",
    "        .withColumn('rn', row_number().over(orderbysalarydesc)).show()"
   ]
  },
  {
   "cell_type": "code",
   "execution_count": 0,
   "metadata": {
    "application/vnd.databricks.v1+cell": {
     "cellMetadata": {
      "byteLimit": 2048000,
      "rowLimit": 10000
     },
     "inputWidgets": {},
     "nuid": "80255163-ddd8-4533-ac78-a129c69fddbb",
     "showTitle": false,
     "tableResultSettingsMap": {},
     "title": ""
    }
   },
   "outputs": [
    {
     "output_type": "stream",
     "name": "stdout",
     "output_type": "stream",
     "text": [
      "+---+--------+---+------+--------------+---------+------------+------------+\n| id|    name|age|salary|    department| location|next_emp_age|prev_emp_age|\n+---+--------+---+------+--------------+---------+------------+------------+\n|  1|    giri| 34|450000|Data Analytics|Bangalore|          56|        null|\n|  3|     sam| 56|670000|Data Analytics|Bangalore|        null|          34|\n|  4|    hari| 67| 90000|  Data Science|     Pune|          42|        null|\n|  5|  ravesh| 42| 76000|  Data Science|     Pune|        null|          67|\n|  2|    mahi| 45| 55000|      Software|  Chennai|          56|        null|\n|  6|yoganand| 56| 89000|      Software|  Chennai|        null|          45|\n+---+--------+---+------+--------------+---------+------------+------------+\n\n"
     ]
    }
   ],
   "source": [
    "data_df.withColumn('next_emp_age', lead('age').over(Window.partitionBy('department').orderBy('id')))\\\n",
    "    .withColumn('prev_emp_age', lag('age').over(Window.partitionBy('department').orderBy('id'))).show()"
   ]
  },
  {
   "cell_type": "code",
   "execution_count": 0,
   "metadata": {
    "application/vnd.databricks.v1+cell": {
     "cellMetadata": {},
     "inputWidgets": {},
     "nuid": "7183a346-8e03-4a2c-8a57-cc5a5b20874b",
     "showTitle": false,
     "tableResultSettingsMap": {},
     "title": ""
    }
   },
   "outputs": [],
   "source": []
  }
 ],
 "metadata": {
  "application/vnd.databricks.v1+notebook": {
   "computePreferences": null,
   "dashboards": [],
   "environmentMetadata": {
    "base_environment": "",
    "environment_version": "1"
   },
   "inputWidgetPreferences": null,
   "language": "python",
   "notebookMetadata": {
    "mostRecentlyExecutedCommandWithImplicitDF": {
     "commandId": 860406635010747,
     "dataframes": [
      "_sqldf"
     ]
    },
    "pythonIndentUnit": 4
   },
   "notebookName": "pyspark_scripting",
   "widgets": {}
  }
 },
 "nbformat": 4,
 "nbformat_minor": 0
}