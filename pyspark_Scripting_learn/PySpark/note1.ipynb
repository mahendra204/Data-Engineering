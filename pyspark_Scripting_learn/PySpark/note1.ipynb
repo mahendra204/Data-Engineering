{
 "cells": [
  {
   "cell_type": "code",
   "execution_count": 0,
   "metadata": {
    "application/vnd.databricks.v1+cell": {
     "cellMetadata": {
      "byteLimit": 2048000,
      "rowLimit": 10000
     },
     "inputWidgets": {},
     "nuid": "8a9749d3-a146-4291-b293-fa01bf49259f",
     "showTitle": false,
     "tableResultSettingsMap": {},
     "title": ""
    }
   },
   "outputs": [],
   "source": [
    "dfp=spark.read.csv(['dbfs:/FileStore/tables/Products_Updated-1.csv', 'dbfs:/FileStore/tables/Products_Updated.csv']\n",
    "    , header = True)"
   ]
  },
  {
   "cell_type": "code",
   "execution_count": 0,
   "metadata": {
    "application/vnd.databricks.v1+cell": {
     "cellMetadata": {
      "byteLimit": 2048000,
      "rowLimit": 10000
     },
     "inputWidgets": {},
     "nuid": "8274e5c4-6bb2-4265-bbd0-7ce319698d43",
     "showTitle": false,
     "tableResultSettingsMap": {},
     "title": ""
    }
   },
   "outputs": [
    {
     "output_type": "stream",
     "name": "stdout",
     "output_type": "stream",
     "text": [
      "+----------+------------+----------+-----+\n|product_id|product_name|  category|price|\n+----------+------------+----------+-----+\n|         5|   iPhone SE|Smartphone|  450|\n|         6| AirPods Pro| Accessory|  250|\n|         7| MacBook Air|    Laptop| 1000|\n|         8|   iPad Mini|    Tablet|  400|\n|         5|   iPhone SE|Smartphone|  450|\n|         6| AirPods Pro| Accessory|  250|\n|         7| MacBook Air|    Laptop| 1000|\n|         8|   iPad Mini|    Tablet|  400|\n+----------+------------+----------+-----+\n\n"
     ]
    }
   ],
   "source": [
    "dfp.show()"
   ]
  },
  {
   "cell_type": "code",
   "execution_count": 0,
   "metadata": {
    "application/vnd.databricks.v1+cell": {
     "cellMetadata": {
      "byteLimit": 2048000,
      "rowLimit": 10000
     },
     "inputWidgets": {},
     "nuid": "cf7d9694-7b49-43ce-887d-5705898a02dd",
     "showTitle": false,
     "tableResultSettingsMap": {},
     "title": ""
    }
   },
   "outputs": [],
   "source": [
    "dfp.write.parquet('FileStore/parquet', mode='overwrite')"
   ]
  },
  {
   "cell_type": "code",
   "execution_count": 0,
   "metadata": {
    "application/vnd.databricks.v1+cell": {
     "cellMetadata": {
      "byteLimit": 2048000,
      "rowLimit": 10000
     },
     "inputWidgets": {},
     "nuid": "9cbe1843-96fa-4aa2-ae5c-ea0f0c46890b",
     "showTitle": false,
     "tableResultSettingsMap": {},
     "title": ""
    }
   },
   "outputs": [
    {
     "output_type": "stream",
     "name": "stdout",
     "output_type": "stream",
     "text": [
      "+----------+------------+----------+-----+\n|product_id|product_name|category  |price|\n+----------+------------+----------+-----+\n|5         |iPhone SE   |Smartphone|450  |\n|6         |AirPods Pro |Accessory |250  |\n|7         |MacBook Air |Laptop    |1000 |\n|8         |iPad Mini   |Tablet    |400  |\n+----------+------------+----------+-----+\nonly showing top 4 rows\n\n"
     ]
    }
   ],
   "source": [
    "spark.read.parquet('/FileStore/parquet').show(n=4, truncate=False)"
   ]
  },
  {
   "cell_type": "code",
   "execution_count": 0,
   "metadata": {
    "application/vnd.databricks.v1+cell": {
     "cellMetadata": {
      "byteLimit": 2048000,
      "rowLimit": 10000
     },
     "inputWidgets": {},
     "nuid": "52e499a2-87c0-4f0d-a4d9-ac09944d59f6",
     "showTitle": false,
     "tableResultSettingsMap": {},
     "title": ""
    }
   },
   "outputs": [
    {
     "output_type": "display_data",
     "data": {
      "text/html": [
       "\n",
       "            <div>\n",
       "                <p><b>SparkSession - hive</b></p>\n",
       "                \n",
       "        <div>\n",
       "            <p><b>SparkContext</b></p>\n",
       "\n",
       "            <p><a href=\"/?o=1824351176594440#setting/sparkui/0410-085814-k6b40oeb/driver-1168501950869914184\">Spark UI</a></p>\n",
       "\n",
       "            <dl>\n",
       "              <dt>Version</dt>\n",
       "                <dd><code>v3.3.2</code></dd>\n",
       "              <dt>Master</dt>\n",
       "                <dd><code>local[8]</code></dd>\n",
       "              <dt>AppName</dt>\n",
       "                <dd><code>Databricks Shell</code></dd>\n",
       "            </dl>\n",
       "        </div>\n",
       "        \n",
       "            </div>\n",
       "        "
      ]
     },
     "metadata": {
      "application/vnd.databricks.v1+output": {
       "addedWidgets": {},
       "arguments": {},
       "data": "\n            <div>\n                <p><b>SparkSession - hive</b></p>\n                \n        <div>\n            <p><b>SparkContext</b></p>\n\n            <p><a href=\"/?o=1824351176594440#setting/sparkui/0410-085814-k6b40oeb/driver-1168501950869914184\">Spark UI</a></p>\n\n            <dl>\n              <dt>Version</dt>\n                <dd><code>v3.3.2</code></dd>\n              <dt>Master</dt>\n                <dd><code>local[8]</code></dd>\n              <dt>AppName</dt>\n                <dd><code>Databricks Shell</code></dd>\n            </dl>\n        </div>\n        \n            </div>\n        ",
       "datasetInfos": [],
       "metadata": {},
       "removedWidgets": [],
       "textData": null,
       "type": "htmlSandbox"
      }
     },
     "output_type": "display_data"
    }
   ],
   "source": [
    "spark"
   ]
  },
  {
   "cell_type": "code",
   "execution_count": 0,
   "metadata": {
    "application/vnd.databricks.v1+cell": {
     "cellMetadata": {
      "byteLimit": 2048000,
      "rowLimit": 10000
     },
     "inputWidgets": {},
     "nuid": "ac4d029d-9ee3-4232-8966-3f180e9095e7",
     "showTitle": false,
     "tableResultSettingsMap": {},
     "title": ""
    }
   },
   "outputs": [],
   "source": [
    "from pyspark import SparkContext\n",
    "a=sc.parallelize([1,2,3,4])"
   ]
  },
  {
   "cell_type": "code",
   "execution_count": 0,
   "metadata": {
    "application/vnd.databricks.v1+cell": {
     "cellMetadata": {
      "byteLimit": 2048000,
      "rowLimit": 10000
     },
     "inputWidgets": {},
     "nuid": "1e899f5b-35c3-4423-bfb8-e8cf984add95",
     "showTitle": false,
     "tableResultSettingsMap": {},
     "title": ""
    }
   },
   "outputs": [
    {
     "output_type": "stream",
     "name": "stdout",
     "output_type": "stream",
     "text": [
      "Out[58]: [1, 2, 3, 4]"
     ]
    }
   ],
   "source": [
    "a.collect()"
   ]
  },
  {
   "cell_type": "code",
   "execution_count": 0,
   "metadata": {
    "application/vnd.databricks.v1+cell": {
     "cellMetadata": {
      "byteLimit": 2048000,
      "rowLimit": 10000
     },
     "inputWidgets": {},
     "nuid": "7061ddca-8103-4015-9672-b03b9908dfa6",
     "showTitle": false,
     "tableResultSettingsMap": {},
     "title": ""
    }
   },
   "outputs": [
    {
     "output_type": "stream",
     "name": "stdout",
     "output_type": "stream",
     "text": [
      "Out[59]: 8"
     ]
    }
   ],
   "source": [
    "a.getNumPartitions()"
   ]
  },
  {
   "cell_type": "code",
   "execution_count": 0,
   "metadata": {
    "application/vnd.databricks.v1+cell": {
     "cellMetadata": {
      "byteLimit": 2048000,
      "rowLimit": 10000
     },
     "inputWidgets": {},
     "nuid": "758a5129-bd1a-4934-9057-0433b5874d61",
     "showTitle": false,
     "tableResultSettingsMap": {},
     "title": ""
    }
   },
   "outputs": [],
   "source": [
    "data = [(1, 'yogesh', 40, 50000, 'Data', 4), (2, 'hari', 50, 30000, 'Test', 2),\n",
    "    (3, 'gowri', 34, 63000, 'Data Analytics', 1), (4, 'umesh', 42, 78000, 'Data', 2),(5, 'teju', 24, 43000, 'Finance', 1)]\n",
    "schema = ['id', 'name', 'age', 'salary', 'department', 'manager_id']"
   ]
  },
  {
   "cell_type": "code",
   "execution_count": 0,
   "metadata": {
    "application/vnd.databricks.v1+cell": {
     "cellMetadata": {
      "byteLimit": 2048000,
      "rowLimit": 10000
     },
     "inputWidgets": {},
     "nuid": "d6711646-8b19-4fc7-aad1-4c967a437be5",
     "showTitle": false,
     "tableResultSettingsMap": {},
     "title": ""
    }
   },
   "outputs": [],
   "source": [
    "df = spark.createDataFrame(data, schema=schema)"
   ]
  },
  {
   "cell_type": "code",
   "execution_count": 0,
   "metadata": {
    "application/vnd.databricks.v1+cell": {
     "cellMetadata": {
      "byteLimit": 2048000,
      "rowLimit": 10000
     },
     "inputWidgets": {},
     "nuid": "eb66b3f8-d861-4743-82b8-3baee10ed13b",
     "showTitle": false,
     "tableResultSettingsMap": {},
     "title": ""
    }
   },
   "outputs": [
    {
     "output_type": "stream",
     "name": "stdout",
     "output_type": "stream",
     "text": [
      "Out[62]: pyspark.sql.dataframe.DataFrame"
     ]
    }
   ],
   "source": [
    "type(df)"
   ]
  },
  {
   "cell_type": "code",
   "execution_count": 0,
   "metadata": {
    "application/vnd.databricks.v1+cell": {
     "cellMetadata": {
      "byteLimit": 2048000,
      "rowLimit": 10000
     },
     "inputWidgets": {},
     "nuid": "03caa7a4-eb19-4aea-be1e-98d63dab41b9",
     "showTitle": false,
     "tableResultSettingsMap": {},
     "title": ""
    }
   },
   "outputs": [
    {
     "output_type": "stream",
     "name": "stdout",
     "output_type": "stream",
     "text": [
      "+---+------+---+------+--------------+----------+\n| id|  name|age|salary|    department|manager_id|\n+---+------+---+------+--------------+----------+\n|  1|yogesh| 40| 50000|          Data|         4|\n|  2|  hari| 50| 30000|          Test|         2|\n|  3| gowri| 34| 63000|Data Analytics|         1|\n|  4| umesh| 42| 78000|          Data|         2|\n|  5|  teju| 24| 43000|       Finance|         1|\n+---+------+---+------+--------------+----------+\n\n"
     ]
    }
   ],
   "source": [
    "df.show()"
   ]
  },
  {
   "cell_type": "code",
   "execution_count": 0,
   "metadata": {
    "application/vnd.databricks.v1+cell": {
     "cellMetadata": {
      "byteLimit": 2048000,
      "rowLimit": 10000
     },
     "inputWidgets": {},
     "nuid": "08d861df-5a2a-4318-86e1-0b98d7926393",
     "showTitle": false,
     "tableResultSettingsMap": {},
     "title": ""
    }
   },
   "outputs": [
    {
     "output_type": "stream",
     "name": "stdout",
     "output_type": "stream",
     "text": [
      "+---+------+---+------+--------------+----------+\n| id|  name|age|salary|    department|manager_id|\n+---+------+---+------+--------------+----------+\n|  1|yogesh| 40| 50000|          Data|         4|\n|  2|  hari| 50| 30000|          Test|         2|\n|  3| gowri| 34| 63000|Data Analytics|         1|\n+---+------+---+------+--------------+----------+\nonly showing top 3 rows\n\n"
     ]
    }
   ],
   "source": [
    "df.show(n=3, truncate=True)"
   ]
  },
  {
   "cell_type": "code",
   "execution_count": 0,
   "metadata": {
    "application/vnd.databricks.v1+cell": {
     "cellMetadata": {
      "byteLimit": 2048000,
      "rowLimit": 10000
     },
     "inputWidgets": {},
     "nuid": "f18bea4f-eb9d-4f40-b017-05c0e7dfb7fb",
     "showTitle": false,
     "tableResultSettingsMap": {},
     "title": ""
    }
   },
   "outputs": [],
   "source": [
    "a = df.tail(3)"
   ]
  },
  {
   "cell_type": "code",
   "execution_count": 0,
   "metadata": {
    "application/vnd.databricks.v1+cell": {
     "cellMetadata": {
      "byteLimit": 2048000,
      "rowLimit": 10000
     },
     "inputWidgets": {},
     "nuid": "dbc30bf1-e727-4cef-aa71-efaf06c8411d",
     "showTitle": false,
     "tableResultSettingsMap": {},
     "title": ""
    }
   },
   "outputs": [
    {
     "output_type": "stream",
     "name": "stdout",
     "output_type": "stream",
     "text": [
      "+---+-----+---+------+--------------+----------+\n| id| name|age|salary|    department|manager_id|\n+---+-----+---+------+--------------+----------+\n|  3|gowri| 34| 63000|Data Analytics|         1|\n|  4|umesh| 42| 78000|          Data|         2|\n|  5| teju| 24| 43000|       Finance|         1|\n+---+-----+---+------+--------------+----------+\n\n"
     ]
    }
   ],
   "source": [
    "spark.createDataFrame(a).show()"
   ]
  },
  {
   "cell_type": "code",
   "execution_count": 0,
   "metadata": {
    "application/vnd.databricks.v1+cell": {
     "cellMetadata": {
      "byteLimit": 2048000,
      "rowLimit": 10000
     },
     "inputWidgets": {},
     "nuid": "7e9d5d51-9249-4195-a108-db9287d8e88a",
     "showTitle": false,
     "tableResultSettingsMap": {},
     "title": ""
    }
   },
   "outputs": [
    {
     "output_type": "display_data",
     "data": {
      "text/html": [
       "<style scoped>\n",
       "  .table-result-container {\n",
       "    max-height: 300px;\n",
       "    overflow: auto;\n",
       "  }\n",
       "  table, th, td {\n",
       "    border: 1px solid black;\n",
       "    border-collapse: collapse;\n",
       "  }\n",
       "  th, td {\n",
       "    padding: 5px;\n",
       "  }\n",
       "  th {\n",
       "    text-align: left;\n",
       "  }\n",
       "</style><div class='table-result-container'><table class='table-result'><thead style='background-color: white'><tr><th>id</th><th>name</th><th>age</th><th>salary</th><th>department</th><th>manager_id</th></tr></thead><tbody><tr><td>3</td><td>gowri</td><td>34</td><td>63000</td><td>Data Analytics</td><td>1</td></tr><tr><td>4</td><td>umesh</td><td>42</td><td>78000</td><td>Data</td><td>2</td></tr><tr><td>5</td><td>teju</td><td>24</td><td>43000</td><td>Finance</td><td>1</td></tr></tbody></table></div>"
      ]
     },
     "metadata": {
      "application/vnd.databricks.v1+output": {
       "addedWidgets": {},
       "aggData": [],
       "aggError": "",
       "aggOverflow": false,
       "aggSchema": [],
       "aggSeriesLimitReached": false,
       "aggType": "",
       "arguments": {},
       "columnCustomDisplayInfos": {},
       "data": [
        [
         3,
         "gowri",
         34,
         63000,
         "Data Analytics",
         1
        ],
        [
         4,
         "umesh",
         42,
         78000,
         "Data",
         2
        ],
        [
         5,
         "teju",
         24,
         43000,
         "Finance",
         1
        ]
       ],
       "datasetInfos": [],
       "dbfsResultPath": null,
       "isJsonSchema": true,
       "metadata": {},
       "overflow": false,
       "plotOptions": {
        "customPlotOptions": {},
        "displayType": "table",
        "pivotAggregation": null,
        "pivotColumns": null,
        "xColumns": null,
        "yColumns": null
       },
       "removedWidgets": [],
       "schema": [
        {
         "metadata": "{}",
         "name": "id",
         "type": "\"long\""
        },
        {
         "metadata": "{}",
         "name": "name",
         "type": "\"string\""
        },
        {
         "metadata": "{}",
         "name": "age",
         "type": "\"long\""
        },
        {
         "metadata": "{}",
         "name": "salary",
         "type": "\"long\""
        },
        {
         "metadata": "{}",
         "name": "department",
         "type": "\"string\""
        },
        {
         "metadata": "{}",
         "name": "manager_id",
         "type": "\"long\""
        }
       ],
       "type": "table"
      }
     },
     "output_type": "display_data"
    }
   ],
   "source": [
    "spark.createDataFrame(a).display()"
   ]
  },
  {
   "cell_type": "code",
   "execution_count": 0,
   "metadata": {
    "application/vnd.databricks.v1+cell": {
     "cellMetadata": {
      "byteLimit": 2048000,
      "rowLimit": 10000
     },
     "inputWidgets": {},
     "nuid": "74794550-d281-430e-b555-1a3505629a96",
     "showTitle": false,
     "tableResultSettingsMap": {},
     "title": ""
    }
   },
   "outputs": [
    {
     "output_type": "display_data",
     "data": {
      "text/html": [
       "<style scoped>\n",
       "  .table-result-container {\n",
       "    max-height: 300px;\n",
       "    overflow: auto;\n",
       "  }\n",
       "  table, th, td {\n",
       "    border: 1px solid black;\n",
       "    border-collapse: collapse;\n",
       "  }\n",
       "  th, td {\n",
       "    padding: 5px;\n",
       "  }\n",
       "  th {\n",
       "    text-align: left;\n",
       "  }\n",
       "</style><div class='table-result-container'><table class='table-result'><thead style='background-color: white'><tr><th>id</th><th>name</th><th>age</th><th>salary</th><th>department</th><th>manager_id</th></tr></thead><tbody><tr><td>1</td><td>yogesh</td><td>40</td><td>50000</td><td>Data</td><td>4</td></tr><tr><td>2</td><td>hari</td><td>50</td><td>30000</td><td>Test</td><td>2</td></tr><tr><td>3</td><td>gowri</td><td>34</td><td>63000</td><td>Data Analytics</td><td>1</td></tr><tr><td>4</td><td>umesh</td><td>42</td><td>78000</td><td>Data</td><td>2</td></tr><tr><td>5</td><td>teju</td><td>24</td><td>43000</td><td>Finance</td><td>1</td></tr></tbody></table></div>"
      ]
     },
     "metadata": {
      "application/vnd.databricks.v1+output": {
       "addedWidgets": {},
       "aggData": [],
       "aggError": "",
       "aggOverflow": false,
       "aggSchema": [],
       "aggSeriesLimitReached": false,
       "aggType": "",
       "arguments": {},
       "columnCustomDisplayInfos": {},
       "data": [
        [
         1,
         "yogesh",
         40,
         50000,
         "Data",
         4
        ],
        [
         2,
         "hari",
         50,
         30000,
         "Test",
         2
        ],
        [
         3,
         "gowri",
         34,
         63000,
         "Data Analytics",
         1
        ],
        [
         4,
         "umesh",
         42,
         78000,
         "Data",
         2
        ],
        [
         5,
         "teju",
         24,
         43000,
         "Finance",
         1
        ]
       ],
       "datasetInfos": [],
       "dbfsResultPath": null,
       "isJsonSchema": true,
       "metadata": {},
       "overflow": false,
       "plotOptions": {
        "customPlotOptions": {},
        "displayType": "table",
        "pivotAggregation": null,
        "pivotColumns": null,
        "xColumns": null,
        "yColumns": null
       },
       "removedWidgets": [],
       "schema": [
        {
         "metadata": "{}",
         "name": "id",
         "type": "\"long\""
        },
        {
         "metadata": "{}",
         "name": "name",
         "type": "\"string\""
        },
        {
         "metadata": "{}",
         "name": "age",
         "type": "\"long\""
        },
        {
         "metadata": "{}",
         "name": "salary",
         "type": "\"long\""
        },
        {
         "metadata": "{}",
         "name": "department",
         "type": "\"string\""
        },
        {
         "metadata": "{}",
         "name": "manager_id",
         "type": "\"long\""
        }
       ],
       "type": "table"
      }
     },
     "output_type": "display_data"
    }
   ],
   "source": [
    "df.display()"
   ]
  },
  {
   "cell_type": "code",
   "execution_count": 0,
   "metadata": {
    "application/vnd.databricks.v1+cell": {
     "cellMetadata": {
      "byteLimit": 2048000,
      "rowLimit": 10000
     },
     "inputWidgets": {},
     "nuid": "8d30ed18-7c7b-48e1-b271-b0c52c3b95ae",
     "showTitle": false,
     "tableResultSettingsMap": {},
     "title": ""
    }
   },
   "outputs": [
    {
     "output_type": "stream",
     "name": "stdout",
     "output_type": "stream",
     "text": [
      "Out[69]: 5"
     ]
    }
   ],
   "source": [
    "df.count()"
   ]
  },
  {
   "cell_type": "code",
   "execution_count": 0,
   "metadata": {
    "application/vnd.databricks.v1+cell": {
     "cellMetadata": {
      "byteLimit": 2048000,
      "rowLimit": 10000
     },
     "inputWidgets": {},
     "nuid": "d41a2ee3-d4df-4993-ab33-ace6074a9915",
     "showTitle": false,
     "tableResultSettingsMap": {},
     "title": ""
    }
   },
   "outputs": [
    {
     "output_type": "stream",
     "name": "stdout",
     "output_type": "stream",
     "text": [
      "root\n |-- id: long (nullable = true)\n |-- name: string (nullable = true)\n |-- age: long (nullable = true)\n |-- salary: long (nullable = true)\n |-- department: string (nullable = true)\n |-- manager_id: long (nullable = true)\n\n"
     ]
    }
   ],
   "source": [
    "df.printSchema()"
   ]
  },
  {
   "cell_type": "code",
   "execution_count": 0,
   "metadata": {
    "application/vnd.databricks.v1+cell": {
     "cellMetadata": {
      "byteLimit": 2048000,
      "rowLimit": 10000
     },
     "inputWidgets": {},
     "nuid": "62322213-17d5-4429-bc0f-2d3520369cbd",
     "showTitle": false,
     "tableResultSettingsMap": {},
     "title": ""
    }
   },
   "outputs": [],
   "source": [
    "from pyspark.sql.types import StructField, StructType, IntegerType, FloatType, StringType, DateType\n",
    "schema = StructType([\n",
    "    StructField('id', IntegerType(), nullable = False), \n",
    "    StructField('name', StringType()), \n",
    "    StructField('age', IntegerType()), \n",
    "    StructField('salary', IntegerType()),\n",
    "    StructField('department', StringType(), nullable = False), \n",
    "    StructField('manager_id', IntegerType())\n",
    "])"
   ]
  },
  {
   "cell_type": "code",
   "execution_count": 0,
   "metadata": {
    "application/vnd.databricks.v1+cell": {
     "cellMetadata": {
      "byteLimit": 2048000,
      "rowLimit": 10000
     },
     "inputWidgets": {},
     "nuid": "7c6d3d0a-8e46-47d1-b550-3eac736eab81",
     "showTitle": false,
     "tableResultSettingsMap": {},
     "title": ""
    }
   },
   "outputs": [],
   "source": [
    "df2 = spark.createDataFrame(data, schema=schema)"
   ]
  },
  {
   "cell_type": "code",
   "execution_count": 0,
   "metadata": {
    "application/vnd.databricks.v1+cell": {
     "cellMetadata": {
      "byteLimit": 2048000,
      "rowLimit": 10000
     },
     "inputWidgets": {},
     "nuid": "fe17b4f6-cf8f-431c-a907-4252b6d0f9bf",
     "showTitle": false,
     "tableResultSettingsMap": {},
     "title": ""
    }
   },
   "outputs": [
    {
     "output_type": "display_data",
     "data": {
      "text/html": [
       "<style scoped>\n",
       "  .table-result-container {\n",
       "    max-height: 300px;\n",
       "    overflow: auto;\n",
       "  }\n",
       "  table, th, td {\n",
       "    border: 1px solid black;\n",
       "    border-collapse: collapse;\n",
       "  }\n",
       "  th, td {\n",
       "    padding: 5px;\n",
       "  }\n",
       "  th {\n",
       "    text-align: left;\n",
       "  }\n",
       "</style><div class='table-result-container'><table class='table-result'><thead style='background-color: white'><tr><th>id</th><th>name</th><th>age</th><th>salary</th><th>department</th><th>manager_id</th></tr></thead><tbody><tr><td>1</td><td>yogesh</td><td>40</td><td>50000</td><td>Data</td><td>4</td></tr><tr><td>2</td><td>hari</td><td>50</td><td>30000</td><td>Test</td><td>2</td></tr><tr><td>3</td><td>gowri</td><td>34</td><td>63000</td><td>Data Analytics</td><td>1</td></tr><tr><td>4</td><td>umesh</td><td>42</td><td>78000</td><td>Data</td><td>2</td></tr><tr><td>5</td><td>teju</td><td>24</td><td>43000</td><td>Finance</td><td>1</td></tr></tbody></table></div>"
      ]
     },
     "metadata": {
      "application/vnd.databricks.v1+output": {
       "addedWidgets": {},
       "aggData": [],
       "aggError": "",
       "aggOverflow": false,
       "aggSchema": [],
       "aggSeriesLimitReached": false,
       "aggType": "",
       "arguments": {},
       "columnCustomDisplayInfos": {},
       "data": [
        [
         1,
         "yogesh",
         40,
         50000,
         "Data",
         4
        ],
        [
         2,
         "hari",
         50,
         30000,
         "Test",
         2
        ],
        [
         3,
         "gowri",
         34,
         63000,
         "Data Analytics",
         1
        ],
        [
         4,
         "umesh",
         42,
         78000,
         "Data",
         2
        ],
        [
         5,
         "teju",
         24,
         43000,
         "Finance",
         1
        ]
       ],
       "datasetInfos": [],
       "dbfsResultPath": null,
       "isJsonSchema": true,
       "metadata": {},
       "overflow": false,
       "plotOptions": {
        "customPlotOptions": {},
        "displayType": "table",
        "pivotAggregation": null,
        "pivotColumns": null,
        "xColumns": null,
        "yColumns": null
       },
       "removedWidgets": [],
       "schema": [
        {
         "metadata": "{}",
         "name": "id",
         "type": "\"integer\""
        },
        {
         "metadata": "{}",
         "name": "name",
         "type": "\"string\""
        },
        {
         "metadata": "{}",
         "name": "age",
         "type": "\"integer\""
        },
        {
         "metadata": "{}",
         "name": "salary",
         "type": "\"integer\""
        },
        {
         "metadata": "{}",
         "name": "department",
         "type": "\"string\""
        },
        {
         "metadata": "{}",
         "name": "manager_id",
         "type": "\"integer\""
        }
       ],
       "type": "table"
      }
     },
     "output_type": "display_data"
    }
   ],
   "source": [
    "df2.display()"
   ]
  },
  {
   "cell_type": "code",
   "execution_count": 0,
   "metadata": {
    "application/vnd.databricks.v1+cell": {
     "cellMetadata": {
      "byteLimit": 2048000,
      "rowLimit": 10000
     },
     "inputWidgets": {},
     "nuid": "5ab2587e-484e-45f9-b218-b66928a43d74",
     "showTitle": false,
     "tableResultSettingsMap": {},
     "title": ""
    }
   },
   "outputs": [
    {
     "output_type": "stream",
     "name": "stdout",
     "output_type": "stream",
     "text": [
      "Out[74]: ['Any',\n 'ArrayType',\n 'Callable',\n 'Column',\n 'DataFrame',\n 'DataType',\n 'DeprecatedFuncUsageLogger',\n 'Dict',\n 'Iterable',\n 'List',\n 'Optional',\n 'PandasUDFType',\n 'PySparkTypeError',\n 'PySparkValueError',\n 'PythonEvalType',\n 'SparkContext',\n 'StringType',\n 'StructType',\n 'TYPE_CHECKING',\n 'Tuple',\n 'Union',\n 'UserDefinedFunction',\n 'ValuesView',\n '__builtins__',\n '__cached__',\n '__doc__',\n '__file__',\n '__loader__',\n '__name__',\n '__package__',\n '__spec__',\n '_create_column_from_literal',\n '_create_edge_udf',\n '_create_lambda',\n '_create_udf',\n '_get_jvm_function',\n '_get_lambda_parameters',\n '_invoke_binary_math_function',\n '_invoke_function',\n '_invoke_function_over_columns',\n '_invoke_function_over_seq_of_columns',\n '_invoke_higher_order_function',\n '_options_to_str',\n '_test',\n '_to_java_column',\n '_to_seq',\n '_unresolved_named_lambda_variable',\n 'abs',\n 'acos',\n 'acosh',\n 'add_months',\n 'aggregate',\n 'approxCountDistinct',\n 'approx_count_distinct',\n 'array',\n 'array_append',\n 'array_compact',\n 'array_contains',\n 'array_distinct',\n 'array_except',\n 'array_intersect',\n 'array_join',\n 'array_max',\n 'array_min',\n 'array_position',\n 'array_remove',\n 'array_repeat',\n 'array_sort',\n 'array_union',\n 'arrays_overlap',\n 'arrays_zip',\n 'asc',\n 'asc_nulls_first',\n 'asc_nulls_last',\n 'ascii',\n 'asin',\n 'asinh',\n 'assert_true',\n 'atan',\n 'atan2',\n 'atanh',\n 'avg',\n 'base64',\n 'bin',\n 'bit_length',\n 'bitwiseNOT',\n 'bitwise_not',\n 'broadcast',\n 'bround',\n 'bucket',\n 'cast',\n 'cbrt',\n 'ceil',\n 'coalesce',\n 'col',\n 'collect_list',\n 'collect_set',\n 'column',\n 'concat',\n 'concat_ws',\n 'conv',\n 'corr',\n 'cos',\n 'cosh',\n 'cot',\n 'count',\n 'countDistinct',\n 'count_distinct',\n 'covar_pop',\n 'covar_samp',\n 'crc32',\n 'create_map',\n 'csc',\n 'cume_dist',\n 'current_date',\n 'current_timestamp',\n 'date_add',\n 'date_format',\n 'date_sub',\n 'date_trunc',\n 'datediff',\n 'dayofmonth',\n 'dayofweek',\n 'dayofyear',\n 'days',\n 'decode',\n 'degrees',\n 'dense_rank',\n 'desc',\n 'desc_nulls_first',\n 'desc_nulls_last',\n 'element_at',\n 'encode',\n 'exists',\n 'exp',\n 'explode',\n 'explode_outer',\n 'expm1',\n 'expr',\n 'factorial',\n 'filter',\n 'first',\n 'flatten',\n 'floor',\n 'forall',\n 'format_number',\n 'format_string',\n 'from_csv',\n 'from_json',\n 'from_unixtime',\n 'from_utc_timestamp',\n 'functools',\n 'get',\n 'get_json_object',\n 'greatest',\n 'grouping',\n 'grouping_id',\n 'hash',\n 'hex',\n 'hour',\n 'hours',\n 'hypot',\n 'initcap',\n 'inline',\n 'inline_outer',\n 'input_file_name',\n 'inspect',\n 'instr',\n 'isnan',\n 'isnull',\n 'json_tuple',\n 'kurtosis',\n 'lag',\n 'last',\n 'last_day',\n 'lead',\n 'least',\n 'length',\n 'levenshtein',\n 'lit',\n 'locate',\n 'log',\n 'log10',\n 'log1p',\n 'log2',\n 'lower',\n 'lpad',\n 'ltrim',\n 'make_date',\n 'map_concat',\n 'map_entries',\n 'map_filter',\n 'map_from_arrays',\n 'map_from_entries',\n 'map_keys',\n 'map_values',\n 'map_zip_with',\n 'max',\n 'max_by',\n 'md5',\n 'mean',\n 'median',\n 'min',\n 'min_by',\n 'minute',\n 'mode',\n 'monotonically_increasing_id',\n 'month',\n 'months',\n 'months_between',\n 'nanvl',\n 'next_day',\n 'nth_value',\n 'ntile',\n 'octet_length',\n 'overlay',\n 'overload',\n 'pandas_udf',\n 'percent_rank',\n 'percentile_approx',\n 'posexplode',\n 'posexplode_outer',\n 'pow',\n 'product',\n 'quarter',\n 'radians',\n 'raise_error',\n 'rand',\n 'randn',\n 'rank',\n 'regexp_extract',\n 'regexp_replace',\n 'repeat',\n 'reverse',\n 'rint',\n 'round',\n 'row_number',\n 'rpad',\n 'rtrim',\n 'schema_of_csv',\n 'schema_of_json',\n 'sec',\n 'second',\n 'sentences',\n 'sequence',\n 'session_window',\n 'sha1',\n 'sha2',\n 'shiftLeft',\n 'shiftRight',\n 'shiftRightUnsigned',\n 'shiftleft',\n 'shiftright',\n 'shiftrightunsigned',\n 'shuffle',\n 'signum',\n 'sin',\n 'sinh',\n 'size',\n 'skewness',\n 'slice',\n 'sort_array',\n 'soundex',\n 'spark_partition_id',\n 'split',\n 'sqrt',\n 'stddev',\n 'stddev_pop',\n 'stddev_samp',\n 'struct',\n 'substring',\n 'substring_index',\n 'sum',\n 'sumDistinct',\n 'sum_distinct',\n 'sys',\n 'tan',\n 'tanh',\n 'timestamp_seconds',\n 'toDegrees',\n 'toRadians',\n 'to_csv',\n 'to_date',\n 'to_json',\n 'to_str',\n 'to_timestamp',\n 'to_utc_timestamp',\n 'transform',\n 'transform_keys',\n 'transform_values',\n 'translate',\n 'trim',\n 'trunc',\n 'try_remote_functions',\n 'udf',\n 'unbase64',\n 'unhex',\n 'unix_timestamp',\n 'unwrap_udt',\n 'upper',\n 'var_pop',\n 'var_samp',\n 'variance',\n 'warnings',\n 'weekofyear',\n 'when',\n 'window',\n 'window_time',\n 'xxhash64',\n 'year',\n 'years',\n 'zip_with']"
     ]
    }
   ],
   "source": [
    "from pyspark.sql import functions as F \n",
    "dir(F)"
   ]
  },
  {
   "cell_type": "code",
   "execution_count": 0,
   "metadata": {
    "application/vnd.databricks.v1+cell": {
     "cellMetadata": {
      "byteLimit": 2048000,
      "rowLimit": 10000
     },
     "inputWidgets": {},
     "nuid": "a1246594-fafd-431a-98d9-782fa4f9f64b",
     "showTitle": false,
     "tableResultSettingsMap": {},
     "title": ""
    }
   },
   "outputs": [
    {
     "output_type": "stream",
     "name": "stdout",
     "output_type": "stream",
     "text": [
      "Help on method withColumn in module pyspark.sql.dataframe:\n\nwithColumn(colName: str, col: pyspark.sql.column.Column) -> 'DataFrame' method of pyspark.sql.dataframe.DataFrame instance\n    Returns a new :class:`DataFrame` by adding a column or replacing the\n    existing column that has the same name.\n    \n    The column expression must be an expression over this :class:`DataFrame`; attempting to add\n    a column from some other :class:`DataFrame` will raise an error.\n    \n    .. versionadded:: 1.3.0\n    \n    .. versionchanged:: 3.4.0\n        Support Spark Connect.\n    \n    Parameters\n    ----------\n    colName : str\n        string, name of the new column.\n    col : :class:`Column`\n        a :class:`Column` expression for the new column.\n    \n    Returns\n    -------\n    :class:`DataFrame`\n        DataFrame with new or replaced column.\n    \n    Notes\n    -----\n    This method introduces a projection internally. Therefore, calling it multiple\n    times, for instance, via loops in order to add multiple columns can generate big\n    plans which can cause performance issues and even `StackOverflowException`.\n    To avoid this, use :func:`select` with multiple columns at once.\n    \n    Examples\n    --------\n    >>> df = spark.createDataFrame([(2, \"Alice\"), (5, \"Bob\")], schema=[\"age\", \"name\"])\n    >>> df.withColumn('age2', df.age + 2).show()\n    +---+-----+----+\n    |age| name|age2|\n    +---+-----+----+\n    |  2|Alice|   4|\n    |  5|  Bob|   7|\n    +---+-----+----+\n\n"
     ]
    }
   ],
   "source": [
    "help(df.withColumn)"
   ]
  },
  {
   "cell_type": "code",
   "execution_count": 0,
   "metadata": {
    "application/vnd.databricks.v1+cell": {
     "cellMetadata": {
      "byteLimit": 2048000,
      "rowLimit": 10000
     },
     "inputWidgets": {},
     "nuid": "7ff6149c-e538-463d-af09-c76d25734335",
     "showTitle": false,
     "tableResultSettingsMap": {},
     "title": ""
    }
   },
   "outputs": [
    {
     "output_type": "stream",
     "name": "stdout",
     "output_type": "stream",
     "text": [
      "+---+------+---+------+--------------+----------+\n| id|  name|age|salary|    department|manager_id|\n+---+------+---+------+--------------+----------+\n|  1|yogesh| 40| 50000|          Data|         4|\n|  2|  hari| 50| 30000|          Test|         2|\n|  3| gowri| 34| 63000|Data Analytics|         1|\n|  4| umesh| 42| 78000|          Data|         2|\n|  5|  teju| 24| 43000|       Finance|         1|\n+---+------+---+------+--------------+----------+\n\n"
     ]
    }
   ],
   "source": [
    "df.show()"
   ]
  },
  {
   "cell_type": "code",
   "execution_count": 0,
   "metadata": {
    "application/vnd.databricks.v1+cell": {
     "cellMetadata": {
      "byteLimit": 2048000,
      "rowLimit": 10000
     },
     "inputWidgets": {},
     "nuid": "50ebd09d-344e-4890-a878-8359bb5d8261",
     "showTitle": false,
     "tableResultSettingsMap": {},
     "title": ""
    }
   },
   "outputs": [],
   "source": [
    "from pyspark.sql.functions import col\n",
    "df=df.withColumn('updated_salary', col=col('salary')*1.2)"
   ]
  },
  {
   "cell_type": "code",
   "execution_count": 0,
   "metadata": {
    "application/vnd.databricks.v1+cell": {
     "cellMetadata": {
      "byteLimit": 2048000,
      "rowLimit": 10000
     },
     "inputWidgets": {},
     "nuid": "7ed707fa-116c-42d8-b668-406eab96a35e",
     "showTitle": false,
     "tableResultSettingsMap": {},
     "title": ""
    }
   },
   "outputs": [
    {
     "output_type": "stream",
     "name": "stdout",
     "output_type": "stream",
     "text": [
      "+---+------+---+------+--------------+----------+--------------+\n| id|  name|age|salary|    department|manager_id|updated_salary|\n+---+------+---+------+--------------+----------+--------------+\n|  1|yogesh| 40| 50000|          Data|         4|       60000.0|\n|  2|  hari| 50| 30000|          Test|         2|       36000.0|\n|  3| gowri| 34| 63000|Data Analytics|         1|       75600.0|\n|  4| umesh| 42| 78000|          Data|         2|       93600.0|\n|  5|  teju| 24| 43000|       Finance|         1|       51600.0|\n+---+------+---+------+--------------+----------+--------------+\n\n"
     ]
    }
   ],
   "source": [
    "df.show()"
   ]
  },
  {
   "cell_type": "code",
   "execution_count": 0,
   "metadata": {
    "application/vnd.databricks.v1+cell": {
     "cellMetadata": {
      "byteLimit": 2048000,
      "rowLimit": 10000
     },
     "inputWidgets": {},
     "nuid": "d21db282-4439-439e-8aad-fbf71a8f7416",
     "showTitle": false,
     "tableResultSettingsMap": {},
     "title": ""
    }
   },
   "outputs": [
    {
     "output_type": "stream",
     "name": "stdout",
     "output_type": "stream",
     "text": [
      "root\n |-- id: long (nullable = true)\n |-- name: string (nullable = true)\n |-- age: long (nullable = true)\n |-- salary: long (nullable = true)\n |-- department: string (nullable = true)\n |-- manager_id: long (nullable = true)\n |-- updated_salary: double (nullable = true)\n\n"
     ]
    }
   ],
   "source": [
    "df.printSchema()"
   ]
  },
  {
   "cell_type": "code",
   "execution_count": 0,
   "metadata": {
    "application/vnd.databricks.v1+cell": {
     "cellMetadata": {
      "byteLimit": 2048000,
      "rowLimit": 10000
     },
     "inputWidgets": {},
     "nuid": "89ac41fa-930d-44de-a626-4acf35f1890d",
     "showTitle": false,
     "tableResultSettingsMap": {},
     "title": ""
    }
   },
   "outputs": [
    {
     "output_type": "stream",
     "name": "stdout",
     "output_type": "stream",
     "text": [
      "root\n |-- id: integer (nullable = false)\n |-- name: string (nullable = true)\n |-- age: integer (nullable = true)\n |-- salary: integer (nullable = true)\n |-- department: string (nullable = false)\n |-- manager_id: integer (nullable = true)\n\n"
     ]
    }
   ],
   "source": [
    "df2.printSchema()"
   ]
  },
  {
   "cell_type": "code",
   "execution_count": 0,
   "metadata": {
    "application/vnd.databricks.v1+cell": {
     "cellMetadata": {
      "byteLimit": 2048000,
      "rowLimit": 10000
     },
     "inputWidgets": {},
     "nuid": "9dcbb105-eabc-4b38-a792-269248316e86",
     "showTitle": false,
     "tableResultSettingsMap": {},
     "title": ""
    }
   },
   "outputs": [
    {
     "output_type": "stream",
     "name": "stdout",
     "output_type": "stream",
     "text": [
      "+---+------+---+------+--------------+----------+\n| id|  name|age|salary|    department|manager_id|\n+---+------+---+------+--------------+----------+\n|  1|yogesh| 40| 50000|          Data|         4|\n|  2|  hari| 50| 30000|          Test|         2|\n|  3| gowri| 34| 63000|Data Analytics|         1|\n|  4| umesh| 42| 78000|          Data|         2|\n|  5|  teju| 24| 43000|       Finance|         1|\n+---+------+---+------+--------------+----------+\n\n"
     ]
    }
   ],
   "source": [
    "df2.show()"
   ]
  },
  {
   "cell_type": "code",
   "execution_count": 0,
   "metadata": {
    "application/vnd.databricks.v1+cell": {
     "cellMetadata": {
      "byteLimit": 2048000,
      "rowLimit": 10000
     },
     "inputWidgets": {},
     "nuid": "06b91b88-debd-41fa-8c32-24e331d6c9ec",
     "showTitle": false,
     "tableResultSettingsMap": {},
     "title": ""
    }
   },
   "outputs": [
    {
     "output_type": "stream",
     "name": "stdout",
     "output_type": "stream",
     "text": [
      "+---+------+---+------+--------------+----------+--------------+\n| id|  name|age|salary|    department|manager_id|updated_salary|\n+---+------+---+------+--------------+----------+--------------+\n|  1|yogesh| 40| 50000|          Data|         4|       60000.0|\n|  2|  hari| 50| 30000|          Test|         2|       36000.0|\n|  3| gowri| 34| 63000|Data Analytics|         1|       75600.0|\n|  4| umesh| 42| 78000|          Data|         2|       93600.0|\n|  5|  teju| 24| 43000|       Finance|         1|       51600.0|\n+---+------+---+------+--------------+----------+--------------+\n\n"
     ]
    }
   ],
   "source": [
    "df.show()"
   ]
  },
  {
   "cell_type": "code",
   "execution_count": 0,
   "metadata": {
    "application/vnd.databricks.v1+cell": {
     "cellMetadata": {
      "byteLimit": 2048000,
      "rowLimit": 10000
     },
     "inputWidgets": {},
     "nuid": "7b3473ff-3bf9-4268-8afd-85af14107e75",
     "showTitle": false,
     "tableResultSettingsMap": {},
     "title": ""
    }
   },
   "outputs": [],
   "source": [
    "df=df.withColumn('updated_salary', col=col('updated_salary').cast(IntegerType())\n",
    "            )"
   ]
  },
  {
   "cell_type": "code",
   "execution_count": 0,
   "metadata": {
    "application/vnd.databricks.v1+cell": {
     "cellMetadata": {
      "byteLimit": 2048000,
      "rowLimit": 10000
     },
     "inputWidgets": {},
     "nuid": "23ed018d-5a56-4264-8821-bc9303bd9cc8",
     "showTitle": false,
     "tableResultSettingsMap": {},
     "title": ""
    }
   },
   "outputs": [
    {
     "output_type": "stream",
     "name": "stdout",
     "output_type": "stream",
     "text": [
      "root\n |-- id: long (nullable = true)\n |-- name: string (nullable = true)\n |-- age: long (nullable = true)\n |-- salary: long (nullable = true)\n |-- department: string (nullable = true)\n |-- manager_id: long (nullable = true)\n |-- updated_salary: integer (nullable = true)\n\n"
     ]
    }
   ],
   "source": [
    "df.printSchema()"
   ]
  },
  {
   "cell_type": "code",
   "execution_count": 0,
   "metadata": {
    "application/vnd.databricks.v1+cell": {
     "cellMetadata": {
      "byteLimit": 2048000,
      "rowLimit": 10000
     },
     "inputWidgets": {},
     "nuid": "9fa623c0-de18-4008-a13c-34dc1dbe5470",
     "showTitle": false,
     "tableResultSettingsMap": {},
     "title": ""
    }
   },
   "outputs": [],
   "source": [
    "from pyspark.sql.functions import lit, when\n",
    "df=df.withColumn('location',lit(None))"
   ]
  },
  {
   "cell_type": "code",
   "execution_count": 0,
   "metadata": {
    "application/vnd.databricks.v1+cell": {
     "cellMetadata": {
      "byteLimit": 2048000,
      "rowLimit": 10000
     },
     "inputWidgets": {},
     "nuid": "5cf31066-9ef4-4fda-8c0d-29adea1d5f8c",
     "showTitle": false,
     "tableResultSettingsMap": {},
     "title": ""
    }
   },
   "outputs": [
    {
     "output_type": "stream",
     "name": "stdout",
     "output_type": "stream",
     "text": [
      "+---+------+---+------+--------------+----------+--------------+--------+\n| id|  name|age|salary|    department|manager_id|updated_salary|location|\n+---+------+---+------+--------------+----------+--------------+--------+\n|  1|yogesh| 40| 50000|          Data|         4|         60000|    null|\n|  2|  hari| 50| 30000|          Test|         2|         36000|    null|\n|  3| gowri| 34| 63000|Data Analytics|         1|         75600|    null|\n|  4| umesh| 42| 78000|          Data|         2|         93600|    null|\n|  5|  teju| 24| 43000|       Finance|         1|         51600|    null|\n+---+------+---+------+--------------+----------+--------------+--------+\n\n"
     ]
    }
   ],
   "source": [
    "df.show()"
   ]
  },
  {
   "cell_type": "code",
   "execution_count": 0,
   "metadata": {
    "application/vnd.databricks.v1+cell": {
     "cellMetadata": {
      "byteLimit": 2048000,
      "rowLimit": 10000
     },
     "inputWidgets": {},
     "nuid": "679e2508-5424-42b1-913f-aef800049348",
     "showTitle": false,
     "tableResultSettingsMap": {},
     "title": ""
    }
   },
   "outputs": [],
   "source": [
    "df=df.withColumn('location', lit('USA'))"
   ]
  },
  {
   "cell_type": "code",
   "execution_count": 0,
   "metadata": {
    "application/vnd.databricks.v1+cell": {
     "cellMetadata": {
      "byteLimit": 2048000,
      "rowLimit": 10000
     },
     "inputWidgets": {},
     "nuid": "5c43cc3d-fce8-4342-a703-0490f85485c9",
     "showTitle": false,
     "tableResultSettingsMap": {},
     "title": ""
    }
   },
   "outputs": [
    {
     "output_type": "stream",
     "name": "stdout",
     "output_type": "stream",
     "text": [
      "+---+------+---+------+--------------+----------+--------------+--------+\n| id|  name|age|salary|    department|manager_id|updated_salary|location|\n+---+------+---+------+--------------+----------+--------------+--------+\n|  1|yogesh| 40| 50000|          Data|         4|         60000|     USA|\n|  2|  hari| 50| 30000|          Test|         2|         36000|     USA|\n|  3| gowri| 34| 63000|Data Analytics|         1|         75600|     USA|\n|  4| umesh| 42| 78000|          Data|         2|         93600|     USA|\n|  5|  teju| 24| 43000|       Finance|         1|         51600|     USA|\n+---+------+---+------+--------------+----------+--------------+--------+\n\n"
     ]
    }
   ],
   "source": [
    "df.show()"
   ]
  },
  {
   "cell_type": "code",
   "execution_count": 0,
   "metadata": {
    "application/vnd.databricks.v1+cell": {
     "cellMetadata": {
      "byteLimit": 2048000,
      "rowLimit": 10000
     },
     "inputWidgets": {},
     "nuid": "1920f7eb-0558-48b0-8c7a-b6ba4fe8b9d3",
     "showTitle": false,
     "tableResultSettingsMap": {},
     "title": ""
    }
   },
   "outputs": [],
   "source": [
    "df=df.withColumn('location', when(col('department')=='Data', 'India')\\\n",
    "    .when(col('department')=='Test', 'UK').otherwise('USA'))"
   ]
  },
  {
   "cell_type": "code",
   "execution_count": 0,
   "metadata": {
    "application/vnd.databricks.v1+cell": {
     "cellMetadata": {
      "byteLimit": 2048000,
      "rowLimit": 10000
     },
     "inputWidgets": {},
     "nuid": "4e2118cd-618e-4c51-bb80-0bbe74824ff8",
     "showTitle": false,
     "tableResultSettingsMap": {},
     "title": ""
    }
   },
   "outputs": [
    {
     "output_type": "stream",
     "name": "stdout",
     "output_type": "stream",
     "text": [
      "+---+------+---+------+--------------+----------+--------------+--------+\n| id|  name|age|salary|    department|manager_id|updated_salary|location|\n+---+------+---+------+--------------+----------+--------------+--------+\n|  1|yogesh| 40| 50000|          Data|         4|         60000|   India|\n|  2|  hari| 50| 30000|          Test|         2|         36000|      UK|\n|  3| gowri| 34| 63000|Data Analytics|         1|         75600|     USA|\n|  4| umesh| 42| 78000|          Data|         2|         93600|   India|\n|  5|  teju| 24| 43000|       Finance|         1|         51600|     USA|\n+---+------+---+------+--------------+----------+--------------+--------+\n\n"
     ]
    }
   ],
   "source": [
    "df.show()"
   ]
  },
  {
   "cell_type": "code",
   "execution_count": 0,
   "metadata": {
    "application/vnd.databricks.v1+cell": {
     "cellMetadata": {
      "byteLimit": 2048000,
      "rowLimit": 10000
     },
     "inputWidgets": {},
     "nuid": "9bf46242-9450-4db6-9579-21b0203711af",
     "showTitle": false,
     "tableResultSettingsMap": {},
     "title": ""
    }
   },
   "outputs": [],
   "source": [
    "df_Data = df.where(col('department')=='Data')"
   ]
  },
  {
   "cell_type": "code",
   "execution_count": 0,
   "metadata": {
    "application/vnd.databricks.v1+cell": {
     "cellMetadata": {
      "byteLimit": 2048000,
      "rowLimit": 10000
     },
     "inputWidgets": {},
     "nuid": "27ce4dda-2f2a-4f78-bb6f-cc9554a4e34e",
     "showTitle": false,
     "tableResultSettingsMap": {},
     "title": ""
    }
   },
   "outputs": [
    {
     "output_type": "stream",
     "name": "stdout",
     "output_type": "stream",
     "text": [
      "+---+------+---+------+----------+----------+--------------+--------+\n| id|  name|age|salary|department|manager_id|updated_salary|location|\n+---+------+---+------+----------+----------+--------------+--------+\n|  1|yogesh| 40| 50000|      Data|         4|         60000|   India|\n|  4| umesh| 42| 78000|      Data|         2|         93600|   India|\n+---+------+---+------+----------+----------+--------------+--------+\n\n"
     ]
    }
   ],
   "source": [
    "df_Data.show()"
   ]
  },
  {
   "cell_type": "code",
   "execution_count": 0,
   "metadata": {
    "application/vnd.databricks.v1+cell": {
     "cellMetadata": {
      "byteLimit": 2048000,
      "rowLimit": 10000
     },
     "inputWidgets": {},
     "nuid": "79228880-e2d3-4adc-8b38-0f61871e74a9",
     "showTitle": false,
     "tableResultSettingsMap": {},
     "title": ""
    }
   },
   "outputs": [],
   "source": [
    "dfa= df.where((col('department')=='Finance') & (col('age') >= 50))"
   ]
  },
  {
   "cell_type": "code",
   "execution_count": 0,
   "metadata": {
    "application/vnd.databricks.v1+cell": {
     "cellMetadata": {
      "byteLimit": 2048000,
      "rowLimit": 10000
     },
     "inputWidgets": {},
     "nuid": "acd8e320-9da3-4b9e-b5c4-9b361d2dec62",
     "showTitle": false,
     "tableResultSettingsMap": {},
     "title": ""
    }
   },
   "outputs": [
    {
     "output_type": "stream",
     "name": "stdout",
     "output_type": "stream",
     "text": [
      "+---+----+---+------+----------+----------+--------------+--------+\n| id|name|age|salary|department|manager_id|updated_salary|location|\n+---+----+---+------+----------+----------+--------------+--------+\n+---+----+---+------+----------+----------+--------------+--------+\n\n"
     ]
    }
   ],
   "source": [
    "dfa.show()"
   ]
  },
  {
   "cell_type": "code",
   "execution_count": 0,
   "metadata": {
    "application/vnd.databricks.v1+cell": {
     "cellMetadata": {
      "byteLimit": 2048000,
      "rowLimit": 10000
     },
     "inputWidgets": {},
     "nuid": "7adac770-98f2-4b5c-b707-e46a4cbed1ad",
     "showTitle": false,
     "tableResultSettingsMap": {},
     "title": ""
    }
   },
   "outputs": [],
   "source": [
    "dfa= df.where((col('department')=='Finance')  | (col('age') >= 50))"
   ]
  },
  {
   "cell_type": "code",
   "execution_count": 0,
   "metadata": {
    "application/vnd.databricks.v1+cell": {
     "cellMetadata": {
      "byteLimit": 2048000,
      "rowLimit": 10000
     },
     "inputWidgets": {},
     "nuid": "770ed6c0-1411-4a91-afb5-02438b676fd8",
     "showTitle": false,
     "tableResultSettingsMap": {},
     "title": ""
    }
   },
   "outputs": [
    {
     "output_type": "stream",
     "name": "stdout",
     "output_type": "stream",
     "text": [
      "+---+----+---+------+----------+----------+--------------+--------+\n| id|name|age|salary|department|manager_id|updated_salary|location|\n+---+----+---+------+----------+----------+--------------+--------+\n|  2|hari| 50| 30000|      Test|         2|         36000|      UK|\n|  5|teju| 24| 43000|   Finance|         1|         51600|     USA|\n+---+----+---+------+----------+----------+--------------+--------+\n\n"
     ]
    }
   ],
   "source": [
    "dfa.show()"
   ]
  },
  {
   "cell_type": "code",
   "execution_count": 0,
   "metadata": {
    "application/vnd.databricks.v1+cell": {
     "cellMetadata": {
      "byteLimit": 2048000,
      "rowLimit": 10000
     },
     "inputWidgets": {},
     "nuid": "c8fd5691-1020-4106-adc7-92ddfba0ae73",
     "showTitle": false,
     "tableResultSettingsMap": {},
     "title": ""
    }
   },
   "outputs": [],
   "source": [
    "dfif =df.filter(col('salary')>50000)"
   ]
  },
  {
   "cell_type": "code",
   "execution_count": 0,
   "metadata": {
    "application/vnd.databricks.v1+cell": {
     "cellMetadata": {
      "byteLimit": 2048000,
      "rowLimit": 10000
     },
     "inputWidgets": {},
     "nuid": "cd1398ed-bba3-4560-b94e-bddd8c68142e",
     "showTitle": false,
     "tableResultSettingsMap": {},
     "title": ""
    }
   },
   "outputs": [
    {
     "output_type": "stream",
     "name": "stdout",
     "output_type": "stream",
     "text": [
      "+---+-----+---+------+--------------+----------+--------------+--------+\n| id| name|age|salary|    department|manager_id|updated_salary|location|\n+---+-----+---+------+--------------+----------+--------------+--------+\n|  3|gowri| 34| 63000|Data Analytics|         1|         75600|     USA|\n|  4|umesh| 42| 78000|          Data|         2|         93600|   India|\n+---+-----+---+------+--------------+----------+--------------+--------+\n\n"
     ]
    }
   ],
   "source": [
    "dfif.show()"
   ]
  },
  {
   "cell_type": "code",
   "execution_count": 0,
   "metadata": {
    "application/vnd.databricks.v1+cell": {
     "cellMetadata": {
      "byteLimit": 2048000,
      "rowLimit": 10000
     },
     "inputWidgets": {},
     "nuid": "65cade7f-eb53-4e8f-92d7-1f65c956d62d",
     "showTitle": false,
     "tableResultSettingsMap": {},
     "title": ""
    }
   },
   "outputs": [],
   "source": [
    "dfi = df.where(col('salary')>50000)"
   ]
  },
  {
   "cell_type": "code",
   "execution_count": 0,
   "metadata": {
    "application/vnd.databricks.v1+cell": {
     "cellMetadata": {
      "byteLimit": 2048000,
      "rowLimit": 10000
     },
     "inputWidgets": {},
     "nuid": "a3e377e6-3d57-4b9c-93aa-51dbc8647415",
     "showTitle": false,
     "tableResultSettingsMap": {},
     "title": ""
    }
   },
   "outputs": [
    {
     "output_type": "stream",
     "name": "stdout",
     "output_type": "stream",
     "text": [
      "+---+-----+---+------+--------------+----------+--------------+--------+\n| id| name|age|salary|    department|manager_id|updated_salary|location|\n+---+-----+---+------+--------------+----------+--------------+--------+\n|  3|gowri| 34| 63000|Data Analytics|         1|         75600|     USA|\n|  4|umesh| 42| 78000|          Data|         2|         93600|   India|\n+---+-----+---+------+--------------+----------+--------------+--------+\n\n"
     ]
    }
   ],
   "source": [
    "dfi.show()"
   ]
  },
  {
   "cell_type": "code",
   "execution_count": 0,
   "metadata": {
    "application/vnd.databricks.v1+cell": {
     "cellMetadata": {
      "byteLimit": 2048000,
      "rowLimit": 10000
     },
     "inputWidgets": {},
     "nuid": "d3ae476d-a2e5-404a-be09-bd1460dde84b",
     "showTitle": false,
     "tableResultSettingsMap": {},
     "title": ""
    }
   },
   "outputs": [],
   "source": [
    "data2 = [('mahendra', {'height': 10, 'weight':73}), \n",
    "         ('mahi', {'height':11, 'weight':45}), \n",
    "         ('ravi', {'height':12, 'weight':60})]\n",
    "sche = ['name', 'charecteristics']"
   ]
  },
  {
   "cell_type": "code",
   "execution_count": 0,
   "metadata": {
    "application/vnd.databricks.v1+cell": {
     "cellMetadata": {
      "byteLimit": 2048000,
      "rowLimit": 10000
     },
     "inputWidgets": {},
     "nuid": "d9b08089-a6e1-4f3c-8836-9156aa5535cf",
     "showTitle": false,
     "tableResultSettingsMap": {},
     "title": ""
    }
   },
   "outputs": [],
   "source": [
    "da = spark.createDataFrame(data2, schema=sche)"
   ]
  },
  {
   "cell_type": "code",
   "execution_count": 0,
   "metadata": {
    "application/vnd.databricks.v1+cell": {
     "cellMetadata": {
      "byteLimit": 2048000,
      "rowLimit": 10000
     },
     "inputWidgets": {},
     "nuid": "32f008fa-78a6-4e31-9bf4-d6bd00ae5b93",
     "showTitle": false,
     "tableResultSettingsMap": {},
     "title": ""
    }
   },
   "outputs": [
    {
     "output_type": "stream",
     "name": "stdout",
     "output_type": "stream",
     "text": [
      "+--------+----------------------------+\n|name    |charecteristics             |\n+--------+----------------------------+\n|mahendra|{weight -> 73, height -> 10}|\n|mahi    |{weight -> 45, height -> 11}|\n|ravi    |{weight -> 60, height -> 12}|\n+--------+----------------------------+\n\n"
     ]
    }
   ],
   "source": [
    "da.show(n=10, truncate=False)"
   ]
  },
  {
   "cell_type": "code",
   "execution_count": 0,
   "metadata": {
    "application/vnd.databricks.v1+cell": {
     "cellMetadata": {
      "byteLimit": 2048000,
      "rowLimit": 10000
     },
     "inputWidgets": {},
     "nuid": "a8f3f80b-819f-46d3-9044-00cbe1911a84",
     "showTitle": false,
     "tableResultSettingsMap": {},
     "title": ""
    }
   },
   "outputs": [
    {
     "output_type": "stream",
     "name": "stdout",
     "output_type": "stream",
     "text": [
      "root\n |-- name: string (nullable = true)\n |-- charecteristics: map (nullable = true)\n |    |-- key: string\n |    |-- value: long (valueContainsNull = true)\n\n"
     ]
    }
   ],
   "source": [
    "da.printSchema()"
   ]
  },
  {
   "cell_type": "code",
   "execution_count": 0,
   "metadata": {
    "application/vnd.databricks.v1+cell": {
     "cellMetadata": {
      "byteLimit": 2048000,
      "rowLimit": 10000
     },
     "inputWidgets": {},
     "nuid": "c84574dc-a4ed-4f14-b063-2503b4dc0df3",
     "showTitle": false,
     "tableResultSettingsMap": {},
     "title": ""
    }
   },
   "outputs": [],
   "source": [
    "from pyspark.sql.types import StructField, StructType, StringType, MapType, IntegerType, StringType, DateType, FloatType, DecimalType, LongType\n",
    "schea = StructType(\n",
    "    [StructField('name', StringType(), nullable=False), \n",
    "     StructField('charecteristics', MapType(StringType(), IntegerType()))]\n",
    ") "
   ]
  },
  {
   "cell_type": "code",
   "execution_count": 0,
   "metadata": {
    "application/vnd.databricks.v1+cell": {
     "cellMetadata": {
      "byteLimit": 2048000,
      "rowLimit": 10000
     },
     "inputWidgets": {},
     "nuid": "d093c66e-b00c-4d68-9df0-bb9b28ac35d0",
     "showTitle": false,
     "tableResultSettingsMap": {},
     "title": ""
    }
   },
   "outputs": [],
   "source": [
    "datax = spark.createDataFrame(data2, schema=schea)"
   ]
  },
  {
   "cell_type": "code",
   "execution_count": 0,
   "metadata": {
    "application/vnd.databricks.v1+cell": {
     "cellMetadata": {
      "byteLimit": 2048000,
      "rowLimit": 10000
     },
     "inputWidgets": {},
     "nuid": "a6f0065a-b7ef-4c08-bfc0-fe3aed84c15a",
     "showTitle": false,
     "tableResultSettingsMap": {},
     "title": ""
    }
   },
   "outputs": [
    {
     "output_type": "stream",
     "name": "stdout",
     "output_type": "stream",
     "text": [
      "root\n |-- name: string (nullable = false)\n |-- charecteristics: map (nullable = true)\n |    |-- key: string\n |    |-- value: integer (valueContainsNull = true)\n\n"
     ]
    }
   ],
   "source": [
    "datax.printSchema()"
   ]
  },
  {
   "cell_type": "code",
   "execution_count": 0,
   "metadata": {
    "application/vnd.databricks.v1+cell": {
     "cellMetadata": {
      "byteLimit": 2048000,
      "rowLimit": 10000
     },
     "inputWidgets": {},
     "nuid": "5d1dc2f4-e9ca-4d45-8054-f40e5e3b6b65",
     "showTitle": false,
     "tableResultSettingsMap": {},
     "title": ""
    }
   },
   "outputs": [
    {
     "output_type": "stream",
     "name": "stdout",
     "output_type": "stream",
     "text": [
      "+--------+----------------------------+\n|name    |charecteristics             |\n+--------+----------------------------+\n|mahendra|{weight -> 73, height -> 10}|\n|mahi    |{weight -> 45, height -> 11}|\n|ravi    |{weight -> 60, height -> 12}|\n+--------+----------------------------+\n\n"
     ]
    }
   ],
   "source": [
    "datax.show(truncate=False)"
   ]
  },
  {
   "cell_type": "code",
   "execution_count": 0,
   "metadata": {
    "application/vnd.databricks.v1+cell": {
     "cellMetadata": {
      "byteLimit": 2048000,
      "rowLimit": 10000
     },
     "inputWidgets": {},
     "nuid": "72a31999-3e3a-46d9-b5f3-c8ebcc74f9d5",
     "showTitle": false,
     "tableResultSettingsMap": {},
     "title": ""
    }
   },
   "outputs": [],
   "source": [
    "datax = datax.withColumn('weight', col=col('charecteristics')['weight'])"
   ]
  },
  {
   "cell_type": "code",
   "execution_count": 0,
   "metadata": {
    "application/vnd.databricks.v1+cell": {
     "cellMetadata": {
      "byteLimit": 2048000,
      "rowLimit": 10000
     },
     "inputWidgets": {},
     "nuid": "319464d3-7038-469a-89ba-69e06c23f253",
     "showTitle": false,
     "tableResultSettingsMap": {},
     "title": ""
    }
   },
   "outputs": [
    {
     "output_type": "stream",
     "name": "stdout",
     "output_type": "stream",
     "text": [
      "+--------+--------------------+------+\n|    name|     charecteristics|weight|\n+--------+--------------------+------+\n|mahendra|{weight -> 73, he...|    73|\n|    mahi|{weight -> 45, he...|    45|\n|    ravi|{weight -> 60, he...|    60|\n+--------+--------------------+------+\n\n"
     ]
    }
   ],
   "source": [
    "datax.show()"
   ]
  },
  {
   "cell_type": "code",
   "execution_count": 0,
   "metadata": {
    "application/vnd.databricks.v1+cell": {
     "cellMetadata": {
      "byteLimit": 2048000,
      "rowLimit": 10000
     },
     "inputWidgets": {},
     "nuid": "c9c7868e-62ca-4616-9e02-397984d44f76",
     "showTitle": false,
     "tableResultSettingsMap": {},
     "title": ""
    }
   },
   "outputs": [],
   "source": [
    "datax=datax.withColumn('height', col=col('charecteristics')['height'])"
   ]
  },
  {
   "cell_type": "code",
   "execution_count": 0,
   "metadata": {
    "application/vnd.databricks.v1+cell": {
     "cellMetadata": {
      "byteLimit": 2048000,
      "rowLimit": 10000
     },
     "inputWidgets": {},
     "nuid": "9407ad45-dc23-45f2-bcf9-39bc03fe80c2",
     "showTitle": false,
     "tableResultSettingsMap": {},
     "title": ""
    }
   },
   "outputs": [
    {
     "output_type": "stream",
     "name": "stdout",
     "output_type": "stream",
     "text": [
      "+--------+--------------------+------+------+\n|    name|     charecteristics|weight|height|\n+--------+--------------------+------+------+\n|mahendra|{weight -> 73, he...|    73|    10|\n|    mahi|{weight -> 45, he...|    45|    11|\n|    ravi|{weight -> 60, he...|    60|    12|\n+--------+--------------------+------+------+\n\n"
     ]
    }
   ],
   "source": [
    "datax.show()"
   ]
  },
  {
   "cell_type": "code",
   "execution_count": 0,
   "metadata": {
    "application/vnd.databricks.v1+cell": {
     "cellMetadata": {
      "byteLimit": 2048000,
      "rowLimit": 10000
     },
     "inputWidgets": {},
     "nuid": "ebb5966c-f1aa-4f9f-a71f-9a59b7b5cc02",
     "showTitle": false,
     "tableResultSettingsMap": {},
     "title": ""
    }
   },
   "outputs": [],
   "source": [
    "from pyspark.sql.functions import array \n",
    "datax = datax.withColumn('chare', array(col('weight'), col('height')))"
   ]
  },
  {
   "cell_type": "code",
   "execution_count": 0,
   "metadata": {
    "application/vnd.databricks.v1+cell": {
     "cellMetadata": {
      "byteLimit": 2048000,
      "rowLimit": 10000
     },
     "inputWidgets": {},
     "nuid": "ddf634a3-055d-436e-881d-c073bdcd9b19",
     "showTitle": false,
     "tableResultSettingsMap": {},
     "title": ""
    }
   },
   "outputs": [
    {
     "output_type": "stream",
     "name": "stdout",
     "output_type": "stream",
     "text": [
      "+--------+--------------------+------+------+--------+\n|    name|     charecteristics|weight|height|   chare|\n+--------+--------------------+------+------+--------+\n|mahendra|{weight -> 73, he...|    73|    10|[73, 10]|\n|    mahi|{weight -> 45, he...|    45|    11|[45, 11]|\n|    ravi|{weight -> 60, he...|    60|    12|[60, 12]|\n+--------+--------------------+------+------+--------+\n\n"
     ]
    }
   ],
   "source": [
    "datax.show()"
   ]
  },
  {
   "cell_type": "code",
   "execution_count": 0,
   "metadata": {
    "application/vnd.databricks.v1+cell": {
     "cellMetadata": {
      "byteLimit": 2048000,
      "rowLimit": 10000
     },
     "inputWidgets": {},
     "nuid": "7b630c46-b67f-4ded-973f-a0162e584cfb",
     "showTitle": false,
     "tableResultSettingsMap": {},
     "title": ""
    }
   },
   "outputs": [],
   "source": [
    "da2=datax.select(col('name'), col('chare').alias('ids'))"
   ]
  },
  {
   "cell_type": "code",
   "execution_count": 0,
   "metadata": {
    "application/vnd.databricks.v1+cell": {
     "cellMetadata": {
      "byteLimit": 2048000,
      "rowLimit": 10000
     },
     "inputWidgets": {},
     "nuid": "ba4a97e6-1137-482f-bf61-b7b697cb3053",
     "showTitle": false,
     "tableResultSettingsMap": {},
     "title": ""
    }
   },
   "outputs": [
    {
     "output_type": "stream",
     "name": "stdout",
     "output_type": "stream",
     "text": [
      "+--------+--------+\n|    name|     ids|\n+--------+--------+\n|mahendra|[73, 10]|\n|    mahi|[45, 11]|\n|    ravi|[60, 12]|\n+--------+--------+\n\n"
     ]
    }
   ],
   "source": [
    "da2.show()"
   ]
  },
  {
   "cell_type": "code",
   "execution_count": 0,
   "metadata": {
    "application/vnd.databricks.v1+cell": {
     "cellMetadata": {
      "byteLimit": 2048000,
      "rowLimit": 10000
     },
     "inputWidgets": {},
     "nuid": "91dd079c-0579-4bc5-ab84-d082617bae00",
     "showTitle": false,
     "tableResultSettingsMap": {},
     "title": ""
    }
   },
   "outputs": [],
   "source": [
    "da2=da2.withColumn('id', col('ids')[1])"
   ]
  },
  {
   "cell_type": "code",
   "execution_count": 0,
   "metadata": {
    "application/vnd.databricks.v1+cell": {
     "cellMetadata": {
      "byteLimit": 2048000,
      "rowLimit": 10000
     },
     "inputWidgets": {},
     "nuid": "b16dcd32-ec3b-4aea-8359-2856e2f16505",
     "showTitle": false,
     "tableResultSettingsMap": {},
     "title": ""
    }
   },
   "outputs": [
    {
     "output_type": "stream",
     "name": "stdout",
     "output_type": "stream",
     "text": [
      "+--------+--------+---+\n|    name|     ids| id|\n+--------+--------+---+\n|mahendra|[73, 10]| 10|\n|    mahi|[45, 11]| 11|\n|    ravi|[60, 12]| 12|\n+--------+--------+---+\n\n"
     ]
    }
   ],
   "source": [
    "da2.show()"
   ]
  },
  {
   "cell_type": "code",
   "execution_count": 0,
   "metadata": {
    "application/vnd.databricks.v1+cell": {
     "cellMetadata": {
      "byteLimit": 2048000,
      "rowLimit": 10000
     },
     "inputWidgets": {},
     "nuid": "ec26e63f-9c55-4578-b71b-272d08e231d1",
     "showTitle": false,
     "tableResultSettingsMap": {},
     "title": ""
    }
   },
   "outputs": [],
   "source": [
    "da2=da2.withColumn('age', col('ids')[0].alias('age'))"
   ]
  },
  {
   "cell_type": "code",
   "execution_count": 0,
   "metadata": {
    "application/vnd.databricks.v1+cell": {
     "cellMetadata": {
      "byteLimit": 2048000,
      "rowLimit": 10000
     },
     "inputWidgets": {},
     "nuid": "ae215457-7b73-424a-87c9-39fa05e6cfda",
     "showTitle": false,
     "tableResultSettingsMap": {},
     "title": ""
    }
   },
   "outputs": [
    {
     "output_type": "stream",
     "name": "stdout",
     "output_type": "stream",
     "text": [
      "+--------+--------+---+---+\n|    name|     ids| id|age|\n+--------+--------+---+---+\n|mahendra|[73, 10]| 10| 73|\n|    mahi|[45, 11]| 11| 45|\n|    ravi|[60, 12]| 12| 60|\n+--------+--------+---+---+\n\n"
     ]
    }
   ],
   "source": [
    "da2.show()"
   ]
  },
  {
   "cell_type": "code",
   "execution_count": 0,
   "metadata": {
    "application/vnd.databricks.v1+cell": {
     "cellMetadata": {
      "byteLimit": 2048000,
      "rowLimit": 10000
     },
     "inputWidgets": {},
     "nuid": "06170747-51f5-48c0-ae44-0864532f4727",
     "showTitle": false,
     "tableResultSettingsMap": {},
     "title": ""
    }
   },
   "outputs": [],
   "source": [
    "from pyspark.sql.functions import *\n",
    "da3=da2.withColumn('details', explode(col('ids')))"
   ]
  },
  {
   "cell_type": "code",
   "execution_count": 0,
   "metadata": {
    "application/vnd.databricks.v1+cell": {
     "cellMetadata": {
      "byteLimit": 2048000,
      "rowLimit": 10000
     },
     "inputWidgets": {},
     "nuid": "a1b7f0db-3ca1-487c-b7b0-6691d32e5cb5",
     "showTitle": false,
     "tableResultSettingsMap": {},
     "title": ""
    }
   },
   "outputs": [
    {
     "output_type": "stream",
     "name": "stdout",
     "output_type": "stream",
     "text": [
      "+--------+--------+---+---+-------+\n|    name|     ids| id|age|details|\n+--------+--------+---+---+-------+\n|mahendra|[73, 10]| 10| 73|     73|\n|mahendra|[73, 10]| 10| 73|     10|\n|    mahi|[45, 11]| 11| 45|     45|\n|    mahi|[45, 11]| 11| 45|     11|\n|    ravi|[60, 12]| 12| 60|     60|\n|    ravi|[60, 12]| 12| 60|     12|\n+--------+--------+---+---+-------+\n\n"
     ]
    }
   ],
   "source": [
    "da3.show()"
   ]
  },
  {
   "cell_type": "code",
   "execution_count": 0,
   "metadata": {
    "application/vnd.databricks.v1+cell": {
     "cellMetadata": {
      "byteLimit": 2048000,
      "rowLimit": 10000
     },
     "inputWidgets": {},
     "nuid": "ca7abac0-fe9d-441f-9319-d6e7da2374fd",
     "showTitle": false,
     "tableResultSettingsMap": {},
     "title": ""
    }
   },
   "outputs": [],
   "source": [
    "dac=da2.withColumn('valuesgreaterthan60', array_contains(col('ids'), 70))"
   ]
  },
  {
   "cell_type": "code",
   "execution_count": 0,
   "metadata": {
    "application/vnd.databricks.v1+cell": {
     "cellMetadata": {
      "byteLimit": 2048000,
      "rowLimit": 10000
     },
     "inputWidgets": {},
     "nuid": "c58bc3ea-1056-4afe-810a-ffc0a1c2bd16",
     "showTitle": false,
     "tableResultSettingsMap": {},
     "title": ""
    }
   },
   "outputs": [
    {
     "output_type": "stream",
     "name": "stdout",
     "output_type": "stream",
     "text": [
      "+--------+--------+---+---+-------------------+\n|    name|     ids| id|age|valuesgreaterthan60|\n+--------+--------+---+---+-------------------+\n|mahendra|[73, 10]| 10| 73|              false|\n|    mahi|[45, 11]| 11| 45|              false|\n|    ravi|[60, 12]| 12| 60|              false|\n+--------+--------+---+---+-------------------+\n\n"
     ]
    }
   ],
   "source": [
    "dac.show()"
   ]
  },
  {
   "cell_type": "code",
   "execution_count": 0,
   "metadata": {
    "application/vnd.databricks.v1+cell": {
     "cellMetadata": {
      "byteLimit": 2048000,
      "rowLimit": 10000
     },
     "inputWidgets": {},
     "nuid": "f1d75fa3-a0d7-4b7a-88db-7c4adf0f815f",
     "showTitle": false,
     "tableResultSettingsMap": {},
     "title": ""
    }
   },
   "outputs": [
    {
     "output_type": "stream",
     "name": "stdout",
     "output_type": "stream",
     "text": [
      "+--------+-------+\n|    name|details|\n+--------+-------+\n|mahendra|     73|\n|mahendra|     10|\n|    mahi|     45|\n|    mahi|     11|\n|    ravi|     60|\n|    ravi|     12|\n+--------+-------+\n\n"
     ]
    }
   ],
   "source": [
    "da3.select(col('name'), col('details')).show()"
   ]
  },
  {
   "cell_type": "code",
   "execution_count": 0,
   "metadata": {
    "application/vnd.databricks.v1+cell": {
     "cellMetadata": {
      "byteLimit": 2048000,
      "rowLimit": 10000
     },
     "inputWidgets": {},
     "nuid": "c4ccc202-74f2-459b-8b1d-bea81ad80720",
     "showTitle": false,
     "tableResultSettingsMap": {},
     "title": ""
    }
   },
   "outputs": [],
   "source": [
    "datay = [\n",
    "    (1, 'mahi', '4000, 3000'), \n",
    "    (2, 'mahendra', '5000, 9000'),\n",
    "    (3, 'sam', '6000, 3200')\n",
    "]"
   ]
  },
  {
   "cell_type": "code",
   "execution_count": 0,
   "metadata": {
    "application/vnd.databricks.v1+cell": {
     "cellMetadata": {
      "byteLimit": 2048000,
      "rowLimit": 10000
     },
     "inputWidgets": {},
     "nuid": "5ad59bd0-8def-4e44-8db1-b048d03f7969",
     "showTitle": false,
     "tableResultSettingsMap": {},
     "title": ""
    }
   },
   "outputs": [],
   "source": [
    "datay = spark.createDataFrame(datay, schema=['id', 'name', 'salary'])"
   ]
  },
  {
   "cell_type": "code",
   "execution_count": 0,
   "metadata": {
    "application/vnd.databricks.v1+cell": {
     "cellMetadata": {
      "byteLimit": 2048000,
      "rowLimit": 10000
     },
     "inputWidgets": {},
     "nuid": "e17d0bef-0244-47fa-9e97-c846041f5da0",
     "showTitle": false,
     "tableResultSettingsMap": {},
     "title": ""
    }
   },
   "outputs": [
    {
     "output_type": "stream",
     "name": "stdout",
     "output_type": "stream",
     "text": [
      "+---+--------+----------+\n|id |name    |salary    |\n+---+--------+----------+\n|1  |mahi    |4000, 3000|\n|2  |mahendra|5000, 9000|\n|3  |sam     |6000, 3200|\n+---+--------+----------+\n\n"
     ]
    }
   ],
   "source": [
    "datay.show(truncate=False)"
   ]
  },
  {
   "cell_type": "code",
   "execution_count": 0,
   "metadata": {
    "application/vnd.databricks.v1+cell": {
     "cellMetadata": {
      "byteLimit": 2048000,
      "rowLimit": 10000
     },
     "inputWidgets": {},
     "nuid": "2e15c0ef-b853-4f3a-aca3-652f14f5741a",
     "showTitle": false,
     "tableResultSettingsMap": {},
     "title": ""
    }
   },
   "outputs": [],
   "source": [
    "datay=datay.withColumn('salaries', split(col('salary'),','))"
   ]
  },
  {
   "cell_type": "code",
   "execution_count": 0,
   "metadata": {
    "application/vnd.databricks.v1+cell": {
     "cellMetadata": {
      "byteLimit": 2048000,
      "rowLimit": 10000
     },
     "inputWidgets": {},
     "nuid": "410c35cf-6661-4961-91b7-106a2d7d8291",
     "showTitle": false,
     "tableResultSettingsMap": {},
     "title": ""
    }
   },
   "outputs": [
    {
     "output_type": "stream",
     "name": "stdout",
     "output_type": "stream",
     "text": [
      "+---+--------+----------+-------------+\n| id|    name|    salary|     salaries|\n+---+--------+----------+-------------+\n|  1|    mahi|4000, 3000|[4000,  3000]|\n|  2|mahendra|5000, 9000|[5000,  9000]|\n|  3|     sam|6000, 3200|[6000,  3200]|\n+---+--------+----------+-------------+\n\n"
     ]
    }
   ],
   "source": [
    "datay.show()"
   ]
  },
  {
   "cell_type": "code",
   "execution_count": 0,
   "metadata": {
    "application/vnd.databricks.v1+cell": {
     "cellMetadata": {
      "byteLimit": 2048000,
      "rowLimit": 10000
     },
     "inputWidgets": {},
     "nuid": "4a71cca5-d813-4c3d-a0f9-b9836e3404c2",
     "showTitle": false,
     "tableResultSettingsMap": {},
     "title": ""
    }
   },
   "outputs": [],
   "source": [
    "datay = datay.withColumns({'salary1': col('salaries')[0], \n",
    "                          'salary2': col('salaries')[1]})"
   ]
  },
  {
   "cell_type": "code",
   "execution_count": 0,
   "metadata": {
    "application/vnd.databricks.v1+cell": {
     "cellMetadata": {
      "byteLimit": 2048000,
      "rowLimit": 10000
     },
     "inputWidgets": {},
     "nuid": "2263cbca-eb31-4adf-8a5f-c7de0dffb626",
     "showTitle": false,
     "tableResultSettingsMap": {},
     "title": ""
    }
   },
   "outputs": [
    {
     "output_type": "stream",
     "name": "stdout",
     "output_type": "stream",
     "text": [
      "+---+--------+----------+-------------+-------+-------+\n| id|    name|    salary|     salaries|salary1|salary2|\n+---+--------+----------+-------------+-------+-------+\n|  1|    mahi|4000, 3000|[4000,  3000]|   4000|   3000|\n|  2|mahendra|5000, 9000|[5000,  9000]|   5000|   9000|\n|  3|     sam|6000, 3200|[6000,  3200]|   6000|   3200|\n+---+--------+----------+-------------+-------+-------+\n\n"
     ]
    }
   ],
   "source": [
    "datay.show()"
   ]
  },
  {
   "cell_type": "code",
   "execution_count": 0,
   "metadata": {
    "application/vnd.databricks.v1+cell": {
     "cellMetadata": {
      "byteLimit": 2048000,
      "rowLimit": 10000
     },
     "inputWidgets": {},
     "nuid": "1ddba802-0b4d-4f71-80a2-401cb49656d6",
     "showTitle": false,
     "tableResultSettingsMap": {},
     "title": ""
    }
   },
   "outputs": [],
   "source": [
    "datau = datay.select(col('id'), col('salaries')[0].alias('salary'), \n",
    "                     col('salaries')[1].alias('updated_salary'))"
   ]
  },
  {
   "cell_type": "code",
   "execution_count": 0,
   "metadata": {
    "application/vnd.databricks.v1+cell": {
     "cellMetadata": {
      "byteLimit": 2048000,
      "rowLimit": 10000
     },
     "inputWidgets": {},
     "nuid": "6dd7b57b-743f-4301-9485-1764510b4405",
     "showTitle": false,
     "tableResultSettingsMap": {},
     "title": ""
    }
   },
   "outputs": [
    {
     "output_type": "stream",
     "name": "stdout",
     "output_type": "stream",
     "text": [
      "+---+------+--------------+\n| id|salary|updated_salary|\n+---+------+--------------+\n|  1|  4000|          3000|\n|  2|  5000|          9000|\n|  3|  6000|          3200|\n+---+------+--------------+\n\n"
     ]
    }
   ],
   "source": [
    "datau.show()"
   ]
  },
  {
   "cell_type": "code",
   "execution_count": 0,
   "metadata": {
    "application/vnd.databricks.v1+cell": {
     "cellMetadata": {
      "byteLimit": 2048000,
      "rowLimit": 10000
     },
     "inputWidgets": {},
     "nuid": "e4fcecff-5c1d-4e15-af79-a9ea109e565b",
     "showTitle": false,
     "tableResultSettingsMap": {},
     "title": ""
    }
   },
   "outputs": [
    {
     "output_type": "stream",
     "name": "stdout",
     "output_type": "stream",
     "text": [
      "+---+------+\n| id|salary|\n+---+------+\n|  2|  5000|\n|  3|  6000|\n+---+------+\n\n"
     ]
    }
   ],
   "source": [
    "datau.select(col('id'), col('salary')).where(col('salary')>4000).show()"
   ]
  },
  {
   "cell_type": "code",
   "execution_count": 0,
   "metadata": {
    "application/vnd.databricks.v1+cell": {
     "cellMetadata": {
      "byteLimit": 2048000,
      "rowLimit": 10000
     },
     "inputWidgets": {},
     "nuid": "f1181aab-04b3-454e-9ce8-66a6964deb80",
     "showTitle": false,
     "tableResultSettingsMap": {},
     "title": ""
    }
   },
   "outputs": [
    {
     "output_type": "stream",
     "name": "stdout",
     "output_type": "stream",
     "text": [
      "+---+------+---+------+--------------+----------+--------------+--------+\n| id|  name|age|salary|    department|manager_id|updated_salary|location|\n+---+------+---+------+--------------+----------+--------------+--------+\n|  1|yogesh| 40| 50000|          Data|         4|         60000|   India|\n|  2|  hari| 50| 30000|          Test|         2|         36000|      UK|\n|  3| gowri| 34| 63000|Data Analytics|         1|         75600|     USA|\n|  4| umesh| 42| 78000|          Data|         2|         93600|   India|\n|  5|  teju| 24| 43000|       Finance|         1|         51600|     USA|\n+---+------+---+------+--------------+----------+--------------+--------+\n\n"
     ]
    }
   ],
   "source": [
    "df.show()"
   ]
  },
  {
   "cell_type": "code",
   "execution_count": 0,
   "metadata": {
    "application/vnd.databricks.v1+cell": {
     "cellMetadata": {
      "byteLimit": 2048000,
      "rowLimit": 10000
     },
     "inputWidgets": {},
     "nuid": "65846542-fff0-4d61-a117-50f6887990cb",
     "showTitle": false,
     "tableResultSettingsMap": {},
     "title": ""
    }
   },
   "outputs": [
    {
     "output_type": "stream",
     "name": "stdout",
     "output_type": "stream",
     "text": [
      "+--------+-----+\n|location|count|\n+--------+-----+\n|   India|    2|\n|      UK|    1|\n|     USA|    2|\n+--------+-----+\n\n"
     ]
    }
   ],
   "source": [
    "df.groupBy(col('location')).count().show()"
   ]
  },
  {
   "cell_type": "code",
   "execution_count": 0,
   "metadata": {
    "application/vnd.databricks.v1+cell": {
     "cellMetadata": {
      "byteLimit": 2048000,
      "rowLimit": 10000
     },
     "inputWidgets": {},
     "nuid": "c164c5d7-9f34-4736-9843-b1686aa6cf8b",
     "showTitle": false,
     "tableResultSettingsMap": {},
     "title": ""
    }
   },
   "outputs": [
    {
     "output_type": "stream",
     "name": "stdout",
     "output_type": "stream",
     "text": [
      "+--------------+----------------+-----------------+--------------+\n|    department|dept_wise_salary|numberofemployees|averagaesalary|\n+--------------+----------------+-----------------+--------------+\n|          Data|          128000|                2|       64000.0|\n|          Test|           30000|                1|       30000.0|\n|Data Analytics|           63000|                1|       63000.0|\n|       Finance|           43000|                1|       43000.0|\n+--------------+----------------+-----------------+--------------+\n\n"
     ]
    }
   ],
   "source": [
    "df.groupBy('department').agg(\n",
    "    sum('salary').alias('dept_wise_salary'), \n",
    "    count('id').alias('numberofemployees'), \n",
    "    avg('salary').alias('averagaesalary')\n",
    ").show()"
   ]
  },
  {
   "cell_type": "code",
   "execution_count": 0,
   "metadata": {
    "application/vnd.databricks.v1+cell": {
     "cellMetadata": {
      "byteLimit": 2048000,
      "rowLimit": 10000
     },
     "inputWidgets": {},
     "nuid": "c74f74fc-276b-4ac6-8158-c20d279fbb1e",
     "showTitle": false,
     "tableResultSettingsMap": {},
     "title": ""
    }
   },
   "outputs": [
    {
     "output_type": "stream",
     "name": "stdout",
     "output_type": "stream",
     "text": [
      "+---+------+---+------+--------------+----------+--------------+--------+\n| id|  name|age|salary|    department|manager_id|updated_salary|location|\n+---+------+---+------+--------------+----------+--------------+--------+\n|  1|yogesh| 40| 50000|          Data|         4|         60000|   India|\n|  2|  hari| 50| 30000|          Test|         2|         36000|      UK|\n|  3| gowri| 34| 63000|Data Analytics|         1|         75600|     USA|\n|  4| umesh| 42| 78000|          Data|         2|         93600|   India|\n|  5|  teju| 24| 43000|       Finance|         1|         51600|     USA|\n+---+------+---+------+--------------+----------+--------------+--------+\n\n"
     ]
    }
   ],
   "source": [
    "df.show()"
   ]
  },
  {
   "cell_type": "code",
   "execution_count": 0,
   "metadata": {
    "application/vnd.databricks.v1+cell": {
     "cellMetadata": {
      "byteLimit": 2048000,
      "rowLimit": 10000
     },
     "inputWidgets": {},
     "nuid": "0378bbc4-dbf3-4282-85b9-19d8880f94fd",
     "showTitle": false,
     "tableResultSettingsMap": {},
     "title": ""
    }
   },
   "outputs": [],
   "source": [
    "df4=df.drop('location')"
   ]
  },
  {
   "cell_type": "code",
   "execution_count": 0,
   "metadata": {
    "application/vnd.databricks.v1+cell": {
     "cellMetadata": {
      "byteLimit": 2048000,
      "rowLimit": 10000
     },
     "inputWidgets": {},
     "nuid": "010e5c13-883d-439f-bd8f-093fb2c3fcfb",
     "showTitle": false,
     "tableResultSettingsMap": {},
     "title": ""
    }
   },
   "outputs": [
    {
     "output_type": "stream",
     "name": "stdout",
     "output_type": "stream",
     "text": [
      "+---+------+---+------+--------------+----------+--------------+\n| id|  name|age|salary|    department|manager_id|updated_salary|\n+---+------+---+------+--------------+----------+--------------+\n|  1|yogesh| 40| 50000|          Data|         4|         60000|\n|  2|  hari| 50| 30000|          Test|         2|         36000|\n|  3| gowri| 34| 63000|Data Analytics|         1|         75600|\n|  4| umesh| 42| 78000|          Data|         2|         93600|\n|  5|  teju| 24| 43000|       Finance|         1|         51600|\n+---+------+---+------+--------------+----------+--------------+\n\n"
     ]
    }
   ],
   "source": [
    "df4.show()"
   ]
  },
  {
   "cell_type": "code",
   "execution_count": 0,
   "metadata": {
    "application/vnd.databricks.v1+cell": {
     "cellMetadata": {
      "byteLimit": 2048000,
      "rowLimit": 10000
     },
     "inputWidgets": {},
     "nuid": "570d33f8-5126-4c76-8708-efe45a2f042d",
     "showTitle": false,
     "tableResultSettingsMap": {},
     "title": ""
    }
   },
   "outputs": [],
   "source": [
    "df4=df4.drop('updated_salary')"
   ]
  },
  {
   "cell_type": "code",
   "execution_count": 0,
   "metadata": {
    "application/vnd.databricks.v1+cell": {
     "cellMetadata": {
      "byteLimit": 2048000,
      "rowLimit": 10000
     },
     "inputWidgets": {},
     "nuid": "c31a5a2d-d363-4b59-a589-653e16333dec",
     "showTitle": false,
     "tableResultSettingsMap": {},
     "title": ""
    }
   },
   "outputs": [
    {
     "output_type": "stream",
     "name": "stdout",
     "output_type": "stream",
     "text": [
      "+---+------+---+------+--------------+----------+\n| id|  name|age|salary|    department|manager_id|\n+---+------+---+------+--------------+----------+\n|  1|yogesh| 40| 50000|          Data|         4|\n|  2|  hari| 50| 30000|          Test|         2|\n|  3| gowri| 34| 63000|Data Analytics|         1|\n|  4| umesh| 42| 78000|          Data|         2|\n|  5|  teju| 24| 43000|       Finance|         1|\n+---+------+---+------+--------------+----------+\n\n"
     ]
    }
   ],
   "source": [
    "df4.show()"
   ]
  },
  {
   "cell_type": "code",
   "execution_count": 0,
   "metadata": {
    "application/vnd.databricks.v1+cell": {
     "cellMetadata": {},
     "inputWidgets": {},
     "nuid": "398189b6-5190-4bfa-9417-14b1b6d8024b",
     "showTitle": false,
     "tableResultSettingsMap": {},
     "title": ""
    }
   },
   "outputs": [],
   "source": []
  }
 ],
 "metadata": {
  "application/vnd.databricks.v1+notebook": {
   "computePreferences": null,
   "dashboards": [],
   "environmentMetadata": {
    "base_environment": "",
    "environment_version": "1"
   },
   "inputWidgetPreferences": null,
   "language": "python",
   "notebookMetadata": {
    "pythonIndentUnit": 4
   },
   "notebookName": "note1",
   "widgets": {}
  }
 },
 "nbformat": 4,
 "nbformat_minor": 0
}