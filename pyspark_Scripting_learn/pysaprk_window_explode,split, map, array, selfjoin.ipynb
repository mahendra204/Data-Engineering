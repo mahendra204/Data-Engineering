{
 "cells": [
  {
   "cell_type": "code",
   "execution_count": 0,
   "metadata": {
    "application/vnd.databricks.v1+cell": {
     "cellMetadata": {
      "byteLimit": 2048000,
      "rowLimit": 10000
     },
     "inputWidgets": {},
     "nuid": "7c54f93b-f20c-40d4-9594-72b5c0f7b910",
     "showTitle": false,
     "tableResultSettingsMap": {},
     "title": ""
    }
   },
   "outputs": [],
   "source": [
    "data1 = [\n",
    "    (1, 'hari', ['Data', 50000], 45), \n",
    "    (2, 'gani', ['Software', 60000], 34),\n",
    "    (3, 'das', ['Data', 43000], 29),\n",
    "    (4, 'bosh', ['Finance', 35000], 56),\n",
    "    (5, 'teju', ['Software', 55000], 45)\n",
    "]\n",
    "sch1 = ['id', 'name', 'department_salary', 'age']"
   ]
  },
  {
   "cell_type": "code",
   "execution_count": 0,
   "metadata": {
    "application/vnd.databricks.v1+cell": {
     "cellMetadata": {
      "byteLimit": 2048000,
      "rowLimit": 10000
     },
     "inputWidgets": {},
     "nuid": "911caec4-368b-4386-8b32-42d07d021790",
     "showTitle": false,
     "tableResultSettingsMap": {},
     "title": ""
    }
   },
   "outputs": [
    {
     "output_type": "stream",
     "name": "stdout",
     "output_type": "stream",
     "text": [
      "+---+----+-----------------+---+\n| id|name|department_salary|age|\n+---+----+-----------------+---+\n|  1|hari|    [Data, 50000]| 45|\n|  2|gani|[Software, 60000]| 34|\n|  3| das|    [Data, 43000]| 29|\n|  4|bosh| [Finance, 35000]| 56|\n|  5|teju|[Software, 55000]| 45|\n+---+----+-----------------+---+\n\n"
     ]
    }
   ],
   "source": [
    "data1_df = spark.createDataFrame(data1, schema=sch1)\n",
    "data1_df.show()"
   ]
  },
  {
   "cell_type": "code",
   "execution_count": 0,
   "metadata": {
    "application/vnd.databricks.v1+cell": {
     "cellMetadata": {
      "byteLimit": 2048000,
      "rowLimit": 10000
     },
     "inputWidgets": {},
     "nuid": "fc921513-f8a6-4c63-a144-10b3444791c9",
     "showTitle": false,
     "tableResultSettingsMap": {},
     "title": ""
    }
   },
   "outputs": [],
   "source": [
    "from pyspark.sql.functions import *\n",
    "data1_df = data1_df.withColumn('mgr_id', when(col('age')>50, 2)\\\n",
    "                        .when(col('age')<30, 1)\\\n",
    "                        .otherwise(3))"
   ]
  },
  {
   "cell_type": "code",
   "execution_count": 0,
   "metadata": {
    "application/vnd.databricks.v1+cell": {
     "cellMetadata": {
      "byteLimit": 2048000,
      "rowLimit": 10000
     },
     "inputWidgets": {},
     "nuid": "8d8a9069-b09f-4201-a66c-dcec769390a8",
     "showTitle": false,
     "tableResultSettingsMap": {},
     "title": ""
    }
   },
   "outputs": [
    {
     "output_type": "stream",
     "name": "stdout",
     "output_type": "stream",
     "text": [
      "+---+----+-----------------+---+------+\n| id|name|department_salary|age|mgr_id|\n+---+----+-----------------+---+------+\n|  1|hari|    [Data, 50000]| 45|     3|\n|  2|gani|[Software, 60000]| 34|     3|\n|  3| das|    [Data, 43000]| 29|     1|\n|  4|bosh| [Finance, 35000]| 56|     2|\n|  5|teju|[Software, 55000]| 45|     3|\n+---+----+-----------------+---+------+\n\n"
     ]
    }
   ],
   "source": [
    "data1_df.show()"
   ]
  },
  {
   "cell_type": "code",
   "execution_count": 0,
   "metadata": {
    "application/vnd.databricks.v1+cell": {
     "cellMetadata": {
      "byteLimit": 2048000,
      "rowLimit": 10000
     },
     "inputWidgets": {},
     "nuid": "5cc21a73-5dc3-4bef-93ff-78b019d73f9e",
     "showTitle": false,
     "tableResultSettingsMap": {},
     "title": ""
    }
   },
   "outputs": [
    {
     "output_type": "stream",
     "name": "stdout",
     "output_type": "stream",
     "text": [
      "root\n |-- id: long (nullable = true)\n |-- name: string (nullable = true)\n |-- department_salary: array (nullable = true)\n |    |-- element: string (containsNull = true)\n |-- age: long (nullable = true)\n |-- mgr_id: integer (nullable = false)\n\n"
     ]
    }
   ],
   "source": [
    "data1_df.printSchema()"
   ]
  },
  {
   "cell_type": "code",
   "execution_count": 0,
   "metadata": {
    "application/vnd.databricks.v1+cell": {
     "cellMetadata": {
      "byteLimit": 2048000,
      "rowLimit": 10000
     },
     "inputWidgets": {},
     "nuid": "855a5b04-9e2c-4097-920b-4d67557acbaf",
     "showTitle": false,
     "tableResultSettingsMap": {},
     "title": ""
    }
   },
   "outputs": [],
   "source": [
    "from pyspark.sql.functions import *\n",
    "from pyspark.sql.types import *"
   ]
  },
  {
   "cell_type": "code",
   "execution_count": 0,
   "metadata": {
    "application/vnd.databricks.v1+cell": {
     "cellMetadata": {
      "byteLimit": 2048000,
      "rowLimit": 10000
     },
     "inputWidgets": {},
     "nuid": "3242e7e0-f7fd-45c2-9bdb-c66d42341830",
     "showTitle": false,
     "tableResultSettingsMap": {},
     "title": ""
    }
   },
   "outputs": [
    {
     "output_type": "stream",
     "name": "stdout",
     "output_type": "stream",
     "text": [
      "+---+----+-----------------+---+------+------+----------+\n| id|name|department_salary|age|mgr_id|salary|department|\n+---+----+-----------------+---+------+------+----------+\n|  1|hari|    [Data, 50000]| 45|     3| 55000|      Data|\n|  2|gani|[Software, 60000]| 34|     3| 66000|  Software|\n|  3| das|    [Data, 43000]| 29|     1| 47300|      Data|\n|  4|bosh| [Finance, 35000]| 56|     2| 38500|   Finance|\n|  5|teju|[Software, 55000]| 45|     3| 60500|  Software|\n+---+----+-----------------+---+------+------+----------+\n\n"
     ]
    }
   ],
   "source": [
    "data1_df=data1_df.withColumn('salary', col=(col('department_salary')[1]*1.1).cast(IntegerType()))\\\n",
    "    .withColumn('department', col=col('department_salary')[0])\n",
    "data1_df.show()"
   ]
  },
  {
   "cell_type": "code",
   "execution_count": 0,
   "metadata": {
    "application/vnd.databricks.v1+cell": {
     "cellMetadata": {
      "byteLimit": 2048000,
      "rowLimit": 10000
     },
     "inputWidgets": {},
     "nuid": "16e5e50c-e9fe-43d6-b7f1-ab6254ece27b",
     "showTitle": false,
     "tableResultSettingsMap": {},
     "title": ""
    }
   },
   "outputs": [
    {
     "output_type": "stream",
     "name": "stdout",
     "output_type": "stream",
     "text": [
      "root\n |-- id: long (nullable = true)\n |-- name: string (nullable = true)\n |-- department_salary: array (nullable = true)\n |    |-- element: string (containsNull = true)\n |-- age: long (nullable = true)\n |-- mgr_id: integer (nullable = false)\n |-- salary: integer (nullable = true)\n |-- department: string (nullable = true)\n\n"
     ]
    }
   ],
   "source": [
    "data1_df.printSchema()"
   ]
  },
  {
   "cell_type": "code",
   "execution_count": 0,
   "metadata": {
    "application/vnd.databricks.v1+cell": {
     "cellMetadata": {
      "byteLimit": 2048000,
      "rowLimit": 10000
     },
     "inputWidgets": {},
     "nuid": "55170047-e016-4941-9fbc-a44ff847b94c",
     "showTitle": false,
     "tableResultSettingsMap": {},
     "title": ""
    }
   },
   "outputs": [
    {
     "output_type": "stream",
     "name": "stdout",
     "output_type": "stream",
     "text": [
      "+---+----+-----------------+---+------+------+----------+-----------------+\n| id|name|department_salary|age|mgr_id|salary|department|      salary_dept|\n+---+----+-----------------+---+------+------+----------+-----------------+\n|  1|hari|    [Data, 50000]| 45|     3| 55000|      Data|    [55000, Data]|\n|  2|gani|[Software, 60000]| 34|     3| 66000|  Software|[66000, Software]|\n|  3| das|    [Data, 43000]| 29|     1| 47300|      Data|    [47300, Data]|\n|  4|bosh| [Finance, 35000]| 56|     2| 38500|   Finance| [38500, Finance]|\n|  5|teju|[Software, 55000]| 45|     3| 60500|  Software|[60500, Software]|\n+---+----+-----------------+---+------+------+----------+-----------------+\n\n"
     ]
    }
   ],
   "source": [
    "data1_df.withColumn('salary_dept', col= array(['salary', 'department'])).show()"
   ]
  },
  {
   "cell_type": "code",
   "execution_count": 0,
   "metadata": {
    "application/vnd.databricks.v1+cell": {
     "cellMetadata": {
      "byteLimit": 2048000,
      "rowLimit": 10000
     },
     "inputWidgets": {},
     "nuid": "2ad01616-1ca2-4709-b2d6-5150fda8af1d",
     "showTitle": false,
     "tableResultSettingsMap": {},
     "title": ""
    }
   },
   "outputs": [
    {
     "output_type": "stream",
     "name": "stdout",
     "output_type": "stream",
     "text": [
      "+---+----+-----------+\n| id|name|dept&salary|\n+---+----+-----------+\n|  1|hari|       Data|\n|  1|hari|      50000|\n|  2|gani|   Software|\n|  2|gani|      60000|\n|  3| das|       Data|\n|  3| das|      43000|\n|  4|bosh|    Finance|\n|  4|bosh|      35000|\n|  5|teju|   Software|\n|  5|teju|      55000|\n+---+----+-----------+\n\n"
     ]
    }
   ],
   "source": [
    "data1_df.select('id', 'name', explode('department_salary').alias('dept&salary')).show()"
   ]
  },
  {
   "cell_type": "code",
   "execution_count": 0,
   "metadata": {
    "application/vnd.databricks.v1+cell": {
     "cellMetadata": {
      "byteLimit": 2048000,
      "rowLimit": 10000
     },
     "inputWidgets": {},
     "nuid": "a9f0ae61-ab51-469c-8363-e979c70e4fcc",
     "showTitle": false,
     "tableResultSettingsMap": {},
     "title": ""
    }
   },
   "outputs": [
    {
     "output_type": "stream",
     "name": "stdout",
     "output_type": "stream",
     "text": [
      "+---+----+------+----------+\n| id|name|salary|department|\n+---+----+------+----------+\n|  5|teju| 60500|  Software|\n+---+----+------+----------+\n\n"
     ]
    }
   ],
   "source": [
    "data1_df.select('id', 'name', 'salary', 'department')\\\n",
    "    .where(col('id')>4).show()"
   ]
  },
  {
   "cell_type": "code",
   "execution_count": 0,
   "metadata": {
    "application/vnd.databricks.v1+cell": {
     "cellMetadata": {
      "byteLimit": 2048000,
      "rowLimit": 10000
     },
     "inputWidgets": {},
     "nuid": "f7b48f0b-7725-4f7e-9962-b489ff66b6f8",
     "showTitle": false,
     "tableResultSettingsMap": {},
     "title": ""
    }
   },
   "outputs": [
    {
     "output_type": "stream",
     "name": "stdout",
     "output_type": "stream",
     "text": [
      "+---+----+------+\n| id|name|salary|\n+---+----+------+\n|  1|hari| 55000|\n+---+----+------+\n\n"
     ]
    }
   ],
   "source": [
    "data1_df.select('id', 'name', 'salary')\\\n",
    "    .where((col('salary')>50000) & (col('department')=='Data')).show()"
   ]
  },
  {
   "cell_type": "code",
   "execution_count": 0,
   "metadata": {
    "application/vnd.databricks.v1+cell": {
     "cellMetadata": {
      "byteLimit": 2048000,
      "rowLimit": 10000
     },
     "inputWidgets": {},
     "nuid": "e413a668-619d-43b7-bcdf-cfc6a15ce72f",
     "showTitle": false,
     "tableResultSettingsMap": {},
     "title": ""
    }
   },
   "outputs": [
    {
     "output_type": "stream",
     "name": "stdout",
     "output_type": "stream",
     "text": [
      "+---+----+------+\n| id|name|salary|\n+---+----+------+\n|  1|hari| 55000|\n|  2|gani| 66000|\n|  3| das| 47300|\n|  5|teju| 60500|\n+---+----+------+\n\n"
     ]
    }
   ],
   "source": [
    "data1_df.select('id', 'name', 'salary')\\\n",
    "    .where((col('salary')>50000) | (col('department')=='Data')).show()"
   ]
  },
  {
   "cell_type": "code",
   "execution_count": 0,
   "metadata": {
    "application/vnd.databricks.v1+cell": {
     "cellMetadata": {
      "byteLimit": 2048000,
      "rowLimit": 10000
     },
     "inputWidgets": {},
     "nuid": "95f081d7-e144-4450-881d-c7289f370d59",
     "showTitle": false,
     "tableResultSettingsMap": {},
     "title": ""
    }
   },
   "outputs": [
    {
     "output_type": "stream",
     "name": "stdout",
     "output_type": "stream",
     "text": [
      "+----------+-----+\n|department|count|\n+----------+-----+\n|      Data|    2|\n|  Software|    2|\n|   Finance|    1|\n+----------+-----+\n\n"
     ]
    }
   ],
   "source": [
    "data1_df.groupBy('department').count().show()"
   ]
  },
  {
   "cell_type": "code",
   "execution_count": 0,
   "metadata": {
    "application/vnd.databricks.v1+cell": {
     "cellMetadata": {
      "byteLimit": 2048000,
      "rowLimit": 10000
     },
     "inputWidgets": {},
     "nuid": "3508451a-043c-44e6-b68c-78801f58340a",
     "showTitle": false,
     "tableResultSettingsMap": {},
     "title": ""
    }
   },
   "outputs": [
    {
     "output_type": "stream",
     "name": "stdout",
     "output_type": "stream",
     "text": [
      "+----------+-----------+\n|department|sum(salary)|\n+----------+-----------+\n|      Data|     102300|\n|  Software|     126500|\n|   Finance|      38500|\n+----------+-----------+\n\n"
     ]
    }
   ],
   "source": [
    "data1_df.groupBy('department').sum('salary').show()"
   ]
  },
  {
   "cell_type": "code",
   "execution_count": 0,
   "metadata": {
    "application/vnd.databricks.v1+cell": {
     "cellMetadata": {
      "byteLimit": 2048000,
      "rowLimit": 10000
     },
     "inputWidgets": {},
     "nuid": "8d6eef9f-0093-4613-b893-2830d0ad23c7",
     "showTitle": false,
     "tableResultSettingsMap": {},
     "title": ""
    }
   },
   "outputs": [
    {
     "output_type": "stream",
     "name": "stdout",
     "output_type": "stream",
     "text": [
      "+----------+----+-----------+\n|department|name|sum(salary)|\n+----------+----+-----------+\n|      Data|hari|      55000|\n|  Software|gani|      66000|\n|      Data| das|      47300|\n|   Finance|bosh|      38500|\n|  Software|teju|      60500|\n+----------+----+-----------+\n\n"
     ]
    }
   ],
   "source": [
    "data1_df.groupBy(['department', 'name']).sum('salary').show()"
   ]
  },
  {
   "cell_type": "code",
   "execution_count": 0,
   "metadata": {
    "application/vnd.databricks.v1+cell": {
     "cellMetadata": {
      "byteLimit": 2048000,
      "rowLimit": 10000
     },
     "inputWidgets": {},
     "nuid": "c194258a-02d6-4079-9cef-2dbdb23c81ec",
     "showTitle": false,
     "tableResultSettingsMap": {},
     "title": ""
    }
   },
   "outputs": [
    {
     "output_type": "stream",
     "name": "stdout",
     "output_type": "stream",
     "text": [
      "+----------+--------------+------------+----------+\n|department|number_of_emps|total_salary|avg_salary|\n+----------+--------------+------------+----------+\n|      Data|             2|      102300|   51150.0|\n|  Software|             2|      126500|   63250.0|\n|   Finance|             1|       38500|   38500.0|\n+----------+--------------+------------+----------+\n\n"
     ]
    }
   ],
   "source": [
    "data1_df.groupBy('department')\\\n",
    "    .agg(count('id').alias('number_of_emps'), \n",
    "         sum('salary').alias('total_salary'),\n",
    "         avg('salary').alias('avg_salary')).show()"
   ]
  },
  {
   "cell_type": "code",
   "execution_count": 0,
   "metadata": {
    "application/vnd.databricks.v1+cell": {
     "cellMetadata": {
      "byteLimit": 2048000,
      "rowLimit": 10000
     },
     "inputWidgets": {},
     "nuid": "ce863699-b248-4aab-82cf-406ffba6bb77",
     "showTitle": false,
     "tableResultSettingsMap": {},
     "title": ""
    }
   },
   "outputs": [
    {
     "output_type": "stream",
     "name": "stdout",
     "output_type": "stream",
     "text": [
      "+---+----+-----------------+---+------+------+----------+\n| id|name|department_salary|age|mgr_id|salary|department|\n+---+----+-----------------+---+------+------+----------+\n|  1|hari|    [Data, 50000]| 45|     3| 55000|      Data|\n|  2|gani|[Software, 60000]| 34|     3| 66000|  Software|\n|  3| das|    [Data, 43000]| 29|     1| 47300|      Data|\n|  4|bosh| [Finance, 35000]| 56|     2| 38500|   Finance|\n|  5|teju|[Software, 55000]| 45|     3| 60500|  Software|\n+---+----+-----------------+---+------+------+----------+\n\n"
     ]
    }
   ],
   "source": [
    "data1_df.show()"
   ]
  },
  {
   "cell_type": "code",
   "execution_count": 0,
   "metadata": {
    "application/vnd.databricks.v1+cell": {
     "cellMetadata": {
      "byteLimit": 2048000,
      "rowLimit": 10000
     },
     "inputWidgets": {},
     "nuid": "a58a0d37-ef4f-4b28-a039-c8c2ce833440",
     "showTitle": false,
     "tableResultSettingsMap": {},
     "title": ""
    }
   },
   "outputs": [
    {
     "output_type": "stream",
     "name": "stdout",
     "output_type": "stream",
     "text": [
      "+---+----+------+----------+------+------+\n| id|name|salary|department|mgr_id|salary|\n+---+----+------+----------+------+------+\n|  3| das| 47300|      Data|     1| 55000|\n|  4|bosh| 38500|   Finance|     2| 66000|\n|  1|hari| 55000|      Data|     3| 47300|\n|  2|gani| 66000|  Software|     3| 47300|\n|  5|teju| 60500|  Software|     3| 47300|\n+---+----+------+----------+------+------+\n\n"
     ]
    }
   ],
   "source": [
    "df1 = data1_df.alias(\"emp\")\n",
    "df2 = data1_df.alias(\"mgr\")\n",
    "\n",
    "result = df1.join(df2, col(\"emp.mgr_id\") == col(\"mgr.id\")).select('emp.id', 'emp.name', 'emp.salary', 'emp.department','emp.mgr_id', \"mgr.salary\")\n",
    "result.show()"
   ]
  },
  {
   "cell_type": "code",
   "execution_count": 0,
   "metadata": {
    "application/vnd.databricks.v1+cell": {
     "cellMetadata": {
      "byteLimit": 2048000,
      "rowLimit": 10000
     },
     "inputWidgets": {},
     "nuid": "ea96138c-aecd-4530-ae10-c96014e24235",
     "showTitle": false,
     "tableResultSettingsMap": {},
     "title": ""
    }
   },
   "outputs": [
    {
     "output_type": "stream",
     "name": "stdout",
     "output_type": "stream",
     "text": [
      "+---+----+------+----------+------+------+\n| id|name|salary|department|mgr_id|salary|\n+---+----+------+----------+------+------+\n|  1|hari| 55000|      Data|     3| 47300|\n|  2|gani| 66000|  Software|     3| 47300|\n|  3| das| 47300|      Data|     1| 55000|\n|  4|bosh| 38500|   Finance|     2| 66000|\n|  5|teju| 60500|  Software|     3| 47300|\n+---+----+------+----------+------+------+\n\n"
     ]
    }
   ],
   "source": [
    "result.orderBy(col('id')).show()"
   ]
  },
  {
   "cell_type": "code",
   "execution_count": 0,
   "metadata": {
    "application/vnd.databricks.v1+cell": {
     "cellMetadata": {
      "byteLimit": 2048000,
      "rowLimit": 10000
     },
     "inputWidgets": {},
     "nuid": "a1d9c569-12b7-412b-9ff3-15eee657c882",
     "showTitle": false,
     "tableResultSettingsMap": {},
     "title": ""
    }
   },
   "outputs": [
    {
     "output_type": "stream",
     "name": "stdout",
     "output_type": "stream",
     "text": [
      "+---+----+------+----------+------+------+\n| id|name|salary|department|mgr_id|salary|\n+---+----+------+----------+------+------+\n|  5|teju| 60500|  Software|     3| 47300|\n|  4|bosh| 38500|   Finance|     2| 66000|\n|  3| das| 47300|      Data|     1| 55000|\n|  2|gani| 66000|  Software|     3| 47300|\n|  1|hari| 55000|      Data|     3| 47300|\n+---+----+------+----------+------+------+\n\n"
     ]
    }
   ],
   "source": [
    "result.orderBy(col('id').desc()).show()"
   ]
  },
  {
   "cell_type": "code",
   "execution_count": 0,
   "metadata": {
    "application/vnd.databricks.v1+cell": {
     "cellMetadata": {
      "byteLimit": 2048000,
      "rowLimit": 10000
     },
     "inputWidgets": {},
     "nuid": "50b5889e-821f-4dd4-95f4-e8465a0a0795",
     "showTitle": false,
     "tableResultSettingsMap": {},
     "title": ""
    }
   },
   "outputs": [
    {
     "output_type": "stream",
     "name": "stdout",
     "output_type": "stream",
     "text": [
      "+---+----+------+----------+------+------+\n| id|name|salary|department|mgr_id|salary|\n+---+----+------+----------+------+------+\n|  5|teju| 60500|  Software|     3| 47300|\n|  4|bosh| 38500|   Finance|     2| 66000|\n|  3| das| 47300|      Data|     1| 55000|\n|  2|gani| 66000|  Software|     3| 47300|\n|  1|hari| 55000|      Data|     3| 47300|\n+---+----+------+----------+------+------+\n\n"
     ]
    }
   ],
   "source": [
    "result.orderBy(col('id').desc(), col('name').asc()).show()"
   ]
  },
  {
   "cell_type": "code",
   "execution_count": 0,
   "metadata": {
    "application/vnd.databricks.v1+cell": {
     "cellMetadata": {
      "byteLimit": 2048000,
      "rowLimit": 10000
     },
     "inputWidgets": {},
     "nuid": "4c44b291-5453-4d5c-87d3-3c5fc66b5b22",
     "showTitle": false,
     "tableResultSettingsMap": {},
     "title": ""
    }
   },
   "outputs": [],
   "source": [
    "data2 = [\n",
    "    (2, 'maha', {'dept':'Data', 'salary':45000}),\n",
    "    (3, 'hara', {'dept':'DataScience', 'salary': 55000}),\n",
    "    (4, 'guru', {'dept': 'Data', 'salary': 34000})\n",
    "]\n",
    "sch2 = ['id', 'name', 'dept_salary']"
   ]
  },
  {
   "cell_type": "code",
   "execution_count": 0,
   "metadata": {
    "application/vnd.databricks.v1+cell": {
     "cellMetadata": {
      "byteLimit": 2048000,
      "rowLimit": 10000
     },
     "inputWidgets": {},
     "nuid": "3e9c8a88-56a8-47b3-9e92-8141edc949c7",
     "showTitle": false,
     "tableResultSettingsMap": {},
     "title": ""
    }
   },
   "outputs": [],
   "source": [
    "data2_df = spark.createDataFrame(data2, schema=sch2)"
   ]
  },
  {
   "cell_type": "code",
   "execution_count": 0,
   "metadata": {
    "application/vnd.databricks.v1+cell": {
     "cellMetadata": {
      "byteLimit": 2048000,
      "rowLimit": 10000
     },
     "inputWidgets": {},
     "nuid": "901a663c-75be-495b-bd37-d8eccc8924c6",
     "showTitle": false,
     "tableResultSettingsMap": {},
     "title": ""
    }
   },
   "outputs": [
    {
     "output_type": "stream",
     "name": "stdout",
     "output_type": "stream",
     "text": [
      "+---+----+--------------------------------------+\n|id |name|dept_salary                           |\n+---+----+--------------------------------------+\n|2  |maha|{salary -> 45000, dept -> Data}       |\n|3  |hara|{salary -> 55000, dept -> DataScience}|\n|4  |guru|{salary -> 34000, dept -> Data}       |\n+---+----+--------------------------------------+\n\n"
     ]
    }
   ],
   "source": [
    "data2_df.show(truncate=False)"
   ]
  },
  {
   "cell_type": "code",
   "execution_count": 0,
   "metadata": {
    "application/vnd.databricks.v1+cell": {
     "cellMetadata": {
      "byteLimit": 2048000,
      "rowLimit": 10000
     },
     "inputWidgets": {},
     "nuid": "2864678a-69a8-404b-8a7c-c7f3315f6019",
     "showTitle": false,
     "tableResultSettingsMap": {},
     "title": ""
    }
   },
   "outputs": [
    {
     "output_type": "stream",
     "name": "stdout",
     "output_type": "stream",
     "text": [
      "root\n |-- id: long (nullable = true)\n |-- name: string (nullable = true)\n |-- dept_salary: map (nullable = true)\n |    |-- key: string\n |    |-- value: string (valueContainsNull = true)\n\n"
     ]
    }
   ],
   "source": [
    "data2_df.printSchema()"
   ]
  },
  {
   "cell_type": "code",
   "execution_count": 0,
   "metadata": {
    "application/vnd.databricks.v1+cell": {
     "cellMetadata": {
      "byteLimit": 2048000,
      "rowLimit": 10000
     },
     "inputWidgets": {},
     "nuid": "a4dd702f-a02f-4cab-a0c4-846df488f60e",
     "showTitle": false,
     "tableResultSettingsMap": {},
     "title": ""
    }
   },
   "outputs": [
    {
     "output_type": "stream",
     "name": "stdout",
     "output_type": "stream",
     "text": [
      "+---+----+--------------------+------+-----------+\n| id|name|         dept_salary|salary| department|\n+---+----+--------------------+------+-----------+\n|  2|maha|{salary -> 45000,...| 45000|       Data|\n|  3|hara|{salary -> 55000,...| 55000|DataScience|\n|  4|guru|{salary -> 34000,...| 34000|       Data|\n+---+----+--------------------+------+-----------+\n\n"
     ]
    }
   ],
   "source": [
    "data2_df.withColumn('salary', col=col('dept_salary')['salary'])\\\n",
    "    .withColumn('department', col=col('dept_salary')['dept']).show()"
   ]
  },
  {
   "cell_type": "code",
   "execution_count": 0,
   "metadata": {
    "application/vnd.databricks.v1+cell": {
     "cellMetadata": {
      "byteLimit": 2048000,
      "rowLimit": 10000
     },
     "inputWidgets": {},
     "nuid": "e41a98cc-ade9-49df-936d-5ffe9c5a7984",
     "showTitle": false,
     "tableResultSettingsMap": {},
     "title": ""
    }
   },
   "outputs": [],
   "source": []
  },
  {
   "cell_type": "code",
   "execution_count": 0,
   "metadata": {
    "application/vnd.databricks.v1+cell": {
     "cellMetadata": {
      "byteLimit": 2048000,
      "rowLimit": 10000
     },
     "inputWidgets": {},
     "nuid": "d067383a-4994-48cb-9946-45f257faff22",
     "showTitle": false,
     "tableResultSettingsMap": {},
     "title": ""
    }
   },
   "outputs": [],
   "source": []
  },
  {
   "cell_type": "code",
   "execution_count": 0,
   "metadata": {
    "application/vnd.databricks.v1+cell": {
     "cellMetadata": {
      "byteLimit": 2048000,
      "rowLimit": 10000
     },
     "inputWidgets": {},
     "nuid": "336e7a6d-0ce5-456a-ac5c-14740fcafa30",
     "showTitle": false,
     "tableResultSettingsMap": {},
     "title": ""
    }
   },
   "outputs": [],
   "source": [
    "data = [\n",
    "    (1, 'mahendra', ['data, 45000']),\n",
    "    (2, 'mahi', ['analytics, 50000']),\n",
    "    (3, 'hari',['data, 56000'])\n",
    "]\n",
    "sch = ['id', 'name', 'department_salary']"
   ]
  },
  {
   "cell_type": "code",
   "execution_count": 0,
   "metadata": {
    "application/vnd.databricks.v1+cell": {
     "cellMetadata": {
      "byteLimit": 2048000,
      "rowLimit": 10000
     },
     "inputWidgets": {},
     "nuid": "daf1f307-ee57-4aa1-b0af-521db7024691",
     "showTitle": false,
     "tableResultSettingsMap": {},
     "title": ""
    }
   },
   "outputs": [
    {
     "output_type": "display_data",
     "data": {
      "text/html": [
       "\n",
       "            <div>\n",
       "                <p><b>SparkSession - hive</b></p>\n",
       "                \n",
       "        <div>\n",
       "            <p><b>SparkContext</b></p>\n",
       "\n",
       "            <p><a href=\"/?o=8092834907073607#setting/sparkui/0416-121143-acyijfqv/driver-4290998169228718047\">Spark UI</a></p>\n",
       "\n",
       "            <dl>\n",
       "              <dt>Version</dt>\n",
       "                <dd><code>v3.3.2</code></dd>\n",
       "              <dt>Master</dt>\n",
       "                <dd><code>local[8]</code></dd>\n",
       "              <dt>AppName</dt>\n",
       "                <dd><code>Databricks Shell</code></dd>\n",
       "            </dl>\n",
       "        </div>\n",
       "        \n",
       "            </div>\n",
       "        "
      ]
     },
     "metadata": {
      "application/vnd.databricks.v1+output": {
       "addedWidgets": {},
       "arguments": {},
       "data": "\n            <div>\n                <p><b>SparkSession - hive</b></p>\n                \n        <div>\n            <p><b>SparkContext</b></p>\n\n            <p><a href=\"/?o=8092834907073607#setting/sparkui/0416-121143-acyijfqv/driver-4290998169228718047\">Spark UI</a></p>\n\n            <dl>\n              <dt>Version</dt>\n                <dd><code>v3.3.2</code></dd>\n              <dt>Master</dt>\n                <dd><code>local[8]</code></dd>\n              <dt>AppName</dt>\n                <dd><code>Databricks Shell</code></dd>\n            </dl>\n        </div>\n        \n            </div>\n        ",
       "datasetInfos": [],
       "metadata": {},
       "removedWidgets": [],
       "textData": null,
       "type": "htmlSandbox"
      }
     },
     "output_type": "display_data"
    }
   ],
   "source": [
    "spark"
   ]
  },
  {
   "cell_type": "code",
   "execution_count": 0,
   "metadata": {
    "application/vnd.databricks.v1+cell": {
     "cellMetadata": {
      "byteLimit": 2048000,
      "rowLimit": 10000
     },
     "inputWidgets": {},
     "nuid": "0a7f3438-b32f-4a0a-8a67-65ba52cf35ed",
     "showTitle": false,
     "tableResultSettingsMap": {},
     "title": ""
    }
   },
   "outputs": [],
   "source": [
    "data_df = spark.createDataFrame(data, schema= sch)"
   ]
  },
  {
   "cell_type": "code",
   "execution_count": 0,
   "metadata": {
    "application/vnd.databricks.v1+cell": {
     "cellMetadata": {
      "byteLimit": 2048000,
      "rowLimit": 10000
     },
     "inputWidgets": {},
     "nuid": "9fa95af7-c3f8-47f6-b699-fc3fd9b1a18a",
     "showTitle": false,
     "tableResultSettingsMap": {},
     "title": ""
    }
   },
   "outputs": [
    {
     "output_type": "stream",
     "name": "stdout",
     "output_type": "stream",
     "text": [
      "root\n |-- id: long (nullable = true)\n |-- name: string (nullable = true)\n |-- department_salary: array (nullable = true)\n |    |-- element: string (containsNull = true)\n\n"
     ]
    }
   ],
   "source": [
    "data_df.printSchema()"
   ]
  },
  {
   "cell_type": "code",
   "execution_count": 0,
   "metadata": {
    "application/vnd.databricks.v1+cell": {
     "cellMetadata": {
      "byteLimit": 2048000,
      "rowLimit": 10000
     },
     "inputWidgets": {},
     "nuid": "445f1c23-e5a5-4648-9c6e-ff38fe2515a3",
     "showTitle": false,
     "tableResultSettingsMap": {},
     "title": ""
    }
   },
   "outputs": [
    {
     "output_type": "stream",
     "name": "stdout",
     "output_type": "stream",
     "text": [
      "+---+--------+------------------+\n| id|    name| department_salary|\n+---+--------+------------------+\n|  1|mahendra|     [data, 45000]|\n|  2|    mahi|[analytics, 50000]|\n|  3|    hari|     [data, 56000]|\n+---+--------+------------------+\n\n"
     ]
    }
   ],
   "source": [
    "data_df.show()"
   ]
  },
  {
   "cell_type": "code",
   "execution_count": 0,
   "metadata": {
    "application/vnd.databricks.v1+cell": {
     "cellMetadata": {
      "byteLimit": 2048000,
      "rowLimit": 10000
     },
     "inputWidgets": {},
     "nuid": "801d3420-7ba8-4457-a223-22da83b1f13a",
     "showTitle": false,
     "tableResultSettingsMap": {},
     "title": ""
    }
   },
   "outputs": [
    {
     "output_type": "stream",
     "name": "stdout",
     "output_type": "stream",
     "text": [
      "+---+--------+------------------+----------+------+\n| id|    name| department_salary|department|salary|\n+---+--------+------------------+----------+------+\n|  1|mahendra|     [data, 45000]|      data| 54000|\n|  2|    mahi|[analytics, 50000]| analytics| 60000|\n|  3|    hari|     [data, 56000]|      data| 67200|\n+---+--------+------------------+----------+------+\n\n"
     ]
    }
   ],
   "source": [
    "from pyspark.sql.functions import split, col, explode\n",
    "from pyspark.sql.types import *\n",
    "data_df = data_df.withColumn('department', split(col('department_salary')[0], ',')[0])\\\n",
    "    .withColumn('salary', col= (((split(col('department_salary')[0], ',')[1])*1.2).cast(IntegerType())))\n",
    "data_df.show()"
   ]
  },
  {
   "cell_type": "code",
   "execution_count": 0,
   "metadata": {
    "application/vnd.databricks.v1+cell": {
     "cellMetadata": {
      "byteLimit": 2048000,
      "rowLimit": 10000
     },
     "inputWidgets": {},
     "nuid": "c1a57422-5afb-4133-a8a4-695a9fc47161",
     "showTitle": false,
     "tableResultSettingsMap": {},
     "title": ""
    }
   },
   "outputs": [
    {
     "output_type": "stream",
     "name": "stdout",
     "output_type": "stream",
     "text": [
      "root\n |-- id: long (nullable = true)\n |-- name: string (nullable = true)\n |-- department_salary: array (nullable = true)\n |    |-- element: string (containsNull = true)\n |-- department: string (nullable = true)\n |-- salary: integer (nullable = true)\n\n"
     ]
    }
   ],
   "source": [
    "data_df.printSchema()"
   ]
  },
  {
   "cell_type": "code",
   "execution_count": 0,
   "metadata": {
    "application/vnd.databricks.v1+cell": {
     "cellMetadata": {
      "byteLimit": 2048000,
      "rowLimit": 10000
     },
     "inputWidgets": {},
     "nuid": "22828efa-3a2f-4429-8f83-7b1acc396de8",
     "showTitle": false,
     "tableResultSettingsMap": {},
     "title": ""
    }
   },
   "outputs": [
    {
     "output_type": "stream",
     "name": "stdout",
     "output_type": "stream",
     "text": [
      "+---+--------+----------+------+\n| id|    name|department|salary|\n+---+--------+----------+------+\n|  1|mahendra|      data| 54000|\n|  2|    mahi| analytics| 60000|\n|  3|    hari|      data| 67200|\n+---+--------+----------+------+\n\n"
     ]
    }
   ],
   "source": [
    "data_df.select('id', 'name', 'department', 'salary').show()"
   ]
  },
  {
   "cell_type": "code",
   "execution_count": 0,
   "metadata": {
    "application/vnd.databricks.v1+cell": {
     "cellMetadata": {
      "byteLimit": 2048000,
      "rowLimit": 10000
     },
     "inputWidgets": {},
     "nuid": "e32e4a72-811e-4024-b05f-5a0dc8caee87",
     "showTitle": false,
     "tableResultSettingsMap": {},
     "title": ""
    }
   },
   "outputs": [
    {
     "output_type": "stream",
     "name": "stdout",
     "output_type": "stream",
     "text": [
      "+---+----+-----------------+---+------+------+----------+\n| id|name|department_salary|age|mgr_id|salary|department|\n+---+----+-----------------+---+------+------+----------+\n|  1|hari|    [Data, 50000]| 45|     3| 55000|      Data|\n|  2|gani|[Software, 60000]| 34|     3| 66000|  Software|\n|  3| das|    [Data, 43000]| 29|     1| 47300|      Data|\n|  4|bosh| [Finance, 35000]| 56|     2| 38500|   Finance|\n|  5|teju|[Software, 55000]| 45|     3| 60500|  Software|\n+---+----+-----------------+---+------+------+----------+\n\n"
     ]
    }
   ],
   "source": [
    "data1_df.show()"
   ]
  },
  {
   "cell_type": "code",
   "execution_count": 0,
   "metadata": {
    "application/vnd.databricks.v1+cell": {
     "cellMetadata": {
      "byteLimit": 2048000,
      "rowLimit": 10000
     },
     "inputWidgets": {},
     "nuid": "3ad8d62b-8c18-49f2-a249-0e6cec5b4f7e",
     "showTitle": false,
     "tableResultSettingsMap": {},
     "title": ""
    }
   },
   "outputs": [],
   "source": [
    "from pyspark.sql.window import Window"
   ]
  },
  {
   "cell_type": "code",
   "execution_count": 0,
   "metadata": {
    "application/vnd.databricks.v1+cell": {
     "cellMetadata": {
      "byteLimit": 2048000,
      "rowLimit": 10000
     },
     "inputWidgets": {},
     "nuid": "f88d9db8-1a8d-421b-a825-93bb3c763fcb",
     "showTitle": false,
     "tableResultSettingsMap": {},
     "title": ""
    }
   },
   "outputs": [],
   "source": [
    "from pyspark.sql.functions import row_number"
   ]
  },
  {
   "cell_type": "code",
   "execution_count": 0,
   "metadata": {
    "application/vnd.databricks.v1+cell": {
     "cellMetadata": {
      "byteLimit": 2048000,
      "rowLimit": 10000
     },
     "inputWidgets": {},
     "nuid": "de8f9938-87b2-4cf9-b93b-996051da047a",
     "showTitle": false,
     "tableResultSettingsMap": {},
     "title": ""
    }
   },
   "outputs": [
    {
     "output_type": "stream",
     "name": "stdout",
     "output_type": "stream",
     "text": [
      "+---+----+-----------------+---+------+------+----------+---+---+----+\n| id|name|department_salary|age|mgr_id|salary|department|rnk| rn|drnk|\n+---+----+-----------------+---+------+------+----------+---+---+----+\n|  2|gani|[Software, 60000]| 34|     3| 66000|  Software|  1|  1|   1|\n|  5|teju|[Software, 55000]| 45|     3| 60500|  Software|  2|  2|   2|\n|  1|hari|    [Data, 50000]| 45|     3| 55000|      Data|  3|  3|   3|\n|  3| das|    [Data, 43000]| 29|     1| 47300|      Data|  4|  4|   4|\n|  4|bosh| [Finance, 35000]| 56|     2| 38500|   Finance|  5|  5|   5|\n+---+----+-----------------+---+------+------+----------+---+---+----+\n\n"
     ]
    }
   ],
   "source": [
    "a = Window.orderBy(col('salary').desc())\n",
    "b = Window.partitionBy(col('department')).orderBy(col('salary').desc())\n",
    "data1_df.withColumn('rnk', rank().over(a))\\\n",
    "    .withColumn('rn', row_number().over(a))\\\n",
    "        .withColumn('drnk', dense_rank().over(a)).show()"
   ]
  },
  {
   "cell_type": "code",
   "execution_count": 0,
   "metadata": {
    "application/vnd.databricks.v1+cell": {
     "cellMetadata": {
      "byteLimit": 2048000,
      "rowLimit": 10000
     },
     "inputWidgets": {},
     "nuid": "ffb2abb8-c063-4996-a924-5ad71e9e2609",
     "showTitle": false,
     "tableResultSettingsMap": {},
     "title": ""
    }
   },
   "outputs": [
    {
     "output_type": "stream",
     "name": "stdout",
     "output_type": "stream",
     "text": [
      "+---+----+-----------------+---+------+------+----------+-------------+--------------+------------+\n| id|name|department_salary|age|mgr_id|salary|department|dept_wise_rnk|dept_wise_drnk|dept_wise_rn|\n+---+----+-----------------+---+------+------+----------+-------------+--------------+------------+\n|  1|hari|    [Data, 50000]| 45|     3| 55000|      Data|            1|             1|           1|\n|  3| das|    [Data, 43000]| 29|     1| 47300|      Data|            2|             2|           2|\n|  4|bosh| [Finance, 35000]| 56|     2| 38500|   Finance|            1|             1|           1|\n|  2|gani|[Software, 60000]| 34|     3| 66000|  Software|            1|             1|           1|\n|  5|teju|[Software, 55000]| 45|     3| 60500|  Software|            2|             2|           2|\n+---+----+-----------------+---+------+------+----------+-------------+--------------+------------+\n\n"
     ]
    }
   ],
   "source": [
    "data1_df.withColumn('dept_wise_rnk', rank().over(b))\\\n",
    "    .withColumn('dept_wise_drnk', dense_rank().over(b))\\\n",
    "        .withColumn('dept_wise_rn', row_number().over(b)).show()"
   ]
  },
  {
   "cell_type": "code",
   "execution_count": 0,
   "metadata": {
    "application/vnd.databricks.v1+cell": {
     "cellMetadata": {
      "byteLimit": 2048000,
      "rowLimit": 10000
     },
     "inputWidgets": {},
     "nuid": "741dd0e8-0a0e-45f8-923d-46fa29476040",
     "showTitle": false,
     "tableResultSettingsMap": {},
     "title": ""
    }
   },
   "outputs": [
    {
     "output_type": "stream",
     "name": "stdout",
     "output_type": "stream",
     "text": [
      "+---+----+-----------------+---+------+------+----------+---------------+---------------+\n| id|name|department_salary|age|mgr_id|salary|department|prev_emp_salary|next_emp_salary|\n+---+----+-----------------+---+------+------+----------+---------------+---------------+\n|  1|hari|    [Data, 50000]| 45|     3| 55000|      Data|           null|          66000|\n|  2|gani|[Software, 60000]| 34|     3| 66000|  Software|          55000|          47300|\n|  3| das|    [Data, 43000]| 29|     1| 47300|      Data|          66000|          38500|\n|  4|bosh| [Finance, 35000]| 56|     2| 38500|   Finance|          47300|          60500|\n|  5|teju|[Software, 55000]| 45|     3| 60500|  Software|          38500|           null|\n+---+----+-----------------+---+------+------+----------+---------------+---------------+\n\n"
     ]
    }
   ],
   "source": [
    "data1_df.withColumn('prev_emp_salary', lag(col('salary')).over(Window.orderBy(col('id'))))\\\n",
    "    .withColumn('next_emp_salary', lead(col('salary')).over(Window.orderBy(col('id')))).show()"
   ]
  },
  {
   "cell_type": "code",
   "execution_count": 0,
   "metadata": {
    "application/vnd.databricks.v1+cell": {
     "cellMetadata": {
      "byteLimit": 2048000,
      "rowLimit": 10000
     },
     "inputWidgets": {},
     "nuid": "72625c1c-4f94-4f06-8236-703507c2e2f2",
     "showTitle": false,
     "tableResultSettingsMap": {},
     "title": ""
    }
   },
   "outputs": [
    {
     "output_type": "stream",
     "name": "stdout",
     "output_type": "stream",
     "text": [
      "+---+----+-----------------+---+------+------+----------+---------------+---------------+\n| id|name|department_salary|age|mgr_id|salary|department|prev_emp_salary|next_emp_salary|\n+---+----+-----------------+---+------+------+----------+---------------+---------------+\n|  1|hari|    [Data, 50000]| 45|     3| 55000|      Data|           null|          47300|\n|  3| das|    [Data, 43000]| 29|     1| 47300|      Data|          55000|           null|\n|  4|bosh| [Finance, 35000]| 56|     2| 38500|   Finance|           null|           null|\n|  2|gani|[Software, 60000]| 34|     3| 66000|  Software|           null|          60500|\n|  5|teju|[Software, 55000]| 45|     3| 60500|  Software|          66000|           null|\n+---+----+-----------------+---+------+------+----------+---------------+---------------+\n\n"
     ]
    }
   ],
   "source": [
    "data1_df.withColumn('prev_emp_salary', lag(col('salary')).over(Window.partitionBy(col('department')).orderBy(col('id'))))\\\n",
    "    .withColumn('next_emp_salary', lead(col('salary')).over(Window.partitionBy(col('department')).orderBy(col('id')))).show()"
   ]
  },
  {
   "cell_type": "code",
   "execution_count": 0,
   "metadata": {
    "application/vnd.databricks.v1+cell": {
     "cellMetadata": {
      "byteLimit": 2048000,
      "rowLimit": 10000
     },
     "inputWidgets": {},
     "nuid": "03370871-74e0-4d2d-987a-a252330cf07d",
     "showTitle": false,
     "tableResultSettingsMap": {},
     "title": ""
    }
   },
   "outputs": [
    {
     "output_type": "stream",
     "name": "stdout",
     "output_type": "stream",
     "text": [
      "+---+----+-----------------+---+------+------+----------+\n| id|name|department_salary|age|mgr_id|salary|department|\n+---+----+-----------------+---+------+------+----------+\n|  1|hari|    [Data, 50000]| 45|     3| 55000|      Data|\n|  2|gani|[Software, 60000]| 34|     3| 66000|  Software|\n|  3| das|    [Data, 43000]| 29|     1| 47300|      Data|\n|  4|bosh| [Finance, 35000]| 56|     2| 38500|   Finance|\n|  5|teju|[Software, 55000]| 45|     3| 60500|  Software|\n+---+----+-----------------+---+------+------+----------+\n\n"
     ]
    }
   ],
   "source": [
    "data1_df.show()"
   ]
  },
  {
   "cell_type": "code",
   "execution_count": 0,
   "metadata": {
    "application/vnd.databricks.v1+cell": {
     "cellMetadata": {
      "byteLimit": 2048000,
      "rowLimit": 10000
     },
     "inputWidgets": {},
     "nuid": "b6bb8702-0392-477f-b2ea-c62d817b6bd9",
     "showTitle": false,
     "tableResultSettingsMap": {},
     "title": ""
    }
   },
   "outputs": [],
   "source": [
    "from pyspark.sql.functions import avg, sum, count, min, max"
   ]
  },
  {
   "cell_type": "code",
   "execution_count": 0,
   "metadata": {
    "application/vnd.databricks.v1+cell": {
     "cellMetadata": {
      "byteLimit": 2048000,
      "rowLimit": 10000
     },
     "inputWidgets": {},
     "nuid": "d0138818-79b2-4416-9737-847b1901f8de",
     "showTitle": false,
     "tableResultSettingsMap": {},
     "title": ""
    }
   },
   "outputs": [
    {
     "output_type": "stream",
     "name": "stdout",
     "output_type": "stream",
     "text": [
      "+---+----+-----------------+---+------+------+----------+-----------+----------+\n| id|name|department_salary|age|mgr_id|salary|department|rolling_sum|rollingavg|\n+---+----+-----------------+---+------+------+----------+-----------+----------+\n|  1|hari|    [Data, 50000]| 45|     3| 55000|      Data|      55000|   55000.0|\n|  2|gani|[Software, 60000]| 34|     3| 66000|  Software|     121000|   60500.0|\n|  3| das|    [Data, 43000]| 29|     1| 47300|      Data|     168300|   56100.0|\n|  4|bosh| [Finance, 35000]| 56|     2| 38500|   Finance|     206800|   51700.0|\n|  5|teju|[Software, 55000]| 45|     3| 60500|  Software|     267300|   53460.0|\n+---+----+-----------------+---+------+------+----------+-----------+----------+\n\n"
     ]
    }
   ],
   "source": [
    "x = Window.orderBy(col('id'))\n",
    "data1_df.withColumn('rolling_sum', sum('salary').over(x))\\\n",
    "    .withColumn('rollingavg', avg('salary').over(x)).show()"
   ]
  },
  {
   "cell_type": "code",
   "execution_count": 0,
   "metadata": {
    "application/vnd.databricks.v1+cell": {
     "cellMetadata": {
      "byteLimit": 2048000,
      "rowLimit": 10000
     },
     "inputWidgets": {},
     "nuid": "ea742ace-2d29-4e7d-8aa8-36d0c521cd95",
     "showTitle": false,
     "tableResultSettingsMap": {},
     "title": ""
    }
   },
   "outputs": [
    {
     "output_type": "stream",
     "name": "stdout",
     "output_type": "stream",
     "text": [
      "+-----------+\n|avg(salary)|\n+-----------+\n|    53460.0|\n+-----------+\n\n"
     ]
    }
   ],
   "source": [
    "data1_df.select(avg('salary')).show()"
   ]
  },
  {
   "cell_type": "code",
   "execution_count": 0,
   "metadata": {
    "application/vnd.databricks.v1+cell": {
     "cellMetadata": {},
     "inputWidgets": {},
     "nuid": "7ab8c9f7-6fc8-497c-8a3c-476d9c47aa47",
     "showTitle": false,
     "tableResultSettingsMap": {},
     "title": ""
    }
   },
   "outputs": [],
   "source": []
  }
 ],
 "metadata": {
  "application/vnd.databricks.v1+notebook": {
   "computePreferences": null,
   "dashboards": [],
   "environmentMetadata": {
    "base_environment": "",
    "environment_version": "1"
   },
   "inputWidgetPreferences": null,
   "language": "python",
   "notebookMetadata": {
    "pythonIndentUnit": 4
   },
   "notebookName": "pysaprk_window_explode,split, map, array, selfjoin",
   "widgets": {}
  }
 },
 "nbformat": 4,
 "nbformat_minor": 0
}