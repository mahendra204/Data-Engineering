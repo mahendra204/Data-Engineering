{
 "cells": [
  {
   "cell_type": "code",
   "execution_count": 0,
   "metadata": {
    "application/vnd.databricks.v1+cell": {
     "cellMetadata": {
      "byteLimit": 2048000,
      "rowLimit": 10000
     },
     "inputWidgets": {},
     "nuid": "d56d8451-f852-4f41-b01e-e9a145450d10",
     "showTitle": false,
     "title": ""
    }
   },
   "outputs": [],
   "source": [
    "%python\n",
    "from pyspark.sql import SparkSession\n",
    "spark=SparkSession.builder.appName(\"fashionRetailSales\").getOrCreate()\n",
    "df=spark.read.csv(\"dbfs:/FileStore/tables/Fashion_Retail_Sales.csv\",header=True,inferSchema=True)"
   ]
  },
  {
   "cell_type": "code",
   "execution_count": 0,
   "metadata": {
    "application/vnd.databricks.v1+cell": {
     "cellMetadata": {
      "byteLimit": 2048000,
      "rowLimit": 10000
     },
     "inputWidgets": {},
     "nuid": "ed389e3d-8ec5-40d8-b0ba-9a41cb442d2e",
     "showTitle": false,
     "title": ""
    }
   },
   "outputs": [
    {
     "output_type": "stream",
     "name": "stdout",
     "output_type": "stream",
     "text": [
      "+---------------------+--------------+---------------------+-------------+-------------+--------------+\n|Customer Reference ID|Item Purchased|Purchase Amount (USD)|Date Purchase|Review Rating|Payment Method|\n+---------------------+--------------+---------------------+-------------+-------------+--------------+\n|                 4018|       Handbag|               4619.0|   2023-02-05|         null|   Credit Card|\n|                 4115|         Tunic|               2456.0|   2023-07-11|          2.0|   Credit Card|\n|                 4019|      Tank Top|               2102.0|   2023-03-23|          4.1|          Cash|\n|                 4097|      Leggings|               3126.0|   2023-03-15|          3.2|          Cash|\n|                 3997|        Wallet|               3003.0|   2022-11-27|          4.7|          Cash|\n|                 4080|        Onesie|               2914.0|   2022-12-11|          4.5|   Credit Card|\n|                 4055|        Jacket|               2571.0|   2023-07-08|          1.3|          Cash|\n|                 3973|      Trousers|               2419.0|   2022-11-10|          4.6|          Cash|\n|                 4044|         Jeans|               4771.0|   2023-05-19|          4.1|          Cash|\n|                 4010|       Loafers|               4233.0|   2023-06-11|         null|   Credit Card|\n|                 4108|      Slippers|               2356.0|   2023-03-19|          4.8|   Credit Card|\n|                 4067|        Bowtie|               4418.0|   2022-11-21|          3.4|          Cash|\n|                 4068|       Pajamas|               3728.0|   2022-12-09|         null|   Credit Card|\n|                 4102|   Trench Coat|               2130.0|   2023-01-29|          4.8|          Cash|\n|                 4044|       Handbag|               2122.0|   2023-08-01|          1.2|   Credit Card|\n|                 4096|        Poncho|               2383.0|   2023-04-10|         null|   Credit Card|\n|                 4017|        Gloves|               2895.0|   2023-07-17|          3.6|   Credit Card|\n|                 4001|   Trench Coat|               2952.0|   2023-06-13|          2.2|          Cash|\n|                 3976|      Slippers|               4069.0|   2023-06-18|          4.9|   Credit Card|\n|                 4103|        Romper|               4465.0|   2022-11-21|         null|   Credit Card|\n|                 4081|       T-shirt|               2108.0|   2023-03-25|         null|          Cash|\n|                 3986|        Gloves|               4298.0|   2023-04-05|          4.2|          Cash|\n|                 4108|         Jeans|               2814.0|   2023-02-11|          4.4|   Credit Card|\n|                 4109|    Flip-Flops|               4932.0|   2022-12-20|          4.0|   Credit Card|\n|                 4075|         Tunic|               4661.0|   2023-04-12|          1.2|   Credit Card|\n|                 4040|        Shorts|               4872.0|   2023-08-25|          3.8|          Cash|\n|                 4099|        Blazer|               4232.0|   2022-10-25|          2.7|   Credit Card|\n|                 3981|         Boots|               3718.0|   2023-09-10|          2.8|   Credit Card|\n|                 4070|        Poncho|               2902.0|   2023-08-04|          4.9|          Cash|\n|                 4002|          Belt|               3839.0|   2023-05-26|          1.8|          Cash|\n|                 4035|         Tunic|               4413.0|   2022-12-23|          1.2|   Credit Card|\n|                 4060|         Boots|               3139.0|   2023-01-26|          3.4|   Credit Card|\n|                 3974|    Flip-Flops|               2026.0|   2023-04-16|          4.0|          Cash|\n|                 4110|        Hoodie|               2653.0|   2022-10-11|          4.2|   Credit Card|\n|                 3984|       Sweater|               4859.0|   2022-12-19|          5.0|          Cash|\n|                 4109|        Blouse|               3731.0|   2023-03-02|         null|   Credit Card|\n|                 4054|      Swimsuit|               3393.0|   2023-02-28|          4.3|          Cash|\n|                 4040|        Kimono|               3138.0|   2023-05-12|         null|   Credit Card|\n|                 4083|      Cardigan|               2636.0|   2023-04-09|          1.7|          Cash|\n|                 4122|         Socks|               2881.0|   2023-02-22|         null|   Credit Card|\n|                 3972|         Pants|               3378.0|   2023-05-06|          3.6|          Cash|\n|                 3980|       Pajamas|               2418.0|   2023-05-26|          2.2|   Credit Card|\n|                 4012|         Scarf|               2379.0|   2023-05-29|          2.9|   Credit Card|\n|                 3992|      Backpack|                101.0|   2022-12-13|          1.3|   Credit Card|\n|                 4105|         Dress|                164.0|   2022-10-20|          3.2|   Credit Card|\n|                 4119|         Boots|                 21.0|   2023-04-03|          3.9|          Cash|\n|                 3957|      Camisole|                147.0|   2022-11-04|          4.7|          Cash|\n|                 3994|       Loafers|                 null|   2023-05-16|          3.9|          Cash|\n|                 3995|        Bowtie|                 30.0|   2022-11-23|          4.1|          Cash|\n|                 4072|        Poncho|                170.0|   2022-10-15|          3.6|   Credit Card|\n|                 4093|      Trousers|                102.0|   2023-05-25|          2.1|          Cash|\n|                 4031|        Blouse|                190.0|   2023-01-14|          3.0|          Cash|\n|                 4056|      Sneakers|                 null|   2022-11-02|         null|   Credit Card|\n|                 4114|      Leggings|                 84.0|   2023-06-15|          3.8|          Cash|\n|                 4104|      Backpack|                 69.0|   2023-05-27|          2.1|          Cash|\n|                 4071|         Tunic|                107.0|   2022-12-03|          1.5|          Cash|\n|                 4007|         Dress|                172.0|   2023-04-05|          1.9|          Cash|\n|                 4009| Flannel Shirt|                 51.0|   2023-04-16|          1.8|          Cash|\n|                 4038|           Tie|                 63.0|   2023-02-13|          4.3|          Cash|\n|                 4033|      Backpack|                189.0|   2023-08-31|          4.9|          Cash|\n|                 4102|      Cardigan|                175.0|   2023-06-05|          3.6|   Credit Card|\n|                 4034|         Tunic|                 null|   2023-07-01|          1.5|   Credit Card|\n|                 4068|         Jeans|                146.0|   2023-08-26|          1.1|          Cash|\n|                 4045|        Gloves|                 51.0|   2023-01-27|          2.5|   Credit Card|\n|                 3979|      Camisole|                 79.0|   2023-06-05|          1.3|          Cash|\n|                 4106|      Trousers|                173.0|   2023-09-07|          3.4|   Credit Card|\n|                 3959|      Trousers|                 66.0|   2022-11-02|          4.5|          Cash|\n|                 4113|         Boots|                 24.0|   2023-01-20|          1.2|   Credit Card|\n|                 4087|         Scarf|                 18.0|   2022-11-21|          1.7|   Credit Card|\n|                 4060|    Polo Shirt|                112.0|   2023-06-08|          1.2|          Cash|\n|                 3989|       Sweater|                 64.0|   2023-03-13|          3.2|   Credit Card|\n|                 4032|        Wallet|                155.0|   2023-03-08|          1.1|   Credit Card|\n|                 3972|         Boots|                 90.0|   2023-01-26|          4.6|   Credit Card|\n|                 4051|      Umbrella|                137.0|   2023-06-30|          4.6|          Cash|\n|                 4097|      Tank Top|                174.0|   2022-10-10|          3.4|          Cash|\n|                 3970|      Camisole|                 77.0|   2023-01-05|          2.4|          Cash|\n|                 3957|        Gloves|                 null|   2023-05-16|          2.7|          Cash|\n|                 4100|       Loafers|                147.0|   2023-03-02|          3.9|   Credit Card|\n|                 4048|       Pajamas|                159.0|   2022-11-08|          1.2|   Credit Card|\n|                 3985| Flannel Shirt|                159.0|   2023-03-05|          2.6|          Cash|\n|                 4029|      Leggings|                 66.0|   2023-06-16|          3.7|          Cash|\n|                 3964|           Hat|                 45.0|   2023-03-17|          4.8|          Cash|\n|                 4017|        Bowtie|                 33.0|   2023-09-28|          3.3|   Credit Card|\n|                 4067|       Handbag|                 38.0|   2023-05-25|          3.1|          Cash|\n|                 4108|       T-shirt|                 null|   2023-09-10|          2.5|   Credit Card|\n|                 4057|        Jacket|                 null|   2023-01-02|          4.7|          Cash|\n|                 4117|        Kimono|                162.0|   2023-04-16|          1.1|          Cash|\n|                 4038|        Jacket|                 null|   2022-10-27|          4.8|   Credit Card|\n|                 4054|         Socks|                129.0|   2022-12-23|         null|          Cash|\n|                 4060|       Sweater|                151.0|   2023-07-17|          3.2|          Cash|\n|                 4054|       Handbag|                 12.0|   2022-12-29|          2.6|   Credit Card|\n|                 4068|         Pants|                 39.0|   2023-03-21|          2.4|   Credit Card|\n|                 4096|         Scarf|                147.0|   2023-02-11|          4.1|   Credit Card|\n|                 4011|        Blouse|                174.0|   2023-04-21|          3.4|          Cash|\n|                 4001|        Hoodie|                 85.0|   2023-09-17|          3.3|          Cash|\n|                 4078|           Hat|                126.0|   2023-06-29|          2.1|   Credit Card|\n|                 3992|      Slippers|                 null|   2023-04-26|          2.9|          Cash|\n|                 4005|       Sun Hat|                194.0|   2022-12-16|          2.9|   Credit Card|\n|                 4099|         Scarf|                138.0|   2023-05-20|          2.9|   Credit Card|\n|                 4055|         Boots|                139.0|   2023-01-05|          1.9|   Credit Card|\n|                 4049|   Trench Coat|                170.0|   2023-07-13|         null|          Cash|\n|                 4063|        Hoodie|                173.0|   2023-06-23|          2.1|   Credit Card|\n|                 3996|          Belt|                 60.0|   2023-03-04|          2.3|   Credit Card|\n|                 4030|      Camisole|                 null|   2022-10-25|         null|   Credit Card|\n|                 3989|      Overalls|                148.0|   2023-05-19|          4.1|   Credit Card|\n|                 3991|        Blazer|                145.0|   2023-05-03|          4.5|   Credit Card|\n|                 3959|          Coat|                163.0|   2023-05-09|          3.5|   Credit Card|\n|                 3975|      Camisole|                 14.0|   2023-02-07|          3.5|          Cash|\n|                 4122|         Socks|                 null|   2022-12-10|         null|   Credit Card|\n|                 3961|         Boots|                 88.0|   2022-10-07|          1.2|          Cash|\n|                 3993|          Belt|                 71.0|   2023-05-18|          4.4|   Credit Card|\n|                 4081|           Hat|                 30.0|   2023-09-01|          1.2|   Credit Card|\n|                 4068|       Loafers|                 null|   2023-04-13|          1.2|   Credit Card|\n|                 3991|         Boots|                 27.0|   2023-09-16|          2.0|   Credit Card|\n|                 3978|        Blazer|                146.0|   2023-01-15|          3.7|   Credit Card|\n|                 3992|      Cardigan|                 42.0|   2022-12-14|          2.4|   Credit Card|\n|                 4121|    Sunglasses|                150.0|   2023-06-03|          3.4|   Credit Card|\n|                 4063|        Bowtie|                 null|   2022-11-05|          1.3|   Credit Card|\n|                 4073|       Handbag|                165.0|   2023-09-28|          3.0|   Credit Card|\n|                 4111|         Socks|                 64.0|   2023-01-15|          2.3|   Credit Card|\n|                 4065|      Sneakers|                196.0|   2023-03-24|          4.3|   Credit Card|\n|                 4116|        Onesie|                192.0|   2023-01-16|          3.6|   Credit Card|\n|                 4003|        Hoodie|                181.0|   2023-07-09|          1.6|   Credit Card|\n|                 4073|      Swimsuit|                122.0|   2023-04-25|          4.2|   Credit Card|\n|                 4087|          Vest|                125.0|   2023-06-02|          2.6|   Credit Card|\n|                 4065|       Pajamas|                 null|   2023-05-03|          2.9|   Credit Card|\n|                 4098|          Coat|                 96.0|   2023-09-21|          3.5|   Credit Card|\n|                 4072|        Onesie|                 null|   2022-12-11|          1.2|          Cash|\n|                 4055|        Bowtie|                160.0|   2023-04-03|          4.6|          Cash|\n|                 4047|          Belt|                 28.0|   2023-08-07|         null|          Cash|\n|                 4014|   Trench Coat|                 25.0|   2022-12-05|          4.2|          Cash|\n|                 4004|    Flip-Flops|                 18.0|   2023-01-21|          4.1|   Credit Card|\n|                 4065|        Poncho|                 28.0|   2023-06-29|          3.3|   Credit Card|\n|                 4111|          Belt|                 81.0|   2023-05-10|          1.9|   Credit Card|\n|                 3958|         Tunic|                 64.0|   2023-06-17|          1.1|          Cash|\n|                 4104|         Pants|                195.0|   2023-06-02|          2.5|          Cash|\n|                 4084|        Onesie|                156.0|   2023-08-08|          1.3|   Credit Card|\n|                 4017|         Jeans|                 72.0|   2022-10-28|         null|   Credit Card|\n|                 4085|         Tunic|                114.0|   2023-04-28|          1.9|   Credit Card|\n|                 4025|       Pajamas|                 null|   2023-09-10|          3.3|          Cash|\n|                 4062|          Belt|                 null|   2023-09-22|          2.7|   Credit Card|\n|                 4096|        Hoodie|                118.0|   2022-10-17|          4.4|          Cash|\n|                 4104|         Tunic|                196.0|   2023-02-13|          1.2|          Cash|\n|                 4050|        Blazer|                 null|   2023-06-23|          3.1|   Credit Card|\n|                 3965|       Loafers|                175.0|   2023-06-26|          2.1|          Cash|\n|                 3966|    Polo Shirt|                 null|   2023-04-21|          2.2|   Credit Card|\n|                 4102|         Pants|                 96.0|   2023-07-31|          2.0|   Credit Card|\n|                 4080|       Sun Hat|                 37.0|   2023-09-14|          2.4|          Cash|\n|                 4051|      Camisole|                 58.0|   2023-01-29|          4.0|          Cash|\n|                 3985|           Hat|                 45.0|   2022-12-31|          2.0|   Credit Card|\n|                 4105|       Sandals|                 81.0|   2022-10-31|          4.5|   Credit Card|\n|                 4080|       Pajamas|                 29.0|   2023-09-22|          2.4|   Credit Card|\n|                 3977|      Overalls|                150.0|   2023-03-22|          4.7|          Cash|\n|                 3993|        Blazer|                 null|   2023-04-09|          3.4|          Cash|\n|                 4091|      Overalls|                148.0|   2023-01-30|          2.7|          Cash|\n|                 4028|      Cardigan|                 33.0|   2023-02-11|          4.3|   Credit Card|\n|                 4076|       Pajamas|                 70.0|   2022-10-05|          3.2|   Credit Card|\n|                 4089|       Sun Hat|                 null|   2023-03-28|          2.6|          Cash|\n|                 3977|       Loafers|                 64.0|   2022-10-15|          1.6|          Cash|\n|                 4090|        Onesie|                 25.0|   2023-09-18|          2.1|          Cash|\n|                 4113|        Jacket|                 null|   2023-06-27|          1.3|          Cash|\n|                 3979|      Trousers|                 null|   2023-08-07|          4.9|   Credit Card|\n|                 4019|        Blouse|                126.0|   2022-12-15|          3.5|   Credit Card|\n|                 4077|        Romper|                188.0|   2023-06-01|          4.6|   Credit Card|\n|                 4118|        Onesie|                152.0|   2023-01-12|          1.1|   Credit Card|\n|                 3976|         Socks|                134.0|   2023-07-24|          2.1|   Credit Card|\n|                 4119|         Pants|                 null|   2023-05-04|          4.7|          Cash|\n|                 4095|         Socks|                 24.0|   2022-11-13|          1.5|          Cash|\n|                 4105|       T-shirt|                148.0|   2023-03-18|         null|   Credit Card|\n|                 4036|       T-shirt|                 null|   2023-08-03|          3.8|   Credit Card|\n|                 4113|   Trench Coat|                 22.0|   2023-05-20|          1.5|          Cash|\n|                 3970|      Camisole|                138.0|   2023-05-09|          4.7|          Cash|\n|                 4044|      Camisole|                145.0|   2023-02-10|          2.4|          Cash|\n|                 4093|      Swimsuit|                 null|   2022-10-06|          3.2|          Cash|\n|                 3959|        Kimono|                 30.0|   2023-03-11|          1.5|          Cash|\n|                 4077|          Vest|                 27.0|   2023-01-08|          4.6|   Credit Card|\n|                 4073|           Tie|                182.0|   2023-09-16|          3.5|          Cash|\n|                 4088|          Vest|                113.0|   2023-09-02|          1.2|   Credit Card|\n|                 4077|        Poncho|                 null|   2023-03-15|          2.4|   Credit Card|\n|                 4103|      Swimsuit|                 73.0|   2023-04-30|          2.6|          Cash|\n|                 4041|       Pajamas|                 20.0|   2023-05-20|          4.3|          Cash|\n|                 4064|        Kimono|                117.0|   2022-10-31|          2.9|          Cash|\n|                 4047|        Blazer|                154.0|   2023-06-01|          1.7|          Cash|\n|                 4032|      Backpack|                 76.0|   2023-06-15|          4.7|          Cash|\n|                 4031|      Slippers|                193.0|   2023-08-02|          1.3|   Credit Card|\n|                 3999|        Jacket|                 77.0|   2023-05-27|          3.4|   Credit Card|\n|                 3966|           Tie|                181.0|   2023-06-14|          3.6|   Credit Card|\n|                 4109|         Dress|                127.0|   2023-09-30|          2.8|          Cash|\n|                 4034|        Shorts|                 28.0|   2023-03-24|          3.4|          Cash|\n|                 4101|       Pajamas|                 null|   2023-03-27|          1.4|          Cash|\n|                 4023|    Sunglasses|                154.0|   2023-02-09|          2.4|   Credit Card|\n|                 3972|          Coat|                 28.0|   2022-12-22|          4.6|   Credit Card|\n|                 4118|         Socks|                139.0|   2023-05-13|          4.4|   Credit Card|\n|                 4078|         Tunic|                 99.0|   2022-11-10|          2.3|          Cash|\n|                 4105|          Belt|                 72.0|   2023-07-29|          1.7|   Credit Card|\n|                 4000|       Sandals|                 50.0|   2023-09-27|          4.3|          Cash|\n|                 4103|      Jumpsuit|                149.0|   2022-10-16|          5.0|          Cash|\n|                 3970|         Tunic|                166.0|   2023-02-02|          3.1|   Credit Card|\n|                 4031|      Camisole|                177.0|   2023-06-28|          3.5|          Cash|\n|                 4116|      Raincoat|                180.0|   2023-02-11|         null|          Cash|\n|                 3963|   Trench Coat|                 86.0|   2022-12-16|          1.5|          Cash|\n|                 4030|        Romper|                 36.0|   2023-01-02|          2.8|   Credit Card|\n|                 4081|        Kimono|                 44.0|   2023-06-03|          2.2|   Credit Card|\n|                 3978|       Handbag|                 37.0|   2023-01-17|          5.0|          Cash|\n|                 3989|      Tank Top|                 49.0|   2023-04-26|          4.7|   Credit Card|\n|                 4086|      Swimsuit|                164.0|   2022-12-07|          1.6|          Cash|\n|                 3976|      Tank Top|                 97.0|   2023-05-23|          4.4|          Cash|\n|                 4028|       Sweater|                172.0|   2023-01-15|          1.1|   Credit Card|\n|                 4021|      Backpack|                139.0|   2023-01-02|          4.8|          Cash|\n|                 3990|       Pajamas|                 23.0|   2022-11-01|          4.2|   Credit Card|\n|                 4114|          Belt|                 null|   2023-09-28|         null|          Cash|\n|                 4028|        Poncho|                 80.0|   2022-12-31|          1.1|          Cash|\n|                 4027|         Boots|                 null|   2022-12-30|          4.8|   Credit Card|\n|                 4022|         Boots|                 43.0|   2023-08-27|          3.9|          Cash|\n|                 3960|        Onesie|                 77.0|   2022-12-16|          4.3|          Cash|\n|                 3985|         Dress|                 null|   2023-06-05|          1.4|   Credit Card|\n|                 4111|      Swimsuit|                190.0|   2022-11-23|          4.4|   Credit Card|\n|                 4001|       Handbag|                 12.0|   2022-11-25|          2.7|          Cash|\n|                 4108|        Romper|                 null|   2022-11-09|          4.5|   Credit Card|\n|                 3995|      Umbrella|                186.0|   2023-05-27|          3.9|          Cash|\n|                 4071|         Jeans|                149.0|   2023-04-09|          2.4|          Cash|\n|                 4051|      Tank Top|                 null|   2023-08-31|         null|   Credit Card|\n|                 4001|        Wallet|                151.0|   2023-06-09|          3.9|          Cash|\n|                 4023|      Backpack|                 null|   2023-05-08|          3.0|   Credit Card|\n|                 4017|         Pants|                 null|   2023-08-08|          3.5|          Cash|\n|                 4081|       Sandals|                 20.0|   2022-12-02|          4.1|          Cash|\n|                 4003|       Loafers|                 63.0|   2023-06-10|          2.3|   Credit Card|\n|                 4092|      Overalls|                180.0|   2022-11-25|          2.7|          Cash|\n|                 3965|      Umbrella|                 null|   2023-05-06|          4.2|          Cash|\n|                 4044|         Pants|                114.0|   2022-12-25|          4.4|   Credit Card|\n|                 3978|       Sandals|                 49.0|   2022-10-31|          4.5|          Cash|\n|                 3994|         Boots|                 70.0|   2023-03-01|         null|          Cash|\n|                 4109|       Loafers|                 55.0|   2022-12-21|          1.0|   Credit Card|\n|                 3996|      Slippers|                 16.0|   2023-08-13|          2.5|   Credit Card|\n|                 4083|        Wallet|                 null|   2023-07-07|          3.7|   Credit Card|\n|                 4062|          Coat|                115.0|   2023-04-10|          1.6|   Credit Card|\n|                 4055|       T-shirt|                198.0|   2022-11-29|          3.9|   Credit Card|\n|                 4017|        Shorts|  \n\n*** WARNING: max output size exceeded, skipping output. ***\n\nredit Card|\n|                 4009|          Coat|                 17.0|   2022-12-23|          4.2|   Credit Card|\n|                 3992|        Hoodie|                 null|   2023-03-03|          2.8|   Credit Card|\n|                 4042|       Sun Hat|                106.0|   2023-05-27|         null|   Credit Card|\n|                 4018|       Sandals|                 97.0|   2022-11-18|          3.4|          Cash|\n|                 4095|         Tunic|                 null|   2022-11-15|          1.7|          Cash|\n|                 3986|         Dress|                 93.0|   2023-08-01|          3.1|          Cash|\n|                 4079|        Hoodie|                155.0|   2023-01-23|          2.2|   Credit Card|\n|                 4105|        Shorts|                 23.0|   2023-04-15|          2.0|   Credit Card|\n|                 4010|   Trench Coat|                 null|   2022-10-04|          3.2|   Credit Card|\n|                 4014|        Blazer|                 22.0|   2023-09-22|          2.8|          Cash|\n|                 4039|      Swimsuit|                 79.0|   2022-10-25|          4.8|   Credit Card|\n|                 4047|    Polo Shirt|                118.0|   2023-05-04|          2.3|   Credit Card|\n|                 4025|          Coat|                123.0|   2022-10-12|          2.9|   Credit Card|\n|                 4085|          Belt|                 65.0|   2023-06-29|          1.3|   Credit Card|\n|                 4065|        Wallet|                 39.0|   2022-12-14|          2.2|          Cash|\n|                 4027|       T-shirt|                 38.0|   2023-05-26|          2.8|          Cash|\n|                 3970|         Boots|                183.0|   2023-06-07|          3.2|   Credit Card|\n|                 3973|        Blazer|                144.0|   2023-09-04|          4.1|          Cash|\n|                 4052|         Dress|                 21.0|   2022-10-21|          1.9|          Cash|\n|                 4045| Flannel Shirt|                163.0|   2023-03-15|          2.3|          Cash|\n|                 4072|      Cardigan|                 null|   2023-04-24|          1.4|   Credit Card|\n|                 4081|        Wallet|                 64.0|   2023-02-22|          3.4|   Credit Card|\n|                 4085|    Polo Shirt|                 75.0|   2023-04-24|          1.6|   Credit Card|\n|                 4091|        Bowtie|                 40.0|   2022-11-27|          4.1|          Cash|\n|                 3988|        Blouse|                 null|   2023-09-17|          4.4|   Credit Card|\n|                 4077|    Sunglasses|                 54.0|   2023-05-04|          1.6|          Cash|\n|                 4093|        Kimono|                 null|   2022-10-30|          4.9|          Cash|\n|                 4093|      Tank Top|                 68.0|   2023-06-01|          4.2|          Cash|\n|                 4031|      Leggings|                181.0|   2023-05-13|          2.1|          Cash|\n|                 4072| Flannel Shirt|                 28.0|   2022-12-07|          2.9|          Cash|\n|                 4115|      Raincoat|                199.0|   2023-04-20|          2.2|   Credit Card|\n|                 4051|       Loafers|                 null|   2023-02-23|          2.3|   Credit Card|\n|                 3973|    Polo Shirt|                 null|   2023-01-21|          4.0|   Credit Card|\n|                 4005|   Trench Coat|                 90.0|   2023-09-29|          2.7|   Credit Card|\n|                 4074|         Scarf|                156.0|   2023-06-28|          2.7|   Credit Card|\n|                 3979|      Tank Top|                173.0|   2023-04-01|          2.6|   Credit Card|\n|                 3977|         Skirt|                 39.0|   2022-10-07|          2.4|   Credit Card|\n|                 4057|        Wallet|                 93.0|   2022-10-09|          4.9|          Cash|\n|                 4002|         Dress|                 null|   2023-07-22|          1.1|   Credit Card|\n|                 4030|         Boots|                127.0|   2023-03-17|          1.8|          Cash|\n|                 3976|         Dress|                102.0|   2023-01-26|          2.2|          Cash|\n|                 3984|         Socks|                 null|   2023-05-27|          2.3|          Cash|\n|                 3999|         Pants|                 72.0|   2022-12-29|          2.3|   Credit Card|\n|                 4027|        Blazer|                112.0|   2023-01-12|          1.8|   Credit Card|\n|                 3985|         Scarf|                111.0|   2023-02-17|          3.0|   Credit Card|\n|                 3994|        Blouse|                200.0|   2023-05-06|          1.4|   Credit Card|\n|                 4084|       Loafers|                 95.0|   2022-11-17|          2.3|   Credit Card|\n|                 3995|       Sun Hat|                 29.0|   2023-05-17|          3.9|          Cash|\n|                 4009|         Scarf|                 39.0|   2023-05-07|          4.9|   Credit Card|\n|                 4090|      Slippers|                 59.0|   2023-09-04|         null|          Cash|\n|                 4117|      Raincoat|                 99.0|   2022-12-16|          3.8|   Credit Card|\n|                 3962|      Sneakers|                175.0|   2023-01-24|          2.9|          Cash|\n|                 4032|        Blouse|                 70.0|   2023-09-11|          3.4|          Cash|\n|                 4063|      Camisole|                 null|   2022-11-27|          1.4|   Credit Card|\n|                 4095|    Flip-Flops|                 54.0|   2023-01-15|          2.1|   Credit Card|\n|                 3990|          Belt|                177.0|   2023-01-11|          4.7|   Credit Card|\n|                 4078|        Jacket|                 null|   2023-04-30|          1.5|   Credit Card|\n|                 4045|       Sun Hat|                170.0|   2022-11-29|          2.3|   Credit Card|\n|                 4064|       Sandals|                154.0|   2022-10-08|          2.7|          Cash|\n|                 4070|       Sandals|                124.0|   2023-08-27|          1.6|          Cash|\n|                 4122|       Pajamas|                154.0|   2023-08-14|          1.8|   Credit Card|\n|                 3962|      Backpack|                169.0|   2023-02-11|         null|   Credit Card|\n|                 4031|          Coat|                170.0|   2023-02-23|          3.3|          Cash|\n|                 4005|          Vest|                122.0|   2023-10-01|          2.0|          Cash|\n|                 3973|      Overalls|                 null|   2022-11-18|          2.2|          Cash|\n|                 3962|        Hoodie|                 87.0|   2023-05-12|         null|          Cash|\n|                 4016|       Sandals|                161.0|   2023-03-04|          1.3|          Cash|\n|                 4090|      Umbrella|                 null|   2022-12-11|          3.8|          Cash|\n|                 4122|          Belt|                 89.0|   2023-01-12|          4.4|   Credit Card|\n|                 4042|      Tank Top|                 19.0|   2022-11-21|          2.8|          Cash|\n|                 4062|         Pants|                 null|   2023-04-19|          1.7|   Credit Card|\n|                 4105|    Polo Shirt|                 29.0|   2023-03-29|          2.8|          Cash|\n|                 4044|         Scarf|                 33.0|   2023-02-20|          3.7|   Credit Card|\n|                 4122|        Jacket|                139.0|   2023-02-26|          2.0|   Credit Card|\n|                 4040|       Handbag|                158.0|   2022-11-30|          1.1|          Cash|\n|                 4081|      Camisole|                199.0|   2023-01-10|          2.6|          Cash|\n|                 4108|      Sneakers|                125.0|   2023-05-25|          2.9|          Cash|\n|                 4092|       Handbag|                156.0|   2023-01-01|         null|   Credit Card|\n|                 4097|      Tank Top|                 92.0|   2023-05-27|          4.7|          Cash|\n|                 4070|      Backpack|                138.0|   2023-05-30|          1.1|          Cash|\n|                 4074|         Socks|                 null|   2023-09-04|          1.1|          Cash|\n|                 4034|        Romper|                 null|   2023-04-18|          4.2|          Cash|\n|                 4102|      Swimsuit|                 null|   2023-06-26|          3.0|   Credit Card|\n|                 3990|    Sunglasses|                 97.0|   2023-04-05|          3.5|          Cash|\n|                 4035|        Wallet|                 31.0|   2023-06-03|          3.3|          Cash|\n|                 4000|      Backpack|                 54.0|   2023-05-05|          4.1|          Cash|\n|                 4023|   Trench Coat|                 null|   2022-10-18|          4.2|   Credit Card|\n|                 4015|       Loafers|                122.0|   2023-05-06|          1.4|          Cash|\n|                 4080|          Coat|                166.0|   2023-09-21|          3.4|   Credit Card|\n|                 4052|           Tie|                 null|   2023-01-16|          4.0|   Credit Card|\n|                 4030|         Pants|                 82.0|   2023-02-07|          2.7|          Cash|\n|                 3969|      Leggings|                 96.0|   2023-08-07|          2.8|          Cash|\n|                 3994|          Belt|                 23.0|   2023-02-28|          4.0|   Credit Card|\n|                 4047|       Pajamas|                175.0|   2023-01-02|          1.3|          Cash|\n|                 4029|         Jeans|                 94.0|   2023-08-17|          2.4|          Cash|\n|                 4073|       Loafers|                 null|   2022-10-25|          3.8|   Credit Card|\n|                 3999|         Boots|                 82.0|   2023-02-21|          2.7|          Cash|\n|                 4115|        Jacket|                178.0|   2023-05-09|         null|   Credit Card|\n|                 3998|      Sneakers|                164.0|   2022-11-06|          1.0|   Credit Card|\n|                 4094|        Shorts|                 95.0|   2023-06-01|          1.1|   Credit Card|\n|                 4030|    Polo Shirt|                 null|   2023-03-18|          2.7|          Cash|\n|                 4003|        Shorts|                 99.0|   2023-03-25|          1.9|   Credit Card|\n|                 4001|      Umbrella|                177.0|   2022-11-22|          2.3|          Cash|\n|                 3996|       Sun Hat|                110.0|   2023-06-20|          3.7|   Credit Card|\n|                 3998|           Tie|                 null|   2023-07-10|          3.3|   Credit Card|\n|                 4017|        Jacket|                 31.0|   2023-05-15|          4.5|          Cash|\n|                 3986|      Trousers|                106.0|   2022-10-12|          1.6|   Credit Card|\n|                 3967|       Handbag|                 94.0|   2022-11-15|          1.8|          Cash|\n|                 4038|        Hoodie|                181.0|   2023-06-12|          1.1|   Credit Card|\n|                 4104|      Swimsuit|                199.0|   2023-08-15|          4.4|          Cash|\n|                 3989|      Trousers|                144.0|   2023-08-13|          3.2|   Credit Card|\n|                 4069|      Jumpsuit|                 null|   2023-07-18|          2.3|          Cash|\n|                 4023|      Sneakers|                140.0|   2023-01-06|          1.9|          Cash|\n|                 4051|         Pants|                102.0|   2022-12-29|          2.2|          Cash|\n|                 4004|        Gloves|                 64.0|   2023-03-04|          2.1|   Credit Card|\n|                 4009|      Sneakers|                134.0|   2023-09-24|          1.9|   Credit Card|\n|                 4100|       T-shirt|                 null|   2023-01-03|          1.5|   Credit Card|\n|                 3965|         Skirt|                 49.0|   2022-10-23|          2.8|          Cash|\n|                 4038|       Pajamas|                 null|   2022-12-27|          2.5|   Credit Card|\n|                 4045|        Gloves|                 35.0|   2023-02-25|          4.0|          Cash|\n|                 3994|       Pajamas|                148.0|   2023-07-15|          2.5|   Credit Card|\n|                 4052|         Skirt|                144.0|   2023-01-22|          2.6|   Credit Card|\n|                 4071|        Shorts|                 null|   2023-05-17|          2.5|          Cash|\n|                 4095|           Hat|                168.0|   2023-03-08|          1.4|   Credit Card|\n|                 3998| Flannel Shirt|                 null|   2023-02-15|          4.7|          Cash|\n|                 4093|      Camisole|                 51.0|   2023-02-15|          1.5|          Cash|\n|                 4034|        Blazer|                 null|   2022-11-10|          1.5|   Credit Card|\n|                 3988|      Slippers|                169.0|   2023-06-13|          3.4|   Credit Card|\n|                 3963|        Kimono|                 52.0|   2022-12-27|          2.3|          Cash|\n|                 4060|         Skirt|                 21.0|   2023-01-22|          4.9|   Credit Card|\n|                 4084| Flannel Shirt|                183.0|   2023-02-16|          2.4|   Credit Card|\n|                 3994|      Raincoat|                123.0|   2023-03-27|          1.4|          Cash|\n|                 4074|      Tank Top|                124.0|   2023-05-09|          1.0|          Cash|\n|                 4038|    Sunglasses|                 71.0|   2023-03-22|          2.6|   Credit Card|\n|                 3996|      Cardigan|                130.0|   2023-01-10|          2.4|          Cash|\n|                 3958|       Sun Hat|                 59.0|   2023-06-15|          4.3|   Credit Card|\n|                 4096|      Sneakers|                156.0|   2023-04-19|          4.4|          Cash|\n|                 4086|       Loafers|                128.0|   2023-07-22|          5.0|   Credit Card|\n|                 4041|         Skirt|                107.0|   2023-02-09|         null|   Credit Card|\n|                 4122|       Sweater|                117.0|   2023-05-19|          2.6|   Credit Card|\n|                 4032|          Coat|                 61.0|   2023-07-20|          4.8|          Cash|\n|                 4078|      Leggings|                 45.0|   2022-10-07|          3.6|   Credit Card|\n|                 4031|         Tunic|                 23.0|   2022-12-25|          1.6|   Credit Card|\n|                 4103|       Pajamas|                105.0|   2023-04-03|          3.3|   Credit Card|\n|                 3994|           Hat|                 36.0|   2023-03-01|          1.6|   Credit Card|\n|                 4101|      Raincoat|                142.0|   2023-07-03|          4.0|   Credit Card|\n|                 4070|        Poncho|                 82.0|   2023-04-09|         null|          Cash|\n|                 4043|      Umbrella|                 null|   2023-01-25|          4.5|          Cash|\n|                 3985|    Polo Shirt|                 null|   2023-04-13|          2.5|          Cash|\n|                 4079|       Sun Hat|                141.0|   2022-12-11|          1.6|   Credit Card|\n|                 3967|       Loafers|                 null|   2023-05-04|          4.7|          Cash|\n|                 3992|          Vest|                 66.0|   2023-07-15|          4.0|          Cash|\n|                 4098|        Onesie|                 99.0|   2023-07-19|          1.7|          Cash|\n|                 3986|      Slippers|                116.0|   2022-10-23|          1.4|          Cash|\n|                 4035|        Blouse|                 null|   2023-02-22|          3.0|          Cash|\n|                 3963|       Sandals|                 70.0|   2023-09-19|          3.5|          Cash|\n|                 4059|       T-shirt|                 30.0|   2023-05-29|          2.1|          Cash|\n|                 4115|      Umbrella|                 17.0|   2022-12-29|          4.1|          Cash|\n|                 4013|   Trench Coat|                 35.0|   2023-01-11|          4.6|          Cash|\n|                 4071|        Romper|                176.0|   2023-06-23|         null|          Cash|\n|                 4048|         Pants|                 47.0|   2023-05-12|          4.7|          Cash|\n|                 3980|        Wallet|                 null|   2023-09-28|         null|          Cash|\n|                 4040|        Blouse|                130.0|   2023-02-15|          3.4|   Credit Card|\n|                 3971|         Pants|                 45.0|   2022-11-03|          1.6|          Cash|\n|                 4112|       Pajamas|                130.0|   2023-09-01|         null|   Credit Card|\n|                 4121|    Sunglasses|                 11.0|   2022-10-08|          1.4|          Cash|\n|                 4006|        Poncho|                 14.0|   2022-10-03|          1.4|          Cash|\n|                 4106|      Sneakers|                 48.0|   2023-08-02|          4.9|          Cash|\n|                 4091|       Sweater|                196.0|   2023-03-24|          3.1|          Cash|\n|                 4013|      Camisole|                118.0|   2023-01-26|          3.4|          Cash|\n|                 4028|       Handbag|                 null|   2023-06-15|          2.2|          Cash|\n|                 4007|      Swimsuit|                 87.0|   2023-03-23|          4.6|          Cash|\n|                 3962|        Romper|                 null|   2023-08-18|          3.6|   Credit Card|\n|                 3978|      Jumpsuit|                173.0|   2023-03-11|          3.5|          Cash|\n|                 4094|         Boots|                127.0|   2023-06-05|          2.9|   Credit Card|\n|                 4071|      Umbrella|                 null|   2023-02-16|          4.4|          Cash|\n|                 3979|       Loafers|                137.0|   2022-12-30|          1.9|   Credit Card|\n|                 4088|           Tie|                 14.0|   2022-11-17|          4.8|   Credit Card|\n|                 4057|        Romper|                157.0|   2023-04-20|          1.3|   Credit Card|\n|                 4006|      Overalls|                 46.0|   2023-02-21|         null|          Cash|\n|                 4082|           Hat|                 10.0|   2023-01-30|          4.5|          Cash|\n|                 4038|        Bowtie|                 71.0|   2023-03-15|          1.9|          Cash|\n|                 4111|      Raincoat|                 57.0|   2023-07-31|          3.6|   Credit Card|\n|                 4111|      Overalls|                 31.0|   2023-08-06|          4.9|   Credit Card|\n|                 4087|   Trench Coat|                102.0|   2022-10-10|          3.1|          Cash|\n|                 3971|      Cardigan|                 null|   2022-10-18|          4.5|          Cash|\n|                 4049|      Sneakers|                139.0|   2023-07-26|          1.5|   Credit Card|\n|                 4058|          Belt|                139.0|   2023-01-22|          3.6|          Cash|\n|                 3994| Flannel Shirt|                109.0|   2023-06-03|          4.7|   Credit Card|\n|                 4066|        Romper|                 21.0|   2023-07-02|         null|          Cash|\n|                 4051|        Gloves|                105.0|   2022-11-10|          2.5|   Credit Card|\n|                 4055|        Blazer|                 14.0|   2023-02-13|         null|          Cash|\n|                 4052|       Handbag|                 27.0|   2023-09-11|          1.7|          Cash|\n|                 3960|        Hoodie|                197.0|   2023-05-08|          1.1|          Cash|\n|                 4029|        Blazer|                 36.0|   2022-10-27|          1.6|          Cash|\n|                 4045|           Tie|                198.0|   2023-03-07|          3.3|          Cash|\n|                 4046|      Jumpsuit|                 44.0|   2023-06-09|          2.4|          Cash|\n|                 4035|      Leggings|                 null|   2023-08-29|          4.3|   Credit Card|\n|                 4071|        Hoodie|                174.0|   2023-08-23|          2.8|   Credit Card|\n|                 4100|       Handbag|                 null|   2023-04-30|          3.5|   Credit Card|\n|                 3979|        Hoodie|                128.0|   2022-11-19|          1.5|   Credit Card|\n|                 4012|        Jacket|                132.0|   2023-03-01|          4.1|          Cash|\n|                 4070|      Camisole|                 44.0|   2023-01-23|          2.3|          Cash|\n|                 4063|         Boots|                 null|   2023-05-23|          2.0|   Credit Card|\n|                 4070|        Hoodie|                127.0|   2023-06-17|          2.9|   Credit Card|\n|                 4030|          Coat|                 null|   2023-06-26|          3.7|          Cash|\n|                 3998|    Sunglasses|                 61.0|   2023-02-13|          2.4|   Credit Card|\n|                 4065|       Sweater|                 90.0|   2023-02-20|          1.3|          Cash|\n|                 4063|        Hoodie|                141.0|   2023-01-18|          3.6|   Credit Card|\n|                 3992|        Poncho|                149.0|   2023-05-24|          1.5|          Cash|\n|                 4107|      Cardigan|                 19.0|   2022-10-28|          2.8|   Credit Card|\n|                 4110|       Sun Hat|                 58.0|   2023-04-22|          3.2|          Cash|\n|                 3979|        Kimono|                 22.0|   2023-04-12|          4.5|   Credit Card|\n|                 3993|       T-shirt|                 94.0|   2022-11-13|          2.7|          Cash|\n|                 4010|          Belt|                104.0|   2023-07-06|          1.3|   Credit Card|\n|                 4034|      Umbrella|                112.0|   2023-05-21|          3.0|   Credit Card|\n|                 4078|   Trench Coat|                108.0|   2023-08-31|          4.8|   Credit Card|\n|                 4091|      Camisole|                 57.0|   2023-03-30|          1.8|          Cash|\n|                 4042|        Blouse|                137.0|   2023-05-02|          1.9|   Credit Card|\n|                 3973|        Onesie|                142.0|   2023-02-10|         null|          Cash|\n|                 4108|        Kimono|                 31.0|   2023-05-02|          2.4|          Cash|\n|                 4053|   Trench Coat|                 30.0|   2023-05-29|          1.6|          Cash|\n|                 3979|      Umbrella|                 56.0|   2022-12-08|          3.1|   Credit Card|\n|                 3958|      Umbrella|                 92.0|   2023-09-14|          2.5|   Credit Card|\n|                 4061|    Polo Shirt|                 null|   2023-04-18|          4.8|          Cash|\n|                 4120|      Tank Top|                 85.0|   2023-01-29|          2.5|          Cash|\n|                 4026|        Shorts|                164.0|   2023-04-26|          1.7|   Credit Card|\n|                 4063|          Vest|                 52.0|   2023-07-12|          3.5|          Cash|\n|                 4001|       T-shirt|                 99.0|   2022-11-05|          4.0|   Credit Card|\n|                 4099|    Flip-Flops|                196.0|   2023-04-08|          4.8|   Credit Card|\n|                 4075|         Socks|                100.0|   2023-09-04|          4.4|   Credit Card|\n|                 4102|        Poncho|                121.0|   2023-03-03|          4.8|   Credit Card|\n|                 3992|       T-shirt|                 24.0|   2023-09-22|          2.2|   Credit Card|\n|                 4008|        Romper|                 null|   2022-11-15|          4.9|          Cash|\n|                 4004|          Belt|                103.0|   2023-06-24|          2.9|          Cash|\n|                 4054|      Tank Top|                183.0|   2023-04-10|          4.8|   Credit Card|\n|                 4031|    Polo Shirt|                 null|   2023-06-23|         null|   Credit Card|\n|                 4098|        Poncho|                 null|   2023-08-09|          3.2|   Credit Card|\n|                 4082|      Raincoat|                183.0|   2023-07-21|          4.7|   Credit Card|\n+---------------------+--------------+---------------------+-------------+-------------+--------------+\nonly showing top 1000 rows\n\n"
     ]
    }
   ],
   "source": [
    "%python\n",
    "df.show(1000)"
   ]
  },
  {
   "cell_type": "code",
   "execution_count": 0,
   "metadata": {
    "application/vnd.databricks.v1+cell": {
     "cellMetadata": {
      "byteLimit": 2048000,
      "rowLimit": 10000
     },
     "inputWidgets": {},
     "nuid": "977172fd-a756-4490-ba81-4cbc074695ad",
     "showTitle": false,
     "title": ""
    }
   },
   "outputs": [
    {
     "output_type": "stream",
     "name": "stdout",
     "output_type": "stream",
     "text": [
      "root\n |-- Customer Reference ID: integer (nullable = true)\n |-- Item Purchased: string (nullable = true)\n |-- Purchase Amount (USD): double (nullable = true)\n |-- Date Purchase: date (nullable = true)\n |-- Review Rating: double (nullable = true)\n |-- Payment Method: string (nullable = true)\n\n"
     ]
    }
   ],
   "source": [
    "%python\n",
    "df.printSchema()"
   ]
  },
  {
   "cell_type": "code",
   "execution_count": 0,
   "metadata": {
    "application/vnd.databricks.v1+cell": {
     "cellMetadata": {
      "byteLimit": 2048000,
      "rowLimit": 10000
     },
     "inputWidgets": {},
     "nuid": "f93dae5e-1988-45ee-957b-130101ea57f6",
     "showTitle": false,
     "title": ""
    }
   },
   "outputs": [],
   "source": [
    "%python\n",
    "distinct_customers=df.select(\"Customer Reference ID\").distinct()\n",
    "No_of_distinct_Items=df.select(\"Item Purchased\").distinct()"
   ]
  },
  {
   "cell_type": "code",
   "execution_count": 0,
   "metadata": {
    "application/vnd.databricks.v1+cell": {
     "cellMetadata": {
      "byteLimit": 2048000,
      "rowLimit": 10000
     },
     "inputWidgets": {},
     "nuid": "d0e97231-6c94-423e-911a-35602e0d7752",
     "showTitle": false,
     "title": ""
    }
   },
   "outputs": [
    {
     "output_type": "stream",
     "name": "stdout",
     "output_type": "stream",
     "text": [
      "Out[6]: 166"
     ]
    }
   ],
   "source": [
    "%python\n",
    "distinct_customers.count()"
   ]
  },
  {
   "cell_type": "code",
   "execution_count": 0,
   "metadata": {
    "application/vnd.databricks.v1+cell": {
     "cellMetadata": {
      "byteLimit": 2048000,
      "rowLimit": 10000
     },
     "inputWidgets": {},
     "nuid": "8d987864-021e-4602-be05-807d94b77cbc",
     "showTitle": false,
     "title": ""
    }
   },
   "outputs": [
    {
     "output_type": "stream",
     "name": "stdout",
     "output_type": "stream",
     "text": [
      "Out[7]: 3400"
     ]
    }
   ],
   "source": [
    "%python\n",
    "df.count()"
   ]
  },
  {
   "cell_type": "code",
   "execution_count": 0,
   "metadata": {
    "application/vnd.databricks.v1+cell": {
     "cellMetadata": {
      "byteLimit": 2048000,
      "rowLimit": 10000
     },
     "inputWidgets": {},
     "nuid": "a0802deb-e60a-45ac-9a17-6930b34810ff",
     "showTitle": false,
     "title": ""
    }
   },
   "outputs": [
    {
     "output_type": "stream",
     "name": "stdout",
     "output_type": "stream",
     "text": [
      "Out[8]: 50"
     ]
    }
   ],
   "source": [
    "%python\n",
    "No_of_distinct_Items.count()"
   ]
  },
  {
   "cell_type": "code",
   "execution_count": 0,
   "metadata": {
    "application/vnd.databricks.v1+cell": {
     "cellMetadata": {
      "byteLimit": 2048000,
      "rowLimit": 10000
     },
     "inputWidgets": {},
     "nuid": "57711207-4252-4533-b010-cf30b0fd239d",
     "showTitle": false,
     "title": ""
    }
   },
   "outputs": [],
   "source": [
    "%python\n",
    "df_no_nulls=df.dropna()"
   ]
  },
  {
   "cell_type": "code",
   "execution_count": 0,
   "metadata": {
    "application/vnd.databricks.v1+cell": {
     "cellMetadata": {
      "byteLimit": 2048000,
      "rowLimit": 10000
     },
     "inputWidgets": {},
     "nuid": "a59ff0c5-3fab-4a30-a913-9481d8af68d2",
     "showTitle": false,
     "title": ""
    }
   },
   "outputs": [
    {
     "output_type": "stream",
     "name": "stdout",
     "output_type": "stream",
     "text": [
      "Out[10]: 2487"
     ]
    }
   ],
   "source": [
    "%python\n",
    "df_no_nulls.count()"
   ]
  },
  {
   "cell_type": "code",
   "execution_count": 0,
   "metadata": {
    "application/vnd.databricks.v1+cell": {
     "cellMetadata": {
      "byteLimit": 2048000,
      "rowLimit": 10000
     },
     "inputWidgets": {},
     "nuid": "160a1c6c-9a6c-4362-afa7-dace784acf64",
     "showTitle": false,
     "title": ""
    }
   },
   "outputs": [],
   "source": [
    "%python\n",
    "distinct_customers=df_no_nulls.select(\"Customer Reference ID\").distinct()\n",
    "No_of_distinct_Items=df_no_nulls.select(\"Item Purchased\").distinct()"
   ]
  },
  {
   "cell_type": "code",
   "execution_count": 0,
   "metadata": {
    "application/vnd.databricks.v1+cell": {
     "cellMetadata": {
      "byteLimit": 2048000,
      "rowLimit": 10000
     },
     "inputWidgets": {},
     "nuid": "e518da5c-a204-40b1-b361-8e73eb21c70f",
     "showTitle": false,
     "title": ""
    }
   },
   "outputs": [
    {
     "output_type": "stream",
     "name": "stdout",
     "output_type": "stream",
     "text": [
      "Out[12]: 166"
     ]
    }
   ],
   "source": [
    "%python\n",
    "distinct_customers.count()"
   ]
  },
  {
   "cell_type": "code",
   "execution_count": 0,
   "metadata": {
    "application/vnd.databricks.v1+cell": {
     "cellMetadata": {
      "byteLimit": 2048000,
      "rowLimit": 10000
     },
     "inputWidgets": {},
     "nuid": "2ba62669-b2ca-4025-9636-c3c17e7f467b",
     "showTitle": false,
     "title": ""
    }
   },
   "outputs": [
    {
     "output_type": "stream",
     "name": "stdout",
     "output_type": "stream",
     "text": [
      "Out[13]: 50"
     ]
    }
   ],
   "source": [
    "%python\n",
    "No_of_distinct_Items.count()"
   ]
  },
  {
   "cell_type": "code",
   "execution_count": 0,
   "metadata": {
    "application/vnd.databricks.v1+cell": {
     "cellMetadata": {
      "byteLimit": 2048000,
      "rowLimit": 10000
     },
     "inputWidgets": {},
     "nuid": "d6107869-4a0b-4d4e-b79a-7677ed867b46",
     "showTitle": false,
     "title": ""
    }
   },
   "outputs": [
    {
     "output_type": "stream",
     "name": "stdout",
     "output_type": "stream",
     "text": [
      "+--------------+\n|Item Purchased|\n+--------------+\n|      Backpack|\n|          Belt|\n|        Blazer|\n|        Blouse|\n|         Boots|\n|        Bowtie|\n|      Camisole|\n|      Cardigan|\n|          Coat|\n|         Dress|\n| Flannel Shirt|\n|    Flip-Flops|\n|        Gloves|\n|       Handbag|\n|           Hat|\n|        Hoodie|\n|        Jacket|\n|         Jeans|\n|      Jumpsuit|\n|        Kimono|\n|      Leggings|\n|       Loafers|\n|        Onesie|\n|      Overalls|\n|       Pajamas|\n|         Pants|\n|    Polo Shirt|\n|        Poncho|\n|      Raincoat|\n|        Romper|\n|       Sandals|\n|         Scarf|\n|        Shorts|\n|         Skirt|\n|      Slippers|\n|      Sneakers|\n|         Socks|\n|       Sun Hat|\n|    Sunglasses|\n|       Sweater|\n|      Swimsuit|\n|       T-shirt|\n|      Tank Top|\n|           Tie|\n|   Trench Coat|\n|      Trousers|\n|         Tunic|\n|      Umbrella|\n|          Vest|\n|        Wallet|\n+--------------+\n\n"
     ]
    }
   ],
   "source": [
    "%python\n",
    "df_no_nulls.select(\"Item Purchased\").distinct().orderBy(\"Item Purchased\").show(50)"
   ]
  },
  {
   "cell_type": "code",
   "execution_count": 0,
   "metadata": {
    "application/vnd.databricks.v1+cell": {
     "cellMetadata": {
      "byteLimit": 2048000,
      "rowLimit": 10000
     },
     "inputWidgets": {},
     "nuid": "fcc12055-7bab-4054-bfd3-c94f0f302543",
     "showTitle": false,
     "title": ""
    }
   },
   "outputs": [],
   "source": [
    "%python\n",
    "a=df_no_nulls.groupBy(\"Customer Reference Id\").count().alias(\"no_of_Purchases\")\n",
    "c=df_no_nulls.groupBy(\"Item Purchased\").count().alias(\"no_of_items_purchased\")"
   ]
  },
  {
   "cell_type": "code",
   "execution_count": 0,
   "metadata": {
    "application/vnd.databricks.v1+cell": {
     "cellMetadata": {
      "byteLimit": 2048000,
      "rowLimit": 10000
     },
     "inputWidgets": {},
     "nuid": "c769f296-3098-499f-b480-590aa45cca2c",
     "showTitle": false,
     "title": ""
    }
   },
   "outputs": [],
   "source": [
    "%python\n",
    "from pyspark.sql.functions import *\n",
    "b=a.withColumnRenamed(\"count\",\"no_of_purchases\").orderBy(\"no_of_purchases\",ascending=False)\n",
    "d=c.withColumnRenamed(\"count\",\"no_of_purchases\").orderBy(\"no_of_purchases\",ascending=False)"
   ]
  },
  {
   "cell_type": "code",
   "execution_count": 0,
   "metadata": {
    "application/vnd.databricks.v1+cell": {
     "cellMetadata": {
      "byteLimit": 2048000,
      "rowLimit": 10000
     },
     "inputWidgets": {},
     "nuid": "1e96e87c-f59d-47ba-846a-dd7686f7fa32",
     "showTitle": false,
     "title": ""
    }
   },
   "outputs": [
    {
     "output_type": "stream",
     "name": "stdout",
     "output_type": "stream",
     "text": [
      "+---------------------+---------------+\n|Customer Reference Id|no_of_purchases|\n+---------------------+---------------+\n|                 4078|             25|\n|                 4122|             24|\n|                 3973|             24|\n|                 3978|             23|\n|                 4073|             23|\n|                 4075|             23|\n|                 4111|             22|\n|                 4002|             22|\n|                 4068|             22|\n|                 4081|             21|\n|                 4065|             21|\n|                 4034|             20|\n|                 4017|             20|\n|                 4110|             20|\n|                 4008|             20|\n|                 4082|             20|\n|                 4067|             20|\n|                 4084|             20|\n|                 4051|             20|\n|                 3968|             20|\n+---------------------+---------------+\nonly showing top 20 rows\n\n"
     ]
    }
   ],
   "source": [
    "%python\n",
    "b.show()"
   ]
  },
  {
   "cell_type": "code",
   "execution_count": 0,
   "metadata": {
    "application/vnd.databricks.v1+cell": {
     "cellMetadata": {
      "byteLimit": 2048000,
      "rowLimit": 10000
     },
     "inputWidgets": {},
     "nuid": "88ac682a-e5fd-40f7-8cbd-a3a7233c465d",
     "showTitle": false,
     "title": ""
    }
   },
   "outputs": [
    {
     "output_type": "stream",
     "name": "stdout",
     "output_type": "stream",
     "text": [
      "+--------------+---------------+\n|Item Purchased|no_of_purchases|\n+--------------+---------------+\n|        Shorts|             69|\n|          Belt|             65|\n|         Skirt|             63|\n|      Tank Top|             60|\n|      Camisole|             60|\n|         Pants|             59|\n|      Cardigan|             57|\n|        Hoodie|             57|\n|       Pajamas|             56|\n|       T-shirt|             56|\n|        Wallet|             56|\n|        Kimono|             55|\n|         Scarf|             55|\n|   Trench Coat|             54|\n|    Sunglasses|             54|\n|        Poncho|             54|\n|        Onesie|             53|\n|      Sneakers|             53|\n|       Handbag|             53|\n|       Loafers|             53|\n+--------------+---------------+\nonly showing top 20 rows\n\n"
     ]
    }
   ],
   "source": [
    "%python\n",
    "d.show()"
   ]
  },
  {
   "cell_type": "code",
   "execution_count": 0,
   "metadata": {
    "application/vnd.databricks.v1+cell": {
     "cellMetadata": {
      "byteLimit": 2048000,
      "rowLimit": 10000
     },
     "inputWidgets": {},
     "nuid": "3a1ed98b-3f43-4123-914e-2473029476d9",
     "showTitle": false,
     "title": ""
    }
   },
   "outputs": [
    {
     "output_type": "stream",
     "name": "stdout",
     "output_type": "stream",
     "text": [
      "+---------------------+------------------+\n|Customer Reference Id|total Amount spent|\n+---------------------+------------------+\n|                 4044|            8745.0|\n|                 4075|            7067.0|\n|                 4108|            6828.0|\n|                 4067|            6528.0|\n|                 4040|            6519.0|\n|                 3984|            6327.0|\n|                 4002|            6320.0|\n|                 4099|            6002.0|\n|                 3986|            5908.0|\n|                 3976|            5845.0|\n+---------------------+------------------+\nonly showing top 10 rows\n\n"
     ]
    }
   ],
   "source": [
    "%python\n",
    "df_no_nulls.select(\"Customer Reference Id\", \"Purchase Amount (USD)\")\\\n",
    "    .groupBy(\"Customer Reference Id\")\\\n",
    "        .agg(sum(\"Purchase Amount (USD)\").alias(\"total Amount spent\"))\\\n",
    "            .orderBy(\"total Amount spent\",ascending =False).show(10)"
   ]
  },
  {
   "cell_type": "code",
   "execution_count": 0,
   "metadata": {
    "application/vnd.databricks.v1+cell": {
     "cellMetadata": {
      "byteLimit": 2048000,
      "rowLimit": 10000
     },
     "inputWidgets": {},
     "nuid": "75eeefc5-4f3b-4083-a301-1f11bd6dc985",
     "showTitle": false,
     "title": ""
    }
   },
   "outputs": [
    {
     "output_type": "stream",
     "name": "stdout",
     "output_type": "stream",
     "text": [
      "+--------------+------------------+\n|Item Purchased|total Amount spent|\n+--------------+------------------+\n|         Tunic|           16980.0|\n|         Jeans|           12475.0|\n|        Shorts|           12246.0|\n|        Gloves|           11793.0|\n|         Boots|           11174.0|\n|    Flip-Flops|           10776.0|\n|      Slippers|           10702.0|\n|       Sweater|           10160.0|\n|          Belt|           10018.0|\n|   Trench Coat|            9622.0|\n+--------------+------------------+\nonly showing top 10 rows\n\n"
     ]
    }
   ],
   "source": [
    "%python\n",
    "df_no_nulls.select(\"Item Purchased\", \"Purchase Amount (USD)\")\\\n",
    "    .groupBy(\"Item Purchased\")\\\n",
    "        .agg(sum(\"Purchase Amount (USD)\").alias(\"total Amount spent\"))\\\n",
    "            .orderBy(\"total Amount spent\",ascending =False).show(10)"
   ]
  },
  {
   "cell_type": "code",
   "execution_count": 0,
   "metadata": {
    "application/vnd.databricks.v1+cell": {
     "cellMetadata": {
      "byteLimit": 2048000,
      "rowLimit": 10000
     },
     "inputWidgets": {},
     "nuid": "a7490ad0-c420-4841-9edc-8ab0a3f77914",
     "showTitle": false,
     "title": ""
    }
   },
   "outputs": [
    {
     "output_type": "stream",
     "name": "stdout",
     "output_type": "stream",
     "text": [
      "Out[22]: DataFrame[Item Purchased: string, total Amount spent: double]"
     ]
    }
   ],
   "source": [
    "%python\n",
    "df_no_nulls.select(\"Item Purchased\", \"Purchase Amount (USD)\")\\\n",
    "    .groupBy(\"Item Purchased\")\\\n",
    "        .agg(sum(\"Purchase Amount (USD)\").alias(\"total Amount spent\"))\\\n",
    "            .orderBy(\"total Amount spent\",ascending =False)"
   ]
  },
  {
   "cell_type": "code",
   "execution_count": 0,
   "metadata": {
    "application/vnd.databricks.v1+cell": {
     "cellMetadata": {
      "byteLimit": 2048000,
      "rowLimit": 10000
     },
     "inputWidgets": {},
     "nuid": "02debafc-6255-4793-a4cc-cc96ec54a543",
     "showTitle": false,
     "title": ""
    }
   },
   "outputs": [
    {
     "output_type": "stream",
     "name": "stdout",
     "output_type": "stream",
     "text": [
      "+---------------------+--------------+---------------------+-------------+-------------+--------------+\n|Customer Reference ID|Item Purchased|Purchase Amount (USD)|Date Purchase|Review Rating|Payment Method|\n+---------------------+--------------+---------------------+-------------+-------------+--------------+\n|                 3997|        Wallet|               3003.0|   2022-11-27|          4.7|          Cash|\n|                 4032|        Wallet|                155.0|   2023-03-08|          1.1|   Credit Card|\n|                 4001|        Wallet|                151.0|   2023-06-09|          3.9|          Cash|\n|                 4042|        Wallet|                154.0|   2023-08-31|          2.9|   Credit Card|\n|                 3965|        Wallet|                 89.0|   2023-08-18|          4.5|          Cash|\n|                 4014|        Wallet|                 92.0|   2022-12-25|          4.8|   Credit Card|\n|                 3988|        Wallet|                181.0|   2023-03-04|          3.7|   Credit Card|\n|                 3987|        Wallet|                123.0|   2023-08-01|          2.5|   Credit Card|\n|                 3968|        Wallet|                126.0|   2022-11-17|          4.3|   Credit Card|\n|                 3990|        Wallet|                 77.0|   2023-07-25|          2.5|   Credit Card|\n|                 4001|        Wallet|                 60.0|   2023-05-17|          2.4|          Cash|\n|                 4078|        Wallet|                163.0|   2023-02-07|          4.7|   Credit Card|\n|                 4064|        Wallet|                136.0|   2023-02-17|          2.9|   Credit Card|\n|                 4073|        Wallet|                137.0|   2023-08-07|          1.1|          Cash|\n|                 4108|        Wallet|                 63.0|   2022-12-27|          2.0|   Credit Card|\n|                 3978|        Wallet|                102.0|   2023-07-11|          2.0|   Credit Card|\n|                 4065|        Wallet|                 39.0|   2022-12-14|          2.2|          Cash|\n|                 4081|        Wallet|                 64.0|   2023-02-22|          3.4|   Credit Card|\n|                 4057|        Wallet|                 93.0|   2022-10-09|          4.9|          Cash|\n|                 4035|        Wallet|                 31.0|   2023-06-03|          3.3|          Cash|\n+---------------------+--------------+---------------------+-------------+-------------+--------------+\nonly showing top 20 rows\n\n"
     ]
    }
   ],
   "source": [
    "df_no_nulls.where(df[\"Item Purchased\"]==\"Wallet\").show()"
   ]
  },
  {
   "cell_type": "code",
   "execution_count": 0,
   "metadata": {
    "application/vnd.databricks.v1+cell": {
     "cellMetadata": {
      "byteLimit": 2048000,
      "rowLimit": 10000
     },
     "inputWidgets": {},
     "nuid": "c8b75661-4bb2-457c-8d7b-d43eaeb69e9d",
     "showTitle": false,
     "title": ""
    }
   },
   "outputs": [],
   "source": [
    "df_no_nulls = df_no_nulls.withColumn(\"day\",dayofmonth(\"Date Purchase\")).withColumn(\"Month\", month(\"Date Purchase\")).withColumn(\"Year\", year(\"Date Purchase\"))"
   ]
  },
  {
   "cell_type": "code",
   "execution_count": 0,
   "metadata": {
    "application/vnd.databricks.v1+cell": {
     "cellMetadata": {
      "byteLimit": 2048000,
      "rowLimit": 10000
     },
     "inputWidgets": {},
     "nuid": "dc118bfe-0711-47b0-94c7-07ce645e5a14",
     "showTitle": false,
     "title": ""
    }
   },
   "outputs": [
    {
     "output_type": "stream",
     "name": "stdout",
     "output_type": "stream",
     "text": [
      "+---------------------+--------------+---------------------+-------------+-------------+--------------+---+-----+----+\n|Customer Reference ID|Item Purchased|Purchase Amount (USD)|Date Purchase|Review Rating|Payment Method|day|Month|Year|\n+---------------------+--------------+---------------------+-------------+-------------+--------------+---+-----+----+\n|                 4115|         Tunic|               2456.0|   2023-07-11|          2.0|   Credit Card| 11|    7|2023|\n|                 4019|      Tank Top|               2102.0|   2023-03-23|          4.1|          Cash| 23|    3|2023|\n|                 4097|      Leggings|               3126.0|   2023-03-15|          3.2|          Cash| 15|    3|2023|\n|                 3997|        Wallet|               3003.0|   2022-11-27|          4.7|          Cash| 27|   11|2022|\n|                 4080|        Onesie|               2914.0|   2022-12-11|          4.5|   Credit Card| 11|   12|2022|\n|                 4055|        Jacket|               2571.0|   2023-07-08|          1.3|          Cash|  8|    7|2023|\n|                 3973|      Trousers|               2419.0|   2022-11-10|          4.6|          Cash| 10|   11|2022|\n|                 4044|         Jeans|               4771.0|   2023-05-19|          4.1|          Cash| 19|    5|2023|\n|                 4108|      Slippers|               2356.0|   2023-03-19|          4.8|   Credit Card| 19|    3|2023|\n|                 4067|        Bowtie|               4418.0|   2022-11-21|          3.4|          Cash| 21|   11|2022|\n|                 4102|   Trench Coat|               2130.0|   2023-01-29|          4.8|          Cash| 29|    1|2023|\n|                 4044|       Handbag|               2122.0|   2023-08-01|          1.2|   Credit Card|  1|    8|2023|\n|                 4017|        Gloves|               2895.0|   2023-07-17|          3.6|   Credit Card| 17|    7|2023|\n|                 4001|   Trench Coat|               2952.0|   2023-06-13|          2.2|          Cash| 13|    6|2023|\n|                 3976|      Slippers|               4069.0|   2023-06-18|          4.9|   Credit Card| 18|    6|2023|\n|                 3986|        Gloves|               4298.0|   2023-04-05|          4.2|          Cash|  5|    4|2023|\n|                 4108|         Jeans|               2814.0|   2023-02-11|          4.4|   Credit Card| 11|    2|2023|\n|                 4109|    Flip-Flops|               4932.0|   2022-12-20|          4.0|   Credit Card| 20|   12|2022|\n|                 4075|         Tunic|               4661.0|   2023-04-12|          1.2|   Credit Card| 12|    4|2023|\n|                 4040|        Shorts|               4872.0|   2023-08-25|          3.8|          Cash| 25|    8|2023|\n+---------------------+--------------+---------------------+-------------+-------------+--------------+---+-----+----+\nonly showing top 20 rows\n\n"
     ]
    }
   ],
   "source": [
    "df_no_nulls.show()"
   ]
  },
  {
   "cell_type": "code",
   "execution_count": 0,
   "metadata": {
    "application/vnd.databricks.v1+cell": {
     "cellMetadata": {
      "byteLimit": 2048000,
      "rowLimit": 10000
     },
     "inputWidgets": {},
     "nuid": "82ccfa5f-1e10-4852-86c3-62da58bcf49e",
     "showTitle": false,
     "title": ""
    }
   },
   "outputs": [],
   "source": [
    "sales_by_year=df_no_nulls.groupBy(\"Year\").agg(sum(\"Purchase Amount (USD)\").alias(\"TotalSalesAmount\"))"
   ]
  },
  {
   "cell_type": "code",
   "execution_count": 0,
   "metadata": {
    "application/vnd.databricks.v1+cell": {
     "cellMetadata": {
      "byteLimit": 2048000,
      "rowLimit": 10000
     },
     "inputWidgets": {},
     "nuid": "14053da8-6153-4260-b5b4-819d8a8fc00a",
     "showTitle": false,
     "title": ""
    }
   },
   "outputs": [
    {
     "output_type": "stream",
     "name": "stdout",
     "output_type": "stream",
     "text": [
      "+----+----------------+\n|Year|TotalSalesAmount|\n+----+----------------+\n|2023|        273736.0|\n|2022|         98344.0|\n+----+----------------+\n\n"
     ]
    }
   ],
   "source": [
    "sales_by_year.show()"
   ]
  },
  {
   "cell_type": "code",
   "execution_count": 0,
   "metadata": {
    "application/vnd.databricks.v1+cell": {
     "cellMetadata": {
      "byteLimit": 2048000,
      "rowLimit": 10000
     },
     "inputWidgets": {},
     "nuid": "2a1c333f-9cac-45ca-891f-55b2661ed7b7",
     "showTitle": false,
     "title": ""
    }
   },
   "outputs": [],
   "source": [
    "sales_by_yea_month=df_no_nulls.groupBy(\"Year\",\"month\").agg(sum(\"Purchase Amount (USD)\").alias(\"TotalSalesAmount\"))"
   ]
  },
  {
   "cell_type": "code",
   "execution_count": 0,
   "metadata": {
    "application/vnd.databricks.v1+cell": {
     "cellMetadata": {
      "byteLimit": 2048000,
      "rowLimit": 10000
     },
     "inputWidgets": {},
     "nuid": "7873fd30-d8ea-4141-8863-7fdae8a7f54a",
     "showTitle": false,
     "title": ""
    }
   },
   "outputs": [
    {
     "output_type": "stream",
     "name": "stdout",
     "output_type": "stream",
     "text": [
      "+----+-----+----------------+\n|Year|month|TotalSalesAmount|\n+----+-----+----------------+\n|2022|   12|         41496.0|\n|2022|   11|         28489.0|\n|2022|   10|         28359.0|\n|2023|   10|           423.0|\n|2023|    9|         22395.0|\n|2023|    8|         32807.0|\n|2023|    7|         30775.0|\n|2023|    6|         29503.0|\n|2023|    5|         39539.0|\n|2023|    4|         35293.0|\n|2023|    3|         30853.0|\n|2023|    2|         24294.0|\n|2023|    1|         27854.0|\n+----+-----+----------------+\n\n"
     ]
    }
   ],
   "source": [
    "sales_by_yea_month.orderBy(\"year\",ascending=False).orderBy(\"month\",ascending=False).show()"
   ]
  },
  {
   "cell_type": "code",
   "execution_count": 0,
   "metadata": {
    "application/vnd.databricks.v1+cell": {
     "cellMetadata": {
      "byteLimit": 2048000,
      "rowLimit": 10000
     },
     "inputWidgets": {},
     "nuid": "b831b4e3-b21b-4299-8f55-e25fa619ff0f",
     "showTitle": false,
     "title": ""
    }
   },
   "outputs": [
    {
     "output_type": "stream",
     "name": "stdout",
     "output_type": "stream",
     "text": [
      "+--------------+-----+\n|Payment Method|count|\n+--------------+-----+\n|   Credit Card| 1303|\n|          Cash| 1184|\n+--------------+-----+\n\n"
     ]
    }
   ],
   "source": [
    "payment_wise_no_purchases=df_no_nulls.groupBy(\"Payment Method\").count().show()"
   ]
  },
  {
   "cell_type": "code",
   "execution_count": 0,
   "metadata": {
    "application/vnd.databricks.v1+cell": {
     "cellMetadata": {
      "byteLimit": 2048000,
      "rowLimit": 10000
     },
     "inputWidgets": {},
     "nuid": "5d72b3ee-f8a9-4806-9a0e-f06d908e7ebb",
     "showTitle": false,
     "title": ""
    }
   },
   "outputs": [
    {
     "output_type": "stream",
     "name": "stdout",
     "output_type": "stream",
     "text": [
      "+--------------+----------+\n|Item Purchased|avg_rating|\n+--------------+----------+\n|       Sun Hat|      3.51|\n|    Flip-Flops|      3.35|\n|         Skirt|      3.33|\n|      Jumpsuit|      3.27|\n|       Handbag|      3.24|\n|       Sandals|      3.23|\n|   Trench Coat|      3.20|\n|      Tank Top|      3.19|\n|       T-shirt|      3.16|\n|      Swimsuit|      3.16|\n|         Jeans|      3.16|\n|        Wallet|      3.14|\n|         Boots|      3.13|\n|      Umbrella|      3.10|\n|       Sweater|      3.10|\n|          Coat|      3.10|\n|        Romper|      3.10|\n|        Gloves|      3.10|\n|         Scarf|      3.10|\n|      Slippers|      3.07|\n+--------------+----------+\nonly showing top 20 rows\n\n"
     ]
    }
   ],
   "source": [
    "average_rating_given_to_item=df_no_nulls.groupBy(\"Item Purchased\").agg(format_number(avg(\"Review Rating\"),2)\\\n",
    "    .alias(\"avg_rating\")).orderBy(\"avg_rating\",ascending=False).show()\n"
   ]
  },
  {
   "cell_type": "code",
   "execution_count": 0,
   "metadata": {
    "application/vnd.databricks.v1+cell": {
     "cellMetadata": {
      "byteLimit": 2048000,
      "rowLimit": 10000
     },
     "inputWidgets": {},
     "nuid": "b0743f03-dca8-46cb-994d-99c7607d4c81",
     "showTitle": false,
     "title": ""
    }
   },
   "outputs": [
    {
     "output_type": "stream",
     "name": "stdout",
     "output_type": "stream",
     "text": [
      "+--------------+--------------+--------------+\n|Item Purchased|maximum rating|minimum rating|\n+--------------+--------------+--------------+\n|       T-shirt|           5.0|           1.1|\n|      Cardigan|           5.0|           1.1|\n|      Sneakers|           5.0|           1.0|\n|          Belt|           5.0|           1.0|\n|        Onesie|           5.0|           1.1|\n|       Sweater|           5.0|           1.0|\n|   Trench Coat|           5.0|           1.2|\n|      Raincoat|           5.0|           1.0|\n|         Pants|           5.0|           1.2|\n|       Pajamas|           5.0|           1.1|\n|       Sun Hat|           5.0|           1.3|\n|       Handbag|           5.0|           1.1|\n|       Loafers|           5.0|           1.0|\n|      Backpack|           5.0|           1.0|\n|         Skirt|           5.0|           1.1|\n|        Romper|           5.0|           1.1|\n|        Wallet|           5.0|           1.1|\n|      Jumpsuit|           5.0|           1.1|\n|         Jeans|           5.0|           1.1|\n|         Socks|           5.0|           1.1|\n|    Polo Shirt|           4.9|           1.0|\n|    Flip-Flops|           4.9|           1.0|\n|        Bowtie|           4.9|           1.1|\n|        Kimono|           4.9|           1.0|\n|         Tunic|           4.9|           1.0|\n|           Tie|           4.9|           1.0|\n|           Hat|           4.9|           1.0|\n|        Blazer|           4.9|           1.0|\n|          Coat|           4.9|           1.4|\n|        Hoodie|           4.9|           1.0|\n|      Leggings|           4.9|           1.2|\n|        Gloves|           4.9|           1.1|\n|      Slippers|           4.9|           1.2|\n|      Overalls|           4.9|           1.1|\n|      Trousers|           4.9|           1.4|\n|         Boots|           4.9|           1.0|\n|        Shorts|           4.9|           1.0|\n|          Vest|           4.9|           1.0|\n|         Scarf|           4.9|           1.0|\n|       Sandals|           4.9|           1.3|\n|      Tank Top|           4.9|           1.0|\n|        Poncho|           4.9|           1.0|\n|        Jacket|           4.8|           1.1|\n|      Umbrella|           4.8|           1.2|\n|         Dress|           4.8|           1.0|\n|      Swimsuit|           4.8|           1.0|\n|      Camisole|           4.8|           1.0|\n|        Blouse|           4.7|           1.1|\n| Flannel Shirt|           4.7|           1.1|\n|    Sunglasses|           4.3|           1.1|\n+--------------+--------------+--------------+\n\n"
     ]
    }
   ],
   "source": [
    "df_no_nulls.groupBy(\"Item Purchased\").agg(max(\"Review Rating\").alias(\"maximum rating\")\\\n",
    "    ,min(\"Review Rating\").alias(\"minimum rating\")).orderBy(\"maximum rating\",ascending=False).show(50)"
   ]
  },
  {
   "cell_type": "code",
   "execution_count": 0,
   "metadata": {
    "application/vnd.databricks.v1+cell": {
     "cellMetadata": {
      "byteLimit": 2048000,
      "rowLimit": 10000
     },
     "inputWidgets": {},
     "nuid": "cf45d02d-87ba-4711-929e-7f6d4b7bdc59",
     "showTitle": false,
     "title": ""
    }
   },
   "outputs": [
    {
     "output_type": "stream",
     "name": "stdout",
     "output_type": "stream",
     "text": [
      "+---------------------+-----------------+\n|Customer Reference ID|AvgPurchaseAmount|\n+---------------------+-----------------+\n|                 3997|           317.25|\n|                 4101|           122.29|\n|                 3986|           328.22|\n|                 4078|           115.24|\n|                 4042|           111.32|\n|                 4000|            83.94|\n|                 4092|           127.43|\n|                 4097|           490.75|\n|                 4119|           104.38|\n|                 4061|            81.67|\n|                 4088|           108.27|\n|                 4083|           272.13|\n|                 4107|           118.41|\n|                 4036|           139.45|\n|                 3972|           274.33|\n|                 4104|           123.00|\n|                 4025|           129.00|\n|                 4033|           127.31|\n|                 3990|           106.69|\n|                 4014|            71.20|\n|                 4047|           113.00|\n|                 4070|           262.78|\n|                 3963|           108.08|\n|                 4090|           102.06|\n|                 4120|           110.88|\n|                 3975|            90.50|\n|                 4028|            80.44|\n|                 4040|           383.47|\n|                 3991|           118.50|\n|                 4018|            88.69|\n|                 4076|            80.70|\n|                 4032|            93.29|\n|                 3976|           389.67|\n|                 3970|           119.56|\n|                 4111|           106.41|\n|                 4102|           216.11|\n|                 4041|            71.67|\n|                 4093|           100.29|\n|                 3987|           112.31|\n|                 3978|           130.17|\n|                 4016|            85.77|\n|                 4030|           112.36|\n|                 4091|           117.92|\n|                 4013|            88.93|\n|                 3983|            96.92|\n|                 4094|           111.13|\n|                 4012|           312.00|\n|                 4001|           258.11|\n|                 4038|            90.50|\n|                 4118|            97.59|\n|                 4074|            99.89|\n|                 3996|           101.50|\n|                 3969|            88.09|\n|                 3967|           108.39|\n|                 4043|           126.60|\n|                 4024|            98.21|\n|                 4027|           103.20|\n|                 4034|           117.75|\n|                 4017|           238.50|\n|                 4110|           219.05|\n|                 4006|            99.22|\n|                 4015|           104.57|\n|                 4037|           125.00|\n|                 4073|           110.26|\n|                 3999|            93.65|\n|                 4007|           106.50|\n|                 4113|           119.31|\n|                 3981|           392.00|\n|                 4059|            97.87|\n|                 4023|           114.76|\n|                 4115|           242.44|\n|                 3958|            75.62|\n|                 3966|           121.55|\n|                 4075|           307.26|\n|                 3962|           128.50|\n|                 4068|            95.41|\n|                 3971|           101.82|\n|                 4020|           128.08|\n|                 4044|           485.83|\n|                 4054|           389.50|\n|                 3959|           107.29|\n|                 4122|           105.42|\n|                 4066|           107.60|\n|                 4002|           287.27|\n|                 4105|            83.22|\n|                 4080|           345.67|\n|                 3964|           115.93|\n|                 4109|           629.89|\n|                 4071|           128.36|\n|                 4009|            75.80|\n|                 4045|           107.46|\n|                 4010|           124.33|\n|                 4058|            94.60|\n|                 4011|            94.75|\n|                 4035|           601.50|\n|                 4086|           102.83|\n|                 3985|           104.89|\n|                 4026|            98.93|\n|                 4008|            98.45|\n|                 4022|           115.60|\n|                 4062|            85.07|\n|                 4087|           114.33|\n|                 3998|           123.71|\n|                 3982|           137.67|\n|                 4052|           112.89|\n|                 4100|           118.57|\n|                 4103|           100.53|\n|                 3974|           237.20|\n|                 4048|           113.87|\n|                 3994|           112.16|\n|                 4082|           124.90|\n|                 4055|           315.00|\n|                 3973|           206.25|\n|                 4099|           375.12|\n|                 4067|           326.40|\n|                 4053|           140.33|\n|                 4069|            68.14|\n|                 4063|            98.41|\n|                 4098|            87.07|\n|                 4084|           105.10|\n|                 4051|           101.75|\n|                 4117|           103.58|\n|                 4072|           111.31|\n|                 4114|            89.93|\n|                 3979|           111.67|\n|                 4005|           112.33|\n|                 4050|           101.67|\n|                 3992|           107.63|\n|                 4081|           106.95|\n|                 4077|           128.89|\n|                 4003|           117.21|\n|                 3957|            97.80|\n|                 3995|           101.88|\n|                 4049|            93.67|\n|                 3977|            73.21|\n|                 4004|           104.00|\n|                 3965|           103.73|\n|                 4031|           132.19|\n|                 4096|           103.38|\n|                 4021|           102.08|\n|                 4089|           113.90|\n|                 4056|           101.13|\n|                 4116|           111.75|\n|                 4057|            96.13|\n|                 4065|           113.95|\n|                 3988|           115.53|\n|                 3968|            97.95|\n|                 3984|           451.93|\n|                 4112|           123.20|\n|                 4046|           116.00|\n|                 4060|           296.06|\n|                 4095|            94.06|\n|                 3960|            97.08|\n|                 3989|           100.50|\n|                 3961|           106.13|\n|                 4064|           115.62|\n|                 4029|            84.40|\n|                 4085|            95.08|\n|                 4079|           124.40|\n|                 4039|           109.30|\n|                 4108|           379.33|\n|                 4019|           316.30|\n|                 3980|           250.75|\n|                 4121|           124.38|\n|                 4106|           111.06|\n|                 3993|           100.45|\n+---------------------+-----------------+\n\n"
     ]
    }
   ],
   "source": [
    "segmented_customers = df_no_nulls.groupBy(\"Customer Reference ID\").agg(format_number(avg(\"Purchase Amount (USD)\"),2).alias(\"AvgPurchaseAmount\")).show(166)"
   ]
  },
  {
   "cell_type": "code",
   "execution_count": 0,
   "metadata": {
    "application/vnd.databricks.v1+cell": {
     "cellMetadata": {
      "byteLimit": 2048000,
      "rowLimit": 10000
     },
     "inputWidgets": {},
     "nuid": "158cade9-0af1-4df4-ac8f-fba913f0c969",
     "showTitle": false,
     "title": ""
    }
   },
   "outputs": [
    {
     "output_type": "stream",
     "name": "stdout",
     "output_type": "stream",
     "text": [
      "+---------------------+--------------+---------------------+-------------+-------------+--------------+---+-----+----+\n|Customer Reference ID|Item Purchased|Purchase Amount (USD)|Date Purchase|Review Rating|Payment Method|day|Month|Year|\n+---------------------+--------------+---------------------+-------------+-------------+--------------+---+-----+----+\n|                 4115|         Tunic|               2456.0|   2023-07-11|          2.0|   Credit Card| 11|    7|2023|\n|                 4019|      Tank Top|               2102.0|   2023-03-23|          4.1|          Cash| 23|    3|2023|\n|                 4097|      Leggings|               3126.0|   2023-03-15|          3.2|          Cash| 15|    3|2023|\n|                 3997|        Wallet|               3003.0|   2022-11-27|          4.7|          Cash| 27|   11|2022|\n|                 4080|        Onesie|               2914.0|   2022-12-11|          4.5|   Credit Card| 11|   12|2022|\n|                 4055|        Jacket|               2571.0|   2023-07-08|          1.3|          Cash|  8|    7|2023|\n|                 3973|      Trousers|               2419.0|   2022-11-10|          4.6|          Cash| 10|   11|2022|\n|                 4044|         Jeans|               4771.0|   2023-05-19|          4.1|          Cash| 19|    5|2023|\n|                 4108|      Slippers|               2356.0|   2023-03-19|          4.8|   Credit Card| 19|    3|2023|\n|                 4067|        Bowtie|               4418.0|   2022-11-21|          3.4|          Cash| 21|   11|2022|\n|                 4102|   Trench Coat|               2130.0|   2023-01-29|          4.8|          Cash| 29|    1|2023|\n|                 4044|       Handbag|               2122.0|   2023-08-01|          1.2|   Credit Card|  1|    8|2023|\n|                 4017|        Gloves|               2895.0|   2023-07-17|          3.6|   Credit Card| 17|    7|2023|\n|                 4001|   Trench Coat|               2952.0|   2023-06-13|          2.2|          Cash| 13|    6|2023|\n|                 3976|      Slippers|               4069.0|   2023-06-18|          4.9|   Credit Card| 18|    6|2023|\n|                 3986|        Gloves|               4298.0|   2023-04-05|          4.2|          Cash|  5|    4|2023|\n|                 4108|         Jeans|               2814.0|   2023-02-11|          4.4|   Credit Card| 11|    2|2023|\n|                 4109|    Flip-Flops|               4932.0|   2022-12-20|          4.0|   Credit Card| 20|   12|2022|\n|                 4075|         Tunic|               4661.0|   2023-04-12|          1.2|   Credit Card| 12|    4|2023|\n|                 4040|        Shorts|               4872.0|   2023-08-25|          3.8|          Cash| 25|    8|2023|\n+---------------------+--------------+---------------------+-------------+-------------+--------------+---+-----+----+\nonly showing top 20 rows\n\n"
     ]
    }
   ],
   "source": [
    "df_no_nulls.show()"
   ]
  },
  {
   "cell_type": "code",
   "execution_count": 0,
   "metadata": {
    "application/vnd.databricks.v1+cell": {
     "cellMetadata": {
      "byteLimit": 2048000,
      "rowLimit": 10000
     },
     "inputWidgets": {},
     "nuid": "a8f9e149-c245-475a-9bd2-4d04c17250ad",
     "showTitle": false,
     "title": ""
    }
   },
   "outputs": [],
   "source": [
    "df_no_nulls_new=df_no_nulls.withColumnRenamed(\"Customer Reference Id\", \"Customer_Reference_Id\")\\\n",
    "    .withColumnRenamed(\"Item Purchased\", \"Item_Purchased\")\\\n",
    "        .withColumnRenamed(\"Purchase Amount (USD)\", \"Purchase_Amount_inUSD\")\\\n",
    "            .withColumnRenamed(\"Date Purchase\", \"Date_Purchase\")\\\n",
    "                .withColumnRenamed(\"Review Rating\", \"Review_Rating\")\\\n",
    "                    .withColumnRenamed(\"Payment Method\", \"Payment_Method\")"
   ]
  },
  {
   "cell_type": "code",
   "execution_count": 0,
   "metadata": {
    "application/vnd.databricks.v1+cell": {
     "cellMetadata": {
      "byteLimit": 2048000,
      "rowLimit": 10000
     },
     "inputWidgets": {},
     "nuid": "756ff323-21f4-4604-b053-3beb95cf8bb5",
     "showTitle": false,
     "title": ""
    }
   },
   "outputs": [
    {
     "output_type": "stream",
     "name": "stdout",
     "output_type": "stream",
     "text": [
      "+---------------------+--------------+---------------------+-------------+-------------+--------------+---+-----+----+\n|Customer_Reference_Id|Item_Purchased|Purchase_Amount_inUSD|Date_Purchase|Review_Rating|Payment_Method|day|Month|Year|\n+---------------------+--------------+---------------------+-------------+-------------+--------------+---+-----+----+\n|                 4115|         Tunic|               2456.0|   2023-07-11|          2.0|   Credit Card| 11|    7|2023|\n|                 4019|      Tank Top|               2102.0|   2023-03-23|          4.1|          Cash| 23|    3|2023|\n|                 4097|      Leggings|               3126.0|   2023-03-15|          3.2|          Cash| 15|    3|2023|\n|                 3997|        Wallet|               3003.0|   2022-11-27|          4.7|          Cash| 27|   11|2022|\n|                 4080|        Onesie|               2914.0|   2022-12-11|          4.5|   Credit Card| 11|   12|2022|\n|                 4055|        Jacket|               2571.0|   2023-07-08|          1.3|          Cash|  8|    7|2023|\n|                 3973|      Trousers|               2419.0|   2022-11-10|          4.6|          Cash| 10|   11|2022|\n|                 4044|         Jeans|               4771.0|   2023-05-19|          4.1|          Cash| 19|    5|2023|\n|                 4108|      Slippers|               2356.0|   2023-03-19|          4.8|   Credit Card| 19|    3|2023|\n|                 4067|        Bowtie|               4418.0|   2022-11-21|          3.4|          Cash| 21|   11|2022|\n|                 4102|   Trench Coat|               2130.0|   2023-01-29|          4.8|          Cash| 29|    1|2023|\n|                 4044|       Handbag|               2122.0|   2023-08-01|          1.2|   Credit Card|  1|    8|2023|\n|                 4017|        Gloves|               2895.0|   2023-07-17|          3.6|   Credit Card| 17|    7|2023|\n|                 4001|   Trench Coat|               2952.0|   2023-06-13|          2.2|          Cash| 13|    6|2023|\n|                 3976|      Slippers|               4069.0|   2023-06-18|          4.9|   Credit Card| 18|    6|2023|\n|                 3986|        Gloves|               4298.0|   2023-04-05|          4.2|          Cash|  5|    4|2023|\n|                 4108|         Jeans|               2814.0|   2023-02-11|          4.4|   Credit Card| 11|    2|2023|\n|                 4109|    Flip-Flops|               4932.0|   2022-12-20|          4.0|   Credit Card| 20|   12|2022|\n|                 4075|         Tunic|               4661.0|   2023-04-12|          1.2|   Credit Card| 12|    4|2023|\n|                 4040|        Shorts|               4872.0|   2023-08-25|          3.8|          Cash| 25|    8|2023|\n+---------------------+--------------+---------------------+-------------+-------------+--------------+---+-----+----+\nonly showing top 20 rows\n\n"
     ]
    }
   ],
   "source": [
    "df_no_nulls_new.show()"
   ]
  },
  {
   "cell_type": "code",
   "execution_count": 0,
   "metadata": {
    "application/vnd.databricks.v1+cell": {
     "cellMetadata": {
      "byteLimit": 2048000,
      "rowLimit": 10000
     },
     "inputWidgets": {},
     "nuid": "ac120d9d-8f46-4f99-ab90-68e321adee19",
     "showTitle": false,
     "title": ""
    }
   },
   "outputs": [],
   "source": [
    "df_no_nulls_new.createOrReplaceTempView(\"mahi\")"
   ]
  },
  {
   "cell_type": "code",
   "execution_count": 0,
   "metadata": {
    "application/vnd.databricks.v1+cell": {
     "cellMetadata": {
      "byteLimit": 2048000,
      "implicitDf": true,
      "rowLimit": 10000
     },
     "inputWidgets": {},
     "nuid": "ecb8a599-1274-49c4-bf22-2cee4b216beb",
     "showTitle": false,
     "title": ""
    }
   },
   "outputs": [
    {
     "output_type": "stream",
     "name": "stdout",
     "output_type": "stream",
     "text": [
      "+---------------------+--------------+---------------------+-------------+-------------+--------------+---+-----+----+\n|Customer_Reference_Id|Item_Purchased|Purchase_Amount_inUSD|Date_Purchase|Review_Rating|Payment_Method|day|Month|Year|\n+---------------------+--------------+---------------------+-------------+-------------+--------------+---+-----+----+\n|                 4115|         Tunic|               2456.0|   2023-07-11|          2.0|   Credit Card| 11|    7|2023|\n|                 4019|      Tank Top|               2102.0|   2023-03-23|          4.1|          Cash| 23|    3|2023|\n|                 4097|      Leggings|               3126.0|   2023-03-15|          3.2|          Cash| 15|    3|2023|\n|                 3997|        Wallet|               3003.0|   2022-11-27|          4.7|          Cash| 27|   11|2022|\n|                 4080|        Onesie|               2914.0|   2022-12-11|          4.5|   Credit Card| 11|   12|2022|\n|                 4055|        Jacket|               2571.0|   2023-07-08|          1.3|          Cash|  8|    7|2023|\n|                 3973|      Trousers|               2419.0|   2022-11-10|          4.6|          Cash| 10|   11|2022|\n|                 4044|         Jeans|               4771.0|   2023-05-19|          4.1|          Cash| 19|    5|2023|\n|                 4108|      Slippers|               2356.0|   2023-03-19|          4.8|   Credit Card| 19|    3|2023|\n|                 4067|        Bowtie|               4418.0|   2022-11-21|          3.4|          Cash| 21|   11|2022|\n|                 4102|   Trench Coat|               2130.0|   2023-01-29|          4.8|          Cash| 29|    1|2023|\n|                 4044|       Handbag|               2122.0|   2023-08-01|          1.2|   Credit Card|  1|    8|2023|\n|                 4017|        Gloves|               2895.0|   2023-07-17|          3.6|   Credit Card| 17|    7|2023|\n|                 4001|   Trench Coat|               2952.0|   2023-06-13|          2.2|          Cash| 13|    6|2023|\n|                 3976|      Slippers|               4069.0|   2023-06-18|          4.9|   Credit Card| 18|    6|2023|\n|                 3986|        Gloves|               4298.0|   2023-04-05|          4.2|          Cash|  5|    4|2023|\n|                 4108|         Jeans|               2814.0|   2023-02-11|          4.4|   Credit Card| 11|    2|2023|\n|                 4109|    Flip-Flops|               4932.0|   2022-12-20|          4.0|   Credit Card| 20|   12|2022|\n|                 4075|         Tunic|               4661.0|   2023-04-12|          1.2|   Credit Card| 12|    4|2023|\n|                 4040|        Shorts|               4872.0|   2023-08-25|          3.8|          Cash| 25|    8|2023|\n+---------------------+--------------+---------------------+-------------+-------------+--------------+---+-----+----+\nonly showing top 20 rows\n\n"
     ]
    }
   ],
   "source": [
    "spark.sql(\"select * from mahi\").show()"
   ]
  },
  {
   "cell_type": "code",
   "execution_count": 0,
   "metadata": {
    "application/vnd.databricks.v1+cell": {
     "cellMetadata": {
      "byteLimit": 2048000,
      "implicitDf": true,
      "rowLimit": 10000
     },
     "inputWidgets": {},
     "nuid": "048bccc0-f5a8-454d-9113-7c47b2faf191",
     "showTitle": false,
     "title": ""
    }
   },
   "outputs": [
    {
     "output_type": "stream",
     "name": "stdout",
     "output_type": "stream",
     "text": [
      "+---------------------+------------------------------------+\n|Customer_Reference_Id|round(avg(Purchase_Amount_inUSD), 2)|\n+---------------------+------------------------------------+\n|                 4109|                              629.89|\n|                 4035|                               601.5|\n|                 4097|                              490.75|\n|                 4044|                              485.83|\n|                 3984|                              451.93|\n|                 3981|                               392.0|\n|                 3976|                              389.67|\n|                 4054|                               389.5|\n|                 4040|                              383.47|\n|                 4108|                              379.33|\n|                 4099|                              375.13|\n|                 4080|                              345.67|\n|                 3986|                              328.22|\n|                 4067|                               326.4|\n|                 3997|                              317.25|\n|                 4019|                               316.3|\n|                 4055|                               315.0|\n|                 4012|                               312.0|\n|                 4075|                              307.26|\n|                 4060|                              296.06|\n+---------------------+------------------------------------+\nonly showing top 20 rows\n\n"
     ]
    }
   ],
   "source": [
    "spark.sql(\"select Customer_Reference_Id, round(avg(Purchase_Amount_inUSD),2) from mahi group by Customer_Reference_Id order by 2 desc\").show()"
   ]
  },
  {
   "cell_type": "code",
   "execution_count": 0,
   "metadata": {
    "application/vnd.databricks.v1+cell": {
     "cellMetadata": {},
     "inputWidgets": {},
     "nuid": "301ebb0a-0435-40bf-87c5-1cfc590cb4f9",
     "showTitle": false,
     "title": ""
    }
   },
   "outputs": [],
   "source": []
  }
 ],
 "metadata": {
  "application/vnd.databricks.v1+notebook": {
   "dashboards": [],
   "language": "python",
   "notebookMetadata": {
    "mostRecentlyExecutedCommandWithImplicitDF": {
     "commandId": -1,
     "dataframes": [
      "_sqldf"
     ]
    },
    "pythonIndentUnit": 4
   },
   "notebookName": "Fashion Retail Sales - Data Analysis using PySpark,SparkSQL",
   "widgets": {}
  }
 },
 "nbformat": 4,
 "nbformat_minor": 0
}
