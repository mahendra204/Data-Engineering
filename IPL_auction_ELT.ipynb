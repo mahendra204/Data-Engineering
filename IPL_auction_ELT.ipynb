{
 "cells": [
  {
   "cell_type": "code",
   "execution_count": 0,
   "metadata": {
    "application/vnd.databricks.v1+cell": {
     "cellMetadata": {
      "byteLimit": 2048000,
      "rowLimit": 10000
     },
     "inputWidgets": {},
     "nuid": "61efd9b0-f942-4b49-b6cd-26619282638b",
     "showTitle": false,
     "title": ""
    }
   },
   "outputs": [],
   "source": [
    "from pyspark.sql import SparkSession\n",
    "from pyspark.sql import functions as F\n",
    "from pyspark.sql.window import Window"
   ]
  },
  {
   "cell_type": "code",
   "execution_count": 0,
   "metadata": {
    "application/vnd.databricks.v1+cell": {
     "cellMetadata": {
      "byteLimit": 2048000,
      "rowLimit": 10000
     },
     "inputWidgets": {},
     "nuid": "3fbf9475-c021-46bb-8dcf-d7358de7e308",
     "showTitle": false,
     "title": ""
    }
   },
   "outputs": [],
   "source": [
    "IPL_auction_data=spark.read.csv(\"dbfs:/FileStore/tables/IPL_auction_data.csv\", inferSchema=False,header=True)"
   ]
  },
  {
   "cell_type": "code",
   "execution_count": 0,
   "metadata": {
    "application/vnd.databricks.v1+cell": {
     "cellMetadata": {
      "byteLimit": 2048000,
      "rowLimit": 10000
     },
     "inputWidgets": {},
     "nuid": "914e59b2-ac6d-41a0-a2ca-6a1576ff517f",
     "showTitle": false,
     "title": ""
    }
   },
   "outputs": [
    {
     "output_type": "stream",
     "name": "stdout",
     "output_type": "stream",
     "text": [
      "+---+------------+--------------------+--------------------+----------+-----------+----+\n|_c0|     Country|              Player|                Team|Base price|Winning bid|Year|\n+---+------------+--------------------+--------------------+----------+-----------+----+\n|  0|      Guyana|Christopher Barnwell|Royal Challengers...|      30.5|       30.5|2013|\n|  1|South Africa|         Johan Botha|    Delhi Daredevils|       183|      274.5|2013|\n|  2|   Australia|    Daniel Christian|Royal Challengers...|        61|         61|2013|\n|  3|   Australia|      Michael Clarke| Pune Warriors India|       244|        244|2013|\n|  4|   Australia| Nathan Coulter-Nile|      Mumbai Indians|        61|      274.5|2013|\n|  5|   Sri Lanka|     Akila Dananjaya| Chennai Super Kings|      12.2|       12.2|2013|\n|  6|South Africa|     Quinton de Kock| Sunrisers Hyderabad|      12.2|       12.2|2013|\n|  7|    Barbados|       Fidel Edwards|    Rajasthan Royals|        61|      128.1|2013|\n|  8|   Australia|      James Faulkner|    Rajasthan Royals|        61|        244|2013|\n|  9|       India|       Manpreet Gony|     Kings XI Punjab|       122|        305|2013|\n| 10|   Australia|    Moisés Henriques|Royal Challengers...|        61|        183|2013|\n| 11|    Barbados|        Jason Holder| Chennai Super Kings|      12.2|       12.2|2013|\n| 12|   Australia|      Phillip Hughes|      Mumbai Indians|        61|         61|2013|\n| 13|   Australia|        Ben Laughlin| Chennai Super Kings|      12.2|       12.2|2013|\n| 14|   Australia|       Glenn Maxwell|      Mumbai Indians|       122|        610|2013|\n| 15| New Zealand|     Nathan McCullum| Sunrisers Hyderabad|        61|         61|2013|\n| 16|   Australia|         Clint McKay| Sunrisers Hyderabad|        61|         61|2013|\n| 17|South Africa|        Ryan McLaren|Kolkata Knight Ri...|      30.5|       30.5|2013|\n| 18|   Sri Lanka|      Ajantha Mendis| Pune Warriors India|      30.5|     442.25|2013|\n| 19|   Sri Lanka|       Jeevan Mendis|    Delhi Daredevils|      30.5|       30.5|2013|\n+---+------------+--------------------+--------------------+----------+-----------+----+\nonly showing top 20 rows\n\n"
     ]
    }
   ],
   "source": [
    "IPL_auction_data.show()"
   ]
  },
  {
   "cell_type": "code",
   "execution_count": 0,
   "metadata": {
    "application/vnd.databricks.v1+cell": {
     "cellMetadata": {
      "byteLimit": 2048000,
      "rowLimit": 10000
     },
     "inputWidgets": {},
     "nuid": "c88a692b-9001-47d3-b59a-1a22f1a33b30",
     "showTitle": false,
     "title": ""
    }
   },
   "outputs": [],
   "source": [
    "IPL_auction_data = IPL_auction_data.withColumn(\"Base price\", F.col(\"Base price\").cast(\"int\"))\n",
    "IPL_auction_data = IPL_auction_data.withColumn(\"Winning bid\", F.col(\"Winning bid\").cast(\"int\"))\n",
    "IPL_auction_data = IPL_auction_data.withColumn(\"Year\", F.col(\"Year\").cast(\"int\"))"
   ]
  },
  {
   "cell_type": "code",
   "execution_count": 0,
   "metadata": {
    "application/vnd.databricks.v1+cell": {
     "cellMetadata": {
      "byteLimit": 2048000,
      "rowLimit": 10000
     },
     "inputWidgets": {},
     "nuid": "16f84f4b-bff6-475a-8737-9c8d89946b48",
     "showTitle": false,
     "title": ""
    }
   },
   "outputs": [
    {
     "output_type": "stream",
     "name": "stdout",
     "output_type": "stream",
     "text": [
      "root\n |-- _c0: string (nullable = true)\n |-- Country: string (nullable = true)\n |-- Player: string (nullable = true)\n |-- Team: string (nullable = true)\n |-- Base price: integer (nullable = true)\n |-- Winning bid: integer (nullable = true)\n |-- Year: integer (nullable = true)\n\n"
     ]
    }
   ],
   "source": [
    "IPL_auction_data.printSchema()"
   ]
  },
  {
   "cell_type": "code",
   "execution_count": 0,
   "metadata": {
    "application/vnd.databricks.v1+cell": {
     "cellMetadata": {
      "byteLimit": 2048000,
      "rowLimit": 10000
     },
     "inputWidgets": {},
     "nuid": "0773716c-3a9f-4ad0-95e8-4cc63529b1f6",
     "showTitle": false,
     "title": ""
    }
   },
   "outputs": [
    {
     "output_type": "stream",
     "name": "stdout",
     "output_type": "stream",
     "text": [
      "Out[98]: 7"
     ]
    }
   ],
   "source": [
    "len(IPL_auction_data.columns)"
   ]
  },
  {
   "cell_type": "code",
   "execution_count": 0,
   "metadata": {
    "application/vnd.databricks.v1+cell": {
     "cellMetadata": {
      "byteLimit": 2048000,
      "rowLimit": 10000
     },
     "inputWidgets": {},
     "nuid": "6978c3f6-c0b2-4405-8387-9d4190bbd233",
     "showTitle": false,
     "title": ""
    }
   },
   "outputs": [
    {
     "output_type": "stream",
     "name": "stdout",
     "output_type": "stream",
     "text": [
      "Out[99]: 1052"
     ]
    }
   ],
   "source": [
    "IPL_auction_data.count()"
   ]
  },
  {
   "cell_type": "code",
   "execution_count": 0,
   "metadata": {
    "application/vnd.databricks.v1+cell": {
     "cellMetadata": {
      "byteLimit": 2048000,
      "rowLimit": 10000
     },
     "inputWidgets": {},
     "nuid": "01a842e0-ed1a-4990-babe-5b4ec035f615",
     "showTitle": false,
     "title": ""
    }
   },
   "outputs": [],
   "source": [
    "IPL_auction_data = IPL_auction_data.withColumnRenamed(\"_c0\", \"S.No\")"
   ]
  },
  {
   "cell_type": "code",
   "execution_count": 0,
   "metadata": {
    "application/vnd.databricks.v1+cell": {
     "cellMetadata": {
      "byteLimit": 2048000,
      "rowLimit": 10000
     },
     "inputWidgets": {},
     "nuid": "4216274d-c2ad-45c5-b3b8-d779edcee5a1",
     "showTitle": false,
     "title": ""
    }
   },
   "outputs": [
    {
     "output_type": "stream",
     "name": "stdout",
     "output_type": "stream",
     "text": [
      "+----+------------+--------------------+--------------------+----------+-----------+----+\n|S.No|     Country|              Player|                Team|Base price|Winning bid|Year|\n+----+------------+--------------------+--------------------+----------+-----------+----+\n|   0|      Guyana|Christopher Barnwell|Royal Challengers...|        30|         30|2013|\n|   1|South Africa|         Johan Botha|    Delhi Daredevils|       183|        274|2013|\n|   2|   Australia|    Daniel Christian|Royal Challengers...|        61|         61|2013|\n|   3|   Australia|      Michael Clarke| Pune Warriors India|       244|        244|2013|\n|   4|   Australia| Nathan Coulter-Nile|      Mumbai Indians|        61|        274|2013|\n|   5|   Sri Lanka|     Akila Dananjaya| Chennai Super Kings|        12|         12|2013|\n|   6|South Africa|     Quinton de Kock| Sunrisers Hyderabad|        12|         12|2013|\n|   7|    Barbados|       Fidel Edwards|    Rajasthan Royals|        61|        128|2013|\n|   8|   Australia|      James Faulkner|    Rajasthan Royals|        61|        244|2013|\n|   9|       India|       Manpreet Gony|     Kings XI Punjab|       122|        305|2013|\n|  10|   Australia|    Moisés Henriques|Royal Challengers...|        61|        183|2013|\n|  11|    Barbados|        Jason Holder| Chennai Super Kings|        12|         12|2013|\n|  12|   Australia|      Phillip Hughes|      Mumbai Indians|        61|         61|2013|\n|  13|   Australia|        Ben Laughlin| Chennai Super Kings|        12|         12|2013|\n|  14|   Australia|       Glenn Maxwell|      Mumbai Indians|       122|        610|2013|\n|  15| New Zealand|     Nathan McCullum| Sunrisers Hyderabad|        61|         61|2013|\n|  16|   Australia|         Clint McKay| Sunrisers Hyderabad|        61|         61|2013|\n|  17|South Africa|        Ryan McLaren|Kolkata Knight Ri...|        30|         30|2013|\n|  18|   Sri Lanka|      Ajantha Mendis| Pune Warriors India|        30|        442|2013|\n|  19|   Sri Lanka|       Jeevan Mendis|    Delhi Daredevils|        30|         30|2013|\n+----+------------+--------------------+--------------------+----------+-----------+----+\nonly showing top 20 rows\n\n"
     ]
    }
   ],
   "source": [
    "IPL_auction_data.show()"
   ]
  },
  {
   "cell_type": "code",
   "execution_count": 0,
   "metadata": {
    "application/vnd.databricks.v1+cell": {
     "cellMetadata": {
      "byteLimit": 2048000,
      "rowLimit": 10000
     },
     "inputWidgets": {},
     "nuid": "cc4e45c9-1db3-4d83-a55c-525344d5ab65",
     "showTitle": false,
     "title": ""
    }
   },
   "outputs": [],
   "source": [
    "ipl2023auction=IPL_auction_data.where(F.col('Year') == 2023)"
   ]
  },
  {
   "cell_type": "code",
   "execution_count": 0,
   "metadata": {
    "application/vnd.databricks.v1+cell": {
     "cellMetadata": {
      "byteLimit": 2048000,
      "rowLimit": 10000
     },
     "inputWidgets": {},
     "nuid": "0edce08e-93b8-4d42-9465-d44ec28b4d01",
     "showTitle": false,
     "title": ""
    }
   },
   "outputs": [
    {
     "output_type": "stream",
     "name": "stdout",
     "output_type": "stream",
     "text": [
      "+----+------------+----------------+--------------------+----------+-----------+----+\n|S.No|     Country|          Player|                Team|Base price|Winning bid|Year|\n+----+------------+----------------+--------------------+----------+-----------+----+\n| 969| New Zealand| Kane Williamson|      Gujarat Titans|       200|        200|2023|\n| 970|     England|     Harry Brook| Sunrisers Hyderabad|       150|       null|2023|\n| 971|       India|  Mayank Agarwal| Sunrisers Hyderabad|       100|        825|2023|\n| 972|       India|  Ajinkya Rahane| Chennai Super Kings|        50|         50|2023|\n| 973|     England|      Sam Curran|        Punjab Kings|       200|       null|2023|\n| 974| West Indies|     Odean Smith|      Gujarat Titans|        50|         50|2023|\n| 975|    Zimbabwe|   Sikandar Raza|        Punjab Kings|        50|         50|2023|\n| 976| West Indies|    Jason Holder|    Rajasthan Royals|       200|        575|2023|\n| 977|   Australia|   Cameron Green|      Mumbai Indians|       200|       null|2023|\n| 978|     England|      Ben Stokes| Chennai Super Kings|       200|       null|2023|\n| 979| West Indies| Nicholas Pooran|Lucknow Super Giants|       200|       null|2023|\n| 980|South Africa|Heinrich Klaasen| Sunrisers Hyderabad|       100|        525|2023|\n| 981|     England|       Phil Salt|      Delhi Capitals|       200|        200|2023|\n| 982|     England|    Reece Topley|Royal Challengers...|        75|        190|2023|\n| 983|       India|  Jaydev Unadkat|Lucknow Super Giants|        50|         50|2023|\n| 984|   Australia| Jhye Richardson|      Mumbai Indians|       150|        150|2023|\n| 985|       India|   Ishant Sharma|      Delhi Capitals|        50|         50|2023|\n| 986|     England|     Adil Rashid| Sunrisers Hyderabad|       200|        200|2023|\n| 987|       India| Mayank Markande| Sunrisers Hyderabad|        50|         50|2023|\n| 988|       India|   Shaik Rasheed| Chennai Super Kings|        20|         20|2023|\n+----+------------+----------------+--------------------+----------+-----------+----+\nonly showing top 20 rows\n\n"
     ]
    }
   ],
   "source": [
    "ipl2023auction.show()"
   ]
  },
  {
   "cell_type": "code",
   "execution_count": 0,
   "metadata": {
    "application/vnd.databricks.v1+cell": {
     "cellMetadata": {
      "byteLimit": 2048000,
      "rowLimit": 10000
     },
     "inputWidgets": {},
     "nuid": "2dbc76a8-4418-4f49-9e2c-815bc3555565",
     "showTitle": false,
     "title": ""
    }
   },
   "outputs": [
    {
     "output_type": "stream",
     "name": "stdout",
     "output_type": "stream",
     "text": [
      "Out[104]: 83"
     ]
    }
   ],
   "source": [
    "ipl2023auction.count()"
   ]
  },
  {
   "cell_type": "code",
   "execution_count": 0,
   "metadata": {
    "application/vnd.databricks.v1+cell": {
     "cellMetadata": {
      "byteLimit": 2048000,
      "rowLimit": 10000
     },
     "inputWidgets": {},
     "nuid": "a1492335-4c5b-4a27-92cd-4dc9f2688803",
     "showTitle": false,
     "title": ""
    }
   },
   "outputs": [
    {
     "output_type": "stream",
     "name": "stdout",
     "output_type": "stream",
     "text": [
      "Out[105]: 83"
     ]
    }
   ],
   "source": [
    "ipl2023auction.count()"
   ]
  },
  {
   "cell_type": "code",
   "execution_count": 0,
   "metadata": {
    "application/vnd.databricks.v1+cell": {
     "cellMetadata": {
      "byteLimit": 2048000,
      "rowLimit": 10000
     },
     "inputWidgets": {},
     "nuid": "77e874d6-7180-4ccb-b57e-79913089cb08",
     "showTitle": false,
     "title": ""
    }
   },
   "outputs": [],
   "source": [
    "avg_winning_bid_by_country = IPL_auction_data.where(F.col('Year') == 2023).groupBy('Country').agg(F.count('Player').alias('no.of_players'))"
   ]
  },
  {
   "cell_type": "code",
   "execution_count": 0,
   "metadata": {
    "application/vnd.databricks.v1+cell": {
     "cellMetadata": {
      "byteLimit": 2048000,
      "rowLimit": 10000
     },
     "inputWidgets": {},
     "nuid": "40f06444-3619-45dc-9ea4-e0b164feb99a",
     "showTitle": false,
     "title": ""
    }
   },
   "outputs": [
    {
     "output_type": "stream",
     "name": "stdout",
     "output_type": "stream",
     "text": [
      "+------------+-------------+\n|     Country|no.of_players|\n+------------+-------------+\n| Afghanistan|            1|\n|       India|           52|\n| West Indies|            5|\n|  Bangladesh|            3|\n|     Ireland|            1|\n|    Zimbabwe|            1|\n|     Namibia|            1|\n| New Zealand|            2|\n|     England|            9|\n|   Australia|            4|\n|South Africa|            4|\n+------------+-------------+\n\n"
     ]
    }
   ],
   "source": [
    "avg_winning_bid_by_country.show()"
   ]
  },
  {
   "cell_type": "code",
   "execution_count": 0,
   "metadata": {
    "application/vnd.databricks.v1+cell": {
     "cellMetadata": {
      "byteLimit": 2048000,
      "rowLimit": 10000
     },
     "inputWidgets": {},
     "nuid": "ac3b4d56-35cf-4174-a8c3-bb25265c3ec4",
     "showTitle": false,
     "title": ""
    }
   },
   "outputs": [],
   "source": [
    "window_spec = Window().partitionBy('Year').orderBy(F.col('Winning bid').desc())\n",
    "ranked_players = IPL_auction_data.withColumn('BidRank', F.rank().over(window_spec))"
   ]
  },
  {
   "cell_type": "code",
   "execution_count": 0,
   "metadata": {
    "application/vnd.databricks.v1+cell": {
     "cellMetadata": {
      "byteLimit": 2048000,
      "rowLimit": 10000
     },
     "inputWidgets": {},
     "nuid": "88d28f9f-effa-4511-8d46-1feefc4ea819",
     "showTitle": false,
     "title": ""
    }
   },
   "outputs": [
    {
     "output_type": "stream",
     "name": "stdout",
     "output_type": "stream",
     "text": [
      "+----+-------------------+--------------------+--------------------+----------+-----------+----+-------+\n|S.No|            Country|              Player|                Team|Base price|Winning bid|Year|BidRank|\n+----+-------------------+--------------------+--------------------+----------+-----------+----+-------+\n|  14|          Australia|       Glenn Maxwell|      Mumbai Indians|       122|        610|2013|      1|\n|  18|          Sri Lanka|      Ajantha Mendis| Pune Warriors India|        30|        442|2013|      2|\n|  29|          Australia|     Kane Richardson| Pune Warriors India|        61|        427|2013|      3|\n|  22|              India|      Abhishek Nayar| Pune Warriors India|        61|        411|2013|      4|\n|  25|          Sri Lanka|      Thisara Perera| Sunrisers Hyderabad|        30|        411|2013|      4|\n|  20|       South Africa|        Chris Morris| Chennai Super Kings|        12|        381|2013|      6|\n|  32|          Sri Lanka|Sachithra Senanayake|Kolkata Knight Ri...|        30|        381|2013|      6|\n|  21|          Australia|         Dirk Nannes| Chennai Super Kings|       122|        366|2013|      8|\n|  36|              India|      Jaydev Unadkat|Royal Challengers...|        61|        320|2013|      9|\n|   9|              India|       Manpreet Gony|     Kings XI Punjab|       122|        305|2013|     10|\n|   1|       South Africa|         Johan Botha|    Delhi Daredevils|       183|        274|2013|     11|\n|   4|          Australia| Nathan Coulter-Nile|      Mumbai Indians|        61|        274|2013|     11|\n|  31|        Saint Lucia|        Darren Sammy| Sunrisers Hyderabad|        61|        259|2013|     13|\n|   3|          Australia|      Michael Clarke| Pune Warriors India|       244|        244|2013|     14|\n|   8|          Australia|      James Faulkner|    Rajasthan Royals|        61|        244|2013|     14|\n|  27|          Australia|       Ricky Ponting|      Mumbai Indians|       244|        244|2013|     14|\n|  34|              India|         R. P. Singh|Royal Challengers...|        61|        244|2013|     14|\n|  10|          Australia|    Moisés Henriques|Royal Challengers...|        61|        183|2013|     18|\n|  26|          Australia|     Luke Pomersbach|     Kings XI Punjab|        30|        183|2013|     18|\n|  28|Trinidad and Tobago|        Ravi Rampaul|Royal Challengers...|        30|        176|2013|     20|\n+----+-------------------+--------------------+--------------------+----------+-----------+----+-------+\nonly showing top 20 rows\n\n"
     ]
    }
   ],
   "source": [
    "ranked_players.show()"
   ]
  },
  {
   "cell_type": "code",
   "execution_count": 0,
   "metadata": {
    "application/vnd.databricks.v1+cell": {
     "cellMetadata": {
      "byteLimit": 2048000,
      "rowLimit": 10000
     },
     "inputWidgets": {},
     "nuid": "48efe1da-1b69-4625-8b6a-fecfd8e18627",
     "showTitle": false,
     "title": ""
    }
   },
   "outputs": [
    {
     "output_type": "stream",
     "name": "stdout",
     "output_type": "stream",
     "text": [
      "root\n |-- S.No: string (nullable = true)\n |-- Country: string (nullable = true)\n |-- Player: string (nullable = true)\n |-- Team: string (nullable = true)\n |-- Base price: integer (nullable = true)\n |-- Winning bid: integer (nullable = true)\n |-- Year: integer (nullable = true)\n\n"
     ]
    }
   ],
   "source": [
    "ipl2023auction.printSchema()"
   ]
  },
  {
   "cell_type": "code",
   "execution_count": 0,
   "metadata": {
    "application/vnd.databricks.v1+cell": {
     "cellMetadata": {
      "byteLimit": 2048000,
      "rowLimit": 10000
     },
     "inputWidgets": {},
     "nuid": "abbf7c2e-945e-4817-86fd-d576c842b528",
     "showTitle": false,
     "title": ""
    }
   },
   "outputs": [],
   "source": [
    "window_spec = Window().partitionBy('Year').orderBy(F.col('Winning bid').desc())\n",
    "ranked_players = ipl2023auction.withColumn('BidRank', F.dense_rank().over(window_spec))"
   ]
  },
  {
   "cell_type": "code",
   "execution_count": 0,
   "metadata": {
    "application/vnd.databricks.v1+cell": {
     "cellMetadata": {
      "byteLimit": 2048000,
      "rowLimit": 10000
     },
     "inputWidgets": {},
     "nuid": "0e18d513-df54-4930-b04c-37f44dcc8fc4",
     "showTitle": false,
     "title": ""
    }
   },
   "outputs": [
    {
     "output_type": "stream",
     "name": "stdout",
     "output_type": "stream",
     "text": [
      "+----+------------+----------------+--------------------+----------+-----------+----+-------+\n|S.No|     Country|          Player|                Team|Base price|Winning bid|Year|BidRank|\n+----+------------+----------------+--------------------+----------+-----------+----+-------+\n| 971|       India|  Mayank Agarwal| Sunrisers Hyderabad|       100|        825|2023|      1|\n| 998|       India|     Shivam Mavi|      Gujarat Titans|        40|        600|2023|      2|\n| 976| West Indies|    Jason Holder|    Rajasthan Royals|       200|        575|2023|      3|\n| 999|       India|    Mukesh Kumar|      Delhi Capitals|        20|        550|2023|      4|\n| 980|South Africa|Heinrich Klaasen| Sunrisers Hyderabad|       100|        525|2023|      5|\n|1034|South Africa|   Rilee Rossouw|Royal Challengers...|       200|        460|2023|      6|\n|1019|     Ireland|     Josh Little|      Gujarat Titans|        50|        440|2023|      7|\n|1002|     England|      Will Jacks|Royal Challengers...|       150|        320|2023|      8|\n| 989|       India|  Vivrant Sharma| Sunrisers Hyderabad|        20|        260|2023|      9|\n|1001|       India|   Manish Pandey|      Delhi Capitals|       100|        240|2023|     10|\n| 969| New Zealand| Kane Williamson|      Gujarat Titans|       200|        200|2023|     11|\n| 981|     England|       Phil Salt|      Delhi Capitals|       200|        200|2023|     11|\n| 986|     England|     Adil Rashid| Sunrisers Hyderabad|       200|        200|2023|     11|\n| 982|     England|    Reece Topley|Royal Challengers...|        75|        190|2023|     12|\n|1010|       India|    Mayank Dagar| Sunrisers Hyderabad|        20|        180|2023|     13|\n|1012|       India|   Prerak Mankad|Lucknow Super Giants|        20|        180|2023|     13|\n| 984|   Australia| Jhye Richardson|      Mumbai Indians|       150|        150|2023|     14|\n|1037|   Australia|      Adam Zampa|    Rajasthan Royals|       150|        150|2023|     14|\n|1048|  Bangladesh| Shakib al Hasan|Kolkata Knight Ri...|       150|        150|2023|     14|\n|1051|  Bangladesh| Shakib al Hasan|Kolkata Knight Ri...|       150|        150|2023|     14|\n+----+------------+----------------+--------------------+----------+-----------+----+-------+\nonly showing top 20 rows\n\n"
     ]
    }
   ],
   "source": [
    "ranked_players.show()"
   ]
  },
  {
   "cell_type": "code",
   "execution_count": 0,
   "metadata": {
    "application/vnd.databricks.v1+cell": {
     "cellMetadata": {
      "byteLimit": 2048000,
      "rowLimit": 10000
     },
     "inputWidgets": {},
     "nuid": "f59a3c35-5a0f-43a7-b502-ff908f60fcde",
     "showTitle": false,
     "title": ""
    }
   },
   "outputs": [],
   "source": [
    "avg_winning_bid_by_country = ipl2023auction.groupBy('Country').agg(F.round(F.avg('Winning bid'),2).alias('avg_winning_bid'),F.count('Player').alias(\"no_of_players\"))"
   ]
  },
  {
   "cell_type": "code",
   "execution_count": 0,
   "metadata": {
    "application/vnd.databricks.v1+cell": {
     "cellMetadata": {
      "byteLimit": 2048000,
      "rowLimit": 10000
     },
     "inputWidgets": {},
     "nuid": "d7b726d5-8791-4813-aef9-fd460b1c47b1",
     "showTitle": false,
     "title": ""
    }
   },
   "outputs": [
    {
     "output_type": "stream",
     "name": "stdout",
     "output_type": "stream",
     "text": [
      "+------------+---------------+-------------+\n|     Country|avg_winning_bid|no_of_players|\n+------------+---------------+-------------+\n| Afghanistan|           50.0|            1|\n|       India|          83.17|           52|\n| West Indies|         193.75|            5|\n|  Bangladesh|         116.67|            3|\n|     Ireland|          440.0|            1|\n|    Zimbabwe|           50.0|            1|\n|     Namibia|          100.0|            1|\n| New Zealand|          150.0|            2|\n|     England|          185.0|            9|\n|   Australia|          125.0|            4|\n|South Africa|         256.25|            4|\n+------------+---------------+-------------+\n\n"
     ]
    }
   ],
   "source": [
    "avg_winning_bid_by_country.show()"
   ]
  },
  {
   "cell_type": "code",
   "execution_count": 0,
   "metadata": {
    "application/vnd.databricks.v1+cell": {
     "cellMetadata": {
      "byteLimit": 2048000,
      "rowLimit": 10000
     },
     "inputWidgets": {},
     "nuid": "2a8f5546-b458-462c-97a2-4cb8ad76e4a0",
     "showTitle": false,
     "title": ""
    }
   },
   "outputs": [],
   "source": [
    "total_bid_amount = avg_winning_bid_by_country.withColumn('total_winning_bid', F.round(F.col('avg_winning_bid') * F.col('no_of_players'), 2)).orderBy(F.col(\"total_winning_bid\").desc())"
   ]
  },
  {
   "cell_type": "code",
   "execution_count": 0,
   "metadata": {
    "application/vnd.databricks.v1+cell": {
     "cellMetadata": {
      "byteLimit": 2048000,
      "rowLimit": 10000
     },
     "inputWidgets": {},
     "nuid": "48fd1c82-894f-4312-b997-c50daa3fae66",
     "showTitle": false,
     "title": ""
    }
   },
   "outputs": [
    {
     "output_type": "stream",
     "name": "stdout",
     "output_type": "stream",
     "text": [
      "+------------+---------------+-------------+-----------------+\n|     Country|avg_winning_bid|no_of_players|total_winning_bid|\n+------------+---------------+-------------+-----------------+\n| Afghanistan|           50.0|            1|             50.0|\n|       India|          83.17|           52|          4324.84|\n| West Indies|         193.75|            5|           968.75|\n|  Bangladesh|         116.67|            3|           350.01|\n|     Ireland|          440.0|            1|            440.0|\n|    Zimbabwe|           50.0|            1|             50.0|\n|     Namibia|          100.0|            1|            100.0|\n| New Zealand|          150.0|            2|            300.0|\n|     England|          185.0|            9|           1665.0|\n|   Australia|          125.0|            4|            500.0|\n|South Africa|         256.25|            4|           1025.0|\n+------------+---------------+-------------+-----------------+\n\n"
     ]
    }
   ],
   "source": [
    "result_with_product.show()"
   ]
  },
  {
   "cell_type": "code",
   "execution_count": 0,
   "metadata": {
    "application/vnd.databricks.v1+cell": {
     "cellMetadata": {
      "byteLimit": 2048000,
      "rowLimit": 10000
     },
     "inputWidgets": {},
     "nuid": "8be3cf4f-cfa3-4c93-9984-aab8d2d220e9",
     "showTitle": false,
     "title": ""
    }
   },
   "outputs": [
    {
     "output_type": "stream",
     "name": "stdout",
     "output_type": "stream",
     "text": [
      "+----+------------+--------------------+--------------------+----------+-----------+----+------------------+\n|S.No|     Country|              Player|                Team|Base price|Winning bid|Year|PercentageIncrease|\n+----+------------+--------------------+--------------------+----------+-----------+----+------------------+\n| 999|       India|        Mukesh Kumar|      Delhi Capitals|        20|        550|2023|            2650.0|\n| 998|       India|         Shivam Mavi|      Gujarat Titans|        40|        600|2023|            1400.0|\n| 989|       India|      Vivrant Sharma| Sunrisers Hyderabad|        20|        260|2023|            1200.0|\n|1010|       India|        Mayank Dagar| Sunrisers Hyderabad|        20|        180|2023|             800.0|\n|1012|       India|       Prerak Mankad|Lucknow Super Giants|        20|        180|2023|             800.0|\n|1019|     Ireland|         Josh Little|      Gujarat Titans|        50|        440|2023|             780.0|\n| 971|       India|      Mayank Agarwal| Sunrisers Hyderabad|       100|        825|2023|             725.0|\n| 994|       India|        K. S. Bharat|      Gujarat Titans|        20|        120|2023|             500.0|\n| 980|South Africa|    Heinrich Klaasen| Sunrisers Hyderabad|       100|        525|2023|             425.0|\n| 993|       India|        N Jagadeesan|Kolkata Knight Ri...|        20|         90|2023|             350.0|\n| 992|       India|      Nishant Sindhu| Chennai Super Kings|        20|         60|2023|             200.0|\n| 996|       India|       Vaibhav Arora|Kolkata Knight Ri...|        20|         60|2023|             200.0|\n|1025|       India|       Avinash Singh|Royal Challengers...|        20|         60|2023|             200.0|\n| 976| West Indies|        Jason Holder|    Rajasthan Royals|       200|        575|2023|             187.5|\n| 982|     England|        Reece Topley|Royal Challengers...|        75|        190|2023|153.33333333333334|\n|1001|       India|       Manish Pandey|      Delhi Capitals|       100|        240|2023|             140.0|\n|1034|South Africa|       Rilee Rossouw|Royal Challengers...|       200|        460|2023|             130.0|\n| 997|       India|         Yash Thakur|Lucknow Super Giants|        20|         45|2023|             125.0|\n|1002|     England|          Will Jacks|Royal Challengers...|       150|        320|2023|113.33333333333333|\n|1008|       India|Harpreet Singh Bh...|        Punjab Kings|        20|         40|2023|             100.0|\n+----+------------+--------------------+--------------------+----------+-----------+----+------------------+\nonly showing top 20 rows\n\n"
     ]
    }
   ],
   "source": [
    "percentage_increase = ipl2023auction.withColumn('PercentageIncrease', ((F.col('Winning bid') - F.col('Base price')) / F.col('Base price')) * 100).orderBy(F.col(\"PercentageIncrease\").desc()).show()"
   ]
  },
  {
   "cell_type": "code",
   "execution_count": 0,
   "metadata": {
    "application/vnd.databricks.v1+cell": {
     "cellMetadata": {
      "byteLimit": 2048000,
      "rowLimit": 10000
     },
     "inputWidgets": {},
     "nuid": "03e3f866-1171-4824-8a6e-a2c07f019ecc",
     "showTitle": false,
     "title": ""
    }
   },
   "outputs": [
    {
     "output_type": "stream",
     "name": "stdout",
     "output_type": "stream",
     "text": [
      "+----+------------+------------------+--------------------+----------+-----------+----+-------+\n|S.No|     Country|            Player|                Team|Base price|Winning bid|Year|BidRank|\n+----+------------+------------------+--------------------+----------+-----------+----+-------+\n|  14|   Australia|     Glenn Maxwell|      Mumbai Indians|       122|        610|2013|      1|\n|  39|     England|   Kevin Pietersen|    Delhi Daredevils|       200|        900|2014|      1|\n| 199|       India|      Yuvraj Singh|    Delhi Daredevils|       200|       1600|2015|      1|\n| 260|   Australia|      Shane Watson|Royal Challengers...|       200|        950|2016|      1|\n| 354|     England|        Ben Stokes|Rising Pune Super...|       200|       1450|2017|      1|\n| 420|     England|        Ben Stokes|    Rajasthan Royals|       200|       1250|2018|      1|\n| 595|       India|    Jaydev Unadkat|    Rajasthan Royals|       150|        840|2019|      1|\n| 605|       India|Varun Chakravarthy|     Kings XI Punjab|        20|        840|2019|      1|\n| 653|   Australia|       Pat Cummins|Kolkata Knight Ri...|       200|       1550|2020|      1|\n| 713|South Africa|      Chris Morris|    Rajasthan Royals|        75|       1625|2021|      1|\n| 790|       India|      Ishan Kishan|      Mumbai Indians|       150|       1525|2022|      1|\n| 971|       India|    Mayank Agarwal| Sunrisers Hyderabad|       100|        825|2023|      1|\n+----+------------+------------------+--------------------+----------+-----------+----+-------+\n\n"
     ]
    }
   ],
   "source": [
    "max_winning_bid_players = IPL_auction_data.withColumn('BidRank', F.rank().over(window_spec)).filter('BidRank == 1').show()"
   ]
  },
  {
   "cell_type": "code",
   "execution_count": 0,
   "metadata": {
    "application/vnd.databricks.v1+cell": {
     "cellMetadata": {
      "byteLimit": 2048000,
      "rowLimit": 10000
     },
     "inputWidgets": {},
     "nuid": "0e14fbb5-f1e0-403b-badf-732c3d570d18",
     "showTitle": false,
     "title": ""
    }
   },
   "outputs": [],
   "source": [
    "window_spec_cumulative = Window().partitionBy('Player').orderBy('Year').rowsBetween(Window.unboundedPreceding, 0)\n",
    "cumulative_winning_bid = IPL_auction_data.withColumn('CumulativeWinningBid', F.sum('Winning bid').over(window_spec_cumulative))\n"
   ]
  },
  {
   "cell_type": "code",
   "execution_count": 0,
   "metadata": {
    "application/vnd.databricks.v1+cell": {
     "cellMetadata": {
      "byteLimit": 2048000,
      "rowLimit": 10000
     },
     "inputWidgets": {},
     "nuid": "d51a4a91-9823-470a-a24c-9f70ffc4cce9",
     "showTitle": false,
     "title": ""
    }
   },
   "outputs": [
    {
     "output_type": "stream",
     "name": "stdout",
     "output_type": "stream",
     "text": [
      "+----+--------------------+--------------------+--------------------+----------+-----------+----+--------------------+\n|S.No|             Country|              Player|                Team|Base price|Winning bid|Year|CumulativeWinningBid|\n+----+--------------------+--------------------+--------------------+----------+-----------+----+--------------------+\n|  53|           Australia|         Aaron Finch| Sunrisers Hyderabad|       100|        400|2014|                 400|\n| 222|           Australia|         Aaron Finch|      Mumbai Indians|       100|        320|2015|                 720|\n| 307|           Australia|         Aaron Finch|       Gujarat Lions|       100|        100|2016|                 820|\n| 434|           Australia|         Aaron Finch|     Kings XI Punjab|       150|        620|2018|                1440|\n| 650|           Australia|         Aaron Finch|Royal Challengers...|       100|        440|2020|                1880|\n|1046|               India|        Abdul Basith|    Rajasthan Royals|        20|         20|2023|                  20|\n|1049|               India|        Abdul Basith|    Rajasthan Royals|        20|         20|2023|                  40|\n| 690|               India|         Abdul Samad| Sunrisers Hyderabad|        20|         20|2020|                  20|\n| 906|               India|      Abhijeet Tomar|Kolkata Knight Ri...|        20|         40|2022|                  40|\n| 224|               India|    Abhimanyu Mithun|      Mumbai Indians|        30|         30|2015|                  30|\n| 283|               India|    Abhimanyu Mithun| Sunrisers Hyderabad|        30|         30|2016|                  60|\n| 807|               India|Abhinav Manohar S...|      Gujarat Titans|        20|        260|2022|                 260|\n|  22|               India|      Abhishek Nayar| Pune Warriors India|        61|        411|2013|                 411|\n|  91|               India|      Abhishek Nayar|    Rajasthan Royals|        30|        100|2014|                 511|\n| 526|               India|     Abhishek Sharma|    Delhi Daredevils|        20|         55|2018|                  55|\n| 812|               India|     Abhishek Sharma| Sunrisers Hyderabad|        20|        650|2022|                 705|\n| 144|               India|    Abu Nechim Ahmed|Royal Challengers...|        30|         30|2014|                  30|\n| 242|         New Zealand|          Adam Milne|Royal Challengers...|        30|         70|2015|                  70|\n| 715|         New Zealand|          Adam Milne|      Mumbai Indians|        50|        320|2021|                 390|\n| 886|         New Zealand|          Adam Milne| Chennai Super Kings|       150|        190|2022|                 580|\n| 343|           Australia|          Adam Zampa|Rising Pune Super...|        30|         30|2016|                  30|\n|1037|           Australia|          Adam Zampa|    Rajasthan Royals|       150|        150|2023|                 180|\n| 986|             England|         Adil Rashid| Sunrisers Hyderabad|       200|        200|2023|                 200|\n| 218|               India|      Aditya Garhwal|Kolkata Knight Ri...|        10|         25|2015|                  25|\n| 135|               India|         Aditya Tare|      Mumbai Indians|        20|        160|2014|                 160|\n| 292|               India|         Aditya Tare| Sunrisers Hyderabad|        20|        120|2016|                 280|\n| 367|               India|         Aditya Tare|    Delhi Daredevils|        20|         25|2017|                 305|\n| 562|               India|         Aditya Tare|      Mumbai Indians|        20|         20|2018|                 325|\n| 631|               India|     Agnivesh Ayachi|     Kings XI Punjab|        20|         20|2019|                  20|\n| 226|           Australia|      Aiden Blizzard|      Mumbai Indians|        30|         30|2015|                  30|\n| 839|        South Africa|       Aiden Markram| Sunrisers Hyderabad|       100|        260|2022|                 260|\n|  18|           Sri Lanka|      Ajantha Mendis| Pune Warriors India|        30|        442|2013|                 442|\n|1029|               India|         Ajay Mandal| Chennai Super Kings|        20|         20|2023|                  20|\n| 422|               India|      Ajinkya Rahane|    Rajasthan Royals|       200|        400|2018|                 400|\n| 840|               India|      Ajinkya Rahane|Kolkata Knight Ri...|       100|        100|2022|                 500|\n| 972|               India|      Ajinkya Rahane| Chennai Super Kings|        50|         50|2023|                 550|\n| 827|               India|          Akash Deep|Royal Challengers...|        20|         20|2022|                  20|\n| 668|               India|         Akash Singh|    Rajasthan Royals|        20|         20|2020|                  20|\n| 763|               India|         Akash Singh|    Rajasthan Royals|        20|         20|2021|                  40|\n|1042|               India|       Akash Vasisht|    Rajasthan Royals|        20|         20|2023|                  20|\n|1036|         West Indies|        Akeal Hosein| Sunrisers Hyderabad|       100|        100|2023|                 100|\n| 349|               India|     Akhil Herwadkar|    Delhi Daredevils|        10|         10|2016|                  10|\n|   5|           Sri Lanka|     Akila Dananjaya| Chennai Super Kings|        12|         12|2013|                  12|\n| 567|           Sri Lanka|     Akila Dananjaya|      Mumbai Indians|        50|         50|2018|                  62|\n| 165|               India|        Akshar Patel|     Kings XI Punjab|        20|         75|2014|                  75|\n| 323|               India|     Akshay Karnewar|Royal Challengers...|        10|         10|2016|                  10|\n| 228|               India|      Akshay Wakhare|      Mumbai Indians|        10|         10|2015|                  10|\n| 324|               India|       Akshdeep Nath|       Gujarat Lions|        10|         10|2016|                  10|\n| 412|               India|       Akshdeep Nath|       Gujarat Lions|        10|         10|2017|                  20|\n| 543|               India|       Akshdeep Nath|     Kings XI Punjab|        20|        100|2018|                 120|\n| 635|               India|       Akshdeep Nath|Royal Challengers...|        20|        360|2019|                 480|\n|  66|        South Africa|        Albie Morkel|Royal Challengers...|       150|        240|2014|                 240|\n| 207|        South Africa|        Albie Morkel|    Delhi Daredevils|        30|         30|2015|                 270|\n| 656|           Australia|          Alex Carey|      Delhi Capitals|        50|        240|2020|                 240|\n| 931|             England|          Alex Hales|Kolkata Knight Ri...|       150|        150|2022|                 150|\n| 899|         West Indies|      Alzarri Joseph|      Gujarat Titans|        75|        240|2022|                 240|\n| 968|               India|           Aman Khan|Kolkata Knight Ri...|        20|         20|2022|                  20|\n| 454|               India|       Ambati Rayudu| Chennai Super Kings|        50|        220|2018|                 220|\n| 789|               India|       Ambati Rayudu| Chennai Super Kings|       200|        675|2022|                 895|\n|  50|               India|         Amit Mishra| Sunrisers Hyderabad|       200|        475|2014|                 475|\n| 180|               India|         Amit Mishra|    Rajasthan Royals|        10|         10|2014|                 485|\n| 202|               India|         Amit Mishra|    Delhi Daredevils|        10|        350|2015|                 835|\n| 344|               India|         Amit Mishra|       Gujarat Lions|        10|         10|2016|                 845|\n| 465|               India|         Amit Mishra|    Delhi Daredevils|       150|        400|2018|                1245|\n|1007|               India|         Amit Mishra|Lucknow Super Giants|        50|         50|2023|                1295|\n| 163|               India|       Amit Paunikar| Sunrisers Hyderabad|        20|         20|2014|                  20|\n|  93|             Jamaica|       Andre Russell|Kolkata Knight Ri...|        50|         60|2014|                  60|\n| 195|           Australia|          Andrew Tye| Chennai Super Kings|        20|         20|2015|                  20|\n| 318|           Australia|          Andrew Tye|       Gujarat Lions|        30|         50|2016|                  70|\n| 537|           Australia|          Andrew Tye|     Kings XI Punjab|       100|        720|2018|                 790|\n| 702|           Australia|          Andrew Tye|    Rajasthan Royals|       100|        100|2020|                 890|\n| 902|               India|    Aneeshwar Gautam|Royal Challengers...|       100|        100|2022|                 100|\n| 200|           Sri Lanka|      Angelo Mathews|    Delhi Daredevils|       150|        750|2015|                 750|\n| 353|           Sri Lanka|      Angelo Mathews|    Delhi Daredevils|       200|        200|2017|                 950|\n| 369|               India|    Aniket Choudhary|Royal Challengers...|        10|        200|2017|                 200|\n| 490|               India|    Aniket Choudhary|Royal Challengers...|        30|         30|2018|                 230|\n| 552|               India|     Aniruddha Joshi|Royal Challengers...|        20|         20|2018|                  20|\n| 691|               India|     Aniruddha Joshi|    Rajasthan Royals|        20|         20|2020|                  40|\n| 362|               India|         Ankit Bawne|    Delhi Daredevils|        10|         10|2017|                  10|\n| 176|               India|Ankit Nagendra Sh...|    Rajasthan Royals|        10|         10|2014|                  10|\n| 301|               India|       Ankit Rajpoot|Kolkata Knight Ri...|        10|        150|2016|                 150|\n| 494|               India|       Ankit Rajpoot|     Kings XI Punjab|        30|        300|2018|                 450|\n| 832|               India|       Ankit Rajpoot|Lucknow Super Giants|        20|         50|2022|                 500|\n| 295|               India|        Ankit Sharma|Rising Pune Super...|        10|         10|2016|                  10|\n| 524|               India|        Ankit Sharma|    Rajasthan Royals|        20|         20|2018|                  30|\n| 128|               India|        Ankush Bains|    Rajasthan Royals|        10|         10|2014|                  10|\n| 197|               India|        Ankush Bains| Chennai Super Kings|        10|         10|2015|                  20|\n| 310|               India|        Ankush Bains|Rising Pune Super...|        10|         10|2016|                  30|\n| 606|               India|        Ankush Bains|      Delhi Capitals|        20|         20|2019|                  50|\n| 602|               India|    Anmolpreet Singh|      Mumbai Indians|        20|         80|2019|                  80|\n| 924|               India|    Anmolpreet Singh|      Mumbai Indians|        20|         20|2022|                 100|\n|1038|               India|    Anmolpreet Singh| Sunrisers Hyderabad|        20|         20|2023|                 120|\n| 614|        South Africa|       Anrich Nortje|Kolkata Knight Ri...|        20|         20|2019|                  20|\n| 916|               India|          Ansh Patel|        Punjab Kings|        20|         20|2022|                  20|\n| 667|               India|          Anuj Rawat|    Rajasthan Royals|        20|         80|2020|                  80|\n| 821|               India|          Anuj Rawat|Royal Challengers...|        20|        340|2022|                 420|\n| 570|               India|          Anukul Roy|      Mumbai Indians|        20|         20|2018|                  20|\n| 866|               India|          Anukul Roy|Kolkata Knight Ri...|        20|         20|2022|                  40|\n| 918|               India|        Anunay Singh|    Rajasthan Royals|        20|         20|2022|                  20|\n| 152|               India|       Anureet Singh|     Kings XI Punjab|        20|         20|2014|                  20|\n| 528|               India|       Anureet Singh|    Rajasthan Royals|        30|         30|2018|                  50|\n| 162|               India|Apoorv Vijay Wank...|      Mumbai Indians|        10|         10|2014|                  10|\n| 520|               India|     Apoorv Wankhade|Kolkata Knight Ri...|        20|         20|2018|                  20|\n| 764|               India|     Arjun Tendulkar|      Mumbai Indians|        20|         20|2021|                  20|\n| 953|               India|     Arjun Tendulkar|      Mumbai Indians|        20|         30|2022|                  50|\n| 314|               India|       Armaan Jaffer|     Kings XI Punjab|        10|         10|2016|                  10|\n| 619|               India|      Arshdeep Singh|     Kings XI Punjab|        20|         20|2019|                  20|\n| 579|               India|       Aryaman Birla|    Rajasthan Royals|        20|         30|2018|                  30|\n| 964|               India|         Aryan Juyal|      Mumbai Indians|        20|         20|2022|                  20|\n| 396|           Sri Lanka|     Asela Gunaratne|      Mumbai Indians|        30|         30|2017|                  30|\n|  98|               India|        Ashish Nehra| Chennai Super Kings|       200|        200|2014|                 200|\n| 261|               India|        Ashish Nehra| Sunrisers Hyderabad|       200|        550|2016|                 750|\n| 173|               India|        Ashish Reddy| Sunrisers Hyderabad|        20|         20|2014|                  20|\n|  71|               India|         Ashok Dinda|Royal Challengers...|       100|        150|2014|                 150|\n| 336|               India|         Ashok Dinda|Rising Pune Super...|        50|         50|2016|                 200|\n| 917|               India|        Ashok Sharma|Kolkata Knight Ri...|        20|         50|2022|                  50|\n| 644|           Australia|       Ashton Turner|    Rajasthan Royals|        50|         50|2019|                  50|\n| 809|               India|       Ashwin Hebbar|      Delhi Capitals|        20|         20|2022|                  20|\n| 939|               India|       Atharva Taide|        Punjab Kings|        20|         20|2022|                  20|\n| 493|               India|          Avesh Khan|    Delhi Daredevils|        20|         70|2018|                  70|\n| 829|               India|          Avesh Khan|Lucknow Super Giants|        20|       1000|2022|                1070|\n|1025|               India|       Avinash Singh|Royal Challengers...|        20|         60|2023|                  60|\n| 591|               India|          Axar Patel|      Delhi Capitals|       100|        500|2019|                 500|\n| 901|               India|        Ayush Badoni|Lucknow Super Giants|        20|         20|2022|                  20|\n| 963|               India|   B. Sai Sudharshan|      Gujarat Titans|        20|         20|2022|                  20|\n| 119|               India|      Baba Aparajith| Chennai Super Kings|        10|         10|2014|                  10|\n| 326|               India|      Baba Aparajith|Rising Pune Super...|        10|         10|2016|                  20|\n| 903|               India|      Baba Indrajith|Kolkata Knight Ri...|        20|         20|2022|                  20|\n| 913|               India|        Baltej Singh|        Punjab Kings|        20|         20|2022|                  20|\n| 641|               India|     Bandaru Ayyappa|      Delhi Capitals|        20|         20|2019|                  20|\n| 234|               India|       Barinder Sran|    Rajasthan Royals|        10|         10|2015|                  10|\n| 282|               India|       Barinder Sran| Sunrisers Hyderabad|        50|        120|2016|                 130|\n| 535|               India|       Barinder Sran|     Kings XI Punjab|        50|        220|2018|                 350|\n| 611|               India|       Barinder Sran|      Mumbai Indians|        50|        340|2019|                 690|\n| 372|               India|        Basil Thampi|       Gujarat Lions|        10|         85|2017|                  85|\n| 489|               India|        Basil Thampi| Sunrisers Hyderabad|        30|         95|2018|                 180|\n| 825|               India|        Basil Thampi|      Mumbai Indians|        30|         30|2022|                 210|\n| 679|               India|    Bavanaka Sandeep| Sunrisers Hyderabad|        20|         20|2020|                  20|\n| 106|           Australia|         Ben Cutting|    Rajasthan Royals|        50|         80|2014|                  80|\n| 317|           Australia|         Ben Cutting| Sunrisers Hyderabad|        50|         50|2016|                 130|\n| 508|           Australia|         Ben Cutting|      Mumbai Indians|       100|        220|2018|                 350|\n| 760|           Australia|         Ben Cutting|Kolkata Knight Ri...|        75|         75|2021|                 425|\n| 131|           Australia|            Ben Dunk|      Mumbai Indians|        20|         20|2014|                  20|\n| 545|           Australia|       Ben Dwarshuis|     Kings XI Punjab|        20|        140|2018|                 140|\n| 108|           Australia|      Ben Hilfenhaus| Chennai Super Kings|       100|        100|2014|                 100|\n|  13|           Australia|        Ben Laughlin| Chennai Super Kings|        12|         12|2013|                  12|\n| 391|           Australia|        Ben Laughlin| Sunrisers Hyderabad|        30|         30|2017|                  42|\n| 566|           Australia|        Ben Laughlin|    Rajasthan Royals|        50|         50|2018|                  92|\n| 354|             England|          Ben Stokes|Rising Pune Super...|       200|       1450|2017|                1450|\n| 420|             England|          Ben Stokes|    Rajasthan Royals|       200|       1250|2018|                2700|\n| 978|             England|          Ben Stokes| Chennai Super Kings|       200|       null|2023|                2700|\n| 947|             England|        Benny Howell|        Punjab Kings|        40|         40|2022|                  40|\n| 168|        South Africa|    Beuran Hendricks|     Kings XI Punjab|        30|        180|2014|                 180|\n| 751|               India|       Bhagath Varma| Chennai Super Kings|        20|         20|2021|                  20|\n|1032|               India|       Bhagath Varma| Chennai Super Kings|        20|         20|2023|                  40|\n| 943|           Sri Lanka|   Bhanuka Rajapaksa|        Punjab Kings|        50|         50|2022|                  50|\n|  72|               India|   Bhuvneshwar Kumar| Sunrisers Hyderabad|       150|        425|2014|                 425|\n| 800|               India|   Bhuvneshwar Kumar| Sunrisers Hyderabad|       200|        420|2022|                 845|\n| 392|           Australia|      Billy Stanlake|Royal Challengers...|        30|         30|2017|                  30|\n| 536|           Australia|      Billy Stanlake| Sunrisers Hyderabad|        50|         50|2018|                  80|\n| 563|               India|        Bipul Sharma| Sunrisers Hyderabad|        20|         20|2018|                  20|\n|  54|           Australia|          Brad Hodge|    Rajasthan Royals|       200|        240|2014|                 240|\n| 217|           Australia|           Brad Hogg|Kolkata Knight Ri...|        50|         50|2015|                  50|\n|  87|            Zimbabwe|      Brendan Taylor| Sunrisers Hyderabad|        30|         30|2014|                  30|\n|  49|         New Zealand|    Brendon McCullum| Chennai Super Kings|       200|        325|2014|                 325|\n| 435|         New Zealand|    Brendon McCullum|Royal Challengers...|       200|        360|2018|                 685|\n| 923|               India|    C. Hari Nishanth| Chennai Super Kings|        20|         20|2022|                  20|\n| 132|               India|           CM Gautam|      Mumbai Indians|        20|         20|2014|                  20|\n| 209|               India|           CM Gautam|    Delhi Daredevils|        20|         20|2015|                  40|\n| 540|        South Africa|     Cameron Delport|Kolkata Knight Ri...|        30|         30|2018|                  30|\n| 977|           Australia|       Cameron Green|      Mumbai Indians|       200|       null|2023|                null|\n| 277|            Barbados|   Carlos Brathwaite|    Delhi Daredevils|        30|        420|2016|                 420|\n| 440|            Barbados|   Carlos Brathwaite| Sunrisers Hyderabad|       100|        200|2018|                 620|\n| 588|            Barbados|   Carlos Brathwaite|Kolkata Knight Ri...|        75|        500|2019|                1120|\n| 577|               India|   Chaitanya Bishnoi| Chennai Super Kings|        20|         20|2018|                  20|\n| 185|               India|        Chama Milind| Sunrisers Hyderabad|        10|         10|2014|                  10|\n| 346|               India|        Chama Milind|    Delhi Daredevils|        10|         10|2016|                  20|\n| 896|               India|        Chama Milind|Royal Challengers...|        20|         25|2022|                  45|\n| 904|           Sri Lanka| Chamika Karunaratne|Kolkata Knight Ri...|        50|         50|2022|                  50|\n| 730|               India|     Chetan Sakariya|    Rajasthan Royals|        20|        120|2021|                 120|\n| 852|               India|     Chetan Sakariya|      Delhi Capitals|        50|        420|2022|                 540|\n|  56|               India|   Cheteshwar Pujara|     Kings XI Punjab|       150|        190|2014|                 190|\n| 735|               India|   Cheteshwar Pujara| Chennai Super Kings|        50|         50|2021|                 240|\n| 759|               India|Chezhian Harinish...| Chennai Super Kings|        20|         20|2021|                  20|\n| 405|United Arab Emirates|         Chirag Suri|       Gujarat Lions|        10|         10|2017|                  10|\n| 581|             Jamaica|         Chris Gayle|     Kings XI Punjab|       200|        200|2018|                 200|\n| 680|           Australia|         Chris Green|Kolkata Knight Ri...|        20|         20|2020|                  20|\n| 387|             England|        Chris Jordan| Sunrisers Hyderabad|        50|         50|2017|                  50|\n| 532|             England|        Chris Jordan| Sunrisers Hyderabad|       100|        100|2018|                 150|\n| 685|             England|        Chris Jordan|     Kings XI Punjab|        75|        300|2020|                 450|\n| 927|             England|        Chris Jordan| Chennai Super Kings|       200|        360|2022|                 810|\n| 102|           Australia|          Chris Lynn|Kolkata Knight Ri...|        50|        130|2014|                 130|\n| 437|           Australia|          Chris Lynn|Kolkata Knight Ri...|       200|        960|2018|                1090|\n| 646|           Australia|          Chris Lynn|      Mumbai Indians|       200|        200|2020|                1290|\n|  20|        South Africa|        Chris Morris| Chennai Super Kings|        12|        381|2013|                 381|\n| 232|        South Africa|        Chris Morris|    Rajasthan Royals|        50|        140|2015|                 521|\n| 268|        South Africa|        Chris Morris|    Delhi Daredevils|        50|        700|2016|                1221|\n| 655|        South Africa|        Chris Morris|Royal Challengers...|       150|       1000|2020|                2221|\n| 713|        South Africa|        Chris Morris|    Rajasthan Royals|        75|       1625|2021|                3846|\n| 377|             England|        Chris Woakes|Kolkata Knight Ri...|       200|        420|2017|                 420|\n| 439|             England|        Chris Woakes|Royal Challengers...|       200|        740|2018|                1160|\n| 652|             England|        Chris Woakes|      Delhi Capitals|       150|        150|2020|                1310|\n|   0|              Guyana|Christopher Barnwell|Royal Challengers...|        30|         30|2013|                  30|\n|  16|           Australia|         Clint McKay| Sunrisers Hyderabad|        61|         61|2013|                  61|\n| 608|        South Africa|        Colin Ingram|      Delhi Capitals|       200|        640|2019|                 640|\n| 269|         New Zealand|         Colin Munro|Kolkata Knight Ri...|        30|         30|2016|                  30|\n| 445|         New Zealand|         Colin Munro|    Delhi Daredevils|        50|        190|2018|                 220|\n| 443|         New Zealand| Colin de Grandhomme|Royal Challengers...|        75|        220|2018|                 220|\n|  88|         New Zealand|      Corey Anderson|      Mumbai Indians|       100|        450|2014|                 450|\n| 355|         New Zealand|      Corey Anderson|    Delhi Daredevils|       100|        100|2017|                 550|\n| 483|           Australia|        D'Arcy Short|    Rajasthan Royals|        20|        400|2018|                 400|\n| 263|        South Africa|          Dale Steyn|       Gujarat Lions|       150|        230|2016|                 230|\n| 701|        South Africa|          Dale Steyn|Royal Challengers...|       200|        200|2020|                 430|\n| 743|           Australia|       Dan Christian|Royal Challengers...|        75|        480|2021|                 480|\n|   2|           Australia|    Daniel Christian|Royal Challengers...|        61|         61|2013|                  61|\n| 397|           Australia|    Daniel Christian|Rising Pune Super...|       100|        100|2017|                 161|\n| 505|           Australia|    Daniel Christian|    Delhi Daredevils|       100|        150|2018|                 311|\n| 880|           Australia|         Daniel Sams|      Mumbai Indians|       100|        260|2022|                 260|\n|1004|           Australia|         Daniel Sams|Lucknow Super Giants|        75|         75|2023|                 335|\n| 415| Trinidad and Tobago|        Darren Bravo|Kolkata Knight Ri...|        50|         50|2017|                  50|\n|  31|         Saint Lucia|        Darren Sammy| Sunrisers Hyderabad|        61|        259|2013|                 259|\n|  51|         Saint Lucia|        Darren Sammy| Sunrisers Hyderabad|       100|        350|2014|                 609|\n| 239|         Saint Lucia|        Darren Sammy|Royal Challengers...|       100|        280|2015|                 889|\n| 399|         Saint Lucia|        Darren Sammy|     Kings XI Punjab|        30|         30|2017|                 919|\n| 623|               India|    Darshan Nalkande|     Kings XI Punjab|        20|         30|2019|                  30|\n| 867|               India|    Darshan Nalkande|      Gujarat Titans|        20|         20|2022|                  50|\n| 961|         New Zealand|      Daryl Mitchell|    Rajasthan Royals|        75|         75|2022|                  75|\n| 433|        South Africa|        David Miller|     Kings XI Punjab|       150|        300|2018|                 300|\n| 674|        South Africa|        David Miller|    Rajasthan Royals|        75|         75|2020|                 375|\n| 919|        South Africa|        David Miller|      Gujarat Titans|       100|        300|2022|                 675|\n|  43|           Australia|        David Warner| Sunrisers Hyderabad|       150|        550|2014|                 550|\n| 774|           Australia|        David Warner|      Delhi Capitals|       200|        625|2022|                1175|\n| 240|        South Africa|         David Wiese|Royal Challengers...|        30|        280|2015|                 280|\n|1023|             Namibia|         David Wiese|Kolkata Knight Ri...|       100|        100|2023|                 380|\n| 967|             England|        David Willey|Royal Challengers...|       200|        200|2022|                 200|\n| 714|             England|         Dawid Malan|        Punjab Kings|       150|        150|2021|                 150|\n| 130|               India|       Debabrata Das|Kolkata Knight Ri...|        20|         20|2014|                  20|\n| 327|               India|       Deepak Chahar|Rising Pune Super...|        10|         10|2016|                  10|\n| 539|               India|       Deepak Chahar| Chennai Super Kings|        20|         80|2018|                  90|\n| 795|               India|       Deepak Chahar| Chennai Super Kings|       200|       1400|2022|                1490|\n| 184|               India|        Deepak Hooda|    Rajasthan Royals|        10|         40|2014|                  40|\n| 294|               India|        Deepak Hooda| Sunrisers Hyderabad|        10|        420|2016|                 460|\n| 477|               India|        Deepak Hooda| Sunrisers Hyderabad|        40|        360|2018|                 820|\n| 664|               India|        Deepak Hooda|     Kings XI Punjab|        40|         50|2020|                 870|\n| 784|               India|        Deepak Hooda|Lucknow Super Giants|        75|        575|2022|                1445|\n| 331|               India|        Deepak Punia|      Mumbai Indians|        10|         10|2016|                  10|\n| 601|               India|    Devdutt Padikkal|Royal Challengers...|        20|         20|2019|                  20|\n| 779|               India|    Devdutt Padikkal|    Rajasthan Royals|       150|        775|2022|                 795|\n| 874|         New Zealand|        Devon Conway| Chennai Super Kings|       100|        100|2022|                 100|\n| 808|        South Africa|       Dewald Brevis|      Mumbai Indians|        20|        300|2022|                 300|\n| 147|               India|     Dhawal Kulkarni|    Rajasthan Royals|        30|        110|2014|                 110|\n| 272|               India|     Dhawal Kulkarni|       Gujarat Lions|       200|        230|2016|                 340|\n| 510|               India|     Dhawal Kulkarni|    Rajasthan Royals|        50|         75|2018|                 415|\n| 940|               India|         Dhruv Jurel|    Rajasthan Royals|        20|         20|2022|                  20|\n| 551|               India|        Dhruv Shorey| Chennai Super Kings|        20|         20|2018|                  20|\n| 692|               India|   Digvijay Deshmukh|      Mumbai Indians|        20|         20|2020|                  20|\n|  47|               India|      Dinesh Karthik|    Delhi Daredevils|       200|       null|2014|                null|\n| 238|               India|      Dinesh Karthik|Royal Challengers...|       200|       1050|2015|                1050|\n| 266|               India|      Dinesh Karthik|       Gujarat Lions|       200|        230|2016|                1280|\n| 451|               India|      Dinesh Karthik|Kolkata Knight Ri...|       200|        740|2018|                2020|\n| 792|               India|      Dinesh Karthik|Royal Challengers...|       200|        550|2022|                2570|\n| 235|               India|     Dinesh Salunkhe|    Rajasthan Royals|        10|         10|2015|                  10|\n|  21|           Australia|         Dirk Nannes| Chennai Super Kings|       122|        366|2013|                 366|\n| 164|               India|      Dishant Yagnik|    Rajasthan Royals|        30|         30|2014|                  30|\n| 843|         West Indies|      Dominic Drakes|      Gujarat Titans|        75|        110|2022|                 110|\n| 206|               India|       Domnic Joseph|    Delhi Daredevils|        10|         75|2015|                  75|\n|1013|        South Africa|    Donavon Ferreira|    Rajasthan Royals|        20|         20|2023|                  20|\n|1011|        South Africa|         Duan Jansen|      Mumbai Indians|        20|         20|2023|                  20|\n| 582|           Sri Lanka| Dushmantha Chameera|    Rajasthan Royals|        50|         50|2018|                  50|\n| 851|           Sri Lanka| Dushmantha Chameera|Lucknow Super Giants|        50|        200|2022|                 250|\n| 878|        South Africa|    Dwaine Pretorius| Chennai Super Kings|        50|         50|2022|                  50|\n| 428| Trinidad and Tobago|        Dwayne Bravo| Chennai Super Kings|       200|        640|2018|                 640|\n| 780|         West Indies|        Dwayne Bravo| Chennai Super Kings|       150|        440|2022|                1080|\n|  57|            Barbados|        Dwayne Smith| Chennai Super Kings|       150|        450|2014|                 450|\n| 258|            Barbados|        Dwayne Smith|       Gujarat Lions|        50|        230|2016|                 680|\n| 198|               India|     Eklavya Dwivedi| Chennai Super Kings|        10|         10|2015|                  10|\n| 291|               India|     Eklavya Dwivedi|       Gujarat Lions|        20|        100|2016|                 110|\n| 368|               India|     Eklavya Dwivedi| Sunrisers Hyderabad|        30|         75|2017|                 185|\n| 250|             England|         Eoin Morgan| Sunrisers Hyderabad|       150|        150|2015|                 150|\n| 351|             England|         Eoin Morgan|     Kings XI Punjab|       200|        200|2017|                 350|\n| 647|             England|         Eoin Morgan|Kolkata Knight Ri...|       200|        525|2020|                 875|\n| 499| Trinidad and Tobago|          Evin Lewis|      Mumbai Indians|       150|        380|2018|                 380|\n| 932|         West Indies|          Evin Lewis|Lucknow Super Giants|       200|        200|2022|                 580|\n| 684|             Jamaica|        Fabian Allen| Sunrisers Hyderabad|        50|         50|2020|                  50|\n| 742|             Jamaica|        Fabian Allen|        Punjab Kings|        75|         75|2021|                 125|\n| 966|         West Indies|        Fabian Allen|      Mumbai Indians|        75|         75|2022|                 200|\n|  45|        South Africa|      Faf du Plessis| Chennai Super Kings|       150|        475|2014|                 475|\n| 421|        South Africa|      Faf du Plessis| Chennai Super Kings|       150|        160|2018|                 635|\n| 772|        South Africa|      Faf du Plessis|Royal Challengers...|       200|        700|2022|                1335|\n| 348|        South Africa|   Farhaan Behardien|     Kings XI Punjab|        30|         30|2016|                  30|\n| 937|         Afghanistan|    Fazalhaq Farooqi| Sunrisers Hyderabad|        50|         50|2022|                  50|\n|   7|            Barbados|       Fidel Edwards|    Rajasthan Royals|        61|        128|2013|                 128|\n| 873|         New Zealand|          Finn Allen|Royal Challengers...|        50|         80|2022|                  80|\n| 427|               India|      Gautam Gambhir|    Delhi Daredevils|       200|        280|2018|                 280|\n|  44|           Australia|       George Bailey|     Kings XI Punjab|       200|        325|2014|                 325|\n|  14|           Australia|       Glenn Maxwell|      Mumbai Indians|       122|        610|2013|                 610|\n|  90|           Australia|       Glenn Maxwell|     Kings XI Punjab|       100|        600|2014|                1210|\n| 426|           Australia|       Glenn Maxwell|    Delhi Daredevils|       200|        900|2018|                2110|\n| 651|           Australia|       Glenn Maxwell|     Kings XI Punjab|       200|       1075|2020|                3185|\n| 709|           Australia|       Glenn Maxwell|Royal Challengers...|       200|       1425|2021|                4610|\n+----+--------------------+--------------------+--------------------+----------+-----------+----+--------------------+\nonly showing top 300 rows\n\n"
     ]
    }
   ],
   "source": [
    "cumulative_winning_bid.show(300)"
   ]
  },
  {
   "cell_type": "code",
   "execution_count": 0,
   "metadata": {
    "application/vnd.databricks.v1+cell": {
     "cellMetadata": {
      "byteLimit": 2048000,
      "rowLimit": 10000
     },
     "inputWidgets": {},
     "nuid": "289879f0-de43-4ddc-ac6e-ee318679daa7",
     "showTitle": false,
     "title": ""
    }
   },
   "outputs": [],
   "source": [
    "window_spec_cumulative = Window().partitionBy('Team').orderBy('Year').rowsBetween(Window.unboundedPreceding, 0)\n",
    "cumulative_winning_bid_by_team = IPL_auction_data.withColumn('CumulativeWinningBid', F.sum('Winning bid').over(window_spec_cumulative))\n"
   ]
  },
  {
   "cell_type": "code",
   "execution_count": 0,
   "metadata": {
    "application/vnd.databricks.v1+cell": {
     "cellMetadata": {
      "byteLimit": 2048000,
      "rowLimit": 10000
     },
     "inputWidgets": {},
     "nuid": "f73ae3f6-6fec-4c15-a840-3edde360acad",
     "showTitle": false,
     "title": ""
    }
   },
   "outputs": [
    {
     "output_type": "stream",
     "name": "stdout",
     "output_type": "stream",
     "text": [
      "+----+--------------------+--------------------+-------------------+----------+-----------+----+--------------------+\n|S.No|             Country|              Player|               Team|Base price|Winning bid|Year|CumulativeWinningBid|\n+----+--------------------+--------------------+-------------------+----------+-----------+----+--------------------+\n|   5|           Sri Lanka|     Akila Dananjaya|Chennai Super Kings|        12|         12|2013|                  12|\n|  11|            Barbados|        Jason Holder|Chennai Super Kings|        12|         12|2013|                  24|\n|  13|           Australia|        Ben Laughlin|Chennai Super Kings|        12|         12|2013|                  36|\n|  20|        South Africa|        Chris Morris|Chennai Super Kings|        12|        381|2013|                 417|\n|  21|           Australia|         Dirk Nannes|Chennai Super Kings|       122|        366|2013|                 783|\n|  45|        South Africa|      Faf du Plessis|Chennai Super Kings|       150|        475|2014|                1258|\n|  49|         New Zealand|    Brendon McCullum|Chennai Super Kings|       200|        325|2014|                1583|\n|  57|            Barbados|        Dwayne Smith|Chennai Super Kings|       150|        450|2014|                2033|\n|  98|               India|        Ashish Nehra|Chennai Super Kings|       200|        200|2014|                2233|\n|  99|               India|        Mohit Sharma|Chennai Super Kings|       100|        200|2014|                2433|\n| 101| Trinidad and Tobago|       Samuel Badree|Chennai Super Kings|        30|         30|2014|                2463|\n| 104|           Australia|       John Hastings|Chennai Super Kings|        50|         50|2014|                2513|\n| 108|           Australia|      Ben Hilfenhaus|Chennai Super Kings|       100|        100|2014|                2613|\n| 116|         New Zealand|          Matt Henry|Chennai Super Kings|        30|         30|2014|                2643|\n| 119|               India|      Baba Aparajith|Chennai Super Kings|        10|         10|2014|                2653|\n| 140|               India|       Mithun Manhas|Chennai Super Kings|        30|         30|2014|                2683|\n| 148|               India|       Ishwar Pandey|Chennai Super Kings|        10|        150|2014|                2833|\n| 156|               India|          Pawan Negi|Chennai Super Kings|        10|         10|2014|                2843|\n| 167|               India|       Vijay Shankar|Chennai Super Kings|        10|         10|2014|                2853|\n| 170|               India|          Ronit More|Chennai Super Kings|        10|         10|2014|                2863|\n| 191|           Australia|      Michael Hussey|Chennai Super Kings|       150|        150|2015|                3013|\n| 192|               India|        Irfan Pathan|Chennai Super Kings|       150|        150|2015|                3163|\n| 193|               India|        Rahul Sharma|Chennai Super Kings|        30|         30|2015|                3193|\n| 194|        South Africa|         Kyle Abbott|Chennai Super Kings|        30|         30|2015|                3223|\n| 195|           Australia|          Andrew Tye|Chennai Super Kings|        20|         20|2015|                3243|\n| 196|               India|      Pratyush Singh|Chennai Super Kings|        10|         10|2015|                3253|\n| 197|               India|        Ankush Bains|Chennai Super Kings|        10|         10|2015|                3263|\n| 198|               India|     Eklavya Dwivedi|Chennai Super Kings|        10|         10|2015|                3273|\n| 421|        South Africa|      Faf du Plessis|Chennai Super Kings|       150|        160|2018|                3433|\n| 424|               India|     Harbhajan Singh|Chennai Super Kings|       200|        200|2018|                3633|\n| 428| Trinidad and Tobago|        Dwayne Bravo|Chennai Super Kings|       200|        640|2018|                4273|\n| 441|           Australia|        Shane Watson|Chennai Super Kings|       100|        400|2018|                4673|\n| 442|               India|        Kedar Jadhav|Chennai Super Kings|       200|        780|2018|                5453|\n| 454|               India|       Ambati Rayudu|Chennai Super Kings|        50|        220|2018|                5673|\n| 462|        South Africa|         Imran Tahir|Chennai Super Kings|       100|        100|2018|                5773|\n| 463|               India|         Karn Sharma|Chennai Super Kings|       200|        500|2018|                6273|\n| 518|               India|      Shardul Thakur|Chennai Super Kings|        75|        260|2018|                6533|\n| 529|               India|  Narayan Jagadeesan|Chennai Super Kings|        20|         20|2018|                6553|\n| 533|         New Zealand|    Mitchell Santner|Chennai Super Kings|        50|         50|2018|                6603|\n| 539|               India|       Deepak Chahar|Chennai Super Kings|        20|         80|2018|                6683|\n| 546|               India|             KM Asif|Chennai Super Kings|        20|         40|2018|                6723|\n| 548|        South Africa|     Lungisani Ngidi|Chennai Super Kings|        50|         50|2018|                6773|\n| 550|               India|        Kanishk Seth|Chennai Super Kings|        20|         20|2018|                6793|\n| 551|               India|        Dhruv Shorey|Chennai Super Kings|        20|         20|2018|                6813|\n| 554|               India|        Murali Vijay|Chennai Super Kings|       200|        200|2018|                7013|\n| 555|             England|        Sam Billings|Chennai Super Kings|       100|        100|2018|                7113|\n| 571|             England|           Mark Wood|Chennai Super Kings|       150|        150|2018|                7263|\n| 575|               India|      Kshitiz Sharma|Chennai Super Kings|        20|         20|2018|                7283|\n| 576|               India|          Monu Kumar|Chennai Super Kings|        20|         20|2018|                7303|\n| 577|               India|   Chaitanya Bishnoi|Chennai Super Kings|        20|         20|2018|                7323|\n| 600|               India|        Mohit Sharma|Chennai Super Kings|        50|        500|2019|                7823|\n| 638|               India|     Ruturaj Gaikwad|Chennai Super Kings|        20|         20|2019|                7843|\n| 654|             England|          Sam Curran|Chennai Super Kings|       100|        550|2020|                8393|\n| 660|               India|       Piyush Chawla|Chennai Super Kings|       100|        675|2020|                9068|\n| 678|           Australia|      Josh Hazlewood|Chennai Super Kings|       200|        200|2020|                9268|\n| 699|               India|       R Sai Kishore|Chennai Super Kings|        20|         20|2020|                9288|\n| 711|             England|           Moeen Ali|Chennai Super Kings|       200|        700|2021|                9988|\n| 725|               India|  Krishnappa Gowtham|Chennai Super Kings|        20|        925|2021|               10913|\n| 735|               India|   Cheteshwar Pujara|Chennai Super Kings|        50|         50|2021|               10963|\n| 747|               India|   Harishankar Reddy|Chennai Super Kings|        20|         20|2021|               10983|\n| 751|               India|       Bhagath Varma|Chennai Super Kings|        20|         20|2021|               11003|\n| 759|               India|Chezhian Harinish...|Chennai Super Kings|        20|         20|2021|               11023|\n| 777|               India|       Robin Uthappa|Chennai Super Kings|       200|        200|2022|               11223|\n| 780|         West Indies|        Dwayne Bravo|Chennai Super Kings|       150|        440|2022|               11663|\n| 789|               India|       Ambati Rayudu|Chennai Super Kings|       200|        675|2022|               12338|\n| 795|               India|       Deepak Chahar|Chennai Super Kings|       200|       1400|2022|               13738|\n| 828|               India|             KM Asif|Chennai Super Kings|        20|         20|2022|               13758|\n| 831|               India|    Tushar Deshpande|Chennai Super Kings|        20|         20|2022|               13778|\n| 848|               India|         Shivam Dube|Chennai Super Kings|        50|        400|2022|               14178|\n| 858|           Sri Lanka|  Maheesh Theekshana|Chennai Super Kings|        50|         70|2022|               14248|\n| 870|               India|Rajvardhan Hangar...|Chennai Super Kings|        30|        150|2022|               14398|\n| 872|               India|     Simarjeet Singh|Chennai Super Kings|        20|         20|2022|               14418|\n| 874|         New Zealand|        Devon Conway|Chennai Super Kings|       100|        100|2022|               14518|\n| 878|        South Africa|    Dwaine Pretorius|Chennai Super Kings|        50|         50|2022|               14568|\n| 881|         New Zealand|    Mitchell Santner|Chennai Super Kings|       100|        190|2022|               14758|\n| 886|         New Zealand|          Adam Milne|Chennai Super Kings|       150|        190|2022|               14948|\n| 887|               India| Subhranshu Senapati|Chennai Super Kings|        20|         20|2022|               14968|\n| 893|               India|    Mukesh Choudhary|Chennai Super Kings|        20|         20|2022|               14988|\n| 897|               India|    Prashant Solanki|Chennai Super Kings|        20|        120|2022|               15108|\n| 923|               India|    C. Hari Nishanth|Chennai Super Kings|        20|         20|2022|               15128|\n| 925|               India|  Narayan Jagadeesan|Chennai Super Kings|        20|         20|2022|               15148|\n| 927|             England|        Chris Jordan|Chennai Super Kings|       200|        360|2022|               15508|\n| 952|               India|    K. Bhagath Varma|Chennai Super Kings|        20|         20|2022|               15528|\n| 972|               India|      Ajinkya Rahane|Chennai Super Kings|        50|         50|2023|               15578|\n| 978|             England|          Ben Stokes|Chennai Super Kings|       200|       null|2023|               15578|\n| 988|               India|       Shaik Rasheed|Chennai Super Kings|        20|         20|2023|               15598|\n| 992|               India|      Nishant Sindhu|Chennai Super Kings|        20|         60|2023|               15658|\n|1005|         New Zealand|       Kyle Jamieson|Chennai Super Kings|       100|        100|2023|               15758|\n|1029|               India|         Ajay Mandal|Chennai Super Kings|        20|         20|2023|               15778|\n|1032|               India|       Bhagath Varma|Chennai Super Kings|        20|         20|2023|               15798|\n| 586|               India|       Hanuma Vihari|     Delhi Capitals|        50|        200|2019|                 200|\n| 591|               India|          Axar Patel|     Delhi Capitals|       100|        500|2019|                 700|\n| 596|               India|       Ishant Sharma|     Delhi Capitals|        75|        110|2019|                 810|\n| 606|               India|        Ankush Bains|     Delhi Capitals|        20|         20|2019|                 830|\n| 607|               India|         Nathu Singh|     Delhi Capitals|        20|         20|2019|                 850|\n| 608|        South Africa|        Colin Ingram|     Delhi Capitals|       200|        640|2019|                1490|\n| 613|              Guyana| Sherfane Rutherford|     Delhi Capitals|        40|        200|2019|                1690|\n| 629|              Guyana|          Keemo Paul|     Delhi Capitals|        50|         50|2019|                1740|\n| 636|               India|        Jalaj Saxena|     Delhi Capitals|        20|         20|2019|                1760|\n| 641|               India|     Bandaru Ayyappa|     Delhi Capitals|        20|         20|2019|                1780|\n| 649|             England|           Jason Roy|     Delhi Capitals|       150|        150|2020|                1930|\n| 652|             England|        Chris Woakes|     Delhi Capitals|       150|        150|2020|                2080|\n| 656|           Australia|          Alex Carey|     Delhi Capitals|        50|        240|2020|                2320|\n| 673|              Guyana|     Shimron Hetmyer|     Delhi Capitals|        50|        775|2020|                3095|\n| 695|               India|        Mohit Sharma|     Delhi Capitals|        50|         50|2020|                3145|\n| 698|               India|    Tushar Deshpande|     Delhi Capitals|        20|         20|2020|                3165|\n| 700|           Australia|      Marcus Stoinis|     Delhi Capitals|       100|        480|2020|                3645|\n| 703|               India|         Lalit Yadav|     Delhi Capitals|        20|         20|2020|                3665|\n| 708|           Australia|         Steve Smith|     Delhi Capitals|       200|        220|2021|                3885|\n| 719|               India|         Umesh Yadav|     Delhi Capitals|       100|        100|2021|                3985|\n| 723|               India|         Ripal Patel|     Delhi Capitals|        20|         20|2021|                4005|\n| 726|               India|        Vishnu Vinod|     Delhi Capitals|        20|         20|2021|                4025|\n| 729|               India|Lukman Hussain Me...|     Delhi Capitals|        20|         20|2021|                4045|\n| 732|               India| Manimaran Siddharth|     Delhi Capitals|        20|         20|2021|                4065|\n| 737|             England|          Tom Curran|     Delhi Capitals|       150|        525|2021|                4590|\n| 756|             England|        Sam Billings|     Delhi Capitals|       200|        200|2021|                4790|\n| 774|           Australia|        David Warner|     Delhi Capitals|       200|        625|2022|                5415|\n| 788|           Australia|      Mitchell Marsh|     Delhi Capitals|       200|        650|2022|                6065|\n| 801|               India|      Shardul Thakur|     Delhi Capitals|       200|       1075|2022|                7140|\n| 802|          Bangladesh|   Mustafizur Rahman|     Delhi Capitals|       200|        200|2022|                7340|\n| 803|               India|       Kuldeep Yadav|     Delhi Capitals|       100|        200|2022|                7540|\n| 809|               India|       Ashwin Hebbar|     Delhi Capitals|        20|         20|2022|                7560|\n| 813|               India|       Sarfaraz Khan|     Delhi Capitals|        20|         20|2022|                7580|\n| 817|               India|   Kamlesh Nagarkoti|     Delhi Capitals|        40|        110|2022|                7690|\n| 820|               India|        K. S. Bharat|     Delhi Capitals|        20|        200|2022|                7890|\n| 841|               India|       Mandeep Singh|     Delhi Capitals|        50|        110|2022|                8000|\n| 850|               India|       Khaleel Ahmed|     Delhi Capitals|        50|        525|2022|                8525|\n| 852|               India|     Chetan Sakariya|     Delhi Capitals|        50|        420|2022|                8945|\n| 861|               India|         Lalit Yadav|     Delhi Capitals|        20|         65|2022|                9010|\n| 862|               India|         Ripal Patel|     Delhi Capitals|        20|         20|2022|                9030|\n| 863|               India|          Yash Dhull|     Delhi Capitals|        20|         50|2022|                9080|\n| 875|         West Indies|       Rovman Powell|     Delhi Capitals|        75|        280|2022|                9360|\n| 889|               India|        Pravin Dubey|     Delhi Capitals|        20|         50|2022|                9410|\n| 928|        South Africa|         Lungi Ngidi|     Delhi Capitals|        50|         50|2022|                9460|\n| 935|         New Zealand|         Tim Seifert|     Delhi Capitals|        50|         50|2022|                9510|\n| 959|               India|        Vicky Ostwal|     Delhi Capitals|        20|         20|2022|                9530|\n| 981|             England|           Phil Salt|     Delhi Capitals|       200|        200|2023|                9730|\n| 985|               India|       Ishant Sharma|     Delhi Capitals|        50|         50|2023|                9780|\n| 999|               India|        Mukesh Kumar|     Delhi Capitals|        20|        550|2023|               10330|\n|1001|               India|       Manish Pandey|     Delhi Capitals|       100|        240|2023|               10570|\n|  61|        South Africa|     Quinton de Kock|    Delhi Dardevils|       100|        350|2014|                 350|\n|  75|               India|      Mohammed Shami|    Delhi Dardevils|       100|        425|2014|                 775|\n|   1|        South Africa|         Johan Botha|   Delhi Daredevils|       183|        274|2013|                 274|\n|  19|           Sri Lanka|       Jeevan Mendis|   Delhi Daredevils|        30|         30|2013|                 304|\n|  30|         New Zealand|         Jesse Ryder|   Delhi Daredevils|        61|        158|2013|                 462|\n|  39|             England|     Kevin Pietersen|   Delhi Daredevils|       200|        900|2014|                1362|\n|  42|               India|        Murali Vijay|   Delhi Daredevils|       200|        500|2014|                1862|\n|  47|               India|      Dinesh Karthik|   Delhi Daredevils|       200|       null|2014|                1862|\n|  52|        South Africa|    Jean-Paul Duminy|   Delhi Daredevils|       100|        220|2014|                2082|\n|  58|         New Zealand|         Ross Taylor|   Delhi Daredevils|       200|        200|2014|                2282|\n|  59|               India|        Manoj Tiwary|   Delhi Daredevils|       200|        280|2014|                2562|\n|  84|               India|        Rahul Sharma|   Delhi Daredevils|        50|        190|2014|                2752|\n|  86|               India|      Saurabh Tiwary|   Delhi Daredevils|        50|         70|2014|                2822|\n|  92|               India|  Laxmi Ratan Shukla|   Delhi Daredevils|        50|        150|2014|                2972|\n|  97|           Australia| Nathan Coulter-Nile|   Delhi Daredevils|       100|        425|2014|                3397|\n| 100|               India|      Jaydev Unadkat|   Delhi Daredevils|       100|        280|2014|                3677|\n| 105|         New Zealand|       James Neesham|   Delhi Daredevils|        30|        100|2014|                3777|\n| 113|        South Africa|       Wayne Parnell|   Delhi Daredevils|       100|        100|2014|                3877|\n| 117|               India|      Mayank Agarwal|   Delhi Daredevils|        10|        160|2014|                4037|\n| 121|               India|        Kedar Jadhav|   Delhi Daredevils|        30|        200|2014|                4237|\n| 146|               India|       Siddarth Kaul|   Delhi Daredevils|        20|         45|2014|                4282|\n| 151|               India|        Rahul Shukla|   Delhi Daredevils|        20|         40|2014|                4322|\n| 155|               India|      Shahbaz Nadeem|   Delhi Daredevils|        30|         85|2014|                4407|\n| 179|               India|        Jayant Yadav|   Delhi Daredevils|        10|         10|2014|                4417|\n| 182|               India|          HS Sharath|   Delhi Daredevils|        10|         10|2014|                4427|\n| 190|               India|        Milind Kumar|   Delhi Daredevils|        10|         10|2014|                4437|\n| 199|               India|        Yuvraj Singh|   Delhi Daredevils|       200|       1600|2015|                6037|\n| 200|           Sri Lanka|      Angelo Mathews|   Delhi Daredevils|       150|        750|2015|                6787|\n| 201|               India|         Zaheer Khan|   Delhi Daredevils|       100|        400|2015|                7187|\n| 202|               India|         Amit Mishra|   Delhi Daredevils|        10|        350|2015|                7537|\n| 203|               India|        Shreyas Iyer|   Delhi Daredevils|        10|        260|2015|                7797|\n| 204|           Australia|     Gurinder Sandhu|   Delhi Daredevils|        30|        170|2015|                7967|\n| 205|               India|      Jaydev Unadkat|   Delhi Daredevils|        50|        110|2015|                8077|\n| 206|               India|       Domnic Joseph|   Delhi Daredevils|        10|         75|2015|                8152|\n| 207|        South Africa|        Albie Morkel|   Delhi Daredevils|        30|         30|2015|                8182|\n| 208|           Australia|      Marcus Stoinis|   Delhi Daredevils|        20|         25|2015|                8207|\n| 209|               India|           CM Gautam|   Delhi Daredevils|        20|         20|2015|                8227|\n| 210|               India|       Srikar Bharat|   Delhi Daredevils|        10|         10|2015|                8237|\n| 211|               India|            KK Jiyas|   Delhi Daredevils|        10|         10|2015|                8247|\n| 264|               India|        Sanju Samson|   Delhi Daredevils|       200|        420|2016|                8667|\n| 268|        South Africa|        Chris Morris|   Delhi Daredevils|        50|        700|2016|                9367|\n| 277|            Barbados|   Carlos Brathwaite|   Delhi Daredevils|        30|        420|2016|                9787|\n| 287|               India|          Karun Nair|   Delhi Daredevils|        10|        400|2016|               10187|\n| 290|               India|        Rishabh Pant|   Delhi Daredevils|        10|        190|2016|               10377|\n| 296|               India|          Pawan Negi|   Delhi Daredevils|        30|        850|2016|               11227|\n| 308|             England|        Sam Billings|   Delhi Daredevils|        30|         30|2016|               11257|\n| 333|               India|       Khaleel Ahmed|   Delhi Daredevils|        10|         10|2016|               11267|\n| 335|               India|      Pratyush Singh|   Delhi Daredevils|        10|         10|2016|               11277|\n| 339|           Australia|          Joel Paris|   Delhi Daredevils|        30|         30|2016|               11307|\n| 342|               India|         Pawan Suyal|   Delhi Daredevils|        10|         10|2016|               11317|\n| 346|               India|        Chama Milind|   Delhi Daredevils|        10|         10|2016|               11327|\n| 349|               India|     Akhil Herwadkar|   Delhi Daredevils|        10|         10|2016|               11337|\n| 350|               India|      Mahipal Lomror|   Delhi Daredevils|        10|         10|2016|               11347|\n| 353|           Sri Lanka|      Angelo Mathews|   Delhi Daredevils|       200|        200|2017|               11547|\n| 355|         New Zealand|      Corey Anderson|   Delhi Daredevils|       100|        100|2017|               11647|\n| 357|        South Africa|       Kagiso Rabada|   Delhi Daredevils|       100|        500|2017|               12147|\n| 360|           Australia|         Pat Cummins|   Delhi Daredevils|       200|        450|2017|               12597|\n| 362|               India|         Ankit Bawne|   Delhi Daredevils|        10|         10|2017|               12607|\n| 367|               India|         Aditya Tare|   Delhi Daredevils|        20|         25|2017|               12632|\n| 373|               India|            M Ashwin|   Delhi Daredevils|        10|        100|2017|               12732|\n| 390|               India|       Navdeep Saini|   Delhi Daredevils|        10|         10|2017|               12742|\n| 402|               India|      Shashank Singh|   Delhi Daredevils|        10|         10|2017|               12752|\n| 426|           Australia|       Glenn Maxwell|   Delhi Daredevils|       200|        900|2018|               13652|\n| 427|               India|      Gautam Gambhir|   Delhi Daredevils|       200|        280|2018|               13932|\n| 436|             England|           Jason Roy|   Delhi Daredevils|       150|        150|2018|               14082|\n| 445|         New Zealand|         Colin Munro|   Delhi Daredevils|        50|        190|2018|               14272|\n| 459|               India|      Mohammed Shami|   Delhi Daredevils|       100|        300|2018|               14572|\n| 460|        South Africa|       Kagiso Rabada|   Delhi Daredevils|       150|        420|2018|               14992|\n| 465|               India|         Amit Mishra|   Delhi Daredevils|       150|        400|2018|               15392|\n| 475|               India|        Prithvi Shaw|   Delhi Daredevils|        20|        120|2018|               15512|\n| 476|               India|       Rahul Tewatia|   Delhi Daredevils|        20|        300|2018|               15812|\n| 478|               India|       Vijay Shankar|   Delhi Daredevils|        40|        320|2018|               16132|\n| 479|               India|       Harshal Patel|   Delhi Daredevils|        20|         20|2018|               16152|\n| 493|               India|          Avesh Khan|   Delhi Daredevils|        20|         70|2018|               16222|\n| 496|               India|      Shahbaz Nadeem|   Delhi Daredevils|        40|        320|2018|               16542|\n| 505|           Australia|    Daniel Christian|   Delhi Daredevils|       100|        150|2018|               16692|\n| 506|               India|        Jayant Yadav|   Delhi Daredevils|        50|         50|2018|               16742|\n| 507|               India|     Gurkeerat Singh|   Delhi Daredevils|        50|         75|2018|               16817|\n| 517|         New Zealand|         Trent Boult|   Delhi Daredevils|       150|        220|2018|               17037|\n| 523|               India|        Manjot Kalra|   Delhi Daredevils|        20|         20|2018|               17057|\n| 526|               India|     Abhishek Sharma|   Delhi Daredevils|        20|         55|2018|               17112|\n| 547|               Nepal|  Sandeep Lamichhane|   Delhi Daredevils|        20|         20|2018|               17132|\n| 556|               India|          Naman Ojha|   Delhi Daredevils|        75|        140|2018|               17272|\n| 564|               India|         Sayan Ghosh|   Delhi Daredevils|        20|         20|2018|               17292|\n| 258|            Barbados|        Dwayne Smith|      Gujarat Lions|        50|        230|2016|                 230|\n| 263|        South Africa|          Dale Steyn|      Gujarat Lions|       150|        230|2016|                 460|\n| 266|               India|      Dinesh Karthik|      Gujarat Lions|       200|        230|2016|                 690|\n| 272|               India|     Dhawal Kulkarni|      Gujarat Lions|       200|        230|2016|                 920|\n| 274|               India|       Praveen Kumar|      Gujarat Lions|        50|        350|2016|                1270|\n| 288|               India|         Paras Dogra|      Gujarat Lions|        10|        400|2016|                1670|\n| 289|               India|        Ishan Kishan|      Gujarat Lions|        10|         35|2016|                1705|\n| 291|               India|     Eklavya Dwivedi|      Gujarat Lions|        20|        100|2016|                1805|\n| 298|               India|     Pradeep Sangwan|      Gujarat Lions|        20|         20|2016|                1825|\n| 302|               India|        Pravin Tambe|      Gujarat Lions|        10|         20|2016|                1845|\n| 303|               India|      Shivil Kaushik|      Gujarat Lions|        10|         10|2016|                1855|\n| 304|               India|      Sarabjit Ladda|      Gujarat Lions|        10|         10|2016|                1865|\n| 307|           Australia|         Aaron Finch|      Gujarat Lions|       100|        100|2016|                1965|\n| 311|               India|        Umang Sharma|      Gujarat Lions|        10|         10|2016|                1975|\n| 318|           Australia|          Andrew Tye|      Gujarat Lions|        30|         50|2016|                2025|\n| 322|               India|       Shadab Jakati|      Gujarat Lions|        20|         20|2016|                2045|\n| 324|               India|       Akshdeep Nath|      Gujarat Lions|        10|         10|2016|                2055|\n| 334|               India|         Jaydev Shah|      Gujarat Lions|        20|         20|2016|                2075|\n| 344|               India|         Amit Mishra|      Gujarat Lions|        10|         10|2016|                2085|\n| 371|               India|         Nathu Singh|      Gujarat Lions|        30|         50|2017|                2135|\n| 372|               India|        Basil Thampi|      Gujarat Lions|        10|         85|2017|                2220|\n| 374|               India|        Tejas Baroka|      Gujarat Lions|        10|         10|2017|                2230|\n| 383|               India|       Manpreet Gony|      Gujarat Lions|        30|         60|2017|                2290|\n| 385|             England|           Jason Roy|      Gujarat Lions|       100|        100|2017|                2390|\n| 400|               India|         Munaf Patel|      Gujarat Lions|        30|         30|2017|                2420|\n| 405|United Arab Emirates|         Chirag Suri|      Gujarat Lions|        10|         10|2017|                2430|\n| 407|               India|     Shelley Shaurya|      Gujarat Lions|        10|         10|2017|                2440|\n| 408|               India|     Shubham Agarwal|      Gujarat Lions|        10|         10|2017|                2450|\n| 411|               India|       Pratham Singh|      Gujarat Lions|        10|         10|2017|                2460|\n| 412|               India|       Akshdeep Nath|      Gujarat Lions|        10|         10|2017|                2470|\n| 771|               India|      Mohammed Shami|     Gujarat Titans|       200|        625|2022|                 625|\n| 778|             England|           Jason Roy|     Gujarat Titans|       200|        200|2022|                 825|\n| 797|         New Zealand|     Lockie Ferguson|     Gujarat Titans|       200|       1000|2022|                1825|\n| 807|               India|Abhinav Manohar S...|     Gujarat Titans|        20|        260|2022|                2085|\n| 816|               India|       Rahul Tewatia|     Gujarat Titans|        40|        900|2022|                2985|\n| 833|         Afghanistan|          Noor Ahmad|     Gujarat Titans|        30|         30|2022|                3015|\n| 838|               India|Ravisrinivasan Sa...|     Gujarat Titans|        20|        300|2022|                3315|\n| 843|         West Indies|      Dominic Drakes|     Gujarat Titans|        75|        110|2022|                3425|\n| 844|               India|        Jayant Yadav|     Gujarat Titans|       100|        170|2022|                3595|\n| 845|               India|       Vijay Shankar|     Gujarat Titans|        50|        140|2022|                3735|\n| 867|               India|    Darshan Nalkande|     Gujarat Titans|        20|         20|2022|                3755|\n| 871|               India|          Yash Dayal|     Gujarat Titans|        20|        320|2022|                4075|\n| 899|         West Indies|      Alzarri Joseph|     Gujarat Titans|        75|        240|2022|                4315|\n| 907|               India|     Pradeep Sangwan|     Gujarat Titans|        20|         20|2022|                4335|\n| 919|        South Africa|        David Miller|     Gujarat Titans|       100|        300|2022|                4635|\n| 921|               India|     Wriddhiman Saha|     Gujarat Titans|       100|        190|2022|                4825|\n| 922|           Australia|        Matthew Wade|     Gujarat Titans|       200|        240|2022|                5065|\n| 944|               India|     Gurkeerat Singh|     Gujarat Titans|        50|         50|2022|                5115|\n| 949|               India|         Varun Aaron|     Gujarat Titans|        50|         50|2022|                5165|\n| 963|               India|   B. Sai Sudharshan|     Gujarat Titans|        20|         20|2022|                5185|\n| 969|         New Zealand|     Kane Williamson|     Gujarat Titans|       200|        200|2023|                5385|\n| 974|         West Indies|         Odean Smith|     Gujarat Titans|        50|         50|2023|                5435|\n| 994|               India|        K. S. Bharat|     Gujarat Titans|        20|        120|2023|                5555|\n| 998|               India|         Shivam Mavi|     Gujarat Titans|        40|        600|2023|                6155|\n|1014|               India|         Urvil Patel|     Gujarat Titans|        20|         20|2023|                6175|\n|1019|             Ireland|         Josh Little|     Gujarat Titans|        50|        440|2023|                6615|\n|1020|               India|        Mohit Sharma|     Gujarat Titans|        50|         50|2023|                6665|\n|   9|               India|       Manpreet Gony|    Kings XI Punjab|       122|        305|2013|                 305|\n|  26|           Australia|     Luke Pomersbach|    Kings XI Punjab|        30|        183|2013|                 488|\n|  37|           Australia|    Mitchell Johnson|    Kings XI Punjab|       200|        650|2014|                1138|\n|  40|               India|     Virender Sehwag|    Kings XI Punjab|       200|        320|2014|                1458|\n|  44|           Australia|       George Bailey|    Kings XI Punjab|       200|        325|2014|                1783|\n|  55|           Australia|         Shaun Marsh|    Kings XI Punjab|       200|        220|2014|                2003|\n|  56|               India|   Cheteshwar Pujara|    Kings XI Punjab|       150|        190|2014|                2193|\n|  64|               India|     Wriddhiman Saha|    Kings XI Punjab|       100|        220|2014|                2413|\n|  69|           Sri Lanka|      Thisara Perera|    Kings XI Punjab|        50|        160|2014|                2573|\n|  81|               India|       Murali Kartik|    Kings XI Punjab|       100|        100|2014|                2673|\n|  90|           Australia|       Glenn Maxwell|    Kings XI Punjab|       100|        600|2014|                3273|\n|  95|               India|     Parvinder Awana|    Kings XI Punjab|        50|         65|2014|                3338|\n|  96|               India| Lakshmipathy Balaji|    Kings XI Punjab|        50|        180|2014|                3518|\n| 123|               India|     Gurkeerat Singh|    Kings XI Punjab|        20|        130|2014|                3648|\n| 139|               India|        Rishi Dhawan|    Kings XI Punjab|        20|        300|2014|                3948|\n| 142|               India|       Mandeep Singh|    Kings XI Punjab|        30|         80|2014|                4028|\n| 150|               India|      Sandeep Sharma|    Kings XI Punjab|        30|         85|2014|                4113|\n| 152|               India|       Anureet Singh|    Kings XI Punjab|        20|         20|2014|                4133|\n| 165|               India|        Akshar Patel|    Kings XI Punjab|        20|         75|2014|                4208|\n+----+--------------------+--------------------+-------------------+----------+-----------+----+--------------------+\nonly showing top 300 rows\n\n"
     ]
    }
   ],
   "source": [
    "cumulative_winning_bid_by_team.show(300)"
   ]
  },
  {
   "cell_type": "code",
   "execution_count": 0,
   "metadata": {
    "application/vnd.databricks.v1+cell": {
     "cellMetadata": {
      "byteLimit": 2048000,
      "rowLimit": 10000
     },
     "inputWidgets": {},
     "nuid": "13f04599-8dfc-438c-aace-45ba4b1f121e",
     "showTitle": false,
     "title": ""
    }
   },
   "outputs": [],
   "source": [
    "amount_spent_by_team=ipl2023auction.groupBy('Team').agg(F.sum(\"Winning bid\").alias(\"total_amount_spent\"))"
   ]
  },
  {
   "cell_type": "code",
   "execution_count": 0,
   "metadata": {
    "application/vnd.databricks.v1+cell": {
     "cellMetadata": {
      "byteLimit": 2048000,
      "rowLimit": 10000
     },
     "inputWidgets": {},
     "nuid": "60e3176a-12f8-4b4d-8f1e-a5e94513bfda",
     "showTitle": false,
     "title": ""
    }
   },
   "outputs": [
    {
     "output_type": "stream",
     "name": "stdout",
     "output_type": "stream",
     "text": [
      "+--------------------+------------------+\n|                Team|total_amount_spent|\n+--------------------+------------------+\n| Sunrisers Hyderabad|              2245|\n|Lucknow Super Giants|               540|\n| Chennai Super Kings|               270|\n|      Gujarat Titans|              1480|\n|    Rajasthan Royals|              1075|\n|Royal Challengers...|              1110|\n|Kolkata Knight Ri...|               690|\n|        Punjab Kings|               150|\n|      Delhi Capitals|              1040|\n|      Mumbai Indians|               300|\n+--------------------+------------------+\n\n"
     ]
    }
   ],
   "source": [
    "amount_spent_by_team.show()"
   ]
  },
  {
   "cell_type": "code",
   "execution_count": 0,
   "metadata": {
    "application/vnd.databricks.v1+cell": {
     "cellMetadata": {
      "byteLimit": 2048000,
      "rowLimit": 10000
     },
     "inputWidgets": {},
     "nuid": "171eff5a-21b6-4339-b790-d5a0b78e4232",
     "showTitle": false,
     "title": ""
    }
   },
   "outputs": [],
   "source": [
    "no_players_by_team=ipl2023auction.groupBy('Team').agg(F.count(\"Player\").alias(\"No_of_players\"))"
   ]
  },
  {
   "cell_type": "code",
   "execution_count": 0,
   "metadata": {
    "application/vnd.databricks.v1+cell": {
     "cellMetadata": {
      "byteLimit": 2048000,
      "rowLimit": 10000
     },
     "inputWidgets": {},
     "nuid": "74d8956a-80b5-494e-974b-cf501393f9b2",
     "showTitle": false,
     "title": ""
    }
   },
   "outputs": [
    {
     "output_type": "stream",
     "name": "stdout",
     "output_type": "stream",
     "text": [
      "+--------------------+-------------+\n|                Team|No_of_players|\n+--------------------+-------------+\n| Sunrisers Hyderabad|           13|\n|Lucknow Super Giants|           10|\n| Chennai Super Kings|            7|\n|      Gujarat Titans|            7|\n|    Rajasthan Royals|           11|\n|Royal Challengers...|            8|\n|Kolkata Knight Ri...|            9|\n|        Punjab Kings|            6|\n|      Delhi Capitals|            4|\n|      Mumbai Indians|            8|\n+--------------------+-------------+\n\n"
     ]
    }
   ],
   "source": [
    "no_players_by_team.show()"
   ]
  },
  {
   "cell_type": "code",
   "execution_count": 0,
   "metadata": {
    "application/vnd.databricks.v1+cell": {
     "cellMetadata": {},
     "inputWidgets": {},
     "nuid": "3637d878-d193-458e-9a6f-905e9dd090fb",
     "showTitle": false,
     "title": ""
    }
   },
   "outputs": [],
   "source": []
  }
 ],
 "metadata": {
  "application/vnd.databricks.v1+notebook": {
   "dashboards": [],
   "language": "python",
   "notebookMetadata": {
    "pythonIndentUnit": 4
   },
   "notebookName": "IPL_auction_ELT",
   "widgets": {}
  }
 },
 "nbformat": 4,
 "nbformat_minor": 0
}
